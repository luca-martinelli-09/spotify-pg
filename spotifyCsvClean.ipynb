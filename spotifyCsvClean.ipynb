{
 "cells": [
  {
   "cell_type": "code",
   "execution_count": null,
   "metadata": {},
   "outputs": [],
   "source": [
    "# required libraries\n",
    "import pandas as pd\n",
    "import os\n",
    "from pathlib import Path\n",
    "import datetime"
   ]
  },
  {
   "cell_type": "code",
   "execution_count": null,
   "metadata": {},
   "outputs": [],
   "source": [
    "# Get absolute path\n",
    "absPath = str(Path(os.path.abspath(os.getcwd())).absolute())\n",
    "datasetsPath = os.path.join(absPath, \"datasets\")\n",
    "\n",
    "# Create dataset directory if not exists\n",
    "if not os.path.exists(datasetsPath):\n",
    "    os.mkdir(datasetsPath)\n",
    "\n",
    "\n",
    "# Setup datasets paths\n",
    "spotifyChartsPath = os.path.join(datasetsPath, \"reducedSpotifyCharts.csv\")\n",
    "spotifyChartsCleanPath = os.path.join(datasetsPath, \"reducedSpotifyChartsClean.csv\")\n",
    "genresPath = os.path.join(datasetsPath, \"genres.csv\")\n",
    "genresCleanPath = os.path.join(datasetsPath, \"genresClean.csv\")\n",
    "artistsPath = os.path.join(datasetsPath, \"artists.csv\")\n",
    "artistsCleanPath = os.path.join(datasetsPath, \"artistsClean.csv\")\n",
    "\n",
    "# Countries\n",
    "countriesPath = os.path.join(datasetsPath, \"countries.csv\")\n",
    "altCountriesPath = os.path.join(datasetsPath, \"altCountries.csv\")\n"
   ]
  },
  {
   "cell_type": "markdown",
   "metadata": {},
   "source": [
    "## Genres"
   ]
  },
  {
   "cell_type": "code",
   "execution_count": null,
   "metadata": {},
   "outputs": [],
   "source": [
    "# Load the CSV files in memory\n",
    "genresDF = pd.read_csv(genresPath, sep=\",\", index_col=\"genre\")"
   ]
  },
  {
   "cell_type": "code",
   "execution_count": null,
   "metadata": {},
   "outputs": [],
   "source": [
    "def createGenreID(genre):\n",
    "    # Replace all special chars with \"-\"\n",
    "    genreID = \"\"\n",
    "    for char in genre:\n",
    "        genreID += char if char.isalnum() else \"-\"\n",
    "\n",
    "    return genreID"
   ]
  },
  {
   "cell_type": "code",
   "execution_count": null,
   "metadata": {},
   "outputs": [],
   "source": [
    "genreIDs = []\n",
    "# Iterate over the album DataFrame\n",
    "for genre, row in genresDF.iterrows():\n",
    "\n",
    "    # Create genre ID from name\n",
    "    genreID = createGenreID(genre)\n",
    "\n",
    "    genreIDs.append(genreID)\n",
    "\n",
    "# Add the ids to the genre dataframe\n",
    "genresDF[\"id\"] = genreIDs\n",
    "genresDF = genresDF.drop(genresDF.columns[0], axis=1)\n",
    "\n",
    "# Set the ID as new index\n",
    "genresDF = genresDF.reset_index()\n",
    "genresDF = genresDF.set_index([\"id\"])"
   ]
  },
  {
   "cell_type": "code",
   "execution_count": null,
   "metadata": {},
   "outputs": [],
   "source": [
    "genresDF.to_csv(genresCleanPath)"
   ]
  },
  {
   "cell_type": "markdown",
   "metadata": {},
   "source": [
    "## Artists"
   ]
  },
  {
   "cell_type": "code",
   "execution_count": null,
   "metadata": {},
   "outputs": [],
   "source": [
    "# Load the CSV files in memory\n",
    "artistsDF = pd.read_csv(artistsPath, sep=\",\", index_col=\"id\")\n"
   ]
  },
  {
   "cell_type": "code",
   "execution_count": null,
   "metadata": {},
   "outputs": [],
   "source": [
    "artistsGenresIDs = []\n",
    "\n",
    "# Iterate over the album DataFrame\n",
    "for artistID, row in artistsDF.iterrows():\n",
    "    # Load genres as array\n",
    "    genres = row[\"genres\"].split(\",\") if not pd.isnull(row[\"genres\"]) else []\n",
    "\n",
    "    aristGenresIDs = []\n",
    "    for genre in genres:\n",
    "        genreID = createGenreID(genre)\n",
    "        aristGenresIDs.append(genreID)\n",
    "\n",
    "    artistsGenresIDs.append(\",\".join(aristGenresIDs))\n",
    "\n",
    "# Add the columns to the dataframe\n",
    "artistsDF[\"genres\"] = artistsGenresIDs\n",
    "\n",
    "artistsDF = artistsDF.drop(artistsDF.columns[0], axis=1)\n"
   ]
  },
  {
   "cell_type": "code",
   "execution_count": null,
   "metadata": {},
   "outputs": [],
   "source": [
    "artistsDF.to_csv(artistsCleanPath)\n"
   ]
  },
  {
   "cell_type": "markdown",
   "metadata": {},
   "source": [
    "## Charts"
   ]
  },
  {
   "cell_type": "code",
   "execution_count": null,
   "metadata": {},
   "outputs": [],
   "source": [
    "def loadCountries():\n",
    "    countries = pd.read_csv(countriesPath, sep=\",\")\n",
    "    altCountries = pd.read_csv(altCountriesPath, sep=\",\")\n",
    "    altCountries.columns = [\"AlternativeName\", \"Name\"]\n",
    "\n",
    "    return countries, altCountries\n",
    "\n",
    "\n",
    "def getCountryCode(countryName, countries, altCountries):\n",
    "    # Try to retrieve ISO CODE of the country\n",
    "    try:\n",
    "        matchedCountries = countries[countries[\"Name\"].str.contains(\n",
    "            countryName)]\n",
    "        countryCode = matchedCountries[\"Code\"].iloc[0]\n",
    "    except IndexError as e:\n",
    "        # Look if an alternative name was used\n",
    "        alternativeMatchedCountries = altCountries[altCountries[\"AlternativeName\"].str.contains(\n",
    "            countryName)]\n",
    "        countryName = alternativeMatchedCountries[\"Name\"].iloc[0]\n",
    "\n",
    "        matchedCountries = countries[countries[\"Name\"] == countryName]\n",
    "        countryCode = matchedCountries[\"Code\"].iloc[0]\n",
    "\n",
    "    return countryCode, countryName"
   ]
  },
  {
   "cell_type": "code",
   "execution_count": null,
   "metadata": {},
   "outputs": [],
   "source": [
    "# Load countries dataframe\n",
    "countries, altCountries = loadCountries()\n",
    "\n",
    "# Load the CSV files in memory\n",
    "chartsDF = pd.read_csv(spotifyChartsPath, sep=\",\")\n",
    "\n",
    "# Removing global\n",
    "chartsDF = chartsDF.drop(index=chartsDF[chartsDF[\"country\"] == \"Global\"].index)\n",
    "chartsDF = chartsDF.drop(chartsDF.columns[0], axis=1)\n"
   ]
  },
  {
   "cell_type": "code",
   "execution_count": null,
   "metadata": {},
   "outputs": [],
   "source": [
    "chartIDs = []\n",
    "chartNames = []\n",
    "chartTypes = []\n",
    "countryIDs = []\n",
    "chartDates = []\n",
    "trackIDs = []\n",
    "\n",
    "# I iterate through the dataframe\n",
    "for index, row in chartsDF.iterrows():\n",
    "\n",
    "    # Retrieve country and date\n",
    "    countryName = row[\"country\"]\n",
    "    chartDate = row[\"date\"]\n",
    "    topNumType = 100\n",
    "\n",
    "    # Reformat date\n",
    "    chartDate = datetime.datetime.strptime(\n",
    "        chartDate, \"%d/%m/%Y\").strftime(\"%Y-%m-%d\")\n",
    "    \n",
    "    # Get the track ID\n",
    "    trackID = row['uri'].removeprefix(\"https://open.spotify.com/track/\")\n",
    "    \n",
    "    # Get the country code\n",
    "    countryCode, _ = getCountryCode(countryName, countries, altCountries)\n",
    "\n",
    "    # Create a uniqueID\n",
    "    chartID = \"top-{}-{}-{}\".format(topNumType, countryCode, chartDate)\n",
    "\n",
    "    # Add the name of the Chart\n",
    "    chartName = \"TOP {} {}\".format(topNumType, countryName)\n",
    "\n",
    "    chartIDs.append(chartID)\n",
    "    chartNames.append(chartName)\n",
    "    chartTypes.append(\"top\")\n",
    "    countryIDs.append(countryCode)\n",
    "    chartDates.append(chartDate)\n",
    "    trackIDs.append(trackID)\n",
    "\n",
    "# Add the columns to the dataframe\n",
    "chartsDF[\"id\"] = chartIDs\n",
    "chartsDF[\"country_code\"] = countryIDs\n",
    "chartsDF[\"name\"] = chartNames\n",
    "chartsDF[\"type\"] = chartTypes\n",
    "chartsDF[\"date\"] = chartDates\n",
    "chartsDF[\"trackID\"] = trackIDs\n",
    "\n",
    "# Set the ID as new index\n",
    "chartsDF = chartsDF.reset_index()\n",
    "chartsDF = chartsDF.set_index([\"id\"])\n",
    "\n",
    "chartsDF = chartsDF.drop(chartsDF.columns[0], axis=1)\n"
   ]
  },
  {
   "cell_type": "code",
   "execution_count": null,
   "metadata": {},
   "outputs": [],
   "source": [
    "chartsDF.to_csv(spotifyChartsCleanPath)\n"
   ]
  }
 ],
 "metadata": {
  "interpreter": {
   "hash": "63fd5069d213b44bf678585dea6b12cceca9941eaf7f819626cde1f2670de90d"
  },
  "kernelspec": {
   "display_name": "Python 3.9.7 64-bit",
   "language": "python",
   "name": "python3"
  },
  "language_info": {
   "codemirror_mode": {
    "name": "ipython",
    "version": 3
   },
   "file_extension": ".py",
   "mimetype": "text/x-python",
   "name": "python",
   "nbconvert_exporter": "python",
   "pygments_lexer": "ipython3",
   "version": "3.9.7"
  },
  "orig_nbformat": 4
 },
 "nbformat": 4,
 "nbformat_minor": 2
}
