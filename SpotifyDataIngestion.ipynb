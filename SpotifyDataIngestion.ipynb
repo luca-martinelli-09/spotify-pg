{
 "cells": [
  {
   "cell_type": "markdown",
   "metadata": {},
   "source": [
    "## Spotify Data Ingestion\n",
    "\n",
    "In this notebook we process CSV files and create a property graph."
   ]
  },
  {
   "cell_type": "code",
   "execution_count": 8,
   "metadata": {},
   "outputs": [],
   "source": [
    "# required libraries\n",
    "import pandas as pd\n",
    "import os\n",
    "from pathlib import Path"
   ]
  },
  {
   "cell_type": "code",
   "execution_count": 9,
   "metadata": {},
   "outputs": [],
   "source": [
    "# Get absolute path\n",
    "absPath = str(Path(os.path.abspath(os.getcwd())).absolute())\n",
    "datasetsPath = os.path.join(absPath, \"datasets\")\n",
    "rdfPath = os.path.join(absPath, \"rdf\")\n",
    "\n",
    "# Create dataset directory if not exists\n",
    "if not os.path.exists(datasetsPath):\n",
    "    os.mkdir(datasetsPath)\n",
    "\n",
    "# Create RDF directory if not exists\n",
    "if not os.path.exists(rdfPath):\n",
    "    os.mkdir(rdfPath)\n",
    "\n",
    "# Setup datasets paths\n",
    "spotifyChartsPath = os.path.join(datasetsPath, \"reducedSpotifyCharts.csv\")\n",
    "genresPath = os.path.join(datasetsPath, \"genres.csv\")\n",
    "marketsPath = os.path.join(datasetsPath, \"markets.csv\")\n",
    "tracksPath = os.path.join(datasetsPath, \"tracks.csv\")\n",
    "albumsPath = os.path.join(datasetsPath, \"albums.csv\")\n",
    "artistsPath = os.path.join(datasetsPath, \"artists.csv\")\n",
    "peoplePath = os.path.join(datasetsPath, \"people.csv\")\n",
    "\n",
    "# Countries\n",
    "countriesPath = os.path.join(datasetsPath, \"countries.csv\")\n",
    "altCountriesPath = os.path.join(datasetsPath, \"altCountries.csv\")"
   ]
  },
  {
   "cell_type": "markdown",
   "metadata": {},
   "source": [
    "### Connection to Neo4j"
   ]
  },
  {
   "cell_type": "code",
   "execution_count": 10,
   "metadata": {},
   "outputs": [],
   "source": [
    "# Neo4J params class\n",
    "class Neo4jParams:\n",
    "  def __init__(self, user, psw,dbname,db_psw,uri):\n",
    "    self.user = user\n",
    "    self.psw = psw\n",
    "    self.dbname = dbname\n",
    "    self.dbpsw = dbpsw\n",
    "    self.uri = uri"
   ]
  },
  {
   "cell_type": "code",
   "execution_count": 11,
   "metadata": {},
   "outputs": [],
   "source": [
    "#DB parameters\n",
    "user=\"neo4j\"\n",
    "psw=\"neo4j\"\n",
    "dbname=\"SpotifyDB\"\n",
    "dbpsw=\"SpotifyDB\"\n",
    "uri = \"bolt://localhost:7687\"\n",
    "\n",
    "params = Neo4jParams(user,psw,dbname,dbpsw,uri)"
   ]
  },
  {
   "cell_type": "code",
   "execution_count": 12,
   "metadata": {},
   "outputs": [
    {
     "name": "stdout",
     "output_type": "stream",
     "text": [
      "hello, world, from node 6\n"
     ]
    }
   ],
   "source": [
    "from neo4j import GraphDatabase\n",
    "\n",
    "# test class\n",
    "\n",
    "class Driver:\n",
    "\n",
    "    def __init__(self, uri, user, password):\n",
    "        self.driver = GraphDatabase.driver(uri, auth=(user, password))\n",
    "\n",
    "    def close(self):\n",
    "        self.driver.close()\n",
    "\n",
    "    def print_greeting(self, message):\n",
    "        with self.driver.session() as session:\n",
    "            greeting = session.write_transaction(self._create_and_return_greeting, message)\n",
    "            print(greeting)\n",
    "\n",
    "    @staticmethod\n",
    "    def _create_and_return_greeting(tx, message):\n",
    "        result = tx.run(\"CREATE (a:Greeting) \"\n",
    "                        \"SET a.message = $message \"\n",
    "                        \"RETURN a.message + ', from node ' + id(a)\", message=message)\n",
    "        return result.single()[0]\n",
    "\n",
    "\n",
    "if __name__ == \"__main__\":\n",
    "    greeter = Driver(\"bolt://localhost:7687\", \"neo4j\", \"SpotifyDB\")\n",
    "    greeter.print_greeting(\"hello, world\")\n",
    "    greeter.close()"
   ]
  },
  {
   "cell_type": "markdown",
   "metadata": {},
   "source": [
    "### Data ingestion"
   ]
  },
  {
   "cell_type": "code",
   "execution_count": 13,
   "metadata": {},
   "outputs": [
    {
     "name": "stdout",
     "output_type": "stream",
     "text": [
      "<class 'pandas.core.frame.DataFrame'>\n",
      "Index: 26801 entries, 5aAx2yezTd8zXrkmtKl66Z to 32BVeAkiV5rKmAlAUkjf9O\n",
      "Data columns (total 21 columns):\n",
      " #   Column               Non-Null Count  Dtype  \n",
      "---  ------               --------------  -----  \n",
      " 0   Unnamed: 0           26801 non-null  int64  \n",
      " 1   uri                  26801 non-null  object \n",
      " 2   title                26801 non-null  object \n",
      " 3   duration             26801 non-null  int64  \n",
      " 4   popularity           26801 non-null  int64  \n",
      " 5   explicit             26801 non-null  bool   \n",
      " 6   key                  26801 non-null  int64  \n",
      " 7   tempo                26801 non-null  float64\n",
      " 8   mode                 26801 non-null  int64  \n",
      " 9   time_signature       26801 non-null  int64  \n",
      " 10  acousticness         26801 non-null  float64\n",
      " 11  danceability         26801 non-null  float64\n",
      " 12  energy               26801 non-null  float64\n",
      " 13  loudness             26801 non-null  float64\n",
      " 14  liveness             26801 non-null  float64\n",
      " 15  valence              26801 non-null  float64\n",
      " 16  speechiness          26801 non-null  float64\n",
      " 17  instrumentalness     26801 non-null  float64\n",
      " 18  artists              26801 non-null  object \n",
      " 19  album                26801 non-null  object \n",
      " 20  available_countries  20665 non-null  object \n",
      "dtypes: bool(1), float64(9), int64(6), object(5)\n",
      "memory usage: 4.3+ MB\n"
     ]
    }
   ],
   "source": [
    "# Load the CSV files in memory\n",
    "tracks = pd.read_csv(tracksPath, sep=\",\", index_col=\"id\")\n",
    "tracks.info()"
   ]
  },
  {
   "cell_type": "code",
   "execution_count": 14,
   "metadata": {},
   "outputs": [],
   "source": [
    "# connect to the DB\n",
    "driver = GraphDatabase.driver(params.uri, auth=(params.user, params.dbpsw))\n",
    "# create a session\n",
    "session = driver.session()\n",
    "\n",
    "for trackID, row in tracks.iterrows():\n",
    "\n",
    "    # Retrieve the title\n",
    "    title = row[\"title\"]\n",
    "\n",
    "    session.run(\"\"\" CREATE(newNode:Track {title: $title}) \n",
    "                    RETURN newNode\"\"\",\n",
    "    title = title\n",
    "    )\n",
    "\n",
    "\n",
    "    # Retrieve all the technical charateristics\n",
    "    duration = int(row[\"duration\"]) \n",
    "    popularity = int(row[\"popularity\"]) \n",
    "    explicit = row[\"explicit\"] \n",
    "    key = int(row[\"key\"]) \n",
    "    tempo = row[\"tempo\"] \n",
    "    mode = int(row[\"mode\"]) \n",
    "    time_signature = int(row[\"time_signature\"]) \n",
    "    acousticness = row[\"acousticness\"] \n",
    "    danceability = row[\"danceability\"] \n",
    "    energy = row[\"energy\"] \n",
    "    loudness = row[\"loudness\"] \n",
    "    liveness = row[\"liveness\"] \n",
    "    valence = row[\"valence\"] \n",
    "    speechiness = row[\"speechiness\"] \n",
    "    instrumentalness = row[\"instrumentalness\"] "
   ]
  }
 ],
 "metadata": {
  "kernelspec": {
   "display_name": "Python 3",
   "language": "python",
   "name": "python3"
  },
  "language_info": {
   "codemirror_mode": {
    "name": "ipython",
    "version": 3
   },
   "file_extension": ".py",
   "mimetype": "text/x-python",
   "name": "python",
   "nbconvert_exporter": "python",
   "pygments_lexer": "ipython3",
   "version": "3.9.8"
  }
 },
 "nbformat": 4,
 "nbformat_minor": 2
}
