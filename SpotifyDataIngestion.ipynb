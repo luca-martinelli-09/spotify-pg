{
 "cells": [
  {
   "cell_type": "markdown",
   "metadata": {},
   "source": [
    "## Spotify Data Ingestion\n",
    "\n",
    "In this notebook we execute a cypher query to load csv files and create a property graph."
   ]
  },
  {
   "cell_type": "code",
   "execution_count": 1,
   "metadata": {},
   "outputs": [],
   "source": [
    "# Required libraries\n",
    "from neo4j import GraphDatabase\n",
    "import os\n",
    "from pathlib import Path\n",
    "from urllib.request import pathname2url\n"
   ]
  },
  {
   "cell_type": "code",
   "execution_count": 2,
   "metadata": {},
   "outputs": [],
   "source": [
    "# Get absolute path\n",
    "absPath = str(Path(os.path.abspath(os.getcwd())).absolute())\n",
    "datasetsPath = os.path.join(absPath, \"datasets\")\n",
    "\n",
    "# Create dataset directory if not exists\n",
    "if not os.path.exists(datasetsPath):\n",
    "    os.mkdir(datasetsPath)\n",
    "\n",
    "\n",
    "# Setup datasets paths\n",
    "genresPath = os.path.join(datasetsPath, \"genresClean.csv\")\n",
    "countriesPath = os.path.join(datasetsPath, \"countries.csv\")\n",
    "artistsPath = os.path.join(datasetsPath, \"artistsClean.csv\")\n",
    "albumsPath = os.path.join(datasetsPath, \"albums.csv\")\n",
    "tracksPath = os.path.join(datasetsPath, \"tracks.csv\")\n",
    "chartsPath = os.path.join(datasetsPath, \"reducedSpotifyChartsClean.csv\")\n",
    "peoplePath = os.path.join(datasetsPath, \"people.csv\")\n"
   ]
  },
  {
   "cell_type": "code",
   "execution_count": 3,
   "metadata": {},
   "outputs": [],
   "source": [
    "def getPathURI(fullPath):\n",
    "    return \"file:\" + pathname2url(fullPath)\n"
   ]
  },
  {
   "cell_type": "markdown",
   "metadata": {},
   "source": [
    "### Connection to Neo4j"
   ]
  },
  {
   "cell_type": "code",
   "execution_count": 4,
   "metadata": {},
   "outputs": [],
   "source": [
    "# Neo4J params class\n",
    "class Neo4jParams:\n",
    "  def __init__(self, user, psw, dbname, dbpsw, uri):\n",
    "    self.user = user\n",
    "    self.psw = psw\n",
    "    self.dbname = dbname\n",
    "    self.dbpsw = dbpsw\n",
    "    self.uri = uri\n"
   ]
  },
  {
   "cell_type": "code",
   "execution_count": 5,
   "metadata": {},
   "outputs": [],
   "source": [
    "# DB parameters\n",
    "user = \"neo4j\"\n",
    "psw = \"neo4j\"\n",
    "dbname = \"SpotifyDB\"\n",
    "dbpsw = \"SpotifyDB\"\n",
    "uri = \"bolt://localhost:7687\"\n",
    "\n",
    "params = Neo4jParams(user, psw, dbname, dbpsw, uri)\n"
   ]
  },
  {
   "cell_type": "code",
   "execution_count": 6,
   "metadata": {},
   "outputs": [],
   "source": [
    "def getDriver():\n",
    "    return GraphDatabase.driver(params.uri, auth=(params.user, params.dbpsw))"
   ]
  },
  {
   "cell_type": "markdown",
   "metadata": {},
   "source": [
    "## Data ingestion"
   ]
  },
  {
   "cell_type": "markdown",
   "metadata": {},
   "source": [
    "### Create constraints"
   ]
  },
  {
   "cell_type": "code",
   "execution_count": 7,
   "metadata": {},
   "outputs": [],
   "source": [
    "# connect to the DB\n",
    "driver = getDriver()\n",
    "# create a session\n",
    "session = driver.session()\n",
    "\n",
    "session.run(\"CREATE CONSTRAINT IF NOT EXISTS FOR (g: Genre) REQUIRE g.id IS UNIQUE\")\n",
    "session.run(\"CREATE CONSTRAINT IF NOT EXISTS FOR (c: Country) REQUIRE c.id IS UNIQUE\")\n",
    "session.run(\"CREATE CONSTRAINT IF NOT EXISTS FOR (a: Artist) REQUIRE a.id IS UNIQUE\")\n",
    "session.run(\"CREATE CONSTRAINT IF NOT EXISTS FOR (alb: Album) REQUIRE alb.id IS UNIQUE\")\n",
    "session.run(\"CREATE CONSTRAINT IF NOT EXISTS FOR (t: Track) REQUIRE t.id IS UNIQUE\")\n",
    "session.run(\"CREATE CONSTRAINT IF NOT EXISTS FOR (ch: Chart) REQUIRE ch.id IS UNIQUE\")\n",
    "session.run(\"CREATE CONSTRAINT IF NOT EXISTS FOR (p: Person) REQUIRE p.id IS UNIQUE\")\n",
    "\n",
    "session.close()\n",
    "driver.close()\n"
   ]
  },
  {
   "cell_type": "markdown",
   "metadata": {},
   "source": [
    "### Genres"
   ]
  },
  {
   "cell_type": "code",
   "execution_count": 8,
   "metadata": {},
   "outputs": [],
   "source": [
    "# connect to the DB\n",
    "driver = getDriver()\n",
    "# create a session\n",
    "session = driver.session()\n",
    "\n",
    "session.run(\n",
    "    \"\"\"\n",
    "    USING PERIODIC COMMIT LOAD CSV WITH HEADERS FROM $genresPath AS genre\n",
    "        CREATE (:Genre { id: genre.id, name: genre.name })\n",
    "    \"\"\", \n",
    "    genresPath=getPathURI(genresPath)\n",
    ")\n",
    "\n",
    "session.close()\n",
    "driver.close()\n"
   ]
  },
  {
   "cell_type": "markdown",
   "metadata": {},
   "source": [
    "### Countries"
   ]
  },
  {
   "cell_type": "code",
   "execution_count": 9,
   "metadata": {},
   "outputs": [],
   "source": [
    "# connect to the DB\n",
    "driver = getDriver()\n",
    "# create a session\n",
    "session = driver.session()\n",
    "\n",
    "session.run(\n",
    "    \"\"\"\n",
    "    USING PERIODIC COMMIT LOAD CSV WITH HEADERS FROM $countriesPath AS country\n",
    "        CREATE (:Country { id: country.Code, name: country.Name })\n",
    "    \"\"\",\n",
    "    countriesPath=getPathURI(countriesPath)\n",
    ")\n",
    "\n",
    "session.close()\n",
    "driver.close()\n"
   ]
  },
  {
   "cell_type": "markdown",
   "metadata": {},
   "source": [
    "### Artists"
   ]
  },
  {
   "cell_type": "code",
   "execution_count": 10,
   "metadata": {},
   "outputs": [],
   "source": [
    "# connect to the DB\n",
    "driver = getDriver()\n",
    "# create a session\n",
    "session = driver.session()\n",
    "\n",
    "session.run(\n",
    "    \"\"\"\n",
    "    USING PERIODIC COMMIT LOAD CSV WITH HEADERS FROM $artistsPath AS artist\n",
    "        CREATE (a:Artist { id: artist.id, name: artist.name, popularity: artist.popularity })\n",
    "        \n",
    "        WITH a, split(artist.genres, \",\") AS genres\n",
    "        UNWIND genres AS genre\n",
    "            MATCH (g:Genre { id: genre })\n",
    "            CREATE (a)-[:hasGenre]->(g)\n",
    "    \"\"\",\n",
    "    artistsPath=getPathURI(artistsPath)\n",
    ")\n",
    "\n",
    "session.close()\n",
    "driver.close()\n"
   ]
  },
  {
   "cell_type": "markdown",
   "metadata": {},
   "source": [
    "### Albums"
   ]
  },
  {
   "cell_type": "code",
   "execution_count": 11,
   "metadata": {},
   "outputs": [],
   "source": [
    "# connect to the DB\n",
    "driver = getDriver()\n",
    "# create a session\n",
    "session = driver.session()\n",
    "\n",
    "session.run(\n",
    "    \"\"\"\n",
    "    USING PERIODIC COMMIT LOAD CSV WITH HEADERS FROM $albumsPath AS album\n",
    "        CREATE (alb:Album {\n",
    "            id: album.id,\n",
    "            name: album.title,\n",
    "            totalTracks: toInteger(album.total_tracks),\n",
    "            releaseDate: date(album.release_date),\n",
    "            albumType: album.album_type\n",
    "        })\n",
    "\n",
    "        WITH album, alb, split(album.artists, \",\") AS artists\n",
    "        UNWIND artists AS artist\n",
    "            MATCH (a:Artist { id: artist })\n",
    "            CREATE (a)-[:partecipateIn]->(alb)\n",
    "\n",
    "        WITH alb, split(album.available_countries, \",\") AS countries\n",
    "        UNWIND countries AS country\n",
    "            MATCH (c:Country { id: country })\n",
    "            CREATE (alb)-[:isAvailableIn]->(c)\n",
    "    \"\"\",\n",
    "    albumsPath=getPathURI(albumsPath)\n",
    ")\n",
    "\n",
    "session.close()\n",
    "driver.close()\n"
   ]
  },
  {
   "cell_type": "markdown",
   "metadata": {},
   "source": [
    "### Tracks"
   ]
  },
  {
   "cell_type": "code",
   "execution_count": 12,
   "metadata": {},
   "outputs": [],
   "source": [
    "# connect to the DB\n",
    "driver = getDriver()\n",
    "# create a session\n",
    "session = driver.session()\n",
    "\n",
    "session.run(\n",
    "    \"\"\"\n",
    "    USING PERIODIC COMMIT LOAD CSV WITH HEADERS FROM $tracksPath AS track\n",
    "        CREATE (t:Track {\n",
    "            id: track.id,\n",
    "            name: track.title,\n",
    "            duration: toInteger(track.duration), \n",
    "            popularity: toInteger(track.popularity), \n",
    "            explicit: toBoolean(track.explicit),\n",
    "            key: toInteger(track.key),\n",
    "            tempo: toFloat(track.tempo),\n",
    "            mode: toInteger(track.mode),\n",
    "            time_signature: toInteger(track.time_signature),\n",
    "            acousticness: toFloat(track.acousticness),\n",
    "            danceability: toFloat(track.danceability),\n",
    "            energy: toFloat(track.energy),\n",
    "            loudness: toFloat(track.loudness),\n",
    "            liveness: toFloat(track.liveness),\n",
    "            valence: toFloat(track.valence),\n",
    "            speechiness: toFloat(track.speechiness),\n",
    "            instrumentalness: toFloat(track.instrumentalness)\n",
    "        })\n",
    "\n",
    "        WITH track, t\n",
    "        MATCH (alb:Album { id: track.album })\n",
    "        CREATE (t)-[:isPartOf]->(alb)\n",
    "\n",
    "        WITH track, t, split(track.artists, \",\") AS artists\n",
    "        UNWIND artists AS artist\n",
    "            MATCH (a:Artist { id: artist })\n",
    "            CREATE (a)-[:partecipateIn]->(t)\n",
    "\n",
    "        WITH t, split(track.available_countries, \",\") AS countries\n",
    "        UNWIND countries AS country\n",
    "            MATCH (c:Country { id: country })\n",
    "            CREATE (t)-[:isAvailableIn]->(c)\n",
    "    \"\"\",\n",
    "    tracksPath=getPathURI(tracksPath)\n",
    ")\n",
    "\n",
    "session.close()\n",
    "driver.close()\n"
   ]
  },
  {
   "cell_type": "markdown",
   "metadata": {},
   "source": [
    "### Charts"
   ]
  },
  {
   "cell_type": "code",
   "execution_count": 13,
   "metadata": {},
   "outputs": [],
   "source": [
    "# connect to the DB\n",
    "driver = getDriver()\n",
    "# create a session\n",
    "session = driver.session()\n",
    "\n",
    "session.run(\n",
    "    \"\"\"\n",
    "    USING PERIODIC COMMIT LOAD CSV WITH HEADERS FROM $chartsPath AS chart\n",
    "        MERGE (ch:Chart { id: chart.id, name: chart.name, date: date(chart.date), chartType: chart.type })\n",
    "        \n",
    "        WITH chart, ch\n",
    "        MATCH (c:Country { id: chart.country_code })\n",
    "        MERGE (ch)-[:isReferredTo]->(c)\n",
    "\n",
    "        WITH chart, ch\n",
    "        MATCH (t:Track { id: chart.trackID })\n",
    "        CREATE (t)-[r:isPositionedIn { position: toInteger(chart.position) }]->(ch)\n",
    "    \"\"\",\n",
    "    chartsPath=getPathURI(chartsPath)\n",
    ")\n",
    "\n",
    "session.close()\n",
    "driver.close()\n"
   ]
  },
  {
   "cell_type": "markdown",
   "metadata": {},
   "source": [
    "### People"
   ]
  },
  {
   "cell_type": "code",
   "execution_count": 15,
   "metadata": {},
   "outputs": [],
   "source": [
    "# connect to the DB\n",
    "driver = getDriver()\n",
    "# create a session\n",
    "session = driver.session()\n",
    "\n",
    "session.run(\n",
    "    \"\"\"\n",
    "    USING PERIODIC COMMIT LOAD CSV WITH HEADERS FROM $peoplePath AS person\n",
    "        MERGE (p:Person { id: person.id })\n",
    "            SET p.name = person.name, p.surname = person.surname, p.birthDate = date(person.birthdate), p.deathDate = date(person.deathdate)\n",
    "\n",
    "        WITH person, p\n",
    "        MATCH (c:Country { id: person.nationality })\n",
    "        MERGE (p)-[:hasNationality]->(c)\n",
    "\n",
    "        WITH person, p\n",
    "        MATCH (a:Artist { id: person.artist })\n",
    "        CREATE (p)-[r:isMemberOf]->(a)\n",
    "    \"\"\",\n",
    "    peoplePath=getPathURI(peoplePath)\n",
    ")\n",
    "\n",
    "session.close()\n",
    "driver.close()\n"
   ]
  }
 ],
 "metadata": {
  "kernelspec": {
   "display_name": "Python 3",
   "language": "python",
   "name": "python3"
  },
  "language_info": {
   "codemirror_mode": {
    "name": "ipython",
    "version": 3
   },
   "file_extension": ".py",
   "mimetype": "text/x-python",
   "name": "python",
   "nbconvert_exporter": "python",
   "pygments_lexer": "ipython3",
   "version": "3.9.8"
  }
 },
 "nbformat": 4,
 "nbformat_minor": 2
}
