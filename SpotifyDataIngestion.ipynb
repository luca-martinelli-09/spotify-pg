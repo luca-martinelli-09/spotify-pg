{
 "cells": [
  {
   "cell_type": "markdown",
   "metadata": {},
   "source": [
    "## Spotify Data Ingestion\n",
    "\n",
    "In this notebook we process CSV files and create a property graph."
   ]
  },
  {
   "cell_type": "code",
   "execution_count": 1,
   "metadata": {},
   "outputs": [],
   "source": [
    "# required libraries\n",
    "import pandas as pd\n",
    "import os\n",
    "from pathlib import Path\n",
    "import datetime\n"
   ]
  },
  {
   "cell_type": "code",
   "execution_count": 2,
   "metadata": {},
   "outputs": [],
   "source": [
    "# Get absolute path\n",
    "absPath = str(Path(os.path.abspath(os.getcwd())).absolute())\n",
    "datasetsPath = os.path.join(absPath, \"datasets\")\n",
    "rdfPath = os.path.join(absPath, \"rdf\")\n",
    "\n",
    "# Create dataset directory if not exists\n",
    "if not os.path.exists(datasetsPath):\n",
    "    os.mkdir(datasetsPath)\n",
    "\n",
    "# Create RDF directory if not exists\n",
    "if not os.path.exists(rdfPath):\n",
    "    os.mkdir(rdfPath)\n",
    "\n",
    "# Setup datasets paths\n",
    "spotifyChartsPath = os.path.join(datasetsPath, \"reducedSpotifyCharts.csv\")\n",
    "genresPath = os.path.join(datasetsPath, \"genres.csv\")\n",
    "marketsPath = os.path.join(datasetsPath, \"markets.csv\")\n",
    "tracksPath = os.path.join(datasetsPath, \"tracks.csv\")\n",
    "albumsPath = os.path.join(datasetsPath, \"albums.csv\")\n",
    "artistsPath = os.path.join(datasetsPath, \"artists.csv\")\n",
    "peoplePath = os.path.join(datasetsPath, \"people.csv\")\n",
    "\n",
    "# Countries\n",
    "countriesPath = os.path.join(datasetsPath, \"countries.csv\")\n",
    "altCountriesPath = os.path.join(datasetsPath, \"altCountries.csv\")"
   ]
  },
  {
   "cell_type": "markdown",
   "metadata": {},
   "source": [
    "### Connection to Neo4j"
   ]
  },
  {
   "cell_type": "code",
   "execution_count": 3,
   "metadata": {},
   "outputs": [],
   "source": [
    "# Neo4J params class\n",
    "class Neo4jParams:\n",
    "  def __init__(self, user, psw,dbname,db_psw,uri):\n",
    "    self.user = user\n",
    "    self.psw = psw\n",
    "    self.dbname = dbname\n",
    "    self.dbpsw = dbpsw\n",
    "    self.uri = uri"
   ]
  },
  {
   "cell_type": "code",
   "execution_count": 4,
   "metadata": {},
   "outputs": [],
   "source": [
    "#DB parameters\n",
    "user=\"neo4j\"\n",
    "psw=\"neo4j\"\n",
    "dbname=\"SpotifyDB\"\n",
    "dbpsw=\"SpotifyDB\"\n",
    "uri = \"bolt://localhost:7687\"\n",
    "\n",
    "params = Neo4jParams(user,psw,dbname,dbpsw,uri)"
   ]
  },
  {
   "cell_type": "code",
   "execution_count": 5,
   "metadata": {},
   "outputs": [
    {
     "name": "stdout",
     "output_type": "stream",
     "text": [
      "hello, world, from node 38445\n"
     ]
    }
   ],
   "source": [
    "from neo4j import GraphDatabase\n",
    "\n",
    "# test class\n",
    "\n",
    "class Driver:\n",
    "\n",
    "    def __init__(self, uri, user, password):\n",
    "        self.driver = GraphDatabase.driver(uri, auth=(user, password))\n",
    "\n",
    "    def close(self):\n",
    "        self.driver.close()\n",
    "\n",
    "    def print_greeting(self, message):\n",
    "        with self.driver.session() as session:\n",
    "            greeting = session.write_transaction(self._create_and_return_greeting, message)\n",
    "            print(greeting)\n",
    "\n",
    "    @staticmethod\n",
    "    def _create_and_return_greeting(tx, message):\n",
    "        result = tx.run(\"CREATE (a:Greeting) \"\n",
    "                        \"SET a.message = $message \"\n",
    "                        \"RETURN a.message + ', from node ' + id(a)\", message=message)\n",
    "        return result.single()[0]\n",
    "\n",
    "\n",
    "if __name__ == \"__main__\":\n",
    "    greeter = Driver(\"bolt://localhost:7687\", \"neo4j\", \"SpotifyDB\")\n",
    "    greeter.print_greeting(\"hello, world\")\n",
    "    greeter.close()"
   ]
  },
  {
   "cell_type": "markdown",
   "metadata": {},
   "source": [
    "## Data ingestion"
   ]
  },
  {
   "cell_type": "markdown",
   "metadata": {},
   "source": [
    "### Genres"
   ]
  },
  {
   "cell_type": "code",
   "execution_count": 6,
   "metadata": {},
   "outputs": [],
   "source": [
    "# Load the CSV files in memory\n",
    "genres = pd.read_csv(genresPath, sep=\",\", index_col=\"genre\")"
   ]
  },
  {
   "cell_type": "code",
   "execution_count": 7,
   "metadata": {},
   "outputs": [],
   "source": [
    "def createGenreID(genre):\n",
    "    # Replace all special chars with \"-\"\n",
    "    genreID = \"\"\n",
    "    for char in genre:\n",
    "        genreID += char if char.isalnum() else \"-\"\n",
    "        \n",
    "    return genreID"
   ]
  },
  {
   "cell_type": "code",
   "execution_count": 8,
   "metadata": {},
   "outputs": [
    {
     "name": "stdout",
     "output_type": "stream",
     "text": [
      "1617\n"
     ]
    }
   ],
   "source": [
    "# connect to the DB\n",
    "driver = GraphDatabase.driver(params.uri, auth=(params.user, params.dbpsw))\n",
    "# create a session\n",
    "session = driver.session()\n",
    "\n",
    "# To count how many nodes are created\n",
    "totNodesCreated = 0\n",
    "\n",
    "# Iterate over the album DataFrame\n",
    "for genre, row in genres.iterrows():\n",
    "    \n",
    "    # Create genre ID from name\n",
    "    genreID = createGenreID(genre)\n",
    "\n",
    "    result = session.run(\"MERGE (g:Genre {id: $genreID}) RETURN g \", genreID = genreID)\n",
    "\n",
    "    totNodesCreated += result.consume().counters.nodes_created\n",
    "\n",
    "print(totNodesCreated)\n",
    "session.close()\n",
    "driver.close()"
   ]
  },
  {
   "cell_type": "markdown",
   "metadata": {},
   "source": [
    "### Countries"
   ]
  },
  {
   "cell_type": "code",
   "execution_count": 9,
   "metadata": {},
   "outputs": [],
   "source": [
    "# Load the CSV files in memory\n",
    "genres = pd.read_csv(countriesPath, sep=\",\",index_col=\"Code\")"
   ]
  },
  {
   "cell_type": "code",
   "execution_count": 10,
   "metadata": {},
   "outputs": [
    {
     "name": "stdout",
     "output_type": "stream",
     "text": [
      "249\n"
     ]
    }
   ],
   "source": [
    "# connect to the DB\n",
    "driver = GraphDatabase.driver(params.uri, auth=(params.user, params.dbpsw))\n",
    "# create a session\n",
    "session = driver.session()\n",
    "\n",
    "# To count how many nodes are created\n",
    "totNodesCreated = 0\n",
    "\n",
    "# Iterate over the album DataFrame\n",
    "for countryCode, row in genres.iterrows():\n",
    "    \n",
    "    result = session.run(\"MERGE (c:Country {code: $countryCode, name: $countryName}) RETURN c \", \n",
    "    countryCode = countryCode,\n",
    "    countryName = row['Name'])\n",
    "\n",
    "    totNodesCreated += result.consume().counters.nodes_created\n",
    "\n",
    "print(totNodesCreated)\n",
    "session.close()\n",
    "driver.close()"
   ]
  },
  {
   "cell_type": "markdown",
   "metadata": {},
   "source": [
    "### Artists"
   ]
  },
  {
   "cell_type": "code",
   "execution_count": 11,
   "metadata": {},
   "outputs": [],
   "source": [
    "# Load the CSV files in memory\n",
    "artists = pd.read_csv(artistsPath, sep=\",\", index_col=\"id\")"
   ]
  },
  {
   "cell_type": "code",
   "execution_count": 12,
   "metadata": {},
   "outputs": [
    {
     "name": "stdout",
     "output_type": "stream",
     "text": [
      "8400\n"
     ]
    }
   ],
   "source": [
    "# connect to the DB\n",
    "driver = GraphDatabase.driver(params.uri, auth=(params.user, params.dbpsw))\n",
    "# create a session\n",
    "session = driver.session()\n",
    "\n",
    "# To count how many nodes are created\n",
    "totNodesCreated = 0\n",
    "\n",
    "# Iterate over the album DataFrame\n",
    "for artistID, row in artists.iterrows():\n",
    "    \n",
    "    # Retrieve the name of the artist\n",
    "    artistName = row[\"name\"]\n",
    "    # Retrieve the popularity of the artist\n",
    "    artistPopularity = row[\"popularity\"]\n",
    "\n",
    "    result = session.run(\"MERGE (a:Artist {id: $artistID, name: $artistName, popularity: $artistPopularity}) RETURN a \", \n",
    "                        artistID = artistID,\n",
    "                        artistName = artistName,\n",
    "                        artistPopularity = artistPopularity)\n",
    "\n",
    "    totNodesCreated += result.consume().counters.nodes_created\n",
    "\n",
    "    # Load genres as array\n",
    "    genres = row[\"genres\"].split(\",\") if not pd.isnull(row[\"genres\"]) else []\n",
    "\n",
    "    for genre in genres:\n",
    "        session.run(\"\"\" MATCH (a:Artist {id: $artistID}) , (g:Genre {id: $genreID})\n",
    "                        MERGE (a)-[r:hasGenre]->(g) RETURN a \"\"\", \n",
    "                        artistID = artistID,\n",
    "                        genreID = createGenreID(genre))\n",
    "         \n",
    "\n",
    "print(totNodesCreated)\n",
    "session.close()\n",
    "driver.close()"
   ]
  },
  {
   "cell_type": "markdown",
   "metadata": {},
   "source": [
    "### Albums"
   ]
  },
  {
   "cell_type": "code",
   "execution_count": 13,
   "metadata": {},
   "outputs": [],
   "source": [
    "# Load the CSV files in memory\n",
    "albums = pd.read_csv(albumsPath, sep=\",\", index_col=\"id\")"
   ]
  },
  {
   "cell_type": "code",
   "execution_count": 14,
   "metadata": {},
   "outputs": [
    {
     "name": "stdout",
     "output_type": "stream",
     "text": [
      "17762\n"
     ]
    }
   ],
   "source": [
    "# connect to the DB\n",
    "driver = GraphDatabase.driver(params.uri, auth=(params.user, params.dbpsw))\n",
    "# create a session\n",
    "session = driver.session()\n",
    "\n",
    "# To count how many nodes are created\n",
    "totNodesCreated = 0\n",
    "\n",
    "# Iterate over the album DataFrame\n",
    "for albumID, row in albums.iterrows():\n",
    "\n",
    "    # Retrieve the name of the album\n",
    "    albumName = row[\"title\"]\n",
    "    \n",
    "    # Retrieve the total tracks of the album\n",
    "    albumTotalTracks = row[\"total_tracks\"]\n",
    "\n",
    "    # Manage release date taking into account release precision\n",
    "    albumReleaseDate = row[\"release_date\"]\n",
    "    if(row[\"release_date_precision\"]==\"year\"):\n",
    "        albumReleaseDate += \"-01-01\"\n",
    "    elif(row[\"release_date_precision\"]==\"month\"):\n",
    "        albumReleaseDate += \"-01\"\n",
    "    \n",
    "    # Retrieve album type\n",
    "    albumType = row[\"album_type\"]\n",
    "    \n",
    "    result = session.run(\"MERGE (a:Album {id: $albumID, name: $albumName, totalTracks: $albumTotalTracks, releaseDate: $albumReleaseDate, albumType: $albumType}) RETURN a \", \n",
    "                        albumID = albumID,\n",
    "                        albumName = albumName,\n",
    "                        albumTotalTracks = albumTotalTracks,\n",
    "                        albumReleaseDate = albumReleaseDate,\n",
    "                        albumType = albumType)\n",
    "\n",
    "    totNodesCreated += result.consume().counters.nodes_created\n",
    "\n",
    "    if(totNodesCreated%1000 == 0):\n",
    "        print(\"💾 [CREATING] : \"+str(totNodesCreated))\n",
    "\n",
    "    # Load countries as array\n",
    "    countries = row[\"available_countries\"].split(\",\") if not pd.isnull(row[\"available_countries\"]) else []\n",
    "\n",
    "    for country in countries:\n",
    "        session.run(\"\"\" MATCH (alb:Album {id: $albumID}), (c:Country {id: $countryCode} ) \n",
    "                        MERGE (alb)-[r:isAvailableIn]->(c) RETURN alb \"\"\", \n",
    "                        albumID = albumID,\n",
    "                        countryCode = country)    \n",
    "    \n",
    "    # Load artists as array\n",
    "    artists = row[\"artists\"].split(\",\")\n",
    "        \n",
    "    for artistID in artists:\n",
    "        session.run(\"\"\" MATCH (alb:Album {id: $albumID}), (a:Artist {id: $artistID})\n",
    "                        MERGE (a)-[r:partecipateIn]->(alb) RETURN alb \"\"\", \n",
    "                        albumID = albumID,\n",
    "                        artistID = artistID) \n",
    "        \n",
    "\n",
    "\n",
    "print(totNodesCreated)\n",
    "session.close()\n",
    "driver.close()"
   ]
  },
  {
   "cell_type": "markdown",
   "metadata": {},
   "source": [
    "### Tracks"
   ]
  },
  {
   "cell_type": "code",
   "execution_count": 15,
   "metadata": {},
   "outputs": [],
   "source": [
    "# Load the CSV files in memory\n",
    "tracks = pd.read_csv(tracksPath, sep=\",\", index_col=\"id\")"
   ]
  },
  {
   "cell_type": "code",
   "execution_count": 16,
   "metadata": {},
   "outputs": [
    {
     "ename": "TypeError",
     "evalue": "can only concatenate str (not \"int\") to str",
     "output_type": "error",
     "traceback": [
      "\u001b[1;31m---------------------------------------------------------------------------\u001b[0m",
      "\u001b[1;31mTypeError\u001b[0m                                 Traceback (most recent call last)",
      "\u001b[1;32m~\\AppData\\Local\\Temp/ipykernel_21876/57359949.py\u001b[0m in \u001b[0;36m<module>\u001b[1;34m\u001b[0m\n\u001b[0;32m     65\u001b[0m \u001b[1;33m\u001b[0m\u001b[0m\n\u001b[0;32m     66\u001b[0m     \u001b[1;32mif\u001b[0m\u001b[1;33m(\u001b[0m\u001b[0mtotNodesCreated\u001b[0m\u001b[1;33m%\u001b[0m\u001b[1;36m1000\u001b[0m\u001b[1;33m)\u001b[0m\u001b[1;33m:\u001b[0m\u001b[1;33m\u001b[0m\u001b[1;33m\u001b[0m\u001b[0m\n\u001b[1;32m---> 67\u001b[1;33m         \u001b[0mprint\u001b[0m\u001b[1;33m(\u001b[0m\u001b[1;34m\"💾 [CREATING] : \"\u001b[0m\u001b[1;33m+\u001b[0m\u001b[0mtotNodesCreated\u001b[0m\u001b[1;33m)\u001b[0m\u001b[1;33m\u001b[0m\u001b[1;33m\u001b[0m\u001b[0m\n\u001b[0m\u001b[0;32m     68\u001b[0m \u001b[1;33m\u001b[0m\u001b[0m\n\u001b[0;32m     69\u001b[0m     \u001b[1;31m#Retrieve albumID\u001b[0m\u001b[1;33m\u001b[0m\u001b[1;33m\u001b[0m\u001b[0m\n",
      "\u001b[1;31mTypeError\u001b[0m: can only concatenate str (not \"int\") to str"
     ]
    }
   ],
   "source": [
    "# connect to the DB\n",
    "driver = GraphDatabase.driver(params.uri, auth=(params.user, params.dbpsw))\n",
    "# create a session\n",
    "session = driver.session()\n",
    "\n",
    "for trackID, row in tracks.iterrows():\n",
    "\n",
    "    trackName = row[\"title\"]\n",
    "\n",
    "    # Retrieve all the technical charateristics\n",
    "    duration = row[\"duration\"]\n",
    "    popularity = row[\"popularity\"]\n",
    "    explicit = row[\"explicit\"] \n",
    "    key = row[\"key\"] \n",
    "    tempo = row[\"tempo\"] \n",
    "    mode = row[\"mode\"]\n",
    "    time_signature = row[\"time_signature\"]\n",
    "    acousticness = row[\"acousticness\"] \n",
    "    danceability = row[\"danceability\"] \n",
    "    energy = row[\"energy\"] \n",
    "    loudness = row[\"loudness\"] \n",
    "    liveness = row[\"liveness\"] \n",
    "    valence = row[\"valence\"] \n",
    "    speechiness = row[\"speechiness\"] \n",
    "    instrumentalness = row[\"instrumentalness\"] \n",
    "\n",
    "    result = session.run(\"\"\"MERGE (t:Track {id: $trackID,\n",
    "                                            name: $trackName,\n",
    "                                            duration: $duration, \n",
    "                                            popularity: $popularity, \n",
    "                                            explicit: $explicit,\n",
    "                                            key: $key,\n",
    "                                            tempo: $tempo,\n",
    "                                            mode: $mode,\n",
    "                                            time_signature: $time_signature,\n",
    "                                            acousticness: $acousticness,\n",
    "                                            danceability: $danceability,\n",
    "                                            energy: $energy,\n",
    "                                            loudness: $loudness,\n",
    "                                            liveness: $liveness,\n",
    "                                            valence: $valence,\n",
    "                                            speechiness: $speechiness,\n",
    "                                            instrumentalness: $instrumentalness}) \n",
    "                            RETURN t \"\"\", \n",
    "                            trackID = trackID,\n",
    "                            trackName = trackName,\n",
    "                            duration = duration, \n",
    "                            popularity = popularity, \n",
    "                            explicit = explicit,\n",
    "                            key = key,\n",
    "                            tempo = tempo,\n",
    "                            mode = mode,\n",
    "                            time_signature = time_signature,\n",
    "                            acousticness = acousticness,\n",
    "                            danceability = danceability,\n",
    "                            energy = energy,\n",
    "                            loudness = loudness,\n",
    "                            liveness = liveness,\n",
    "                            valence = valence,\n",
    "                            speechiness = speechiness,\n",
    "                            instrumentalness = instrumentalness                        \n",
    "                            )\n",
    "\n",
    "    totNodesCreated += result.consume().counters.nodes_created\n",
    "\n",
    "    if(totNodesCreated%1000):\n",
    "        print(\"💾 [CREATING] : \" + str(totNodesCreated))\n",
    "\n",
    "    #Retrieve albumID\n",
    "    albumID = row[\"album\"]\n",
    "    session.run(\"\"\" MATCH (t:Track {id: $trackID}} ),(alb:Album {id: $albumID})\n",
    "                    MERGE (t)-[r:isPartOf]->(alb) RETURN t \"\"\", \n",
    "                    trackID = trackID,\n",
    "                    albumID = albumID)    \n",
    "\n",
    "    # Load countries as array\n",
    "    countries = row[\"available_countries\"].split(\",\") if not pd.isnull(row[\"available_countries\"]) else []\n",
    "\n",
    "    for country in countries:\n",
    "        session.run(\"\"\" MATCH (t:Track {id: $trackID}} ), (c:Country {id: $countryCode} ) \n",
    "                        MERGE (t)-[r:isAvailableIn]->(c) RETURN t \"\"\", \n",
    "                        trackID = trackID,\n",
    "                        countryCode = country)    \n",
    "    \n",
    "    # Load artists as array\n",
    "    artists = row[\"artists\"].split(\",\")\n",
    "        \n",
    "    for artistID in artists:\n",
    "        session.run(\"\"\" MATCH (a:Artist {id: $artistID}), (t:Track {id: $trackID}} )\n",
    "                        MERGE (a)-[r:partecipateIn]->(t) RETURN t \"\"\", \n",
    "                        artistID = artistID,\n",
    "                        trackID = trackID)\n",
    "\n",
    "print(totNodesCreated)\n",
    "session.close()\n",
    "driver.close()"
   ]
  },
  {
   "cell_type": "markdown",
   "metadata": {},
   "source": [
    "### Charts"
   ]
  },
  {
   "cell_type": "code",
   "execution_count": null,
   "metadata": {},
   "outputs": [],
   "source": [
    "def loadCountries():\n",
    "    countries = pd.read_csv(countriesPath, sep=\",\")\n",
    "    altCountries = pd.read_csv(altCountriesPath, sep=\",\")\n",
    "    altCountries.columns = [\"AlternativeName\", \"Name\"]\n",
    "    \n",
    "    return countries, altCountries\n",
    "\n",
    "\n",
    "def getCountryCode(countryName, countries, altCountries):\n",
    "    # Try to retrieve ISO CODE of the country\n",
    "    try:\n",
    "        matchedCountries = countries[countries[\"Name\"].str.contains(countryName)]\n",
    "        countryCode = matchedCountries[\"Code\"].iloc[0]\n",
    "    except IndexError as e:\n",
    "        # Look if an alternative name was used\n",
    "        alternativeMatchedCountries = altCountries[altCountries[\"AlternativeName\"].str.contains(countryName)]\n",
    "        countryName = alternativeMatchedCountries[\"Name\"].iloc[0]\n",
    "\n",
    "        matchedCountries = countries[countries[\"Name\"] == countryName]\n",
    "        countryCode = matchedCountries[\"Code\"].iloc[0]\n",
    "    \n",
    "    return countryCode, countryName"
   ]
  },
  {
   "cell_type": "code",
   "execution_count": null,
   "metadata": {},
   "outputs": [],
   "source": [
    "# Load countries dataframe\n",
    "countries, altCountries = loadCountries()\n",
    "\n",
    "# Load the CSV files in memory\n",
    "charts = pd.read_csv(spotifyChartsPath , sep=\",\")\n",
    "\n",
    "# Aggregate the original dataframe to identify a specific chart using COUNTRY and DATE\n",
    "chartsDF = charts.groupby(\n",
    "    [\"country\", \"date\"]).size().reset_index(name=\"total_tracks\")\n",
    "\n",
    "# Removing global\n",
    "chartsDF = chartsDF.drop(index=chartsDF[chartsDF[\"country\"] == \"Global\"].index)\n",
    "charts = charts.drop(index=charts[charts[\"country\"] == \"Global\"].index)\n",
    "\n",
    "totalRows = len(charts.index)"
   ]
  },
  {
   "cell_type": "code",
   "execution_count": null,
   "metadata": {},
   "outputs": [],
   "source": [
    "# connect to the DB\n",
    "driver = GraphDatabase.driver(params.uri, auth=(params.user, params.dbpsw))\n",
    "# create a session\n",
    "session = driver.session()\n",
    "\n",
    "#I iterate through the dataframe\n",
    "for index, row in chartsDF.iterrows():\n",
    "\n",
    "    # Retrieve country and date\n",
    "    countryName = row[\"country\"]\n",
    "    chartDate = row[\"date\"]\n",
    "    topNumType = 100\n",
    "    chartTotalTracks = row[\"total_tracks\"]\n",
    "\n",
    "    # Reformat date\n",
    "    chartDate = datetime.datetime.strptime(chartDate, \"%d/%m/%Y\").strftime(\"%Y-%m-%d\")\n",
    "\n",
    "    # Get the country code\n",
    "    countryCode, _ = getCountryCode(countryName, countries, altCountries)\n",
    "\n",
    "    # Create a uniqueID\n",
    "    chartID = \"top-{}-{}-{}\".format(topNumType, countryCode, chartDate)\n",
    "\n",
    "    # Add the name of the Chart\n",
    "    chartName = \"TOP {} {}\".format(topNumType, countryName)\n",
    "\n",
    "    chartType = \"top\"\n",
    "  \n",
    "    result = session.run(\"MERGE (ch:Chart {id: $chartID, name: $chartName, totalTracks: $chartTotalTracks, date: $chartDate, chartType: $chartType}) RETURN ch \", \n",
    "                        chartID = chartID,\n",
    "                        chartName = chartName,\n",
    "                        chartTotalTracks = chartTotalTracks,\n",
    "                        chartDate = chartDate,\n",
    "                        chartType = chartType)\n",
    "\n",
    "    totNodesCreated += result.consume().counters.nodes_created\n",
    "\n",
    "    if(totNodesCreated%1000 == 0):\n",
    "        print(\"💾 [CREATING] : \" + str(totNodesCreated))\n",
    "    \n",
    "    #Add country\n",
    "    session.run(\"\"\" MATCH (ch:Chart {id: $chartID}} ), (c:Country {id: $countryCode} ) \n",
    "                        MERGE (ch)-[r:isReferredTo]->(c) RETURN ch \"\"\", \n",
    "                        chartID = chartID,\n",
    "                        countryCode = countryCode) \n",
    "\n",
    "print(totNodesCreated)\n",
    "session.close()\n",
    "driver.close()"
   ]
  },
  {
   "cell_type": "code",
   "execution_count": null,
   "metadata": {},
   "outputs": [],
   "source": [
    "# connect to the DB\n",
    "driver = GraphDatabase.driver(params.uri, auth=(params.user, params.dbpsw))\n",
    "# create a session\n",
    "session = driver.session()\n",
    "\n",
    "for index, row in charts.iterrows():\n",
    "\n",
    "    # Retrieve the position of track\n",
    "    position = row[\"position\"]\n",
    "\n",
    "    # Get the track id from the uri\n",
    "    trackID = row['uri'].removeprefix(\"https://open.spotify.com/track/\")\n",
    "\n",
    "    # Retrieve country and date\n",
    "    countryName = row[\"country\"]\n",
    "    date = row[\"date\"]\n",
    "\n",
    "    # Reformat date\n",
    "    date = datetime.datetime.strptime(date, \"%d/%m/%Y\").strftime(\"%Y-%m-%d\")\n",
    "\n",
    "    # Get the country code\n",
    "    countryCode, _ = getCountryCode(countryName, countries, altCountries)\n",
    "\n",
    "    # Create a uniqueID\n",
    "    chartID = \"top-100-{}-{}\".format(countryCode, date)\n",
    "\n",
    "    #Add country\n",
    "    session.run(\"\"\" MATCH (t:Track {id: $trackID} ), (ch:Chart {id: $chartID}})\n",
    "                    MERGE (t)-[r:isPositionedIn {position: $position}]->(ch) RETURN t\"\"\", \n",
    "                    trackID = trackID,\n",
    "                    chartID = chartID,\n",
    "                    position = position) \n",
    "\n",
    "print(totNodesCreated)\n",
    "session.close()\n",
    "driver.close()"
   ]
  },
  {
   "cell_type": "markdown",
   "metadata": {},
   "source": [
    "## People"
   ]
  },
  {
   "cell_type": "code",
   "execution_count": null,
   "metadata": {},
   "outputs": [],
   "source": [
    "# Load the CSV files in memory\n",
    "people = pd.read_csv(peoplePath, sep=\",\", index_col=\"id\")"
   ]
  },
  {
   "cell_type": "code",
   "execution_count": null,
   "metadata": {},
   "outputs": [],
   "source": [
    "def autoCompleteDate(dateStr):\n",
    "    if dateStr is not None:\n",
    "        if len(dateStr) == 4:\n",
    "            dateStr += \"-01-01\"\n",
    "        elif len(dateStr) == 7:\n",
    "            dateStr += \"-01\"\n",
    "\n",
    "    return dateStr"
   ]
  },
  {
   "cell_type": "code",
   "execution_count": null,
   "metadata": {},
   "outputs": [],
   "source": [
    "# connect to the DB\n",
    "driver = GraphDatabase.driver(params.uri, auth=(params.user, params.dbpsw))\n",
    "# create a session\n",
    "session = driver.session()\n",
    "\n",
    "groupedPeople = people.groupby([\"id\"])\n",
    "\n",
    "index = 0\n",
    "\n",
    "# iterate over each group\n",
    "for peopleID, peopleGroup in groupedPeople:\n",
    "\n",
    "    name = peopleGroup.iloc[0][\"name\"] if not pd.isnull(\n",
    "        peopleGroup.iloc[0][\"name\"]) else \"\"\n",
    "    surname = peopleGroup.iloc[0][\"surname\"] if not pd.isnull(\n",
    "        peopleGroup.iloc[0][\"surname\"]) else \"\"\n",
    "    birthDate= peopleGroup.iloc[0][\"birthdate\"] if not pd.isnull(\n",
    "        peopleGroup.iloc[0][\"birthdate\"]) else \"\"\n",
    "    deathDate= peopleGroup.iloc[0][\"deathdate\"] if not pd.isnull(\n",
    "        peopleGroup.iloc[0][\"deathdate\"]) else \"\"\n",
    "    nationality= peopleGroup.iloc[0][\"nationality\"] if not pd.isnull(\n",
    "        peopleGroup.iloc[0][\"nationality\"]) else \"\"\n",
    "\n",
    "    # Get the list of artists in which the person appear\n",
    "    artists = []\n",
    "    for _, row in peopleGroup.iterrows():\n",
    "        artists.append(row[\"artist\"])\n",
    "\n",
    "    # Create a uniqueID\n",
    "    peopleID = \"people-{}\".format(index)\n",
    "    index += 1\n",
    "\n",
    "    # Manage dates\n",
    "    birthDate = autoCompleteDate(birthDate)\n",
    "    birthDate = birthDate if not birthDate is None else \"\"\n",
    "    \n",
    "    deathDate = autoCompleteDate(deathDate)\n",
    "    deathDate = deathDate if not deathDate is None else \"\"\n",
    "\n",
    "\n",
    "    result = session.run(\"MERGE (p:Person {id: $personID, name: $personName, surname: $personSurname, birthDate: $birthDate, deathDate: $deathDate}) RETURN p \", \n",
    "                        personID = peopleID,\n",
    "                        personName = name,\n",
    "                        personSurname = surname,\n",
    "                        birthDate = birthDate,\n",
    "                        deathDate = deathDate)\n",
    "\n",
    "    totNodesCreated += result.consume().counters.nodes_created\n",
    "\n",
    "    # Add nationality\n",
    "    # Create the RDF node\n",
    "    if nationality is not None:\n",
    "        #Add country\n",
    "        session.run(\"\"\" MATCH (p:Person {id: personID} ), (c:Country {id: $countryCode}})\n",
    "                    MERGE (p)-[r:hasNationality]->(c) RETURN p\"\"\", \n",
    "                    personID = peopleID,\n",
    "                    countryCode = nationality)\n",
    "\n",
    "    #manage edge connectig artists and people\n",
    "    for artistID in artists:\n",
    "        session.run(\"\"\" MATCH (p:Person {id: $personID}}), (a:Artist {id: $artistID})\n",
    "                    MERGE (p)-[r:isMemberOf]->(a) RETURN p \"\"\", \n",
    "                    personID = peopleID,\n",
    "                    artistID = artistID)\n",
    "\n",
    "\n",
    "print(totNodesCreated)\n",
    "session.close()\n",
    "driver.close()"
   ]
  }
 ],
 "metadata": {
  "kernelspec": {
   "display_name": "Python 3",
   "language": "python",
   "name": "python3"
  },
  "language_info": {
   "codemirror_mode": {
    "name": "ipython",
    "version": 3
   },
   "file_extension": ".py",
   "mimetype": "text/x-python",
   "name": "python",
   "nbconvert_exporter": "python",
   "pygments_lexer": "ipython3",
   "version": "3.9.8"
  }
 },
 "nbformat": 4,
 "nbformat_minor": 2
}
