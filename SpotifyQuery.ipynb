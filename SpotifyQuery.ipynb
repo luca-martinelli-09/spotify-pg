{
 "cells": [
  {
   "cell_type": "markdown",
   "metadata": {},
   "source": [
    "## Spotify Query\n",
    "\n",
    "In this notebook we perform some query on our property graph about Spotify. In particular the queries will be divided into three parts:\n",
    "1. ***Example queries***: we perform two example queries where we show how it is possibile to use the new added information such as *record label* and *instruments*\n",
    "1. ***Italian tracks and Italian artists from 2017 to 2020:*** we perfom some queries about italian tracks and artists present in the TOP 100 Italy.\n",
    "1. ***Italian tracks abroad:*** we want to discover if italian tracks are listened also outside Italy."
   ]
  },
  {
   "cell_type": "code",
   "execution_count": 1,
   "metadata": {},
   "outputs": [],
   "source": [
    "# required libraries\n",
    "import pandas as pd\n",
    "import os\n",
    "from pathlib import Path\n",
    "import datetime"
   ]
  },
  {
   "cell_type": "markdown",
   "metadata": {},
   "source": [
    "### Connection to Neo4j"
   ]
  },
  {
   "cell_type": "code",
   "execution_count": 2,
   "metadata": {},
   "outputs": [],
   "source": [
    "# Neo4J params class\n",
    "class Neo4jParams:\n",
    "  def __init__(self, user, psw,dbname,db_psw,uri):\n",
    "    self.user = user\n",
    "    self.psw = psw\n",
    "    self.dbname = dbname\n",
    "    self.dbpsw = dbpsw\n",
    "    self.uri = uri"
   ]
  },
  {
   "cell_type": "code",
   "execution_count": 3,
   "metadata": {},
   "outputs": [],
   "source": [
    "#DB parameters\n",
    "user=\"neo4j\"\n",
    "psw=\"neo4j\"\n",
    "dbname=\"SpotifyDB\"\n",
    "dbpsw=\"SpotifyDB\"\n",
    "uri = \"bolt://localhost:7687\"\n",
    "\n",
    "params = Neo4jParams(user,psw,dbname,dbpsw,uri)"
   ]
  },
  {
   "cell_type": "code",
   "execution_count": 4,
   "metadata": {},
   "outputs": [
    {
     "name": "stdout",
     "output_type": "stream",
     "text": [
      "hello, world, from node 44364\n"
     ]
    }
   ],
   "source": [
    "from neo4j import GraphDatabase\n",
    "\n",
    "# test class\n",
    "\n",
    "class Driver:\n",
    "\n",
    "    def __init__(self, uri, user, password):\n",
    "        self.driver = GraphDatabase.driver(uri, auth=(user, password))\n",
    "\n",
    "    def close(self):\n",
    "        self.driver.close()\n",
    "\n",
    "    def print_greeting(self, message):\n",
    "        with self.driver.session() as session:\n",
    "            greeting = session.write_transaction(self._create_and_return_greeting, message)\n",
    "            print(greeting)\n",
    "\n",
    "    @staticmethod\n",
    "    def _create_and_return_greeting(tx, message):\n",
    "        result = tx.run(\"CREATE (a:Greeting) \"\n",
    "                        \"SET a.message = $message \"\n",
    "                        \"RETURN a.message + ', from node ' + id(a)\", message=message)\n",
    "        return result.single()[0]\n",
    "\n",
    "\n",
    "if __name__ == \"__main__\":\n",
    "    greeter = Driver(\"bolt://localhost:7687\", \"neo4j\", \"SpotifyDB\")\n",
    "    greeter.print_greeting(\"hello, world\")\n",
    "    greeter.close()"
   ]
  },
  {
   "cell_type": "markdown",
   "metadata": {},
   "source": [
    "## Queries\n",
    "\n",
    "#### Example query\n",
    "1. Show artists of the same discographic house\n",
    "\n",
    "2. Show the most common played instrument in rock groups\n",
    "\n",
    "#### Italian tracks and Italian artists from 2017 to 2020\n",
    "1. On average how many tracks from italian artists are present in Top 100 for each year. (Grafico a barre)\n",
    "\n",
    "1. Who is the Artist with the highest number of tracks present in Top 100 Italy for each year. (Nomi degli artisti)\n",
    "\n",
    "1. How many different italian artist enter at least once in Top 100 Italy for each Year (Grafico a barre)\n",
    "\n",
    "1. On average how many tracks from italian artists through the different months (Grafico a linea)\n",
    "\n",
    "1. Show the top 3 artists with more tracks in Top 100 at the same time (nomi artisti)\n",
    "\n",
    "1. Show the youngest artist who entered in the first 10 positions of Top 100 Italy for each year\n",
    "\n",
    "\n",
    "#### Italian tracks abroad\n",
    "1. How many tracks from italian artist are present in a Top 100 of a different Country (grafico barre)\n",
    "\n",
    "1. Show the top 3 countries that listen the most to italiang tracks (show Names and numbers)\n",
    "\n",
    "1. Who is the artist with more tracks ppresent in a Top 100 of a different Country (show Name)"
   ]
  },
  {
   "cell_type": "markdown",
   "metadata": {},
   "source": [
    "### Example Queries\n",
    "\n",
    "#### Query 1 \n",
    "\n",
    "#### Query 2"
   ]
  },
  {
   "cell_type": "markdown",
   "metadata": {},
   "source": [
    "### Italian Tracks and Italian Artists\n",
    "\n",
    "#### On average how many tracks from italian artists are present in Top 100 for each year. (Grafico a barre)"
   ]
  },
  {
   "cell_type": "code",
   "execution_count": 5,
   "metadata": {},
   "outputs": [
    {
     "name": "stdout",
     "output_type": "stream",
     "text": [
      "Year: 2017\n",
      "avgNumItalianTracks: 31.11320754716981\n",
      "\n",
      "Year: 2018\n",
      "avgNumItalianTracks: 59.01923076923076\n",
      "\n",
      "Year: 2019\n",
      "avgNumItalianTracks: 66.80769230769234\n",
      "\n",
      "Year: 2020\n",
      "avgNumItalianTracks: 61.45454545454546\n",
      "\n"
     ]
    }
   ],
   "source": [
    "# On average how many tracks from italian artists are present in Top 100 for each year. (Grafico a barre)\n",
    "\n",
    "# connect to the DB\n",
    "driver = GraphDatabase.driver(params.uri, auth=(params.user, params.dbpsw))\n",
    "# create a session\n",
    "session = driver.session()\n",
    "\n",
    "result = session.run(\"\"\"\n",
    "    MATCH (c1:Country{id:\"IT\"})<-[:hasNationality]-(p:Person)-[:isMemberOf]->(a:Artist)-[:partecipateIn]->(t:Track)-[:isPositionedIn]->(ch:Chart)-[:isReferredTo]->(c2:Country{id:\"IT\"})\n",
    "    WITH ch,ch.date.year AS year, COUNT(DISTINCT t) as numTracks\n",
    "    RETURN year,avg(numTracks)\n",
    "    ORDER BY year\n",
    "\"\"\")\n",
    "\n",
    "for r in result:\n",
    "    returnedData = r.values()\n",
    "    print(\"Year: {}\".format(returnedData[0]))\n",
    "    print(\"avgNumItalianTracks: {}\".format(returnedData[1]))\n",
    "    print(\"\")\n",
    "\n",
    "session.close()\n",
    "driver.close()"
   ]
  },
  {
   "cell_type": "markdown",
   "metadata": {},
   "source": [
    "#### How many tracks were released in Italy from 2017 to 2020"
   ]
  },
  {
   "cell_type": "code",
   "execution_count": 6,
   "metadata": {},
   "outputs": [
    {
     "name": "stdout",
     "output_type": "stream",
     "text": [
      "Year: 2017\n",
      "numItalianTracks: 171\n",
      "\n",
      "Year: 2018\n",
      "numItalianTracks: 324\n",
      "\n",
      "Year: 2019\n",
      "numItalianTracks: 330\n",
      "\n",
      "Year: 2020\n",
      "numItalianTracks: 310\n",
      "\n"
     ]
    }
   ],
   "source": [
    "# How many tracks were produced in Italy from 2017 to 2020\n",
    "\n",
    "# connect to the DB\n",
    "driver = GraphDatabase.driver(params.uri, auth=(params.user, params.dbpsw))\n",
    "# create a session\n",
    "session = driver.session()\n",
    "\n",
    "result = session.run(\"\"\"\n",
    "    MATCH (c1:Country{id:\"IT\"})<-[:hasNationality]-(p:Person)-[:isMemberOf]->(a:Artist)-[:partecipateIn]->(t:Track)-[:isPartOf]->(alb:Album)\n",
    "    WHERE alb.releaseDate.year >= 2017\n",
    "    WITH alb.releaseDate.year AS year, COUNT(DISTINCT t) as numTracks\n",
    "    RETURN year,numTracks\n",
    "    ORDER BY year\n",
    "\"\"\")\n",
    "\n",
    "for r in result:\n",
    "    returnedData = r.values()\n",
    "    print(\"Year: {}\".format(returnedData[0]))\n",
    "    print(\"numItalianTracks: {}\".format(returnedData[1]))\n",
    "    print(\"\")\n",
    "\n",
    "session.close()\n",
    "driver.close()\n"
   ]
  },
  {
   "cell_type": "markdown",
   "metadata": {},
   "source": [
    "#### How many different italian artist enter at least once in Top 100 Italy for each Year (Grafico a barre)"
   ]
  },
  {
   "cell_type": "code",
   "execution_count": 7,
   "metadata": {},
   "outputs": [
    {
     "name": "stdout",
     "output_type": "stream",
     "text": [
      "Year: 2017\n",
      "numItalianArtist: 75\n",
      "\n",
      "Year: 2018\n",
      "numItalianArtist: 99\n",
      "\n",
      "Year: 2019\n",
      "numItalianArtist: 112\n",
      "\n",
      "Year: 2020\n",
      "numItalianArtist: 125\n",
      "\n"
     ]
    }
   ],
   "source": [
    "# How many different italian artist enter at least once in Top 100 Italy for each Year \n",
    "\n",
    "# connect to the DB\n",
    "driver = GraphDatabase.driver(params.uri, auth=(params.user, params.dbpsw))\n",
    "# create a session\n",
    "session = driver.session()\n",
    "\n",
    "result = session.run(\"\"\"\n",
    "    MATCH (c1:Country{id:\"IT\"})<-[:hasNationality]-(p:Person)-[:isMemberOf]->(a:Artist)-[:partecipateIn]->(t:Track)-[:isPositionedIn]->(ch:Chart)-[:isReferredTo]->(c2:Country{id:\"IT\"})\n",
    "    WITH ch.date.year AS year, COUNT(DISTINCT a) as numArtists\n",
    "    RETURN year,numArtists\n",
    "    ORDER BY year\n",
    "\"\"\")\n",
    "\n",
    "for r in result:\n",
    "    returnedData = r.values()\n",
    "    print(\"Year: {}\".format(returnedData[0]))\n",
    "    print(\"numItalianArtist: {}\".format(returnedData[1]))\n",
    "    print(\"\")\n",
    "\n",
    "session.close()\n",
    "driver.close()\n"
   ]
  },
  {
   "cell_type": "markdown",
   "metadata": {},
   "source": [
    "#### Ratio between #numItalianTracks / #numItalianArtist "
   ]
  },
  {
   "cell_type": "code",
   "execution_count": 8,
   "metadata": {},
   "outputs": [
    {
     "name": "stdout",
     "output_type": "stream",
     "text": [
      "Year: 2017\n",
      "Ratio: 2.28\n",
      "\n",
      "Year: 2018\n",
      "Ratio: 3.27\n",
      "\n",
      "Year: 2019\n",
      "Ratio: 2.95\n",
      "\n",
      "Year: 2020\n",
      "Ratio: 2.48\n",
      "\n"
     ]
    }
   ],
   "source": [
    "years = [2017,2018,2019,2020]\n",
    "numItalianTracks = [171,324,330,310]\n",
    "numItalianArtists = [75,99,112,125]\n",
    "\n",
    "for i in range(0,len(years)):\n",
    "    print(\"Year: {}\".format(years[i]))\n",
    "    print(\"Ratio: {:.2f}\".format(numItalianTracks[i]/numItalianArtists[i]))\n",
    "    print(\"\")"
   ]
  },
  {
   "cell_type": "markdown",
   "metadata": {},
   "source": [
    "#### On average how many tracks from italian artists through the different months (Grafico a linea)"
   ]
  },
  {
   "cell_type": "code",
   "execution_count": 9,
   "metadata": {},
   "outputs": [
    {
     "name": "stdout",
     "output_type": "stream",
     "text": [
      "Year: 1\n",
      "numItalianArtist: 46.58823529411764\n",
      "\n",
      "Year: 2\n",
      "numItalianArtist: 52.31249999999999\n",
      "\n",
      "Year: 3\n",
      "numItalianArtist: 51.611111111111114\n",
      "\n",
      "Year: 4\n",
      "numItalianArtist: 47.555555555555564\n",
      "\n",
      "Year: 5\n",
      "numItalianArtist: 52.35294117647059\n",
      "\n",
      "Year: 6\n",
      "numItalianArtist: 54.64705882352941\n",
      "\n",
      "Year: 7\n",
      "numItalianArtist: 56.833333333333336\n",
      "\n",
      "Year: 8\n",
      "numItalianArtist: 54.294117647058826\n",
      "\n",
      "Year: 9\n",
      "numItalianArtist: 57.22222222222222\n",
      "\n",
      "Year: 10\n",
      "numItalianArtist: 59.58823529411764\n",
      "\n",
      "Year: 11\n",
      "numItalianArtist: 61.230769230769226\n",
      "\n",
      "Year: 12\n",
      "numItalianArtist: 58.53333333333333\n",
      "\n"
     ]
    }
   ],
   "source": [
    "# How many different italian artist enter at least once in Top 100 Italy for each Year \n",
    "\n",
    "# connect to the DB\n",
    "driver = GraphDatabase.driver(params.uri, auth=(params.user, params.dbpsw))\n",
    "# create a session\n",
    "session = driver.session()\n",
    "\n",
    "result = session.run(\"\"\"\n",
    "    MATCH (c1:Country{id:\"IT\"})<-[:hasNationality]-(p:Person)-[:isMemberOf]->(a:Artist)-[:partecipateIn]->(t:Track)-[:isPositionedIn]->(ch:Chart)-[:isReferredTo]->(c2:Country{id:\"IT\"})\n",
    "    WITH ch,ch.date.month AS month, COUNT(DISTINCT t) as numTracks\n",
    "    RETURN month,avg(numTracks)\n",
    "    ORDER BY month\n",
    "\"\"\")\n",
    "\n",
    "for r in result:\n",
    "    returnedData = r.values()\n",
    "    print(\"Year: {}\".format(returnedData[0]))\n",
    "    print(\"numItalianArtist: {}\".format(returnedData[1]))\n",
    "    print(\"\")\n",
    "\n",
    "session.close()\n",
    "driver.close()\n"
   ]
  },
  {
   "cell_type": "markdown",
   "metadata": {},
   "source": [
    "#### Who is the Artist with the highest number of tracks present in Top 100 Italy for each year. (Nomi degli artisti)\n"
   ]
  },
  {
   "cell_type": "code",
   "execution_count": 10,
   "metadata": {},
   "outputs": [
    {
     "name": "stdout",
     "output_type": "stream",
     "text": [
      "Year: 2017\n",
      "Artist: Guè\n",
      "numTracks: 20\n",
      "\n",
      "Year: 2018\n",
      "Artist: Gemitaiz\n",
      "numTracks: 28\n",
      "\n",
      "Year: 2019\n",
      "Artist: MadMan\n",
      "numTracks: 30\n",
      "\n",
      "Year: 2020\n",
      "Artist: tha Supreme\n",
      "numTracks: 35\n",
      "\n"
     ]
    }
   ],
   "source": [
    "# Who is the Artist with the highest number of tracks present in Top 100 Italy for each year. (Nomi degli artisti)\n",
    "# Show the top 3 artists with more tracks in Top 100 at the same time (nomi artisti)\n",
    "\n",
    "# connect to the DB\n",
    "driver = GraphDatabase.driver(params.uri, auth=(params.user, params.dbpsw))\n",
    "# create a session\n",
    "session = driver.session()\n",
    "\n",
    "result = session.run(\"\"\"\n",
    "    MATCH (c1:Country{id:\"IT\"})<-[:hasNationality]-(p:Person)-[:isMemberOf]->(a:Artist)-[:partecipateIn]->(t:Track)-[:isPositionedIn]->(ch:Chart)-[:isReferredTo]->(c2:Country{id:\"IT\"})\n",
    "    WITH a,ch.date.year AS year, COUNT(DISTINCT t) as numTracks\n",
    "    ORDER BY numTracks DESC\n",
    "    WITH year,COLLECT(a) AS artists, COLLECT(numTracks) as orderedNumTracks\n",
    "    RETURN DISTINCT year,artists[0],orderedNumTracks[0]\n",
    "    ORDER BY year\n",
    "\"\"\")\n",
    "\n",
    "for r in result:\n",
    "    returnedData = r.values()\n",
    "    print(\"Year: {}\".format(returnedData[0]))\n",
    "    print(\"Artist: {}\".format(returnedData[1][\"name\"]))\n",
    "    print(\"numTracks: {}\".format(returnedData[2]))\n",
    "    print(\"\")\n",
    "session.close()\n",
    "driver.close()\n",
    "\n"
   ]
  },
  {
   "cell_type": "markdown",
   "metadata": {},
   "source": [
    "####  Show the top 3 artists with more tracks in Top 100 at the same time (nomi artisti)"
   ]
  },
  {
   "cell_type": "code",
   "execution_count": 11,
   "metadata": {},
   "outputs": [
    {
     "name": "stdout",
     "output_type": "stream",
     "text": [
      "Artist: tha Supreme\n",
      "Chart: top-100-IT-2019-11-17\n",
      "numTracks: 24\n",
      "\n",
      "Artist: Marracash\n",
      "Chart: top-100-IT-2019-11-17\n",
      "numTracks: 19\n",
      "\n",
      "Artist: Ultimo\n",
      "Chart: top-100-IT-2019-04-07\n",
      "numTracks: 18\n",
      "\n"
     ]
    }
   ],
   "source": [
    "# Show the top 3 artists with more tracks in Top 100 at the same time (nomi artisti)\n",
    "\n",
    "# connect to the DB\n",
    "driver = GraphDatabase.driver(params.uri, auth=(params.user, params.dbpsw))\n",
    "# create a session\n",
    "session = driver.session()\n",
    "\n",
    "result = session.run(\"\"\"\n",
    "    MATCH (c1:Country{id:\"IT\"})<-[:hasNationality]-(p:Person)-[:isMemberOf]->(a:Artist)-[:partecipateIn]->(t:Track)-[:isPositionedIn]->(ch:Chart)-[:isReferredTo]->(c2:Country{id:\"IT\"})\n",
    "    WITH a,ch, COUNT(DISTINCT t) as numTracks\n",
    "    ORDER BY numTracks DESC\n",
    "    WITH a,COLLECT(ch) AS charts, COLLECT(numTracks) as orderedNumTracks\n",
    "    RETURN DISTINCT a,charts[0],orderedNumTracks[0]\n",
    "    LIMIT 3\n",
    "\"\"\")\n",
    "\n",
    "for r in result:\n",
    "    returnedData = r.values()\n",
    "    print(\"Artist: {}\".format(returnedData[0][\"name\"]))\n",
    "    print(\"Chart: {}\".format(returnedData[1][\"id\"]))\n",
    "    print(\"numTracks: {}\".format(returnedData[2]))\n",
    "    print(\"\")\n",
    "session.close()\n",
    "driver.close()\n",
    "\n"
   ]
  },
  {
   "cell_type": "markdown",
   "metadata": {},
   "source": [
    "#### Show the youngest artist who entered in the first 10 positions of Top 100 Italy for each year"
   ]
  },
  {
   "cell_type": "code",
   "execution_count": 12,
   "metadata": {},
   "outputs": [
    {
     "name": "stdout",
     "output_type": "stream",
     "text": [
      "Year: 2020\n",
      "Artist: Rondodasosa\n",
      "BirthDate: 2002-04-29\n",
      "\n",
      "Year: 2018\n",
      "Artist: Martina Attili\n",
      "BirthDate: 2001-07-11\n",
      "\n",
      "Year: 2019\n",
      "Artist: tha Supreme\n",
      "BirthDate: 2001-03-17\n",
      "\n",
      "Year: 2017\n",
      "Artist: Måneskin\n",
      "BirthDate: 2001-01-18\n",
      "\n"
     ]
    }
   ],
   "source": [
    "#Show the youngest artist who entered in the first 20 positions of Top 100 Italy for each year\n",
    "\n",
    "# connect to the DB\n",
    "driver = GraphDatabase.driver(params.uri, auth=(params.user, params.dbpsw))\n",
    "# create a session\n",
    "session = driver.session()\n",
    "\n",
    "result = session.run(\"\"\"\n",
    "    MATCH (c1:Country{id:\"IT\"})<-[:hasNationality]-(p:Person)-[:isMemberOf]->(a:Artist)-[:partecipateIn]->(t:Track)-[r:isPositionedIn]->(ch:Chart)-[:isReferredTo]->(c2:Country{id:\"IT\"})\n",
    "    WHERE r.position <=10 AND p.birthDate IS NOT NULL\n",
    "    WITH ch,a,p\n",
    "    ORDER BY p.birthDate DESC\n",
    "    WITH ch.date.year AS year, COLLECT(a.name) AS artistsNames, COLLECT(p.birthDate) AS artistsBirthDates\n",
    "    RETURN year,artistsNames[0],artistsBirthDates[0]\n",
    "\"\"\")\n",
    "\n",
    "for r in result:\n",
    "    returnedData = r.values()\n",
    "    print(\"Year: {}\".format(returnedData[0]))\n",
    "    print(\"Artist: {}\".format(returnedData[1]))\n",
    "    print(\"BirthDate: {}\".format(str(returnedData[2])))\n",
    "    print(\"\")\n",
    "session.close()\n",
    "driver.close()"
   ]
  },
  {
   "cell_type": "markdown",
   "metadata": {},
   "source": [
    "### Italian tracks abroad\n",
    "\n",
    "#### How many tracks from italian artist are present in a Top 100 of a different Country (grafico barre)"
   ]
  },
  {
   "cell_type": "code",
   "execution_count": 13,
   "metadata": {},
   "outputs": [
    {
     "name": "stdout",
     "output_type": "stream",
     "text": [
      "Year: 2017\n",
      "numItalianTracks: 24\n",
      "\n",
      "Year: 2018\n",
      "numItalianTracks: 39\n",
      "\n",
      "Year: 2019\n",
      "numItalianTracks: 34\n",
      "\n",
      "Year: 2020\n",
      "numItalianTracks: 37\n",
      "\n"
     ]
    }
   ],
   "source": [
    "#How many tracks from italian artist are present in a Top 100 of a different Country (grafico barre)\n",
    "# connect to the DB\n",
    "driver = GraphDatabase.driver(params.uri, auth=(params.user, params.dbpsw))\n",
    "# create a session\n",
    "session = driver.session()\n",
    "\n",
    "result = session.run(\"\"\"\n",
    "    MATCH (c1:Country{id:\"IT\"})<-[:hasNationality]-(p:Person)-[:isMemberOf]->(a:Artist)-[:partecipateIn]->(t:Track)-[:isPositionedIn]->(ch:Chart)-[:isReferredTo]->(c2:Country)\n",
    "    WHERE c2.id<>\"IT\"\n",
    "    WITH ch.date.year AS year, COUNT(DISTINCT t) AS numItalianTracks\n",
    "    RETURN year,numItalianTracks\n",
    "    ORDER BY year\n",
    "\"\"\")\n",
    "\n",
    "for r in result:\n",
    "    returnedData = r.values()\n",
    "    print(\"Year: {}\".format(returnedData[0]))\n",
    "    print(\"numItalianTracks: {}\".format(returnedData[1]))\n",
    "    print(\"\")\n",
    "session.close()\n",
    "driver.close()"
   ]
  },
  {
   "cell_type": "markdown",
   "metadata": {},
   "source": [
    "#### Show the top 5 countries that listen the most to italiang tracks (show Names and numbers)"
   ]
  },
  {
   "cell_type": "code",
   "execution_count": 15,
   "metadata": {},
   "outputs": [
    {
     "name": "stdout",
     "output_type": "stream",
     "text": [
      "Chart: TOP 100 Denmark\n",
      "numItalianTracks: 51\n",
      "\n",
      "Chart: TOP 100 Switzerland\n",
      "numItalianTracks: 26\n",
      "\n",
      "Chart: TOP 100 Norway\n",
      "numItalianTracks: 17\n",
      "\n",
      "Chart: TOP 100 Austria\n",
      "numItalianTracks: 10\n",
      "\n",
      "Chart: TOP 100 France\n",
      "numItalianTracks: 10\n",
      "\n"
     ]
    }
   ],
   "source": [
    "#How many tracks from italian artist are present in a Top 100 of a different Country (grafico barre)\n",
    "# connect to the DB\n",
    "driver = GraphDatabase.driver(params.uri, auth=(params.user, params.dbpsw))\n",
    "# create a session\n",
    "session = driver.session()\n",
    "\n",
    "result = session.run(\"\"\"\n",
    "    MATCH (c1:Country{id:\"IT\"})<-[:hasNationality]-(p:Person)-[:isMemberOf]->(a:Artist)-[:partecipateIn]->(t:Track)-[:isPositionedIn]->(ch:Chart)-[:isReferredTo]->(c2:Country)\n",
    "    WHERE c2.id<>\"IT\"\n",
    "    RETURN ch.name, COUNT(DISTINCT t) AS numItalianTracks\n",
    "    ORDER BY numItalianTracks DESC\n",
    "    LIMIT 5\n",
    "\"\"\")\n",
    "\n",
    "for r in result:\n",
    "    returnedData = r.values()\n",
    "    print(\"Chart: {}\".format(returnedData[0]))\n",
    "    print(\"numItalianTracks: {}\".format(returnedData[1]))\n",
    "    print(\"\")\n",
    "session.close()\n",
    "driver.close()"
   ]
  },
  {
   "cell_type": "markdown",
   "metadata": {},
   "source": [
    "#### Who is the artist present in the highest number of different countries"
   ]
  },
  {
   "cell_type": "code",
   "execution_count": 18,
   "metadata": {},
   "outputs": [
    {
     "name": "stdout",
     "output_type": "stream",
     "text": [
      "Artist: Gigi D'Agostino\n",
      "numCountries: 30\n",
      "Countries: ['TOP 100 Brazil', 'TOP 100 Poland', 'TOP 100 Switzerland', 'TOP 100 Belgium', 'TOP 100 Norway', 'TOP 100 Australia', 'TOP 100 Taiwan', 'TOP 100 Mexico', 'TOP 100 Germany', 'TOP 100 Ireland', 'TOP 100 Singapore', 'TOP 100 Sweden', 'TOP 100 Finland', 'TOP 100 USA', 'TOP 100 Portugal', 'TOP 100 France', 'TOP 100 Austria', 'TOP 100 New Zealand', 'TOP 100 UK', 'TOP 100 Malaysia', 'TOP 100 Netherlands', 'TOP 100 Spain', 'TOP 100 Turkey', 'TOP 100 Canada', 'TOP 100 Philippines', 'TOP 100 Denmark', 'TOP 100 Indonesia', 'TOP 100 Costa Rica', 'TOP 100 Ecuador', 'TOP 100 Colombia']\n",
      "\n"
     ]
    }
   ],
   "source": [
    "# Who is the artist present in the highest number of different countries\n",
    "# connect to the DB\n",
    "driver = GraphDatabase.driver(params.uri, auth=(params.user, params.dbpsw))\n",
    "# create a session\n",
    "session = driver.session()\n",
    "\n",
    "result = session.run(\"\"\"\n",
    "    MATCH (c1:Country{id:\"IT\"})<-[:hasNationality]-(p:Person)-[:isMemberOf]->(a:Artist)-[:partecipateIn]->(t:Track)-[:isPositionedIn]->(ch:Chart)-[:isReferredTo]->(c2:Country)\n",
    "    WHERE c2.id<>\"IT\"\n",
    "    RETURN a, COUNT(DISTINCT c2) AS numCountries, COLLECT(DISTINCT ch.name) AS charts\n",
    "    ORDER BY numCountries DESC\n",
    "    LIMIT 1\n",
    "\"\"\")\n",
    "\n",
    "for r in result:\n",
    "    returnedData = r.values()\n",
    "    print(\"Artist: {}\".format(returnedData[0][\"name\"]))\n",
    "    print(\"numCountries: {}\".format(returnedData[1]))\n",
    "    print(\"Countries: {}\".format(returnedData[2]))\n",
    "    print(\"\")\n",
    "session.close()\n",
    "driver.close()"
   ]
  },
  {
   "cell_type": "markdown",
   "metadata": {},
   "source": [
    "Who is the artist with more tracks present in a Top 100 of a different Country (show Name)"
   ]
  },
  {
   "cell_type": "code",
   "execution_count": 19,
   "metadata": {},
   "outputs": [
    {
     "name": "stdout",
     "output_type": "stream",
     "text": [
      "Artist: NODE\n",
      "numItalianTracks: 46\n",
      "\n",
      "Artist: Sfera Ebbasta\n",
      "numItalianTracks: 11\n",
      "\n",
      "Artist: Morgan Sulele\n",
      "numItalianTracks: 8\n",
      "\n",
      "Artist: Mahmood\n",
      "numItalianTracks: 3\n",
      "\n",
      "Artist: Muti\n",
      "numItalianTracks: 3\n",
      "\n"
     ]
    }
   ],
   "source": [
    "# Who is the artist with more tracks present in a Top 100 of a different Country (show Name)\n",
    "\n",
    "# connect to the DB\n",
    "driver = GraphDatabase.driver(params.uri, auth=(params.user, params.dbpsw))\n",
    "# create a session\n",
    "session = driver.session()\n",
    "\n",
    "result = session.run(\"\"\"\n",
    "MATCH (c1:Country{id:\"IT\"})<-[:hasNationality]-(p:Person)-[:isMemberOf]->(a:Artist)-[:partecipateIn]->(t:Track)-[:isPositionedIn]->(ch:Chart)-[:isReferredTo]->(c2:Country)\n",
    "WHERE c2.id<>\"IT\"\n",
    "RETURN a, COUNT(DISTINCT t) AS numTracks\n",
    "ORDER BY numTracks DESC\n",
    "LIMIT 5\n",
    "\"\"\")\n",
    "\n",
    "for r in result:\n",
    "    returnedData = r.values()\n",
    "    print(\"Artist: {}\".format(returnedData[0][\"name\"]))\n",
    "    print(\"numItalianTracks: {}\".format(returnedData[1]))\n",
    "    print(\"\")\n",
    "session.close()\n",
    "driver.close()"
   ]
  },
  {
   "cell_type": "code",
   "execution_count": null,
   "metadata": {},
   "outputs": [],
   "source": [
    "# Who is the artist with more tracks present in a Top 100 of a different Country (show Name)\n",
    "\n",
    "# connect to the DB\n",
    "driver = GraphDatabase.driver(params.uri, auth=(params.user, params.dbpsw))\n",
    "# create a session\n",
    "session = driver.session()\n",
    "\n",
    "result = session.run(\"\"\"\n",
    "    MATCH (c1:Country{id:\"IT\"})<-[:hasNationality]-(p:Person)-[:isMemberOf]->(a:Artist{name:\"NODE\"})-[:partecipateIn]->(t:Track)-[:isPositionedIn]->(ch:Chart)-[:isReferredTo]->(c2:Country)\n",
    "    WHERE c2.id<>\"IT\"\n",
    "    RETURN a.name,ch.name, COUNT(DISTINCT t) AS numItalianTracks\n",
    "    ORDER BY numItalianTracks DESC\n",
    "\"\"\")\n",
    "\n",
    "for r in result:\n",
    "    returnedData = r.values()\n",
    "    print(\"Artist: {}\".format(returnedData[0][\"name\"]))\n",
    "    print(\"numItalianTracks: {}\".format(returnedData[1]))\n",
    "    print(\"\")\n",
    "session.close()\n",
    "driver.close()\n",
    "\n",
    "\n"
   ]
  }
 ],
 "metadata": {
  "kernelspec": {
   "display_name": "Python 3",
   "language": "python",
   "name": "python3"
  },
  "language_info": {
   "codemirror_mode": {
    "name": "ipython",
    "version": 3
   },
   "file_extension": ".py",
   "mimetype": "text/x-python",
   "name": "python",
   "nbconvert_exporter": "python",
   "pygments_lexer": "ipython3",
   "version": "3.9.8"
  }
 },
 "nbformat": 4,
 "nbformat_minor": 2
}
