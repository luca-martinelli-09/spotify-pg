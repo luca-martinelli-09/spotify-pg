{
 "cells": [
  {
   "cell_type": "markdown",
   "metadata": {},
   "source": [
    "## Spotify Query\n",
    "\n",
    "In this notebook we perform some query on our property graph about Spotify. In particular the queries will be divided into three parts:\n",
    "1. ***Example queries***: we perform two example queries where we show how it is possibile to use the new added information such as *record label* and *instruments*\n",
    "1. ***Italian tracks and Italian artists from 2017 to 2020:*** we perfom some queries about italian tracks and artists present in the TOP 100 Italy.\n",
    "1. ***Italian tracks abroad:*** we want to discover if italian tracks are listened also outside Italy."
   ]
  },
  {
   "cell_type": "code",
   "execution_count": null,
   "metadata": {},
   "outputs": [],
   "source": [
    "# required libraries\n",
    "import pandas as pd\n",
    "import os\n",
    "from pathlib import Path\n",
    "import datetime"
   ]
  },
  {
   "cell_type": "markdown",
   "metadata": {},
   "source": [
    "### Connection to Neo4j"
   ]
  },
  {
   "cell_type": "code",
   "execution_count": null,
   "metadata": {},
   "outputs": [],
   "source": [
    "# Neo4J params class\n",
    "class Neo4jParams:\n",
    "  def __init__(self, user, psw,dbname,db_psw,uri):\n",
    "    self.user = user\n",
    "    self.psw = psw\n",
    "    self.dbname = dbname\n",
    "    self.dbpsw = dbpsw\n",
    "    self.uri = uri"
   ]
  },
  {
   "cell_type": "code",
   "execution_count": null,
   "metadata": {},
   "outputs": [],
   "source": [
    "#DB parameters\n",
    "user=\"neo4j\"\n",
    "psw=\"neo4j\"\n",
    "dbname=\"SpotifyDB\"\n",
    "dbpsw=\"SpotifyDB\"\n",
    "uri = \"bolt://localhost:7687\"\n",
    "\n",
    "params = Neo4jParams(user,psw,dbname,dbpsw,uri)"
   ]
  },
  {
   "cell_type": "code",
   "execution_count": null,
   "metadata": {},
   "outputs": [],
   "source": [
    "from neo4j import GraphDatabase\n",
    "\n",
    "# test class\n",
    "\n",
    "class Driver:\n",
    "\n",
    "    def __init__(self, uri, user, password):\n",
    "        self.driver = GraphDatabase.driver(uri, auth=(user, password))\n",
    "\n",
    "    def close(self):\n",
    "        self.driver.close()\n",
    "\n",
    "    def print_greeting(self, message):\n",
    "        with self.driver.session() as session:\n",
    "            greeting = session.write_transaction(self._create_and_return_greeting, message)\n",
    "            print(greeting)\n",
    "\n",
    "    @staticmethod\n",
    "    def _create_and_return_greeting(tx, message):\n",
    "        result = tx.run(\"CREATE (a:Greeting) \"\n",
    "                        \"SET a.message = $message \"\n",
    "                        \"RETURN a.message + ', from node ' + id(a)\", message=message)\n",
    "        return result.single()[0]\n",
    "\n",
    "\n",
    "if __name__ == \"__main__\":\n",
    "    greeter = Driver(\"bolt://localhost:7687\", \"neo4j\", \"SpotifyDB\")\n",
    "    greeter.print_greeting(\"hello, world\")\n",
    "    greeter.close()"
   ]
  },
  {
   "cell_type": "markdown",
   "metadata": {},
   "source": [
    "## Queries\n",
    "\n",
    "#### Example query\n",
    "1. Show artists of the same discographic house\n",
    "\n",
    "2. Show the most common played instrument in rock groups\n",
    "\n",
    "#### Italian tracks and Italian artists from 2017 to 2020\n",
    "1. On average how many tracks from italian artists are present in Top 100 for each year. (Grafico a barre)\n",
    "\n",
    "1. Who is the Artist with the highest number of tracks present in Top 100 Italy for each year. (Nomi degli artisti)\n",
    "\n",
    "1. How many different italian artist enter at least once in Top 100 Italy for each Year (Grafico a barre)\n",
    "\n",
    "1. On average how many tracks from italian artists through the different months (Grafico a linea)\n",
    "\n",
    "1. Show the top 3 artists with more tracks in Top 100 at the same time (nomi artisti)\n",
    "\n",
    "#### Italian tracks abroad\n",
    "1. How many tracks from italian artist are present in a Top 100 of a different Country (grafico barre)\n",
    "\n",
    "1. Show the top 3 countries that listen the most to italiang tracks (show Names and numbers)\n",
    "\n",
    "1. Who is the artist with more tracks ppresent in a Top 100 of a different Country (show Name)"
   ]
  },
  {
   "cell_type": "markdown",
   "metadata": {},
   "source": [
    "### Example Queries\n",
    "\n",
    "#### Query 1 \n",
    "\n",
    "#### Query 2"
   ]
  },
  {
   "cell_type": "markdown",
   "metadata": {},
   "source": [
    "### Italian Tracks and Italian Artists\n",
    "\n",
    "#### On average how many tracks from italian artists are present in Top 100 for each year. (Grafico a barre)"
   ]
  },
  {
   "cell_type": "code",
   "execution_count": null,
   "metadata": {},
   "outputs": [],
   "source": [
    "# On average how many tracks from italian artists are present in Top 100 for each year. (Grafico a barre)\n",
    "\n",
    "# connect to the DB\n",
    "driver = GraphDatabase.driver(params.uri, auth=(params.user, params.dbpsw))\n",
    "# create a session\n",
    "session = driver.session()\n",
    "\n",
    "result = session.run(\"\"\"\n",
    "    MATCH (c1:Country{id:\"IT\"})<-[:hasNationality]-(p:Person)-[:isMemberOf]->(a:Artist)-[:partecipateIn]->(t:Track)-[:isPositionedIn]->(ch:Chart)-[:isReferredTo]->(c2:Country{id:\"IT\"})\n",
    "    WITH ch,ch.date.year AS year, COUNT(DISTINCT t) as numTracks\n",
    "    RETURN year,avg(numTracks)\n",
    "    ORDER BY year\n",
    "\"\"\")\n",
    "\n",
    "for r in result:\n",
    "    returnedData = r.values()\n",
    "    print(\"Year: {}\".format(returnedData[0]))\n",
    "    print(\"avgNumItalianTracks: {}\".format(returnedData[1]))\n",
    "    print(\"\")\n",
    "\n",
    "session.close()\n",
    "driver.close()"
   ]
  },
  {
   "cell_type": "markdown",
   "metadata": {},
   "source": [
    "#### How many tracks were released in Italy from 2017 to 2020"
   ]
  },
  {
   "cell_type": "code",
   "execution_count": null,
   "metadata": {},
   "outputs": [],
   "source": [
    "# How many tracks were produced in Italy from 2017 to 2020\n",
    "\n",
    "# connect to the DB\n",
    "driver = GraphDatabase.driver(params.uri, auth=(params.user, params.dbpsw))\n",
    "# create a session\n",
    "session = driver.session()\n",
    "\n",
    "result = session.run(\"\"\"\n",
    "    MATCH (c1:Country{id:\"IT\"})<-[:hasNationality]-(p:Person)-[:isMemberOf]->(a:Artist)-[:partecipateIn]->(t:Track)-[:isPartOf]->(alb:Album)\n",
    "    WHERE alb.releaseDate.year >= 2017\n",
    "    WITH alb.releaseDate.year AS year, COUNT(DISTINCT t) as numTracks\n",
    "    RETURN year,numTracks\n",
    "    ORDER BY year\n",
    "\"\"\")\n",
    "\n",
    "for r in result:\n",
    "    returnedData = r.values()\n",
    "    print(\"Year: {}\".format(returnedData[0]))\n",
    "    print(\"numItalianTracks: {}\".format(returnedData[1]))\n",
    "    print(\"\")\n",
    "\n",
    "session.close()\n",
    "driver.close()\n"
   ]
  },
  {
   "cell_type": "markdown",
   "metadata": {},
   "source": [
    "#### How many different italian artist enter at least once in Top 100 Italy for each Year (Grafico a barre)"
   ]
  },
  {
   "cell_type": "code",
   "execution_count": null,
   "metadata": {},
   "outputs": [],
   "source": [
    "# How many different italian artist enter at least once in Top 100 Italy for each Year \n",
    "\n",
    "# connect to the DB\n",
    "driver = GraphDatabase.driver(params.uri, auth=(params.user, params.dbpsw))\n",
    "# create a session\n",
    "session = driver.session()\n",
    "\n",
    "result = session.run(\"\"\"\n",
    "    MATCH (c1:Country{id:\"IT\"})<-[:hasNationality]-(p:Person)-[:isMemberOf]->(a:Artist)-[:partecipateIn]->(t:Track)-[:isPositionedIn]->(ch:Chart)-[:isReferredTo]->(c2:Country{id:\"IT\"})\n",
    "    WITH ch.date.year AS year, COUNT(DISTINCT a) as numArtists\n",
    "    RETURN year,numArtists\n",
    "    ORDER BY year\n",
    "\"\"\")\n",
    "\n",
    "for r in result:\n",
    "    returnedData = r.values()\n",
    "    print(\"Year: {}\".format(returnedData[0]))\n",
    "    print(\"numItalianArtist: {}\".format(returnedData[1]))\n",
    "    print(\"\")\n",
    "\n",
    "session.close()\n",
    "driver.close()\n"
   ]
  },
  {
   "cell_type": "markdown",
   "metadata": {},
   "source": [
    "#### Ratio between #numItalianTracks / #numItalianArtist "
   ]
  },
  {
   "cell_type": "code",
   "execution_count": null,
   "metadata": {},
   "outputs": [],
   "source": [
    "years = [2017,2018,2019,2020]\n",
    "numItalianTracks = [171,324,330,310]\n",
    "numItalianArtists = [75,99,112,125]\n",
    "\n",
    "for i in range(0,len(years)):\n",
    "    print(\"Year: {}\".format(years[i]))\n",
    "    print(\"Ratio: {:.2f}\".format(numItalianTracks[i]/numItalianArtists[i]))\n",
    "    print(\"\")"
   ]
  },
  {
   "cell_type": "markdown",
   "metadata": {},
   "source": [
    "#### On average how many tracks from italian artists through the different months (Grafico a linea)"
   ]
  },
  {
   "cell_type": "code",
   "execution_count": null,
   "metadata": {},
   "outputs": [],
   "source": [
    "# How many different italian artist enter at least once in Top 100 Italy for each Year \n",
    "\n",
    "# connect to the DB\n",
    "driver = GraphDatabase.driver(params.uri, auth=(params.user, params.dbpsw))\n",
    "# create a session\n",
    "session = driver.session()\n",
    "\n",
    "result = session.run(\"\"\"\n",
    "    MATCH (c1:Country{id:\"IT\"})<-[:hasNationality]-(p:Person)-[:isMemberOf]->(a:Artist)-[:partecipateIn]->(t:Track)-[:isPositionedIn]->(ch:Chart)-[:isReferredTo]->(c2:Country{id:\"IT\"})\n",
    "    WITH ch,ch.date.month AS month, COUNT(DISTINCT t) as numTracks\n",
    "    RETURN month,avg(numTracks)\n",
    "    ORDER BY month\n",
    "\"\"\")\n",
    "\n",
    "for r in result:\n",
    "    returnedData = r.values()\n",
    "    print(\"Year: {}\".format(returnedData[0]))\n",
    "    print(\"numItalianArtist: {}\".format(returnedData[1]))\n",
    "    print(\"\")\n",
    "\n",
    "session.close()\n",
    "driver.close()\n"
   ]
  },
  {
   "cell_type": "markdown",
   "metadata": {},
   "source": [
    "#### Who is the Artist with the highest number of tracks present in Top 100 Italy for each year. (Nomi degli artisti)\n"
   ]
  },
  {
   "cell_type": "code",
   "execution_count": null,
   "metadata": {},
   "outputs": [],
   "source": [
    "# Who is the Artist with the highest number of tracks present in Top 100 Italy for each year. (Nomi degli artisti)\n"
   ]
  },
  {
   "cell_type": "markdown",
   "metadata": {},
   "source": [
    "#### Who is the Artist with the highest number of tracks present in Top 100 Italy for each year. (Nomi degli artisti)"
   ]
  },
  {
   "cell_type": "code",
   "execution_count": null,
   "metadata": {},
   "outputs": [],
   "source": [
    "# Show the top 3 artists with more tracks in Top 100 at the same time (nomi artisti)\n",
    "\n",
    "# connect to the DB\n",
    "driver = GraphDatabase.driver(params.uri, auth=(params.user, params.dbpsw))\n",
    "# create a session\n",
    "session = driver.session()\n",
    "\n",
    "result = session.run(\"\"\"\n",
    "MATCH (c1:Country{id:\"IT\"})<-[:hasNationality]-(p:Person)-[:isMemberOf]->(a:Artist)-[:partecipateIn]->(t:Track)-[:isPositionedIn]->(ch:Chart)-[:isReferredTo]->(c2:Country{id:\"IT\"})\n",
    "WITH a,ch, COUNT(DISTINCT t) as numTracks\n",
    "ORDER BY numTracks DESC\n",
    "LIMIT 3\n",
    "RETURN a,ch,numTracks\n",
    "\"\"\")\n",
    "\n",
    "for r in result:\n",
    "    returnedData = r.values()\n",
    "    print(\"Artist: {}\".format(returnedData[0][\"name\"]))\n",
    "    print(\"Chart: {}\".format(returnedData[1][\"id\"]))\n",
    "    print(\"numTracks: {}\".format(returnedData[2]))\n",
    "    print(\"\")\n",
    "session.close()\n",
    "driver.close()\n",
    "\n"
   ]
  },
  {
   "cell_type": "markdown",
   "metadata": {},
   "source": [
    "### Italian tracks abroad\n",
    "\n",
    "#### How many tracks from italian artist are present in a Top 100 of a different Country (grafico barre)"
   ]
  },
  {
   "cell_type": "code",
   "execution_count": null,
   "metadata": {},
   "outputs": [],
   "source": [
    "#How many tracks from italian artist are present in a Top 100 of a different Country (grafico barre)\n",
    "\"\"\"\n",
    "MATCH (c1:Country)<-[:hasNationality]-(p:Person)-[:isMemberOf]->(a:Artist)-[:partecipateIn]->(t:Track)-[:isPositionedIn]->(c:Chart)-[:isReferredTo]->(c2:Country)\n",
    "WHERE c1.id=\"IT\" AND c2.id<>\"IT\"\n",
    "RETURN a,t,c,c2\n",
    "\"\"\""
   ]
  }
 ],
 "metadata": {
  "kernelspec": {
   "display_name": "Python 3",
   "language": "python",
   "name": "python3"
  },
  "language_info": {
   "codemirror_mode": {
    "name": "ipython",
    "version": 3
   },
   "file_extension": ".py",
   "mimetype": "text/x-python",
   "name": "python",
   "nbconvert_exporter": "python",
   "pygments_lexer": "ipython3",
   "version": "3.9.8"
  }
 },
 "nbformat": 4,
 "nbformat_minor": 2
}
