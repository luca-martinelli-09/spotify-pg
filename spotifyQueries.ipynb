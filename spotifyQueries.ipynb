{
 "cells": [
  {
   "cell_type": "markdown",
   "metadata": {},
   "source": [
    "## Spotify Query\n",
    "\n",
    "In this notebook we perform some query on our property graph about Spotify. In particular the queries will be divided into three parts:\n",
    "1. ***Example queries***: we perform two example queries where we show how it is possibile to use the new added information such as *record label* and *instruments*.\n",
    "1. ***Italian tracks and Italian artists from 2017 to 2020:*** we perfom some queries about italian tracks and artists present in the TOP 100 Italy.\n",
    "1. ***Italian tracks abroad:*** we want to discover if italian tracks are listened also outside Italy."
   ]
  },
  {
   "cell_type": "code",
   "execution_count": 1,
   "metadata": {},
   "outputs": [],
   "source": [
    "# Import required libraries\n",
    "import pandas as pd\n",
    "import calendar\n",
    "import numpy as np\n",
    "import matplotlib.pyplot as plt\n",
    "import os"
   ]
  },
  {
   "cell_type": "markdown",
   "metadata": {},
   "source": [
    "### Connection to Neo4j"
   ]
  },
  {
   "cell_type": "code",
   "execution_count": 2,
   "metadata": {},
   "outputs": [],
   "source": [
    "# Neo4J params class\n",
    "class Neo4jParams:\n",
    "  def __init__(self, user, psw,dbname,db_psw,uri):\n",
    "    self.user = user\n",
    "    self.psw = psw\n",
    "    self.dbname = dbname\n",
    "    self.dbpsw = dbpsw\n",
    "    self.uri = uri"
   ]
  },
  {
   "cell_type": "code",
   "execution_count": 3,
   "metadata": {},
   "outputs": [],
   "source": [
    "#DB parameters\n",
    "user = \"neo4j\"\n",
    "psw = \"neo4j\"\n",
    "dbname = \"SpotifyDB\"\n",
    "dbpsw = \"SpotifyDB\"\n",
    "uri = \"bolt://localhost:7687\"\n",
    "\n",
    "params = Neo4jParams(user,psw,dbname,dbpsw,uri)"
   ]
  },
  {
   "cell_type": "code",
   "execution_count": 4,
   "metadata": {},
   "outputs": [
    {
     "name": "stdout",
     "output_type": "stream",
     "text": [
      "hello, world, from node 70334\n"
     ]
    }
   ],
   "source": [
    "from neo4j import GraphDatabase\n",
    "\n",
    "# Test class\n",
    "class Driver:\n",
    "\n",
    "    def __init__(self, uri, user, password):\n",
    "        self.driver = GraphDatabase.driver(uri, auth=(user, password))\n",
    "\n",
    "    def close(self):\n",
    "        self.driver.close()\n",
    "\n",
    "    def print_greeting(self, message):\n",
    "        with self.driver.session() as session:\n",
    "            greeting = session.write_transaction(self._create_and_return_greeting, message)\n",
    "            print(greeting)\n",
    "\n",
    "    @staticmethod\n",
    "    def _create_and_return_greeting(tx, message):\n",
    "        result = tx.run(\"CREATE (a:Greeting) \"\n",
    "                        \"SET a.message = $message \"\n",
    "                        \"RETURN a.message + ', from node ' + id(a)\", message=message)\n",
    "        return result.single()[0]\n",
    "\n",
    "\n",
    "if __name__ == \"__main__\":\n",
    "    greeter = Driver(\"bolt://localhost:7687\", \"neo4j\", \"SpotifyDB\")\n",
    "    greeter.print_greeting(\"hello, world\")\n",
    "    greeter.close()"
   ]
  },
  {
   "cell_type": "markdown",
   "metadata": {},
   "source": [
    "## Plot utilities"
   ]
  },
  {
   "cell_type": "code",
   "execution_count": 5,
   "metadata": {},
   "outputs": [],
   "source": [
    "TITLE_PAD = 30\n",
    "TITLE_DIM = 30\n",
    "XY_LABEL_PAD = 23\n",
    "XY_LABEL_DIM = 21\n",
    "XY_TICKS_DIM = 18\n",
    "GRID_ALPHA = 0.2\n",
    "FILL_ALPHA = 0.05\n",
    "BAR_WIDTH = 0.95\n",
    "LEGEND_LOC = \"upper left\"\n",
    "LEGEND_LABEL_DIM = 15\n",
    "COLOR_SCHEME = [\"#1DB954\", \"#22577A\", \"#A03C78\", \"#C67ACE\"]\n",
    "\n",
    "FIG_SIZE = (18, 8)\n",
    "FIG_BG_COLOR = None # \"w\"\n",
    "FIG_DPI = 500\n",
    "FIG_BBOX = \"tight\"\n",
    "FIG_PAD = .3\n",
    "FIG_FORMATS = [\"png\", \"pdf\"]\n"
   ]
  },
  {
   "cell_type": "code",
   "execution_count": 6,
   "metadata": {},
   "outputs": [],
   "source": [
    "def plotResults(title=None, x=[], yArr=[],\n",
    "                xLabel=None, xTicks=None, xTicksPosition=None, xTicksRotation=0,\n",
    "                yLim=None, yLabel=None, yTicks=None, yTicksPosition=None, yTicksRotation=0,\n",
    "                legend=None, legendLocation=LEGEND_LOC,\n",
    "                style=\"line\", showGrid=False, gridAxis=\"both\", fillPlot=False,\n",
    "                figSize=FIG_SIZE, saveTitle=None):\n",
    "\n",
    "    plt.figure(figsize=figSize, facecolor=FIG_BG_COLOR)\n",
    "\n",
    "    maxY = None\n",
    "    minY = None\n",
    "\n",
    "    numPlots = len(yArr)\n",
    "    for i, y in zip(range(numPlots), yArr):\n",
    "        label = None\n",
    "        try:\n",
    "            label = legend[i]\n",
    "        except:\n",
    "            pass\n",
    "\n",
    "        yNum = [float(yVal) for yVal in y]\n",
    "        maxY = np.max(\n",
    "            [np.max(yNum), maxY]\n",
    "        ) if not maxY is None else np.max(yNum)\n",
    "        minY = np.min(\n",
    "            [np.min(yNum), minY]\n",
    "        ) if not minY is None else np.min(yNum)\n",
    "\n",
    "        if style == \"line\":\n",
    "            plt.plot(x, yNum, label=label, color=COLOR_SCHEME[i])\n",
    "\n",
    "            if fillPlot:\n",
    "                plt.fill_between(x, yNum, alpha=FILL_ALPHA,\n",
    "                                 facecolor=COLOR_SCHEME[i])\n",
    "\n",
    "        elif style == \"bar\":\n",
    "            barWidth = BAR_WIDTH / numPlots\n",
    "            xOffset = -BAR_WIDTH / 2 + barWidth / 2 + barWidth * i\n",
    "            plt.bar(x + xOffset, yNum, width=barWidth,\n",
    "                    label=label, align=\"center\", color=COLOR_SCHEME[i])\n",
    "\n",
    "        elif style == \"polar\":\n",
    "            x = np.linspace(0, 2 * np.pi, len(yNum) + 1, endpoint=True)\n",
    "            yNum.append(yNum[0])\n",
    "            plt.polar(x, yNum, label=label, color=COLOR_SCHEME[i])\n",
    "\n",
    "            if fillPlot:\n",
    "                plt.fill(x, yNum, alpha=FILL_ALPHA,\n",
    "                         facecolor=COLOR_SCHEME[i])\n",
    "\n",
    "        elif style == \"boxplot\":\n",
    "            lineWidth = 1.5\n",
    "\n",
    "            if fillPlot:\n",
    "                plt.boxplot(yNum,\n",
    "                            positions=[i],\n",
    "                            notch=True,\n",
    "                            widths=[1 / numPlots],\n",
    "                            patch_artist=True,\n",
    "                            showcaps=False,\n",
    "                            showfliers=False,\n",
    "                            showmeans=False,\n",
    "                            boxprops=dict(\n",
    "                                facecolor=COLOR_SCHEME[i],\n",
    "                                alpha=FILL_ALPHA,\n",
    "                            ),\n",
    "                            )\n",
    "\n",
    "            plt.boxplot(yNum,\n",
    "                        positions=[i],\n",
    "                        notch=True,\n",
    "                        widths=[1 / numPlots],\n",
    "                        boxprops=dict(\n",
    "                            color=COLOR_SCHEME[i],\n",
    "                            linewidth=lineWidth,\n",
    "                        ),\n",
    "                        capprops=dict(\n",
    "                            color=COLOR_SCHEME[i],\n",
    "                            linewidth=lineWidth,\n",
    "                        ),\n",
    "                        whiskerprops=dict(\n",
    "                            color=COLOR_SCHEME[i],\n",
    "                            linewidth=lineWidth,\n",
    "                        ),\n",
    "                        flierprops=dict(\n",
    "                            color=COLOR_SCHEME[i],\n",
    "                            markeredgecolor=COLOR_SCHEME[i],\n",
    "                            markerfacecolor=COLOR_SCHEME[i],\n",
    "                        ),\n",
    "                        medianprops=dict(\n",
    "                            color=COLOR_SCHEME[i],\n",
    "                            linewidth=lineWidth,\n",
    "                        ),\n",
    "                        )\n",
    "\n",
    "    if not xLabel is None:\n",
    "        plt.xlabel(xLabel, labelpad=XY_LABEL_PAD, fontsize=XY_LABEL_DIM)\n",
    "\n",
    "    if not yLabel is None:\n",
    "        plt.ylabel(yLabel, labelpad=XY_LABEL_PAD, fontsize=XY_LABEL_DIM)\n",
    "\n",
    "    if not xTicks is None:\n",
    "        if not xTicksPosition:\n",
    "            xTicksPosition = x if style != \"boxplot\" else np.arange(\n",
    "                0, numPlots)\n",
    "\n",
    "            if style == \"polar\":\n",
    "                xTicks.append(xTicks[0])\n",
    "\n",
    "        plt.xticks(xTicksPosition, xTicks, fontsize=XY_TICKS_DIM,\n",
    "                   rotation=xTicksRotation)\n",
    "    else:\n",
    "        plt.xticks(fontsize=XY_TICKS_DIM, rotation=xTicksRotation)\n",
    "\n",
    "    if not yTicks is None and not yTicksPosition is None:\n",
    "        plt.yticks(yTicksPosition, yTicks, fontsize=XY_TICKS_DIM,\n",
    "                   rotation=yTicksRotation)\n",
    "    elif not yTicksPosition is None:\n",
    "        plt.yticks(yTicksPosition, fontsize=XY_TICKS_DIM,\n",
    "                   rotation=yTicksRotation)\n",
    "    else:\n",
    "        plt.yticks(fontsize=XY_TICKS_DIM, rotation=yTicksRotation)\n",
    "\n",
    "    if yLim is None:\n",
    "        yPad = (maxY - minY) * 0.1\n",
    "        topLim = maxY + yPad * 2\n",
    "        infLim = minY - yPad if style == \"bar\" else minY - yPad\n",
    "        infLim = 0 if style == \"bar\" and minY >= 0 and minY <= yPad else infLim\n",
    "        infLim = minY if style == \"polar\" else infLim\n",
    "        plt.ylim(top=topLim, bottom=infLim)\n",
    "    else:\n",
    "        plt.ylim(top=yLim[1], bottom=yLim[0])\n",
    "\n",
    "    if showGrid:\n",
    "        plt.grid(alpha=GRID_ALPHA, axis=gridAxis)\n",
    "\n",
    "    if not legend is None:\n",
    "        plt.legend(loc=legendLocation, fontsize=LEGEND_LABEL_DIM)\n",
    "\n",
    "    if not saveTitle is None:\n",
    "        baseDir = \"plots\"\n",
    "        if not os.path.exists(baseDir):\n",
    "            os.mkdir(\"plots\")\n",
    "\n",
    "        for figFormat in FIG_FORMATS:\n",
    "            saveDir = baseDir + \"/\" + figFormat\n",
    "            if not os.path.exists(saveDir):\n",
    "                os.mkdir(saveDir)\n",
    "\n",
    "            plt.savefig(saveDir + \"/\" + saveTitle + \".\" + figFormat,\n",
    "                        facecolor=FIG_BG_COLOR,\n",
    "                        dpi=FIG_DPI,\n",
    "                        bbox_inches=FIG_BBOX,\n",
    "                        pad_inches=FIG_PAD)\n",
    "\n",
    "    if not title is None:\n",
    "        plt.title(title, fontsize=TITLE_DIM, pad=TITLE_PAD)\n",
    "\n",
    "    plt.show()"
   ]
  },
  {
   "cell_type": "markdown",
   "metadata": {},
   "source": [
    "### Example Queries\n",
    "\n",
    "##### Q1: Considering only records labels with more than 20 artists, show the top 10 record labels according to the averare position of the tracks released by artists of that specifc record label."
   ]
  },
  {
   "cell_type": "code",
   "execution_count": 26,
   "metadata": {},
   "outputs": [
    {
     "name": "stdout",
     "output_type": "stream",
     "text": [
      "Record Label: Virgin Records\n",
      "Average position of their artist: 45\n",
      "\n",
      "Record Label: Def Jam Recordings\n",
      "Average position of their artist: 46\n",
      "\n",
      "Record Label: Mercury Records\n",
      "Average position of their artist: 46\n",
      "\n",
      "Record Label: Geffen Records\n",
      "Average position of their artist: 46\n",
      "\n",
      "Record Label: Sony Music\n",
      "Average position of their artist: 47\n",
      "\n",
      "Record Label: Spinnin' Records\n",
      "Average position of their artist: 47\n",
      "\n",
      "Record Label: Republic Records\n",
      "Average position of their artist: 48\n",
      "\n",
      "Record Label: Arista\n",
      "Average position of their artist: 48\n",
      "\n",
      "Record Label: Island Records\n",
      "Average position of their artist: 48\n",
      "\n",
      "Record Label: Warner Music Group\n",
      "Average position of their artist: 48\n",
      "\n"
     ]
    }
   ],
   "source": [
    "#Q1: Considering only records labels with more than 20 artists, show the top 10 record labels according to the averare position of the tracks released by artists of that specifc record label\n",
    "# connect to the DB\n",
    "driver = GraphDatabase.driver(params.uri, auth=(params.user, params.dbpsw))\n",
    "# create a session\n",
    "session = driver.session()\n",
    "\n",
    "result = session.run(\"\"\"\n",
    "    MATCH (r:RecordLabel)<-[:hasContractWith]-(a:Artist)\n",
    "    WITH r,COUNT(DISTINCT a) AS numArtists\n",
    "    WHERE numArtists > 20\n",
    "    MATCH (r:RecordLabel)<-[:hasContractWith]-(a:Artist)-[:partecipateIn]->(t:Track)-[pos:isPositionedIn]->(ch:Chart)\n",
    "    RETURN r.name, AVG(pos.position) AS avgPosition\n",
    "    ORDER BY avgPosition\n",
    "    LIMIT 10\n",
    "\"\"\")\n",
    "\n",
    "for r in result:\n",
    "    returnedData = r.values()\n",
    "    print(\"Record Label: {}\".format(returnedData[0]))\n",
    "    print(\"Average position of their artist: {}\".format(int(returnedData[1])))\n",
    "    print(\"\")\n",
    "\n",
    "session.close()\n",
    "driver.close()"
   ]
  },
  {
   "cell_type": "markdown",
   "metadata": {},
   "source": [
    "##### Q2: Show the most common played instrument in rock groups"
   ]
  },
  {
   "cell_type": "code",
   "execution_count": 7,
   "metadata": {},
   "outputs": [
    {
     "name": "stdout",
     "output_type": "stream",
     "text": [
      "Instrument: guitar\n",
      "Num of Artists that play that instrument: 159\n",
      "\n",
      "Instrument: voice\n",
      "Num of Artists that play that instrument: 127\n",
      "\n",
      "Instrument: drum kit\n",
      "Num of Artists that play that instrument: 67\n",
      "\n"
     ]
    }
   ],
   "source": [
    "#Q2: Show the most common played instrument in rock groups\n",
    "\n",
    "# connect to the DB\n",
    "driver = GraphDatabase.driver(params.uri, auth=(params.user, params.dbpsw))\n",
    "# create a session\n",
    "session = driver.session()\n",
    "\n",
    "result = session.run(\"\"\"\n",
    "    MATCH (g:Genre{id:\"rock\"})<-[:hasGenre]-(a:Artist)<-[:isMemberOf]-(p:Person)-[:plays]->(i:Instrument)\n",
    "    RETURN i.name,COUNT(DISTINCT p) AS numPlayed\n",
    "    ORDER BY numPlayed DESC\n",
    "    LIMIT 3\n",
    "\"\"\")\n",
    "\n",
    "for r in result:\n",
    "    returnedData = r.values()\n",
    "    print(\"Instrument: {}\".format(returnedData[0]))\n",
    "    print(\"Num of Artists that play that instrument: {}\".format(returnedData[1]))\n",
    "    print(\"\")\n",
    "\n",
    "\n",
    "session.close()\n",
    "driver.close()\n"
   ]
  },
  {
   "cell_type": "markdown",
   "metadata": {},
   "source": [
    "### Italian Tracks and Italian Artists\n",
    "\n",
    "#### Q3: Show technical features of Italian Tracks in the TOP 100 Italy through the years 2017-2020"
   ]
  },
  {
   "cell_type": "code",
   "execution_count": 8,
   "metadata": {},
   "outputs": [
    {
     "name": "stdout",
     "output_type": "stream",
     "text": [
      "Year: 2020\n",
      "techinalFeatures: [0.5470600040136463, 0.6999897652016858, 0.7034017660044144, 0.5121412803532036, 0.14245645193658418, 0.15680234597631934, 0.15658960465583033, 0.49986502107164443]\n",
      "\n",
      "Year: 2018\n",
      "techinalFeatures: [0.3114881997269344, 0.6979436317534621, 0.6958201677394197, 0.5611468695143378, 0.1338032572654575, 0.17736382484883975, 0.16176762239126202, 0.49709200312073326]\n",
      "\n",
      "Year: 2017\n",
      "techinalFeatures: [0.2871406959152795, 0.6938021180030249, 0.7002263237518914, 0.5655068078668688, 0.13339225416036277, 0.1661202620272316, 0.15527482602117948, 0.4993219969742805]\n",
      "\n",
      "Year: 2019\n",
      "techinalFeatures: [0.4965831435079724, 0.7062225837943364, 0.6745055320533672, 0.5322160754962564, 0.153713342011064, 0.17921301838594167, 0.17685868857793705, 0.5019386755613402]\n",
      "\n"
     ]
    },
    {
     "data": {
      "image/png": "[encoded data removed]",
      "text/plain": [
       "<Figure size 720x720 with 1 Axes>"
      ]
     },
     "metadata": {
      "needs_background": "light"
     },
     "output_type": "display_data"
    }
   ],
   "source": [
    "#Q3: Show technical features of Italian Tracks in the TOP 100 Italy through the years 2017-2020\n",
    "\n",
    "# connect to the DB\n",
    "driver = GraphDatabase.driver(params.uri, auth=(params.user, params.dbpsw))\n",
    "# create a session\n",
    "session = driver.session()\n",
    "\n",
    "result = session.run(\"\"\"\n",
    "    MATCH (c1:Country{id:\"IT\"})<-[:hasNationality]-(p:Person)-[:isMemberOf]->(a:Artist)-[:partecipateIn]->(t:Track)-[:isPositionedIn]->(ch:Chart)-[:isReferredTo]->(c2:Country{id:\"IT\"})\n",
    "    RETURN ch.date.year as year, AVG(toInteger(t.explicit)), AVG(t.danceability), AVG(t.energy), AVG(t.mode), AVG(t.speechiness), AVG(t.acousticness), AVG(t.liveness),AVG(t.valence) \n",
    "\"\"\")\n",
    "\n",
    "# Define lists to contain the results\n",
    "years = []\n",
    "technicalFeaturesByYear = []\n",
    "\n",
    "for r in result:\n",
    "    returnedData = r.values()\n",
    "    years.append(returnedData[0])\n",
    "    \n",
    "    # Retrieve techincal features\n",
    "    technicalFeaturesByYear.append([returnedData[1], returnedData[2], returnedData[3], returnedData[4], returnedData[5], returnedData[6], returnedData[7], returnedData[8]])\n",
    "\n",
    "# Print the results\n",
    "for i in range(0,len(years)):\n",
    "    print(\"Year: {}\".format(years[i]))\n",
    "    print(\"techinalFeatures: {}\".format(technicalFeaturesByYear[i]))\n",
    "    print(\"\")\n",
    "\n",
    "\n",
    "plotResults(\n",
    "    title=\"Techincal Features\",\n",
    "    yArr=technicalFeaturesByYear,\n",
    "    xTicks=[\"explicit\",\"danceability\",\"energy\",\"mode\",\"speechiness\",\"acousticness\",\"liveness\",\"valence\"],\n",
    "    legend=years,\n",
    "    yLim = [0, 0.75],\n",
    "    style=\"polar\",\n",
    "    showGrid=True,\n",
    "    fillPlot=True,\n",
    "    legendLocation=[0, 0.15],\n",
    "    figSize=(10, 10),\n",
    ")\n",
    "\n",
    "session.close()\n",
    "driver.close()"
   ]
  },
  {
   "cell_type": "markdown",
   "metadata": {},
   "source": [
    "#### Q4: Show technical features of tracks in the first 5 positions and in the last 5 positions of the TOP 100 Italy."
   ]
  },
  {
   "cell_type": "code",
   "execution_count": 9,
   "metadata": {},
   "outputs": [
    {
     "name": "stdout",
     "output_type": "stream",
     "text": [
      "techinalFeatures: [0.3273631840796021, 0.7154895522388066, 0.6919741293532335, 0.5343283582089569, 0.11330965174129355, 0.16638589054726388, 0.16531253731343276, 0.5622707462686581]\n",
      "\n",
      "techinalFeatures: [0.4300184162062618, 0.690208103130755, 0.6850110497237573, 0.538674033149172, 0.15206639042357287, 0.1799913001841618, 0.17374033149171259, 0.4830759668508287]\n",
      "\n"
     ]
    },
    {
     "data": {
      "image/png": "[encoded data removed]",
      "text/plain": [
       "<Figure size 720x720 with 1 Axes>"
      ]
     },
     "metadata": {
      "needs_background": "light"
     },
     "output_type": "display_data"
    }
   ],
   "source": [
    "# Q4: Show technical features of tracks in the first 5 positions and in the last 5 positions of the TOP 100 Italy.\n",
    "\n",
    "# connect to the DB\n",
    "driver = GraphDatabase.driver(params.uri, auth=(params.user, params.dbpsw))\n",
    "# create a session\n",
    "session = driver.session()\n",
    "\n",
    "# Define lists to contain the results\n",
    "technicalFeatures = []\n",
    "\n",
    "####### TOP 5 POSITIONS #######\n",
    "result = session.run(\"\"\"\n",
    "    MATCH (t:Track)-[r:isPositionedIn]->(ch:Chart)-[:isReferredTo]->(c2:Country{id:\"IT\"})\n",
    "    WHERE r.position <=5\n",
    "    RETURN AVG(toInteger(t.explicit)), AVG(t.danceability), AVG(t.energy), AVG(t.mode), AVG(t.speechiness), AVG(t.acousticness), AVG(t.liveness), AVG(t.valence) \n",
    "\"\"\")\n",
    "\n",
    "for r in result:\n",
    "    returnedData = r.values()\n",
    "    \n",
    "    # Retrieve techincal features\n",
    "    technicalFeatures.append([returnedData[0], returnedData[1], returnedData[2], returnedData[3], returnedData[4], returnedData[5], returnedData[6], returnedData[7]])\n",
    "\n",
    "print(\"techinalFeatures: {}\".format(technicalFeatures[0]))\n",
    "print(\"\")\n",
    "################################\n",
    "\n",
    "####### LAST 5 POSITIONS #######\n",
    "result = session.run(\"\"\"\n",
    "    MATCH (c1:Country{id:\"IT\"})<-[:hasNationality]-(p:Person)-[:isMemberOf]->(a:Artist)-[:partecipateIn]->(t:Track)-[r:isPositionedIn]->(ch:Chart)-[:isReferredTo]->(c2:Country{id:\"IT\"})\n",
    "    WHERE r.position >=95\n",
    "    RETURN AVG(toInteger(t.explicit)), AVG(t.danceability), AVG(t.energy), AVG(t.mode), AVG(t.speechiness), AVG(t.acousticness), AVG(t.liveness), AVG(t.valence) \n",
    "\"\"\")\n",
    "\n",
    "for r in result:\n",
    "    returnedData = r.values()\n",
    "    # Retrieve techincal features\n",
    "    technicalFeatures.append([returnedData[0], returnedData[1], returnedData[2], returnedData[3], returnedData[4], returnedData[5], returnedData[6], returnedData[7]])\n",
    "\n",
    "print(\"techinalFeatures: {}\".format(technicalFeatures[1]))\n",
    "print(\"\")\n",
    "################################\n",
    "\n",
    "plotResults(\n",
    "    title=\"Techincal Features\",\n",
    "    yArr=technicalFeatures,\n",
    "    xTicks=[\"explicit\",\"danceability\",\"energy\",\"mode\",\"speechiness\",\"acousticness\",\"liveness\",\"valence\"],\n",
    "    legend=[\"TOP 5\",\"LAST 5\"],\n",
    "    yLim = [0, 0.75],\n",
    "    style=\"polar\",\n",
    "    showGrid=True,\n",
    "    fillPlot=True,\n",
    "    legendLocation=[0, 0.15],\n",
    "    figSize=(10, 10),\n",
    ")\n",
    "\n",
    "\n",
    "session.close()\n",
    "driver.close()"
   ]
  },
  {
   "cell_type": "markdown",
   "metadata": {},
   "source": [
    "#### Q5: On average how many tracks from Italian artists are present in Top 100 Italy for each year? (Grafico a barre)"
   ]
  },
  {
   "cell_type": "code",
   "execution_count": 10,
   "metadata": {},
   "outputs": [
    {
     "name": "stdout",
     "output_type": "stream",
     "text": [
      "Year: 2017\n",
      "avgNumItalianTracks: 40\n",
      "\n",
      "Year: 2018\n",
      "avgNumItalianTracks: 63\n",
      "\n",
      "Year: 2019\n",
      "avgNumItalianTracks: 72\n",
      "\n",
      "Year: 2020\n",
      "avgNumItalianTracks: 66\n",
      "\n"
     ]
    },
    {
     "data": {
      "image/png": "[encoded data removed]",
      "text/plain": [
       "<Figure size 1296x576 with 1 Axes>"
      ]
     },
     "metadata": {
      "needs_background": "light"
     },
     "output_type": "display_data"
    }
   ],
   "source": [
    "# Q5: On average how many tracks from italian artists are present in Top 100 Italy for each year?\n",
    "\n",
    "# connect to the DB\n",
    "driver = GraphDatabase.driver(params.uri, auth=(params.user, params.dbpsw))\n",
    "# create a session\n",
    "session = driver.session()\n",
    "\n",
    "result = session.run(\"\"\"\n",
    "    MATCH (c1:Country{id:\"IT\"})<-[:hasNationality]-(p:Person)-[:isMemberOf]->(a:Artist)-[:partecipateIn]->(t:Track)-[:isPositionedIn]->(ch:Chart)-[:isReferredTo]->(c2:Country{id:\"IT\"})\n",
    "    WITH ch,ch.date.year AS year, COUNT(DISTINCT t) as numTracks\n",
    "    RETURN year,avg(numTracks)\n",
    "    ORDER BY year\n",
    "\"\"\")\n",
    "\n",
    "# Define lists to contain the results\n",
    "years = []\n",
    "avgNumItalianTracks = []\n",
    "for r in result:\n",
    "    returnedData = r.values()\n",
    "    years.append(returnedData[0])\n",
    "    avgNumItalianTracks.append(int(returnedData[1]))\n",
    "\n",
    "# Print the results\n",
    "for i in range(0,len(years)):\n",
    "    print(\"Year: {}\".format(years[i]))\n",
    "    print(\"avgNumItalianTracks: {:d}\".format(avgNumItalianTracks[i]))\n",
    "    print(\"\")\n",
    "\n",
    "\n",
    "plotResults(\n",
    "    x=np.arange(len(years)),\n",
    "    yArr=[avgNumItalianTracks],\n",
    "    yLabel=\"Average number of Italian Tracks\",\n",
    "    xLabel=\"Year\",\n",
    "    xTicks=years,\n",
    "    showGrid=True,\n",
    "    gridAxis=\"y\",\n",
    "    style=\"bar\",\n",
    "    saveTitle=\"query3\"\n",
    ")\n",
    "\n",
    "session.close()\n",
    "driver.close()"
   ]
  },
  {
   "cell_type": "markdown",
   "metadata": {},
   "source": [
    "As we can notice, in 2017 there were only 31 tracks on average in the TOP 100 Italy. We want to discovery if this is just a case of is there any reason behind this result.\n",
    "\n",
    "So, in the next query we will check how many tracks were released by italian artist for each year."
   ]
  },
  {
   "cell_type": "markdown",
   "metadata": {},
   "source": [
    "#### Q6: How many tracks were released from Italian artist every year from 2017 to 2020 ?"
   ]
  },
  {
   "cell_type": "code",
   "execution_count": 11,
   "metadata": {},
   "outputs": [
    {
     "name": "stdout",
     "output_type": "stream",
     "text": [
      "Year: 2017\n",
      "numItalianTracksReleased: 305\n",
      "\n",
      "Year: 2018\n",
      "numItalianTracksReleased: 431\n",
      "\n",
      "Year: 2019\n",
      "numItalianTracksReleased: 467\n",
      "\n",
      "Year: 2020\n",
      "numItalianTracksReleased: 425\n",
      "\n"
     ]
    },
    {
     "data": {
      "image/png": "[encoded data removed]",
      "text/plain": [
       "<Figure size 1296x576 with 1 Axes>"
      ]
     },
     "metadata": {
      "needs_background": "light"
     },
     "output_type": "display_data"
    },
    {
     "data": {
      "image/png": "[encoded data removed]",
      "text/plain": [
       "<Figure size 432x288 with 2 Axes>"
      ]
     },
     "metadata": {
      "needs_background": "light"
     },
     "output_type": "display_data"
    }
   ],
   "source": [
    "# Q6: How many tracks were released from Italian artist every year from 2017 to 2020 ?\n",
    "\n",
    "# connect to the DB\n",
    "driver = GraphDatabase.driver(params.uri, auth=(params.user, params.dbpsw))\n",
    "# create a session\n",
    "session = driver.session()\n",
    "\n",
    "result = session.run(\"\"\"\n",
    "    MATCH (c1:Country{id:\"IT\"})<-[:hasNationality]-(p:Person)-[:isMemberOf]->(a:Artist)-[:partecipateIn]->(t:Track)-[:isPartOf]->(alb:Album)\n",
    "    WHERE alb.releaseDate.year >= 2017\n",
    "    WITH alb.releaseDate.year AS year, COUNT(DISTINCT t) as numTracks\n",
    "    RETURN year,numTracks\n",
    "    ORDER BY year\n",
    "\"\"\")\n",
    "\n",
    "# Define lists to contain the results\n",
    "years = []\n",
    "numItalianTracksReleased = []\n",
    "for r in result:\n",
    "    returnedData = r.values()\n",
    "    years.append(returnedData[0])\n",
    "    numItalianTracksReleased.append(returnedData[1])\n",
    "\n",
    "# Print the results\n",
    "for i in range(0,len(years)):\n",
    "    print(\"Year: {}\".format(years[i]))\n",
    "    print(\"numItalianTracksReleased: {:d}\".format(numItalianTracksReleased[i]))\n",
    "    print(\"\")\n",
    "\n",
    "\n",
    "plotResults(\n",
    "    x=np.arange(len(years)),\n",
    "    yArr=[numItalianTracksReleased],\n",
    "    yLabel=\"number of Italian tracks Released\",\n",
    "    xLabel=\"Year\",\n",
    "    xTicks=years,\n",
    "    showGrid=True,\n",
    "    gridAxis=\"y\",\n",
    "    style=\"bar\",\n",
    "    saveTitle=\"query4\"\n",
    ")\n",
    "\n",
    "\n",
    "\n",
    "\n",
    "width = 0.1\n",
    "x = np.arange(len(years))\n",
    "plt.bar(x,numItalianTracksReleased,color = 'Blue',width=width)\n",
    "plt.twinx()\n",
    "plt.bar(x+width*2,avgNumItalianTracks,color = 'Green', width=width)\n",
    "#show plot\n",
    "plt.show()\n",
    "\n",
    "\n",
    "session.close()\n",
    "driver.close()"
   ]
  },
  {
   "cell_type": "markdown",
   "metadata": {},
   "source": [
    "Since in 2017 Italian artists relased only 163 tracks (almost half of 2018,2019 and 2020), it is understandable why in 2017 there were only 31 tracks on average in the TOP 100 Italy."
   ]
  },
  {
   "cell_type": "markdown",
   "metadata": {},
   "source": [
    "#### Q7: How many different Italian artist entered at least once in Top 100 Italy for each Year ? (Grafico a barre)"
   ]
  },
  {
   "cell_type": "code",
   "execution_count": 12,
   "metadata": {},
   "outputs": [
    {
     "name": "stdout",
     "output_type": "stream",
     "text": [
      "Year: 2017\n",
      "numItalianArtists: 113\n",
      "\n",
      "Year: 2018\n",
      "numItalianArtists: 113\n",
      "\n",
      "Year: 2019\n",
      "numItalianArtists: 134\n",
      "\n",
      "Year: 2020\n",
      "numItalianArtists: 150\n",
      "\n"
     ]
    },
    {
     "data": {
      "image/png": "[encoded data removed]",
      "text/plain": [
       "<Figure size 1296x576 with 1 Axes>"
      ]
     },
     "metadata": {
      "needs_background": "light"
     },
     "output_type": "display_data"
    }
   ],
   "source": [
    "# Q7: How many different Italian artist entered at least once in Top 100 Italy for each Year ?\n",
    "\n",
    "# connect to the DB\n",
    "driver = GraphDatabase.driver(params.uri, auth=(params.user, params.dbpsw))\n",
    "# create a session\n",
    "session = driver.session()\n",
    "\n",
    "result = session.run(\"\"\"\n",
    "    MATCH (c1:Country{id:\"IT\"})<-[:hasNationality]-(p:Person)-[:isMemberOf]->(a:Artist)-[:partecipateIn]->(t:Track)-[:isPositionedIn]->(ch:Chart)-[:isReferredTo]->(c2:Country{id:\"IT\"})\n",
    "    RETURN ch.date.year AS year, COUNT(DISTINCT a) as numArtists\n",
    "    ORDER BY year\n",
    "\"\"\")\n",
    "\n",
    "# Define lists to contain the results\n",
    "years = []\n",
    "numItalianArtists = []\n",
    "for r in result:\n",
    "    returnedData = r.values()\n",
    "    years.append(returnedData[0])\n",
    "    numItalianArtists.append(int(returnedData[1]))\n",
    "\n",
    "# Print the results\n",
    "for i in range(0,len(years)):\n",
    "    print(\"Year: {}\".format(years[i]))\n",
    "    print(\"numItalianArtists: {:d}\".format(numItalianArtists[i]))\n",
    "    print(\"\")\n",
    "\n",
    "\n",
    "plotResults(\n",
    "    x=np.arange(len(years)),\n",
    "    yArr=[numItalianArtists],\n",
    "    yLabel=\"number of Italian artists\",\n",
    "    xLabel=\"Year\",\n",
    "    xTicks=years,\n",
    "    showGrid=True,\n",
    "    gridAxis=\"y\",\n",
    "    style=\"bar\",\n",
    "    saveTitle=\"query5\"\n",
    ")\n",
    "\n",
    "session.close()\n",
    "driver.close()\n"
   ]
  },
  {
   "cell_type": "markdown",
   "metadata": {},
   "source": [
    "#### Q8: On average how many tracks from Italian artists are present in Top 100 Italy through the different months of the year ? (Grafico a linea)"
   ]
  },
  {
   "cell_type": "code",
   "execution_count": 13,
   "metadata": {},
   "outputs": [
    {
     "name": "stdout",
     "output_type": "stream",
     "text": [
      "Year: Jan\n",
      "avgNumItalianTracksByMonth: 54\n",
      "\n",
      "Year: Feb\n",
      "avgNumItalianTracksByMonth: 59\n",
      "\n",
      "Year: Mar\n",
      "avgNumItalianTracksByMonth: 57\n",
      "\n",
      "Year: Apr\n",
      "avgNumItalianTracksByMonth: 54\n",
      "\n",
      "Year: May\n",
      "avgNumItalianTracksByMonth: 59\n",
      "\n",
      "Year: Jun\n",
      "avgNumItalianTracksByMonth: 59\n",
      "\n",
      "Year: Jul\n",
      "avgNumItalianTracksByMonth: 60\n",
      "\n",
      "Year: Aug\n",
      "avgNumItalianTracksByMonth: 59\n",
      "\n",
      "Year: Sep\n",
      "avgNumItalianTracksByMonth: 63\n",
      "\n",
      "Year: Oct\n",
      "avgNumItalianTracksByMonth: 67\n",
      "\n",
      "Year: Nov\n",
      "avgNumItalianTracksByMonth: 69\n",
      "\n",
      "Year: Dec\n",
      "avgNumItalianTracksByMonth: 62\n",
      "\n"
     ]
    },
    {
     "data": {
      "image/png": "[encoded data removed]",
      "text/plain": [
       "<Figure size 1296x576 with 1 Axes>"
      ]
     },
     "metadata": {
      "needs_background": "light"
     },
     "output_type": "display_data"
    }
   ],
   "source": [
    "# Q8: On average how many tracks from Italian artists are present in Top 100 Italy through the different months of the year ? \n",
    "\n",
    "# connect to the DB\n",
    "driver = GraphDatabase.driver(params.uri, auth=(params.user, params.dbpsw))\n",
    "# create a session\n",
    "session = driver.session()\n",
    "\n",
    "result = session.run(\"\"\"\n",
    "    MATCH (c1:Country{id:\"IT\"})<-[:hasNationality]-(p:Person)-[:isMemberOf]->(a:Artist)-[:partecipateIn]->(t:Track)-[:isPositionedIn]->(ch:Chart)-[:isReferredTo]->(c2:Country{id:\"IT\"})\n",
    "    WITH ch,ch.date.month AS month, COUNT(DISTINCT t) as numTracks\n",
    "    RETURN month,avg(numTracks)\n",
    "    ORDER BY month\n",
    "\"\"\")\n",
    "\n",
    "# Define lists to contain the results\n",
    "months = []\n",
    "avgNumItalianTracksByMonth = []\n",
    "for r in result:\n",
    "    returnedData = r.values()\n",
    "    months.append(calendar.month_abbr[returnedData[0]])\n",
    "    avgNumItalianTracksByMonth.append(int(returnedData[1]))\n",
    "\n",
    "# Print the results\n",
    "for i in range(0,len(months)):\n",
    "    print(\"Year: {}\".format(months[i]))\n",
    "    print(\"avgNumItalianTracksByMonth: {:d}\".format(avgNumItalianTracksByMonth[i]))\n",
    "    print(\"\")\n",
    "\n",
    "\n",
    "plotResults(\n",
    "    x=np.arange(len(months)),\n",
    "    yArr=[avgNumItalianTracksByMonth],\n",
    "    yLabel=\"avgNumItalianTracksByMonth\",\n",
    "    xLabel=\"Months\",\n",
    "    xTicks=months,\n",
    "    showGrid=True,\n",
    "    gridAxis=\"y\",\n",
    "    style=\"line\",\n",
    "    fillPlot=True,\n",
    "    saveTitle=\"query6\"\n",
    ")\n",
    "\n",
    "session.close()\n",
    "driver.close()\n"
   ]
  },
  {
   "cell_type": "markdown",
   "metadata": {},
   "source": [
    "#### Q9: How many albums from Italian artists are released through the different months of the year ? (Grafico a linea)"
   ]
  },
  {
   "cell_type": "code",
   "execution_count": 14,
   "metadata": {},
   "outputs": [
    {
     "name": "stdout",
     "output_type": "stream",
     "text": [
      "Year: Jan\n",
      "numItalianAlbumsReleasedByMonth: 73\n",
      "\n",
      "Year: Feb\n",
      "numItalianAlbumsReleasedByMonth: 110\n",
      "\n",
      "Year: Mar\n",
      "numItalianAlbumsReleasedByMonth: 59\n",
      "\n",
      "Year: Apr\n",
      "numItalianAlbumsReleasedByMonth: 43\n",
      "\n",
      "Year: May\n",
      "numItalianAlbumsReleasedByMonth: 87\n",
      "\n",
      "Year: Jun\n",
      "numItalianAlbumsReleasedByMonth: 82\n",
      "\n",
      "Year: Jul\n",
      "numItalianAlbumsReleasedByMonth: 34\n",
      "\n",
      "Year: Aug\n",
      "numItalianAlbumsReleasedByMonth: 17\n",
      "\n",
      "Year: Sep\n",
      "numItalianAlbumsReleasedByMonth: 56\n",
      "\n",
      "Year: Oct\n",
      "numItalianAlbumsReleasedByMonth: 73\n",
      "\n",
      "Year: Nov\n",
      "numItalianAlbumsReleasedByMonth: 70\n",
      "\n",
      "Year: Dec\n",
      "numItalianAlbumsReleasedByMonth: 33\n",
      "\n"
     ]
    },
    {
     "data": {
      "image/png": "[encoded data removed]",
      "text/plain": [
       "<Figure size 1296x576 with 1 Axes>"
      ]
     },
     "metadata": {
      "needs_background": "light"
     },
     "output_type": "display_data"
    }
   ],
   "source": [
    "#Q9: How many albums from Italian artists are released through the different months of the year ? \n",
    "\n",
    "# connect to the DB\n",
    "driver = GraphDatabase.driver(params.uri, auth=(params.user, params.dbpsw))\n",
    "# create a session\n",
    "session = driver.session()\n",
    "\n",
    "result = session.run(\"\"\"\n",
    "    MATCH (c1:Country{id:\"IT\"})<-[:hasNationality]-(p:Person)-[:isMemberOf]->(a:Artist)-[:partecipateIn]->(alb:Album)\n",
    "    WITH alb.releaseDate.month AS month, COUNT(DISTINCT alb) as numAlbums\n",
    "    RETURN month,numAlbums\n",
    "    ORDER BY month\n",
    "\"\"\")\n",
    "\n",
    "# Define lists to contain the results\n",
    "months = []\n",
    "numItalianAlbumsReleasedByMonth = []\n",
    "for r in result:\n",
    "    returnedData = r.values()\n",
    "    months.append(calendar.month_abbr[returnedData[0]])\n",
    "    numItalianAlbumsReleasedByMonth.append(int(returnedData[1]))\n",
    "\n",
    "# Print the results\n",
    "for i in range(0,len(months)):\n",
    "    print(\"Year: {}\".format(months[i]))\n",
    "    print(\"numItalianAlbumsReleasedByMonth: {:d}\".format(numItalianAlbumsReleasedByMonth[i]))\n",
    "    print(\"\")\n",
    "\n",
    "\n",
    "plotResults(\n",
    "    x=np.arange(len(months)),\n",
    "    yArr=[numItalianAlbumsReleasedByMonth],\n",
    "    yLabel=\"numItalianAlbumsReleasedByMonth\",\n",
    "    xLabel=\"Months\",\n",
    "    xTicks=months,\n",
    "    showGrid=True,\n",
    "    gridAxis=\"y\",\n",
    "    style=\"line\",\n",
    "    fillPlot=True,\n",
    "    saveTitle=\"query7\"\n",
    ")\n",
    "\n",
    "session.close()\n",
    "driver.close()"
   ]
  },
  {
   "cell_type": "markdown",
   "metadata": {},
   "source": [
    "#### Q9: Who is the Italian artist with the highest number of tracks present in Top 100 Italy for each year? (Nomi degli artisti)"
   ]
  },
  {
   "cell_type": "code",
   "execution_count": 15,
   "metadata": {},
   "outputs": [
    {
     "name": "stdout",
     "output_type": "stream",
     "text": [
      "Year: 2017\n",
      "Artist: Guè\n",
      "numTracks: 30\n",
      "\n",
      "Year: 2018\n",
      "Artist: Gemitaiz\n",
      "numTracks: 31\n",
      "\n",
      "Year: 2019\n",
      "Artist: Lazza\n",
      "numTracks: 35\n",
      "\n",
      "Year: 2020\n",
      "Artist: tha Supreme\n",
      "numTracks: 40\n",
      "\n"
     ]
    }
   ],
   "source": [
    "# Q9: Who is the Italian artist with the highest number of tracks present in Top 100 Italy for each year?\n",
    "\n",
    "# connect to the DB\n",
    "driver = GraphDatabase.driver(params.uri, auth=(params.user, params.dbpsw))\n",
    "# create a session\n",
    "session = driver.session()\n",
    "\n",
    "result = session.run(\"\"\"\n",
    "    MATCH (c1:Country{id:\"IT\"})<-[:hasNationality]-(p:Person)-[:isMemberOf]->(a:Artist)-[:partecipateIn]->(t:Track)-[:isPositionedIn]->(ch:Chart)-[:isReferredTo]->(c2:Country{id:\"IT\"})\n",
    "    WITH a,ch.date.year AS year, COUNT(DISTINCT t) as numTracks\n",
    "    ORDER BY numTracks DESC\n",
    "    WITH year,COLLECT(a) AS artists, COLLECT(numTracks) as orderedNumTracks\n",
    "    RETURN DISTINCT year,artists[0],orderedNumTracks[0]\n",
    "    ORDER BY year\n",
    "\"\"\")\n",
    "\n",
    "# Define lists to contain the results\n",
    "years = []\n",
    "topArtistsByYear = []\n",
    "numTracks = []\n",
    "for r in result:\n",
    "    returnedData = r.values()\n",
    "    years.append(returnedData[0])\n",
    "    topArtistsByYear.append(returnedData[1][\"name\"])\n",
    "    numTracks.append(returnedData[2])\n",
    "\n",
    "# Print the results\n",
    "for i in range(0,len(years)):\n",
    "    print(\"Year: {}\".format(years[i]))\n",
    "    print(\"Artist: {}\".format(topArtistsByYear[i]))\n",
    "    print(\"numTracks: {}\".format(numTracks[i]))\n",
    "    print(\"\")\n",
    "\n",
    "session.close()\n",
    "driver.close()\n"
   ]
  },
  {
   "cell_type": "markdown",
   "metadata": {},
   "source": [
    "#### Q10: Show the distribution of the positions in the TOP 100 Italy reached by the just retrieved artist"
   ]
  },
  {
   "cell_type": "code",
   "execution_count": 16,
   "metadata": {},
   "outputs": [
    {
     "name": "stdout",
     "output_type": "stream",
     "text": [
      "Artist: Guè\n",
      "positions: [42, 73, 84, 69, 37, 9, 54, 42, 21, 70, 8, 32, 72, 86, 61, 85, 88, 83, 91, 70, 8, 26, 93, 58, 70, 76, 79, 83, 53, 90, 75, 71, 81, 39, 93, 63, 98, 96, 52, 40, 50, 71, 8, 75, 73, 64, 99, 35, 79, 39, 93, 69, 7, 99, 58, 76, 45, 36, 82, 9, 71, 88, 89, 30, 76, 43, 55, 56, 60, 48, 5, 99, 90, 12, 72, 32, 93, 62, 83, 66, 51, 79, 81, 11, 98, 34, 59, 100, 63, 93, 93, 60, 100, 80, 84, 27, 53, 11, 74, 98, 85, 89, 5, 76, 88, 30, 64, 27, 41, 73, 16, 50, 85, 52, 68, 96, 64, 81, 11, 83, 53, 32, 53, 86, 98, 93, 72, 57, 90, 32, 87, 53, 52, 77, 72, 99, 69, 87, 11, 36, 64, 24, 53, 12, 84, 6, 78, 97, 52, 29, 86, 74, 40, 65, 44, 21, 70, 48, 2, 76, 25, 41, 79, 88, 56, 35, 50, 36, 48, 84, 32, 60, 82, 1, 14, 15, 13, 44, 6, 19, 4, 92, 49, 78, 38, 85, 86, 95, 65, 99, 85, 78, 43, 48, 73, 29, 84, 95, 47, 17, 79, 70]\n",
      "\n",
      "Artist: Gemitaiz\n",
      "positions: [56, 73, 6, 88, 4, 68, 69, 29, 78, 72, 71, 72, 58, 33, 60, 68, 80, 85, 53, 48, 49, 50, 95, 32, 4, 72, 19, 69, 82, 12, 72, 59, 58, 60, 96, 80, 4, 70, 48, 27, 63, 55, 75, 86, 13, 74, 34, 90, 52, 17, 65, 72, 76, 56, 43, 98, 40, 16, 24, 81, 6, 27, 84, 70, 8, 57, 48, 85, 22, 14, 12, 29, 37, 54, 51, 33, 56, 2, 16, 8, 26, 21, 10, 39, 93, 41, 40, 93, 67, 50, 46, 99, 37, 12, 86, 71, 73, 64, 24, 81, 11, 15, 33, 4, 31, 9, 18, 32, 5, 49, 45, 88, 98, 39, 62, 13, 74, 13, 74, 60, 17, 96, 68, 60, 76, 12, 12, 94, 56, 74, 89, 84, 26, 73, 47, 5, 79, 75, 50, 13, 5, 73, 71, 53, 76, 77, 7, 19, 62, 4, 38, 29, 100, 55, 91, 88, 72, 93, 80, 41, 81, 89, 30, 2, 87, 59, 37, 47, 11, 63, 42, 22, 39, 43, 19, 28, 72, 21, 44, 31, 80, 37, 66, 65, 70, 14, 95, 26, 48, 78, 38, 81, 88, 83, 97, 4, 74, 88, 49, 94, 25, 31, 90, 61, 4, 85, 81, 54, 84, 89, 18, 65, 41, 38, 8, 99, 51, 82, 100, 16, 7, 63, 81, 70, 18, 88]\n",
      "\n",
      "Artist: Lazza\n",
      "positions: [57, 63, 11, 49, 71, 80, 90, 52, 26, 91, 44, 19, 92, 87, 65, 88, 26, 3, 37, 58, 8, 48, 20, 37, 37, 10, 67, 83, 38, 45, 34, 72, 21, 38, 99, 30, 59, 6, 100, 88, 89, 26, 8, 85, 74, 27, 32, 45, 29, 30, 70, 12, 98, 26, 77, 97, 7, 34, 62, 75, 25, 54, 28, 91, 29, 91, 63, 46, 34, 48, 56, 60, 53, 79, 32, 16, 69, 31, 29, 93, 88, 49, 73, 78, 89, 45, 11, 44, 51, 97, 92, 88, 20, 15, 2, 86, 29, 54, 1, 59, 34, 77, 40, 41, 86, 96, 75, 47, 46, 54, 53, 80, 56, 12, 66, 98, 61, 79, 78, 74, 2, 34, 27, 59, 16, 31, 24, 41, 22, 57, 77, 20, 52, 36, 48, 63, 98, 99, 61, 96, 71, 45, 47, 86, 68, 80, 74, 99, 48, 16, 93, 85, 28, 89, 10]\n",
      "\n",
      "Artist: tha Supreme\n",
      "positions: [6, 72, 16, 91, 58, 45, 16, 17, 88, 25, 73, 20, 50, 44, 1, 10, 1, 26, 39, 5, 17, 29, 97, 35, 81, 32, 62, 14, 28, 96, 14, 6, 76, 37, 15, 82, 24, 70, 78, 2, 64, 9, 94, 13, 86, 59, 97, 69, 1, 29, 62, 5, 83, 58, 28, 8, 28, 95, 27, 66, 29, 88, 11, 16, 32, 57, 14, 85, 16, 51, 59, 88, 92, 86, 41, 65, 26, 3, 53, 6, 35, 60, 27, 48, 1, 63, 50, 90, 20, 3, 18, 44, 99, 62, 84, 14, 18, 48, 57, 16, 88, 91, 22, 10, 32, 17, 95, 99, 89, 64, 4, 27, 29, 55, 92, 35, 29, 6, 89, 8, 12, 92, 31, 66, 26, 17, 75, 24, 82, 53, 15, 6, 9, 27, 88, 28, 24, 96, 49, 26, 1, 36, 12, 22, 3, 28, 6, 90, 45, 20, 17, 59, 40, 9, 3, 83, 86, 32, 31, 28, 15, 22, 64, 77, 31, 43, 18, 60, 52, 38, 92, 85, 42, 61, 8, 32, 14, 38, 17, 80, 82, 18, 94, 7, 19, 85, 24, 91, 99, 29, 41, 22, 8, 3, 20, 12, 86, 2, 10, 4, 43, 42, 13, 76, 72, 16, 61, 63, 6, 57, 36, 80, 10, 86, 1, 62, 74, 2, 37, 99, 75, 14, 52, 63, 18, 98, 92, 95, 36, 9, 40, 86, 70, 32, 60, 18, 1, 52, 17, 40, 24, 48, 12, 82, 7, 34, 56, 21, 69, 88, 21, 100, 35, 11, 70, 45, 66, 81, 31, 8, 59, 70, 55, 2, 44, 72, 5, 49, 32, 61, 75, 22, 36, 49, 12, 74, 11, 42, 65, 37, 16, 75, 19, 6, 16, 32, 20, 27, 39, 76, 92, 73, 81, 12, 82, 29, 20, 90, 18, 99, 8, 87, 2, 26, 63, 1, 37, 58, 22, 47, 45, 3, 86, 23, 5, 31, 50, 48, 78, 51]\n",
      "\n"
     ]
    },
    {
     "data": {
      "image/png": "[encoded data removed]",
      "text/plain": [
       "<Figure size 1080x360 with 1 Axes>"
      ]
     },
     "metadata": {
      "needs_background": "light"
     },
     "output_type": "display_data"
    }
   ],
   "source": [
    "# Q10: Show the distribution of the positions in the TOP 100 Italy reached by the just retrieved artist\n",
    "\n",
    "# connect to the DB\n",
    "driver = GraphDatabase.driver(params.uri, auth=(params.user, params.dbpsw))\n",
    "# create a session\n",
    "session = driver.session()\n",
    "\n",
    "# Define lists to contain the results\n",
    "positions = []\n",
    "\n",
    "for i in range(0,len(topArtistsByYear)):\n",
    "    result = session.run(\"\"\"\n",
    "        MATCH (a:Artist {name:$name})-[:partecipateIn]->(t:Track)-[r:isPositionedIn]->(ch:Chart)-[:isReferredTo]->(c2:Country{id:\"IT\"})\n",
    "        WHERE ch.date >= date({year: $year, month: 1, day: 1}) AND ch.date <= date({year: $year, month: 12, day: 31})\n",
    "        RETURN a,COLLECT(r.position) AS positions\n",
    "    \"\"\",name=topArtistsByYear[i],year=years[i])\n",
    "\n",
    "    for r in result:\n",
    "        returnedData = r.values()\n",
    "        positions.append(returnedData[1])\n",
    "\n",
    "# Print the results\n",
    "for i in range(0,len(topArtistsByYear)):\n",
    "    print(\"Artist: {}\".format(topArtistsByYear[i]))\n",
    "    print(\"positions: {}\".format(positions[i]))\n",
    "    print(\"\")\n",
    "\n",
    "\n",
    "plotResults(\n",
    "    yArr=positions,\n",
    "    style=\"boxplot\",\n",
    "    fillPlot=True,\n",
    "    figSize=(15, 5),\n",
    "    yLabel=\"Position\",\n",
    "    showGrid=True,\n",
    "    xTicksPosition=range(0, 4),\n",
    "    xTicks=topArtistsByYear,\n",
    "    xTicksRotation=0\n",
    ")\n",
    "\n",
    "session.close()\n",
    "driver.close()\n",
    "\n"
   ]
  },
  {
   "cell_type": "markdown",
   "metadata": {},
   "source": [
    "####  Q11: Show the top 3 Italian artists with the highest number of tracks present in Top 100 Italy at the same time."
   ]
  },
  {
   "cell_type": "code",
   "execution_count": 17,
   "metadata": {},
   "outputs": [
    {
     "name": "stdout",
     "output_type": "stream",
     "text": [
      "Artist: <Node id=4400 labels=frozenset({'Artist'}) properties={'popularity': '73', 'name': 'tha Supreme', 'id': '19i93sA0D7yS9dYoVNBqAA'}>\n",
      "Chart: top-100-IT-2019-11-24\n",
      "numTracks: 24\n",
      "\n",
      "Artist: <Node id=3353 labels=frozenset({'Artist'}) properties={'popularity': '73', 'name': 'Tedua', 'id': '1AgAVqo74e2q4FVvg0xpT7'}>\n",
      "Chart: top-100-IT-2020-06-14\n",
      "numTracks: 21\n",
      "\n",
      "Artist: <Node id=2486 labels=frozenset({'Artist'}) properties={'popularity': '82', 'name': 'Marracash', 'id': '5AZuEF0feCXMkUCwQiQlW7'}>\n",
      "Chart: top-100-IT-2019-11-17\n",
      "numTracks: 19\n",
      "\n"
     ]
    }
   ],
   "source": [
    "# Q11: Show the top 3 Italian artists with the highest number of tracks present in Top 100 Italy at the same time.\n",
    "\n",
    "# connect to the DB\n",
    "driver = GraphDatabase.driver(params.uri, auth=(params.user, params.dbpsw))\n",
    "# create a session\n",
    "session = driver.session()\n",
    "\n",
    "result = session.run(\"\"\"\n",
    "    MATCH (c1:Country{id:\"IT\"})<-[:hasNationality]-(p:Person)-[:isMemberOf]->(a:Artist)-[:partecipateIn]->(t:Track)-[:isPositionedIn]->(ch:Chart)-[:isReferredTo]->(c2:Country{id:\"IT\"})\n",
    "    WITH a,ch, COUNT(DISTINCT t) as numTracks\n",
    "    ORDER BY numTracks DESC\n",
    "    WITH a,COLLECT(ch) AS charts, COLLECT(numTracks) as orderedNumTracks\n",
    "    RETURN DISTINCT a,charts[0],orderedNumTracks[0]\n",
    "    LIMIT 3\n",
    "\"\"\")\n",
    "\n",
    "# Define lists to contain the results\n",
    "topThreeArtists = []\n",
    "charts = []\n",
    "numTracks = []\n",
    "for r in result:\n",
    "    returnedData = r.values()\n",
    "    topThreeArtists.append(returnedData[0])\n",
    "    charts.append(returnedData[1][\"id\"])\n",
    "    numTracks.append(returnedData[2])\n",
    "\n",
    "for i in range(0,len(topThreeArtists)):\n",
    "    print(\"Artist: {}\".format(topThreeArtists[i]))\n",
    "    print(\"Chart: {}\".format(charts[i]))\n",
    "    print(\"numTracks: {}\".format(numTracks[i]))\n",
    "    print(\"\")\n",
    "session.close()\n",
    "driver.close()\n"
   ]
  },
  {
   "cell_type": "markdown",
   "metadata": {},
   "source": [
    "The numbers of tracks present simultaneously in the TOP 100 Italy are quite high (24,19 and 18). \n",
    "\n",
    "We want to check if these artists released an album on the same month (or previous one) of the chart in which they have the highest number of tracks."
   ]
  },
  {
   "cell_type": "code",
   "execution_count": 18,
   "metadata": {},
   "outputs": [
    {
     "name": "stdout",
     "output_type": "stream",
     "text": [
      "SEARCHING FOR AN ALBUM PUBLISHED BY tha Supreme\n",
      "Alb: tha Supreme\n",
      "Album: 23 6451\n",
      "Album relaseDate: 2019-11-15\n",
      "\n",
      "SEARCHING FOR AN ALBUM PUBLISHED BY Tedua\n",
      "Alb: Tedua\n",
      "Album: Vita Vera - Mixtape, aspettando la Divina Commedia\n",
      "Album relaseDate: 2020-06-12\n",
      "\n",
      "Alb: Tedua\n",
      "Album: Vita Vera Mixtape\n",
      "Album relaseDate: 2020-06-05\n",
      "\n",
      "SEARCHING FOR AN ALBUM PUBLISHED BY Marracash\n",
      "Alb: Marracash\n",
      "Album: Persona\n",
      "Album relaseDate: 2019-10-31\n",
      "\n"
     ]
    }
   ],
   "source": [
    "topThreeArtists = [\"tha Supreme\",\"Tedua\",\"Marracash\"]\n",
    "years = [2019,2020,2019]\n",
    "months = [11,6,11]\n",
    "\n",
    "\n",
    "# connect to the DB\n",
    "driver = GraphDatabase.driver(params.uri, auth=(params.user, params.dbpsw))\n",
    "# create a session\n",
    "session = driver.session()\n",
    "\n",
    "for i in range(0,len(topThreeArtists)):\n",
    "\n",
    "    print(\"SEARCHING FOR AN ALBUM PUBLISHED BY \"+topThreeArtists[i])\n",
    "\n",
    "    result = session.run(\"\"\"\n",
    "        MATCH (a:Artist {name:$artist})-[:partecipateIn]->(alb:Album {albumType:\"album\"})\n",
    "        WHERE alb.releaseDate >= date({year: $year, month: $month-1, day: 1}) AND alb.releaseDate <= date({year: $year, month: $month, day: 30})\n",
    "        RETURN a.name, alb.name, alb.releaseDate\n",
    "        \"\"\",artist=topThreeArtists[i],year=years[i],month=months[i])\n",
    "\n",
    "    for r in result:\n",
    "        returnedData = r.values()\n",
    "        print(\"Alb: {}\".format(returnedData[0]))\n",
    "        print(\"Album: {}\".format(returnedData[1]))\n",
    "        print(\"Album relaseDate: {}\".format(str(returnedData[2])))\n",
    "        print(\"\")\n",
    "\n",
    "session.close()\n",
    "driver.close()"
   ]
  },
  {
   "cell_type": "markdown",
   "metadata": {},
   "source": [
    "So, these Italian artists managed to have a lot of tracks in the TOP 100 Italy at the same time, because they released albums whose tracks probably entered all in TOP 100 Italy."
   ]
  },
  {
   "cell_type": "markdown",
   "metadata": {},
   "source": [
    "#### Q12: Show the youngest artist who entered in the first 10 positions of Top 100 Italy for each year."
   ]
  },
  {
   "cell_type": "code",
   "execution_count": 19,
   "metadata": {},
   "outputs": [
    {
     "name": "stdout",
     "output_type": "stream",
     "text": [
      "Year: 2020\n",
      "Artist: Rondodasosa\n",
      "BirthDate: 2002-04-29\n",
      "\n",
      "Year: 2018\n",
      "Artist: Martina Attili\n",
      "BirthDate: 2001-07-11\n",
      "\n",
      "Year: 2019\n",
      "Artist: tha Supreme\n",
      "BirthDate: 2001-03-17\n",
      "\n",
      "Year: 2017\n",
      "Artist: Måneskin\n",
      "BirthDate: 2001-01-18\n",
      "\n"
     ]
    }
   ],
   "source": [
    "# Q12: Show the youngest artist who entered in the first 10 positions of Top 100 Italy for each year.\n",
    "\n",
    "# connect to the DB\n",
    "driver = GraphDatabase.driver(params.uri, auth=(params.user, params.dbpsw))\n",
    "# create a session\n",
    "session = driver.session()\n",
    "\n",
    "result = session.run(\"\"\"\n",
    "    MATCH (c1:Country{id:\"IT\"})<-[:hasNationality]-(p:Person)-[:isMemberOf]->(a:Artist)-[:partecipateIn]->(t:Track)-[r:isPositionedIn]->(ch:Chart)-[:isReferredTo]->(c2:Country{id:\"IT\"})\n",
    "    WHERE r.position <=10 AND p.birthDate IS NOT NULL\n",
    "    WITH ch,a,p\n",
    "    ORDER BY p.birthDate DESC\n",
    "    WITH ch.date.year AS year, COLLECT(a.name) AS artistsNames, COLLECT(p.birthDate) AS artistsBirthDates\n",
    "    RETURN year,artistsNames[0],artistsBirthDates[0]\n",
    "\"\"\")\n",
    "\n",
    "for r in result:\n",
    "    returnedData = r.values()\n",
    "    print(\"Year: {}\".format(returnedData[0]))\n",
    "    print(\"Artist: {}\".format(returnedData[1]))\n",
    "    print(\"BirthDate: {}\".format(str(returnedData[2])))\n",
    "    print(\"\")\n",
    "session.close()\n",
    "driver.close()"
   ]
  },
  {
   "cell_type": "markdown",
   "metadata": {},
   "source": [
    "Of course in the case of ***Maneskin*** the birthDate is referred to the youngest member of the group."
   ]
  },
  {
   "cell_type": "markdown",
   "metadata": {},
   "source": [
    "### Italian tracks abroad\n",
    "\n",
    "#### Q13: How many tracks from Italian artist are present in a Top 100 of a different country for each year (grafico barre)"
   ]
  },
  {
   "cell_type": "code",
   "execution_count": 20,
   "metadata": {},
   "outputs": [
    {
     "name": "stdout",
     "output_type": "stream",
     "text": [
      "Year: 2017\n",
      "numItalianTracksAbroad: 22\n",
      "\n",
      "Year: 2018\n",
      "numItalianTracksAbroad: 26\n",
      "\n",
      "Year: 2019\n",
      "numItalianTracksAbroad: 22\n",
      "\n",
      "Year: 2020\n",
      "numItalianTracksAbroad: 45\n",
      "\n"
     ]
    },
    {
     "data": {
      "image/png": "[encoded data removed]",
      "text/plain": [
       "<Figure size 1296x576 with 1 Axes>"
      ]
     },
     "metadata": {
      "needs_background": "light"
     },
     "output_type": "display_data"
    }
   ],
   "source": [
    "# Q13: How many tracks from Italian artist are present in a Top 100 of a different country for each year\n",
    "\n",
    "# connect to the DB\n",
    "driver = GraphDatabase.driver(params.uri, auth=(params.user, params.dbpsw))\n",
    "# create a session\n",
    "session = driver.session()\n",
    "\n",
    "result = session.run(\"\"\"\n",
    "    MATCH (c1:Country{id:\"IT\"})<-[:hasNationality]-(p:Person)-[:isMemberOf]->(a:Artist)-[:partecipateIn]->(t:Track)-[:isPositionedIn]->(ch:Chart)-[:isReferredTo]->(c2:Country)\n",
    "    WHERE c2.id<>\"IT\"\n",
    "    WITH ch.date.year AS year, COUNT(DISTINCT t) AS numItalianTracks\n",
    "    RETURN year,numItalianTracks\n",
    "    ORDER BY year\n",
    "\"\"\")\n",
    "\n",
    "# Define lists to contain the results\n",
    "years = []\n",
    "numItalianTracksAbroad = []\n",
    "for r in result:\n",
    "    returnedData = r.values()\n",
    "    years.append(returnedData[0])\n",
    "    numItalianTracksAbroad.append(int(returnedData[1]))\n",
    "\n",
    "# Print the results\n",
    "for i in range(0,len(years)):\n",
    "    print(\"Year: {}\".format(years[i]))\n",
    "    print(\"numItalianTracksAbroad: {:d}\".format(numItalianTracksAbroad[i]))\n",
    "    print(\"\")\n",
    "\n",
    "\n",
    "plotResults(\n",
    "    x=np.arange(len(years)),\n",
    "    yArr=[numItalianTracksAbroad],\n",
    "    yLabel=\"number of Italian Tracks Abroad\",\n",
    "    xLabel=\"Year\",\n",
    "    xTicks=years,\n",
    "    showGrid=True,\n",
    "    gridAxis=\"y\",\n",
    "    style=\"bar\",\n",
    "    saveTitle=\"query11\"\n",
    ")\n",
    "session.close()\n",
    "driver.close()"
   ]
  },
  {
   "cell_type": "markdown",
   "metadata": {},
   "source": [
    "#### Q14: Show the countries that listen the most to Italian tracks. (show Names and numbers)"
   ]
  },
  {
   "cell_type": "code",
   "execution_count": 21,
   "metadata": {},
   "outputs": [
    {
     "name": "stdout",
     "output_type": "stream",
     "text": [
      "Country: Switzerland\n",
      "numItalianTracksByCountry: 37\n",
      "\n",
      "Country: Germany\n",
      "numItalianTracksByCountry: 20\n",
      "\n",
      "Country: Austria\n",
      "numItalianTracksByCountry: 19\n",
      "\n",
      "Country: Norway\n",
      "numItalianTracksByCountry: 17\n",
      "\n",
      "Country: France\n",
      "numItalianTracksByCountry: 13\n",
      "\n",
      "Country: Sweden\n",
      "numItalianTracksByCountry: 13\n",
      "\n",
      "Country: Belgium\n",
      "numItalianTracksByCountry: 10\n",
      "\n",
      "Country: Netherlands\n",
      "numItalianTracksByCountry: 10\n",
      "\n",
      "Country: Poland\n",
      "numItalianTracksByCountry: 10\n",
      "\n",
      "Country: Spain\n",
      "numItalianTracksByCountry: 10\n",
      "\n",
      "Country: Denmark\n",
      "numItalianTracksByCountry: 9\n",
      "\n",
      "Country: Finland\n",
      "numItalianTracksByCountry: 8\n",
      "\n",
      "Country: United Kingdom of Great Britain and Northern Ireland\n",
      "numItalianTracksByCountry: 6\n",
      "\n",
      "Country: Portugal\n",
      "numItalianTracksByCountry: 6\n",
      "\n",
      "Country: Virgin Islands, British\n",
      "numItalianTracksByCountry: 6\n",
      "\n",
      "Country: Philippines\n",
      "numItalianTracksByCountry: 5\n",
      "\n",
      "Country: Canada\n",
      "numItalianTracksByCountry: 5\n",
      "\n",
      "Country: Australia\n",
      "numItalianTracksByCountry: 5\n",
      "\n",
      "Country: Turkey\n",
      "numItalianTracksByCountry: 5\n",
      "\n",
      "Country: Taiwan, Province of China\n",
      "numItalianTracksByCountry: 4\n",
      "\n",
      "Country: Singapore\n",
      "numItalianTracksByCountry: 4\n",
      "\n",
      "Country: Malaysia\n",
      "numItalianTracksByCountry: 4\n",
      "\n",
      "Country: New Zealand\n",
      "numItalianTracksByCountry: 4\n",
      "\n",
      "Country: Chile\n",
      "numItalianTracksByCountry: 3\n",
      "\n",
      "Country: United States of America\n",
      "numItalianTracksByCountry: 3\n",
      "\n",
      "Country: Indonesia\n",
      "numItalianTracksByCountry: 2\n",
      "\n",
      "Country: Argentina\n",
      "numItalianTracksByCountry: 2\n",
      "\n",
      "Country: Peru\n",
      "numItalianTracksByCountry: 1\n",
      "\n",
      "Country: Mexico\n",
      "numItalianTracksByCountry: 1\n",
      "\n",
      "Country: Brazil\n",
      "numItalianTracksByCountry: 1\n",
      "\n",
      "Country: Ecuador\n",
      "numItalianTracksByCountry: 1\n",
      "\n",
      "Country: Costa Rica\n",
      "numItalianTracksByCountry: 1\n",
      "\n",
      "Country: Colombia\n",
      "numItalianTracksByCountry: 1\n",
      "\n"
     ]
    }
   ],
   "source": [
    "# Q14: Show the top 5 countries that listen the most to Italian tracks.\n",
    "\n",
    "# connect to the DB\n",
    "driver = GraphDatabase.driver(params.uri, auth=(params.user, params.dbpsw))\n",
    "# create a session\n",
    "session = driver.session()\n",
    "\n",
    "result = session.run(\"\"\"\n",
    "    MATCH (c1:Country{id:\"IT\"})<-[:hasNationality]-(p:Person)-[:isMemberOf]->(a:Artist)-[:partecipateIn]->(t:Track)-[:isPositionedIn]->(ch:Chart)-[:isReferredTo]->(c2:Country)\n",
    "    WHERE c2.id<>\"IT\"\n",
    "    RETURN c2.name, COUNT(DISTINCT t) AS numItalianTracks\n",
    "    ORDER BY numItalianTracks DESC\n",
    "\"\"\")\n",
    "\n",
    "# Define lists to contain the results\n",
    "countries = []\n",
    "numItalianTracksByCountry = []\n",
    "for r in result:\n",
    "    returnedData = r.values()\n",
    "    countries.append(returnedData[0])\n",
    "    numItalianTracksByCountry.append(returnedData[1])\n",
    "\n",
    "# Print the results\n",
    "for i in range(0,len(countries)):\n",
    "    print(\"Country: {}\".format(countries[i]))\n",
    "    print(\"numItalianTracksByCountry: {:d}\".format(numItalianTracksByCountry[i]))\n",
    "    print(\"\")\n",
    "\n",
    "session.close()\n",
    "driver.close()"
   ]
  },
  {
   "cell_type": "code",
   "execution_count": 22,
   "metadata": {},
   "outputs": [
    {
     "data": {
      "application/vnd.plotly.v1+json": {
       "config": {
        "plotlyServerURL": "https://plot.ly"
       },
       "data": [
        {
         "coloraxis": "coloraxis",
         "geo": "geo",
         "hovertemplate": "<b>%{hovertext}</b><br><br>countries=%{location}<br>numItalianTracksByCountry=%{z}<extra></extra>",
         "hovertext": [
          "Switzerland",
          "Germany",
          "Austria",
          "Norway",
          "France",
          "Sweden",
          "Belgium",
          "Netherlands",
          "Poland",
          "Spain",
          "Denmark",
          "Finland",
          "United Kingdom of Great Britain and Northern Ireland",
          "Portugal",
          "Virgin Islands, British",
          "Philippines",
          "Canada",
          "Australia",
          "Turkey",
          "Taiwan, Province of China",
          "Singapore",
          "Malaysia",
          "New Zealand",
          "Chile",
          "United States of America",
          "Indonesia",
          "Argentina",
          "Peru",
          "Mexico",
          "Brazil",
          "Ecuador",
          "Costa Rica",
          "Colombia"
         ],
         "locationmode": "country names",
         "locations": [
          "Switzerland",
          "Germany",
          "Austria",
          "Norway",
          "France",
          "Sweden",
          "Belgium",
          "Netherlands",
          "Poland",
          "Spain",
          "Denmark",
          "Finland",
          "United Kingdom of Great Britain and Northern Ireland",
          "Portugal",
          "Virgin Islands, British",
          "Philippines",
          "Canada",
          "Australia",
          "Turkey",
          "Taiwan, Province of China",
          "Singapore",
          "Malaysia",
          "New Zealand",
          "Chile",
          "United States of America",
          "Indonesia",
          "Argentina",
          "Peru",
          "Mexico",
          "Brazil",
          "Ecuador",
          "Costa Rica",
          "Colombia"
         ],
         "name": "",
         "type": "choropleth",
         "z": [
          37,
          20,
          19,
          17,
          13,
          13,
          10,
          10,
          10,
          10,
          9,
          8,
          6,
          6,
          6,
          5,
          5,
          5,
          5,
          4,
          4,
          4,
          4,
          3,
          3,
          2,
          2,
          1,
          1,
          1,
          1,
          1,
          1
         ]
        }
       ],
       "layout": {
        "coloraxis": {
         "colorbar": {
          "title": {
           "text": "numItalianTracksByCountry"
          }
         },
         "colorscale": [
          [
           0,
           "rgb(176, 242, 188)"
          ],
          [
           0.16666666666666666,
           "rgb(137, 232, 172)"
          ],
          [
           0.3333333333333333,
           "rgb(103, 219, 165)"
          ],
          [
           0.5,
           "rgb(76, 200, 163)"
          ],
          [
           0.6666666666666666,
           "rgb(56, 178, 163)"
          ],
          [
           0.8333333333333334,
           "rgb(44, 152, 160)"
          ],
          [
           1,
           "rgb(37, 125, 152)"
          ]
         ]
        },
        "geo": {
         "center": {},
         "domain": {
          "x": [
           0,
           1
          ],
          "y": [
           0,
           1
          ]
         }
        },
        "legend": {
         "tracegroupgap": 0
        },
        "margin": {
         "t": 60
        },
        "template": {
         "data": {
          "bar": [
           {
            "error_x": {
             "color": "#2a3f5f"
            },
            "error_y": {
             "color": "#2a3f5f"
            },
            "marker": {
             "line": {
              "color": "#E5ECF6",
              "width": 0.5
             },
             "pattern": {
              "fillmode": "overlay",
              "size": 10,
              "solidity": 0.2
             }
            },
            "type": "bar"
           }
          ],
          "barpolar": [
           {
            "marker": {
             "line": {
              "color": "#E5ECF6",
              "width": 0.5
             },
             "pattern": {
              "fillmode": "overlay",
              "size": 10,
              "solidity": 0.2
             }
            },
            "type": "barpolar"
           }
          ],
          "carpet": [
           {
            "aaxis": {
             "endlinecolor": "#2a3f5f",
             "gridcolor": "white",
             "linecolor": "white",
             "minorgridcolor": "white",
             "startlinecolor": "#2a3f5f"
            },
            "baxis": {
             "endlinecolor": "#2a3f5f",
             "gridcolor": "white",
             "linecolor": "white",
             "minorgridcolor": "white",
             "startlinecolor": "#2a3f5f"
            },
            "type": "carpet"
           }
          ],
          "choropleth": [
           {
            "colorbar": {
             "outlinewidth": 0,
             "ticks": ""
            },
            "type": "choropleth"
           }
          ],
          "contour": [
           {
            "colorbar": {
             "outlinewidth": 0,
             "ticks": ""
            },
            "colorscale": [
             [
              0,
              "#0d0887"
             ],
             [
              0.1111111111111111,
              "#46039f"
             ],
             [
              0.2222222222222222,
              "#7201a8"
             ],
             [
              0.3333333333333333,
              "#9c179e"
             ],
             [
              0.4444444444444444,
              "#bd3786"
             ],
             [
              0.5555555555555556,
              "#d8576b"
             ],
             [
              0.6666666666666666,
              "#ed7953"
             ],
             [
              0.7777777777777778,
              "#fb9f3a"
             ],
             [
              0.8888888888888888,
              "#fdca26"
             ],
             [
              1,
              "#f0f921"
             ]
            ],
            "type": "contour"
           }
          ],
          "contourcarpet": [
           {
            "colorbar": {
             "outlinewidth": 0,
             "ticks": ""
            },
            "type": "contourcarpet"
           }
          ],
          "heatmap": [
           {
            "colorbar": {
             "outlinewidth": 0,
             "ticks": ""
            },
            "colorscale": [
             [
              0,
              "#0d0887"
             ],
             [
              0.1111111111111111,
              "#46039f"
             ],
             [
              0.2222222222222222,
              "#7201a8"
             ],
             [
              0.3333333333333333,
              "#9c179e"
             ],
             [
              0.4444444444444444,
              "#bd3786"
             ],
             [
              0.5555555555555556,
              "#d8576b"
             ],
             [
              0.6666666666666666,
              "#ed7953"
             ],
             [
              0.7777777777777778,
              "#fb9f3a"
             ],
             [
              0.8888888888888888,
              "#fdca26"
             ],
             [
              1,
              "#f0f921"
             ]
            ],
            "type": "heatmap"
           }
          ],
          "heatmapgl": [
           {
            "colorbar": {
             "outlinewidth": 0,
             "ticks": ""
            },
            "colorscale": [
             [
              0,
              "#0d0887"
             ],
             [
              0.1111111111111111,
              "#46039f"
             ],
             [
              0.2222222222222222,
              "#7201a8"
             ],
             [
              0.3333333333333333,
              "#9c179e"
             ],
             [
              0.4444444444444444,
              "#bd3786"
             ],
             [
              0.5555555555555556,
              "#d8576b"
             ],
             [
              0.6666666666666666,
              "#ed7953"
             ],
             [
              0.7777777777777778,
              "#fb9f3a"
             ],
             [
              0.8888888888888888,
              "#fdca26"
             ],
             [
              1,
              "#f0f921"
             ]
            ],
            "type": "heatmapgl"
           }
          ],
          "histogram": [
           {
            "marker": {
             "pattern": {
              "fillmode": "overlay",
              "size": 10,
              "solidity": 0.2
             }
            },
            "type": "histogram"
           }
          ],
          "histogram2d": [
           {
            "colorbar": {
             "outlinewidth": 0,
             "ticks": ""
            },
            "colorscale": [
             [
              0,
              "#0d0887"
             ],
             [
              0.1111111111111111,
              "#46039f"
             ],
             [
              0.2222222222222222,
              "#7201a8"
             ],
             [
              0.3333333333333333,
              "#9c179e"
             ],
             [
              0.4444444444444444,
              "#bd3786"
             ],
             [
              0.5555555555555556,
              "#d8576b"
             ],
             [
              0.6666666666666666,
              "#ed7953"
             ],
             [
              0.7777777777777778,
              "#fb9f3a"
             ],
             [
              0.8888888888888888,
              "#fdca26"
             ],
             [
              1,
              "#f0f921"
             ]
            ],
            "type": "histogram2d"
           }
          ],
          "histogram2dcontour": [
           {
            "colorbar": {
             "outlinewidth": 0,
             "ticks": ""
            },
            "colorscale": [
             [
              0,
              "#0d0887"
             ],
             [
              0.1111111111111111,
              "#46039f"
             ],
             [
              0.2222222222222222,
              "#7201a8"
             ],
             [
              0.3333333333333333,
              "#9c179e"
             ],
             [
              0.4444444444444444,
              "#bd3786"
             ],
             [
              0.5555555555555556,
              "#d8576b"
             ],
             [
              0.6666666666666666,
              "#ed7953"
             ],
             [
              0.7777777777777778,
              "#fb9f3a"
             ],
             [
              0.8888888888888888,
              "#fdca26"
             ],
             [
              1,
              "#f0f921"
             ]
            ],
            "type": "histogram2dcontour"
           }
          ],
          "mesh3d": [
           {
            "colorbar": {
             "outlinewidth": 0,
             "ticks": ""
            },
            "type": "mesh3d"
           }
          ],
          "parcoords": [
           {
            "line": {
             "colorbar": {
              "outlinewidth": 0,
              "ticks": ""
             }
            },
            "type": "parcoords"
           }
          ],
          "pie": [
           {
            "automargin": true,
            "type": "pie"
           }
          ],
          "scatter": [
           {
            "marker": {
             "colorbar": {
              "outlinewidth": 0,
              "ticks": ""
             }
            },
            "type": "scatter"
           }
          ],
          "scatter3d": [
           {
            "line": {
             "colorbar": {
              "outlinewidth": 0,
              "ticks": ""
             }
            },
            "marker": {
             "colorbar": {
              "outlinewidth": 0,
              "ticks": ""
             }
            },
            "type": "scatter3d"
           }
          ],
          "scattercarpet": [
           {
            "marker": {
             "colorbar": {
              "outlinewidth": 0,
              "ticks": ""
             }
            },
            "type": "scattercarpet"
           }
          ],
          "scattergeo": [
           {
            "marker": {
             "colorbar": {
              "outlinewidth": 0,
              "ticks": ""
             }
            },
            "type": "scattergeo"
           }
          ],
          "scattergl": [
           {
            "marker": {
             "colorbar": {
              "outlinewidth": 0,
              "ticks": ""
             }
            },
            "type": "scattergl"
           }
          ],
          "scattermapbox": [
           {
            "marker": {
             "colorbar": {
              "outlinewidth": 0,
              "ticks": ""
             }
            },
            "type": "scattermapbox"
           }
          ],
          "scatterpolar": [
           {
            "marker": {
             "colorbar": {
              "outlinewidth": 0,
              "ticks": ""
             }
            },
            "type": "scatterpolar"
           }
          ],
          "scatterpolargl": [
           {
            "marker": {
             "colorbar": {
              "outlinewidth": 0,
              "ticks": ""
             }
            },
            "type": "scatterpolargl"
           }
          ],
          "scatterternary": [
           {
            "marker": {
             "colorbar": {
              "outlinewidth": 0,
              "ticks": ""
             }
            },
            "type": "scatterternary"
           }
          ],
          "surface": [
           {
            "colorbar": {
             "outlinewidth": 0,
             "ticks": ""
            },
            "colorscale": [
             [
              0,
              "#0d0887"
             ],
             [
              0.1111111111111111,
              "#46039f"
             ],
             [
              0.2222222222222222,
              "#7201a8"
             ],
             [
              0.3333333333333333,
              "#9c179e"
             ],
             [
              0.4444444444444444,
              "#bd3786"
             ],
             [
              0.5555555555555556,
              "#d8576b"
             ],
             [
              0.6666666666666666,
              "#ed7953"
             ],
             [
              0.7777777777777778,
              "#fb9f3a"
             ],
             [
              0.8888888888888888,
              "#fdca26"
             ],
             [
              1,
              "#f0f921"
             ]
            ],
            "type": "surface"
           }
          ],
          "table": [
           {
            "cells": {
             "fill": {
              "color": "#EBF0F8"
             },
             "line": {
              "color": "white"
             }
            },
            "header": {
             "fill": {
              "color": "#C8D4E3"
             },
             "line": {
              "color": "white"
             }
            },
            "type": "table"
           }
          ]
         },
         "layout": {
          "annotationdefaults": {
           "arrowcolor": "#2a3f5f",
           "arrowhead": 0,
           "arrowwidth": 1
          },
          "autotypenumbers": "strict",
          "coloraxis": {
           "colorbar": {
            "outlinewidth": 0,
            "ticks": ""
           }
          },
          "colorscale": {
           "diverging": [
            [
             0,
             "#8e0152"
            ],
            [
             0.1,
             "#c51b7d"
            ],
            [
             0.2,
             "#de77ae"
            ],
            [
             0.3,
             "#f1b6da"
            ],
            [
             0.4,
             "#fde0ef"
            ],
            [
             0.5,
             "#f7f7f7"
            ],
            [
             0.6,
             "#e6f5d0"
            ],
            [
             0.7,
             "#b8e186"
            ],
            [
             0.8,
             "#7fbc41"
            ],
            [
             0.9,
             "#4d9221"
            ],
            [
             1,
             "#276419"
            ]
           ],
           "sequential": [
            [
             0,
             "#0d0887"
            ],
            [
             0.1111111111111111,
             "#46039f"
            ],
            [
             0.2222222222222222,
             "#7201a8"
            ],
            [
             0.3333333333333333,
             "#9c179e"
            ],
            [
             0.4444444444444444,
             "#bd3786"
            ],
            [
             0.5555555555555556,
             "#d8576b"
            ],
            [
             0.6666666666666666,
             "#ed7953"
            ],
            [
             0.7777777777777778,
             "#fb9f3a"
            ],
            [
             0.8888888888888888,
             "#fdca26"
            ],
            [
             1,
             "#f0f921"
            ]
           ],
           "sequentialminus": [
            [
             0,
             "#0d0887"
            ],
            [
             0.1111111111111111,
             "#46039f"
            ],
            [
             0.2222222222222222,
             "#7201a8"
            ],
            [
             0.3333333333333333,
             "#9c179e"
            ],
            [
             0.4444444444444444,
             "#bd3786"
            ],
            [
             0.5555555555555556,
             "#d8576b"
            ],
            [
             0.6666666666666666,
             "#ed7953"
            ],
            [
             0.7777777777777778,
             "#fb9f3a"
            ],
            [
             0.8888888888888888,
             "#fdca26"
            ],
            [
             1,
             "#f0f921"
            ]
           ]
          },
          "colorway": [
           "#636efa",
           "#EF553B",
           "#00cc96",
           "#ab63fa",
           "#FFA15A",
           "#19d3f3",
           "#FF6692",
           "#B6E880",
           "#FF97FF",
           "#FECB52"
          ],
          "font": {
           "color": "#2a3f5f"
          },
          "geo": {
           "bgcolor": "white",
           "lakecolor": "white",
           "landcolor": "#E5ECF6",
           "showlakes": true,
           "showland": true,
           "subunitcolor": "white"
          },
          "hoverlabel": {
           "align": "left"
          },
          "hovermode": "closest",
          "mapbox": {
           "style": "light"
          },
          "paper_bgcolor": "white",
          "plot_bgcolor": "#E5ECF6",
          "polar": {
           "angularaxis": {
            "gridcolor": "white",
            "linecolor": "white",
            "ticks": ""
           },
           "bgcolor": "#E5ECF6",
           "radialaxis": {
            "gridcolor": "white",
            "linecolor": "white",
            "ticks": ""
           }
          },
          "scene": {
           "xaxis": {
            "backgroundcolor": "#E5ECF6",
            "gridcolor": "white",
            "gridwidth": 2,
            "linecolor": "white",
            "showbackground": true,
            "ticks": "",
            "zerolinecolor": "white"
           },
           "yaxis": {
            "backgroundcolor": "#E5ECF6",
            "gridcolor": "white",
            "gridwidth": 2,
            "linecolor": "white",
            "showbackground": true,
            "ticks": "",
            "zerolinecolor": "white"
           },
           "zaxis": {
            "backgroundcolor": "#E5ECF6",
            "gridcolor": "white",
            "gridwidth": 2,
            "linecolor": "white",
            "showbackground": true,
            "ticks": "",
            "zerolinecolor": "white"
           }
          },
          "shapedefaults": {
           "line": {
            "color": "#2a3f5f"
           }
          },
          "ternary": {
           "aaxis": {
            "gridcolor": "white",
            "linecolor": "white",
            "ticks": ""
           },
           "baxis": {
            "gridcolor": "white",
            "linecolor": "white",
            "ticks": ""
           },
           "bgcolor": "#E5ECF6",
           "caxis": {
            "gridcolor": "white",
            "linecolor": "white",
            "ticks": ""
           }
          },
          "title": {
           "x": 0.05
          },
          "xaxis": {
           "automargin": true,
           "gridcolor": "white",
           "linecolor": "white",
           "ticks": "",
           "title": {
            "standoff": 15
           },
           "zerolinecolor": "white",
           "zerolinewidth": 2
          },
          "yaxis": {
           "automargin": true,
           "gridcolor": "white",
           "linecolor": "white",
           "ticks": "",
           "title": {
            "standoff": 15
           },
           "zerolinecolor": "white",
           "zerolinewidth": 2
          }
         }
        }
       }
      }
     },
     "metadata": {},
     "output_type": "display_data"
    }
   ],
   "source": [
    "import plotly.express as px\n",
    "\n",
    "d = {'countries':countries,'numItalianTracksByCountry':numItalianTracksByCountry}\n",
    "data = pd.DataFrame(d, columns=['countries','numItalianTracksByCountry'])\n",
    "\n",
    "fig = px.choropleth(data, \n",
    "                    locations=\"countries\",\n",
    "                    locationmode='country names',\n",
    "                    color=\"numItalianTracksByCountry\", \n",
    "                    hover_name=\"countries\",\n",
    "                    color_continuous_scale='tealgrn')\n",
    "\n",
    "fig.show()"
   ]
  },
  {
   "cell_type": "markdown",
   "metadata": {},
   "source": [
    "#### Q15: Who is the artist present in the highest number of TOP 100 of different countries? Show also the countries in which he/she is present."
   ]
  },
  {
   "cell_type": "code",
   "execution_count": 23,
   "metadata": {},
   "outputs": [
    {
     "name": "stdout",
     "output_type": "stream",
     "text": [
      "Artist: Gigi D'Agostino\n",
      "numCountries: 30\n",
      "Countries: ['TOP 100 Poland', 'TOP 100 Germany', 'TOP 100 Austria', 'TOP 100 UK', 'TOP 100 Australia', 'TOP 100 Belgium', 'TOP 100 Mexico', 'TOP 100 Norway', 'TOP 100 Denmark', 'TOP 100 Taiwan', 'TOP 100 France', 'TOP 100 Brazil', 'TOP 100 Turkey', 'TOP 100 Ireland', 'TOP 100 Sweden', 'TOP 100 Netherlands', 'TOP 100 Portugal', 'TOP 100 Finland', 'TOP 100 Spain', 'TOP 100 Ecuador', 'TOP 100 New Zealand', 'TOP 100 Malaysia', 'TOP 100 Canada', 'TOP 100 Switzerland', 'TOP 100 Costa Rica', 'TOP 100 Indonesia', 'TOP 100 Colombia', 'TOP 100 USA', 'TOP 100 Singapore', 'TOP 100 Philippines']\n",
      "\n"
     ]
    }
   ],
   "source": [
    "# Q13: Who is the artist present in the highest number of different countries? Show also the countries in which he/she is present.\n",
    "\n",
    "# connect to the DB\n",
    "driver = GraphDatabase.driver(params.uri, auth=(params.user, params.dbpsw))\n",
    "# create a session\n",
    "session = driver.session()\n",
    "\n",
    "result = session.run(\"\"\"\n",
    "    MATCH (c1:Country{id:\"IT\"})<-[:hasNationality]-(p:Person)-[:isMemberOf]->(a:Artist)-[:partecipateIn]->(t:Track)-[:isPositionedIn]->(ch:Chart)-[:isReferredTo]->(c2:Country)\n",
    "    WHERE c2.id<>\"IT\"\n",
    "    RETURN a, COUNT(DISTINCT c2) AS numCountries, COLLECT(DISTINCT ch.name) AS charts\n",
    "    ORDER BY numCountries DESC\n",
    "    LIMIT 1\n",
    "\"\"\")\n",
    "\n",
    "for r in result:\n",
    "    returnedData = r.values()\n",
    "    print(\"Artist: {}\".format(returnedData[0][\"name\"]))\n",
    "    print(\"numCountries: {}\".format(returnedData[1]))\n",
    "    print(\"Countries: {}\".format(returnedData[2]))\n",
    "    print(\"\")\n",
    "session.close()\n",
    "driver.close()"
   ]
  },
  {
   "cell_type": "markdown",
   "metadata": {},
   "source": [
    "#### Q15: Who is the artist with the highest number of tracks present oustide Italy ? Show also the names of the tracks. "
   ]
  },
  {
   "cell_type": "code",
   "execution_count": 24,
   "metadata": {},
   "outputs": [
    {
     "name": "stdout",
     "output_type": "stream",
     "text": [
      "Artist: Sfera Ebbasta\n",
      "numItalianTracks: 12\n",
      "Tracks: ['McQueen', 'Rockstar', 'Uber', 'Peace & Love', 'Serpenti A Sonagli', 'Cupido (feat. Quavo)', 'Ricchi x Sempre', 'Sciroppo (feat. DrefGold)', 'Pablo', 'Bottiglie Privè', 'Dracula', 'Happy Birthday']\n",
      "\n"
     ]
    }
   ],
   "source": [
    "# Q15: Who is the artist with the highest number of tracks present oustide Italy ? Show also the names of the tracks. \n",
    "\n",
    "# connect to the DB\n",
    "driver = GraphDatabase.driver(params.uri, auth=(params.user, params.dbpsw))\n",
    "# create a session\n",
    "session = driver.session()\n",
    "\n",
    "result = session.run(\"\"\"\n",
    "MATCH (c1:Country{id:\"IT\"})<-[:hasNationality]-(p:Person)-[:isMemberOf]->(a:Artist)-[:partecipateIn]->(t:Track)-[:isPositionedIn]->(ch:Chart)-[:isReferredTo]->(c2:Country)\n",
    "WHERE c2.id<>\"IT\"\n",
    "RETURN a, COUNT(DISTINCT t) AS numTracks, COLLECT(DISTINCT t.name) as trackNames\n",
    "ORDER BY numTracks DESC\n",
    "LIMIT 1\n",
    "\"\"\")\n",
    "\n",
    "for r in result:\n",
    "    returnedData = r.values()\n",
    "    print(\"Artist: {}\".format(returnedData[0][\"name\"]))\n",
    "    print(\"numItalianTracks: {}\".format(returnedData[1]))\n",
    "    print(\"Tracks: {}\".format(returnedData[2]))\n",
    "    print(\"\")\n",
    "session.close()\n",
    "driver.close()"
   ]
  },
  {
   "cell_type": "markdown",
   "metadata": {},
   "source": [
    "We have shown that actually there are two different criteria to determine the most \"widespread\" Italian artist abroad:\n",
    "\n",
    "**1)** Count how many different countries the artist has reached excluding Italy. In this case, the best is ***Gigi D'Agostino***\n",
    "\n",
    "\n",
    "**2)** Count the total number of tracks present in countries outside Italy. In this case, the best is ***Sfera Ebbasta***"
   ]
  }
 ],
 "metadata": {
  "kernelspec": {
   "display_name": "Python 3",
   "language": "python",
   "name": "python3"
  },
  "language_info": {
   "codemirror_mode": {
    "name": "ipython",
    "version": 3
   },
   "file_extension": ".py",
   "mimetype": "text/x-python",
   "name": "python",
   "nbconvert_exporter": "python",
   "pygments_lexer": "ipython3",
   "version": "3.9.8"
  }
 },
 "nbformat": 4,
 "nbformat_minor": 2
}
