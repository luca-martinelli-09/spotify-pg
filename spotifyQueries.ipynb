{
 "cells": [
  {
   "cell_type": "markdown",
   "metadata": {},
   "source": [
    "## Spotify Query\n",
    "\n",
    "In this notebook we perform some query on our property graph about Spotify. In particular the queries will be divided into three parts:\n",
    "1. ***Example queries***: we perform two example queries where we show how it is possibile to use the new added information such as *record label* and *instruments*.\n",
    "1. ***Italian tracks and Italian artists from 2017 to 2020:*** we perfom some queries about italian tracks and artists present in the TOP 100 Italy.\n",
    "1. ***Italian tracks abroad:*** we want to discover if italian tracks are listened also outside Italy."
   ]
  },
  {
   "cell_type": "code",
   "execution_count": 1,
   "metadata": {},
   "outputs": [],
   "source": [
    "# Import required libraries\n",
    "import pandas as pd\n",
    "import calendar\n",
    "import numpy as np\n",
    "import matplotlib.pyplot as plt\n",
    "from IPython.display import display"
   ]
  },
  {
   "cell_type": "markdown",
   "metadata": {},
   "source": [
    "### Connection to Neo4j"
   ]
  },
  {
   "cell_type": "code",
   "execution_count": 2,
   "metadata": {},
   "outputs": [],
   "source": [
    "# Neo4J params class\n",
    "class Neo4jParams:\n",
    "  def __init__(self, user, psw,dbname,db_psw,uri):\n",
    "    self.user = user\n",
    "    self.psw = psw\n",
    "    self.dbname = dbname\n",
    "    self.dbpsw = dbpsw\n",
    "    self.uri = uri"
   ]
  },
  {
   "cell_type": "code",
   "execution_count": 3,
   "metadata": {},
   "outputs": [],
   "source": [
    "#DB parameters\n",
    "user = \"neo4j\"\n",
    "psw = \"neo4j\"\n",
    "dbname = \"SpotifyDB\"\n",
    "dbpsw = \"SpotifyDB\"\n",
    "uri = \"bolt://localhost:7687\"\n",
    "\n",
    "params = Neo4jParams(user,psw,dbname,dbpsw,uri)"
   ]
  },
  {
   "cell_type": "code",
   "execution_count": 4,
   "metadata": {},
   "outputs": [
    {
     "name": "stdout",
     "output_type": "stream",
     "text": [
      "hello, world, from node 44379\n"
     ]
    }
   ],
   "source": [
    "from neo4j import GraphDatabase\n",
    "\n",
    "# Test class\n",
    "class Driver:\n",
    "\n",
    "    def __init__(self, uri, user, password):\n",
    "        self.driver = GraphDatabase.driver(uri, auth=(user, password))\n",
    "\n",
    "    def close(self):\n",
    "        self.driver.close()\n",
    "\n",
    "    def print_greeting(self, message):\n",
    "        with self.driver.session() as session:\n",
    "            greeting = session.write_transaction(self._create_and_return_greeting, message)\n",
    "            print(greeting)\n",
    "\n",
    "    @staticmethod\n",
    "    def _create_and_return_greeting(tx, message):\n",
    "        result = tx.run(\"CREATE (a:Greeting) \"\n",
    "                        \"SET a.message = $message \"\n",
    "                        \"RETURN a.message + ', from node ' + id(a)\", message=message)\n",
    "        return result.single()[0]\n",
    "\n",
    "\n",
    "if __name__ == \"__main__\":\n",
    "    greeter = Driver(\"bolt://localhost:7687\", \"neo4j\", \"SpotifyDB\")\n",
    "    greeter.print_greeting(\"hello, world\")\n",
    "    greeter.close()"
   ]
  },
  {
   "cell_type": "markdown",
   "metadata": {},
   "source": [
    "## Plot utilities"
   ]
  },
  {
   "cell_type": "code",
   "execution_count": 5,
   "metadata": {},
   "outputs": [],
   "source": [
    "TITLE_PAD = 30\n",
    "TITLE_DIM = 30\n",
    "XY_LABEL_PAD = 23\n",
    "XY_LABEL_DIM = 21\n",
    "XY_TICKS_DIM = 18\n",
    "GRID_ALPHA = 0.2\n",
    "FILL_ALPHA = 0.05\n",
    "BAR_WIDTH = 0.95\n",
    "LEGEND_LOC = \"upper left\"\n",
    "LEGEND_LABEL_DIM = 15\n",
    "COLOR_SCHEME = [\"#1DB954\", \"#22577A\", \"#A03C78\", \"#C67ACE\"]\n",
    "\n",
    "FIG_SIZE = (18, 8)\n",
    "FIG_BG_COLOR = None # \"w\"\n",
    "FIG_DPI = 500\n",
    "FIG_BBOX = \"tight\"\n",
    "FIG_PAD = .3\n",
    "FIG_FORMATS = [\"png\", \"pdf\"]\n"
   ]
  },
  {
   "cell_type": "code",
   "execution_count": 6,
   "metadata": {},
   "outputs": [],
   "source": [
    "def plotResults(title=None, x=[], yArr=[],\n",
    "                yLabel=None, xLabel=None, xTicks=None, ticksRotation=0, legend=None,\n",
    "                bar=False, showGrid=False, gridAxis=\"both\", fillPlot=False,\n",
    "                figSize=FIG_SIZE, saveTitle=None):\n",
    "\n",
    "    plt.figure(figsize=figSize, facecolor=FIG_BG_COLOR)\n",
    "\n",
    "    maxY = None\n",
    "    minY = None\n",
    "    \n",
    "    if not title is None:\n",
    "        plt.title(title, fontsize=TITLE_DIM, pad=TITLE_PAD)\n",
    "    \n",
    "    numPlots = len(yArr)\n",
    "    for i, y in zip(range(numPlots), yArr):\n",
    "        label = None\n",
    "        try:\n",
    "            label = legend[i]\n",
    "        except:\n",
    "            pass\n",
    "        \n",
    "        yNum = [float(yVal) for yVal in y]\n",
    "        maxY = np.max(\n",
    "                        [np.max(yNum), maxY]\n",
    "                    ) if not maxY is None else np.max(yNum)\n",
    "        minY = np.min(\n",
    "                        [np.min(yNum), minY]\n",
    "        ) if not minY is None else np.min(yNum)\n",
    "\n",
    "        if bar:\n",
    "            barWidth = BAR_WIDTH / numPlots\n",
    "            xOffset = -BAR_WIDTH / 2 + barWidth / 2 + barWidth * i\n",
    "            plt.bar(x + xOffset, yNum, width=barWidth,\n",
    "                    label=label, align=\"center\", color=COLOR_SCHEME[i])\n",
    "        else:\n",
    "            plt.plot(x, yNum, label=label, color=COLOR_SCHEME[i])\n",
    "\n",
    "            if fillPlot:\n",
    "                plt.fill_between(x, yNum, alpha=FILL_ALPHA,\n",
    "                                 facecolor=COLOR_SCHEME[i])\n",
    "    \n",
    "    if not xLabel is None:\n",
    "        plt.xlabel(xLabel, labelpad=XY_LABEL_PAD, fontsize=XY_LABEL_DIM)\n",
    "\n",
    "    if not yLabel is None:\n",
    "        plt.ylabel(yLabel, labelpad=XY_LABEL_PAD, fontsize=XY_LABEL_DIM)\n",
    "\n",
    "    if not xTicks is None:\n",
    "        plt.xticks(x, xTicks, fontsize=XY_TICKS_DIM, rotation=ticksRotation)\n",
    "        \n",
    "    yPad = (maxY - minY) * 0.1\n",
    "    topLim = maxY + yPad * 2\n",
    "    infLim = minY - yPad if bar else minY - yPad\n",
    "    infLim = 0 if bar and minY >= 0 and minY <= yPad else infLim\n",
    "    plt.ylim(top=topLim, bottom=infLim)\n",
    "\n",
    "    plt.yticks(fontsize=XY_TICKS_DIM)\n",
    "\n",
    "    if showGrid:\n",
    "        plt.grid(alpha=GRID_ALPHA, axis=gridAxis)\n",
    "\n",
    "    if not legend is None:\n",
    "        plt.legend(loc=LEGEND_LOC, fontsize=LEGEND_LABEL_DIM)\n",
    "    \n",
    "    if not saveTitle is None:\n",
    "        baseDir = \"plots\"\n",
    "        if not os.path.exists(baseDir):\n",
    "            os.mkdir(\"plots\")\n",
    "\n",
    "        for figFormat in FIG_FORMATS:\n",
    "            saveDir = baseDir + \"/\" + figFormat\n",
    "            if not os.path.exists(saveDir):\n",
    "                os.mkdir(saveDir)\n",
    "\n",
    "            plt.savefig(saveDir + \"/\" + saveTitle + \".\" + figFormat,\n",
    "                        facecolor=FIG_BG_COLOR,\n",
    "                        dpi=FIG_DPI,\n",
    "                        bbox_inches=FIG_BBOX,\n",
    "                        pad_inches=FIG_PAD)\n",
    "\n",
    "    plt.show()\n"
   ]
  },
  {
   "cell_type": "markdown",
   "metadata": {},
   "source": [
    "### Example Queries\n",
    "\n",
    "##### Q1: Show artists of the same discographic house \n",
    "\n",
    "##### Q2: Show the most common played instrument in rock groups"
   ]
  },
  {
   "cell_type": "markdown",
   "metadata": {},
   "source": [
    "### Italian Tracks and Italian Artists\n",
    "\n",
    "#### Q3: On average how many tracks from Italian artists are present in Top 100 Italy for each year? (Grafico a barre)"
   ]
  },
  {
   "cell_type": "code",
   "execution_count": 7,
   "metadata": {},
   "outputs": [
    {
     "name": "stdout",
     "output_type": "stream",
     "text": [
      "Year: 2017\n",
      "avgNumItalianTracks: 31\n",
      "\n",
      "Year: 2018\n",
      "avgNumItalianTracks: 59\n",
      "\n",
      "Year: 2019\n",
      "avgNumItalianTracks: 66\n",
      "\n",
      "Year: 2020\n",
      "avgNumItalianTracks: 61\n",
      "\n"
     ]
    },
    {
     "data": {
      "image/png": "[encoded data removed]",
      "text/plain": [
       "<Figure size 1296x576 with 1 Axes>"
      ]
     },
     "metadata": {
      "needs_background": "light"
     },
     "output_type": "display_data"
    }
   ],
   "source": [
    "# Q3: On average how many tracks from italian artists are present in Top 100 Italy for each year?\n",
    "\n",
    "# connect to the DB\n",
    "driver = GraphDatabase.driver(params.uri, auth=(params.user, params.dbpsw))\n",
    "# create a session\n",
    "session = driver.session()\n",
    "\n",
    "result = session.run(\"\"\"\n",
    "    MATCH (c1:Country{id:\"IT\"})<-[:hasNationality]-(p:Person)-[:isMemberOf]->(a:Artist)-[:partecipateIn]->(t:Track)-[:isPositionedIn]->(ch:Chart)-[:isReferredTo]->(c2:Country{id:\"IT\"})\n",
    "    WITH ch,ch.date.year AS year, COUNT(DISTINCT t) as numTracks\n",
    "    RETURN year,avg(numTracks)\n",
    "    ORDER BY year\n",
    "\"\"\")\n",
    "\n",
    "# Define lists to contain the results\n",
    "years = []\n",
    "avgNumItalianTracks = []\n",
    "for r in result:\n",
    "    returnedData = r.values()\n",
    "    years.append(returnedData[0])\n",
    "    avgNumItalianTracks.append(int(returnedData[1]))\n",
    "\n",
    "# Print the results\n",
    "for i in range(0,len(years)):\n",
    "    print(\"Year: {}\".format(years[i]))\n",
    "    print(\"avgNumItalianTracks: {:d}\".format(avgNumItalianTracks[i]))\n",
    "    print(\"\")\n",
    "\n",
    "\n",
    "plotResults(\n",
    "    x=np.arange(len(years)),\n",
    "    yArr=[avgNumItalianTracks],\n",
    "    yLabel=\"Average number of Italian Tracks\",\n",
    "    xLabel=\"Year\",\n",
    "    xTicks=years,\n",
    "    showGrid=True,\n",
    "    gridAxis=\"y\",\n",
    "    bar=True,\n",
    "    saveTitle=\"query3\"\n",
    ")\n",
    "\n",
    "session.close()\n",
    "driver.close()"
   ]
  },
  {
   "cell_type": "markdown",
   "metadata": {},
   "source": [
    "As we can notice, in 2017 there were only 31 tracks on average in the TOP 100 Italy. We want to discovery if this is just a case of is there any reason behind this result.\n",
    "\n",
    "So, in the next query we will check how many tracks were released by italian artist for each year."
   ]
  },
  {
   "cell_type": "markdown",
   "metadata": {},
   "source": [
    "#### Q4: How many tracks were released from Italian artist every year from 2017 to 2020 ?"
   ]
  },
  {
   "cell_type": "code",
   "execution_count": 8,
   "metadata": {},
   "outputs": [
    {
     "name": "stdout",
     "output_type": "stream",
     "text": [
      "Year: 2017\n",
      "numItalianTracksReleased: 163\n",
      "\n",
      "Year: 2018\n",
      "numItalianTracksReleased: 307\n",
      "\n",
      "Year: 2019\n",
      "numItalianTracksReleased: 317\n",
      "\n",
      "Year: 2020\n",
      "numItalianTracksReleased: 303\n",
      "\n"
     ]
    },
    {
     "data": {
      "image/png": "[encoded data removed]",
      "text/plain": [
       "<Figure size 1296x576 with 1 Axes>"
      ]
     },
     "metadata": {
      "needs_background": "light"
     },
     "output_type": "display_data"
    }
   ],
   "source": [
    "# Q4: How many tracks were released from Italian artist every year from 2017 to 2020 ?\n",
    "\n",
    "# connect to the DB\n",
    "driver = GraphDatabase.driver(params.uri, auth=(params.user, params.dbpsw))\n",
    "# create a session\n",
    "session = driver.session()\n",
    "\n",
    "result = session.run(\"\"\"\n",
    "    MATCH (c1:Country{id:\"IT\"})<-[:hasNationality]-(p:Person)-[:isMemberOf]->(a:Artist)-[:partecipateIn]->(t:Track)-[:isPartOf]->(alb:Album)\n",
    "    WHERE alb.releaseDate.year >= 2017\n",
    "    WITH alb.releaseDate.year AS year, COUNT(DISTINCT t) as numTracks\n",
    "    RETURN year,numTracks\n",
    "    ORDER BY year\n",
    "\"\"\")\n",
    "\n",
    "# Define lists to contain the results\n",
    "years = []\n",
    "numItalianTracksReleased = []\n",
    "for r in result:\n",
    "    returnedData = r.values()\n",
    "    years.append(returnedData[0])\n",
    "    numItalianTracksReleased.append(int(returnedData[1]))\n",
    "\n",
    "# Print the results\n",
    "for i in range(0,len(years)):\n",
    "    print(\"Year: {}\".format(years[i]))\n",
    "    print(\"numItalianTracksReleased: {:d}\".format(numItalianTracksReleased[i]))\n",
    "    print(\"\")\n",
    "\n",
    "\n",
    "plotResults(\n",
    "    x=np.arange(len(years)),\n",
    "    yArr=[numItalianTracksReleased],\n",
    "    yLabel=\"number of Italian tracks Released\",\n",
    "    xLabel=\"Year\",\n",
    "    xTicks=years,\n",
    "    showGrid=True,\n",
    "    gridAxis=\"y\",\n",
    "    bar=True,\n",
    "    saveTitle=\"query4\"\n",
    ")\n",
    "\n",
    "session.close()\n",
    "driver.close()"
   ]
  },
  {
   "cell_type": "markdown",
   "metadata": {},
   "source": [
    "Since in 2017 Italian artists relased only 163 tracks (almost half of 2018,2019 and 2020), it is understandable why in 2017 there were only 31 tracks on average in the TOP 100 Italy."
   ]
  },
  {
   "cell_type": "markdown",
   "metadata": {},
   "source": [
    "#### Q5: How many different Italian artist entered at least once in Top 100 Italy for each Year ? (Grafico a barre)"
   ]
  },
  {
   "cell_type": "code",
   "execution_count": 9,
   "metadata": {},
   "outputs": [
    {
     "name": "stdout",
     "output_type": "stream",
     "text": [
      "Year: 2017\n",
      "numItalianArtists: 75\n",
      "\n",
      "Year: 2018\n",
      "numItalianArtists: 99\n",
      "\n",
      "Year: 2019\n",
      "numItalianArtists: 112\n",
      "\n",
      "Year: 2020\n",
      "numItalianArtists: 125\n",
      "\n"
     ]
    },
    {
     "data": {
      "image/png": "[encoded data removed]",
      "text/plain": [
       "<Figure size 1296x576 with 1 Axes>"
      ]
     },
     "metadata": {
      "needs_background": "light"
     },
     "output_type": "display_data"
    }
   ],
   "source": [
    "# Q5: How many different Italian artist entered at least once in Top 100 Italy for each Year ?\n",
    "\n",
    "# connect to the DB\n",
    "driver = GraphDatabase.driver(params.uri, auth=(params.user, params.dbpsw))\n",
    "# create a session\n",
    "session = driver.session()\n",
    "\n",
    "result = session.run(\"\"\"\n",
    "    MATCH (c1:Country{id:\"IT\"})<-[:hasNationality]-(p:Person)-[:isMemberOf]->(a:Artist)-[:partecipateIn]->(t:Track)-[:isPositionedIn]->(ch:Chart)-[:isReferredTo]->(c2:Country{id:\"IT\"})\n",
    "    WITH ch.date.year AS year, COUNT(DISTINCT a) as numArtists\n",
    "    RETURN year,numArtists\n",
    "    ORDER BY year\n",
    "\"\"\")\n",
    "\n",
    "# Define lists to contain the results\n",
    "years = []\n",
    "numItalianArtists = []\n",
    "for r in result:\n",
    "    returnedData = r.values()\n",
    "    years.append(returnedData[0])\n",
    "    numItalianArtists.append(int(returnedData[1]))\n",
    "\n",
    "# Print the results\n",
    "for i in range(0,len(years)):\n",
    "    print(\"Year: {}\".format(years[i]))\n",
    "    print(\"numItalianArtists: {:d}\".format(numItalianArtists[i]))\n",
    "    print(\"\")\n",
    "\n",
    "\n",
    "plotResults(\n",
    "    x=np.arange(len(years)),\n",
    "    yArr=[numItalianArtists],\n",
    "    yLabel=\"number of Italian artists\",\n",
    "    xLabel=\"Year\",\n",
    "    xTicks=years,\n",
    "    showGrid=True,\n",
    "    gridAxis=\"y\",\n",
    "    bar=True,\n",
    "    saveTitle=\"query5\"\n",
    ")\n",
    "\n",
    "session.close()\n",
    "driver.close()\n"
   ]
  },
  {
   "cell_type": "markdown",
   "metadata": {},
   "source": [
    "Now, since we have both the ***number of Italian Tracks*** and the ***number of Italian Artists*** for each year, we can compute a ratio: \n",
    "$$(numItalianTracks)/(numItalianArtists)$$\n",
    "to see on average how many tracks there are for each artist present in the TOP 100 Italy"
   ]
  },
  {
   "cell_type": "code",
   "execution_count": 10,
   "metadata": {},
   "outputs": [
    {
     "name": "stdout",
     "output_type": "stream",
     "text": [
      "Year: 2017\n",
      "Ratio: 2.17\n",
      "\n",
      "Year: 2018\n",
      "Ratio: 3.10\n",
      "\n",
      "Year: 2019\n",
      "Ratio: 2.83\n",
      "\n",
      "Year: 2020\n",
      "Ratio: 2.42\n",
      "\n"
     ]
    }
   ],
   "source": [
    "for i in range(0,len(years)):\n",
    "    print(\"Year: {}\".format(years[i]))\n",
    "    print(\"Ratio: {:.2f}\".format(numItalianTracksReleased[i]/numItalianArtists[i]))\n",
    "    print(\"\")"
   ]
  },
  {
   "cell_type": "markdown",
   "metadata": {},
   "source": [
    "It is possible to notice that even if in 2017 there were less Italian tracks and artists, the ratio is not so different from 2020."
   ]
  },
  {
   "cell_type": "markdown",
   "metadata": {},
   "source": [
    "#### Q6: On average how many tracks from Italian artists are present in Top 100 Italy through the different months of the year ? (Grafico a linea)"
   ]
  },
  {
   "cell_type": "code",
   "execution_count": 11,
   "metadata": {},
   "outputs": [
    {
     "name": "stdout",
     "output_type": "stream",
     "text": [
      "Year: Jan\n",
      "avgNumItalianTracksByMonth: 46\n",
      "\n",
      "Year: Feb\n",
      "avgNumItalianTracksByMonth: 52\n",
      "\n",
      "Year: Mar\n",
      "avgNumItalianTracksByMonth: 51\n",
      "\n",
      "Year: Apr\n",
      "avgNumItalianTracksByMonth: 47\n",
      "\n",
      "Year: May\n",
      "avgNumItalianTracksByMonth: 52\n",
      "\n",
      "Year: Jun\n",
      "avgNumItalianTracksByMonth: 54\n",
      "\n",
      "Year: Jul\n",
      "avgNumItalianTracksByMonth: 56\n",
      "\n",
      "Year: Aug\n",
      "avgNumItalianTracksByMonth: 54\n",
      "\n",
      "Year: Sep\n",
      "avgNumItalianTracksByMonth: 57\n",
      "\n",
      "Year: Oct\n",
      "avgNumItalianTracksByMonth: 59\n",
      "\n",
      "Year: Nov\n",
      "avgNumItalianTracksByMonth: 61\n",
      "\n",
      "Year: Dec\n",
      "avgNumItalianTracksByMonth: 58\n",
      "\n"
     ]
    },
    {
     "data": {
      "image/png": "[encoded data removed]",
      "text/plain": [
       "<Figure size 1296x576 with 1 Axes>"
      ]
     },
     "metadata": {
      "needs_background": "light"
     },
     "output_type": "display_data"
    }
   ],
   "source": [
    "# Q6: On average how many tracks from Italian artists are present in Top 100 Italy through the different months of the year ? \n",
    "\n",
    "# connect to the DB\n",
    "driver = GraphDatabase.driver(params.uri, auth=(params.user, params.dbpsw))\n",
    "# create a session\n",
    "session = driver.session()\n",
    "\n",
    "result = session.run(\"\"\"\n",
    "    MATCH (c1:Country{id:\"IT\"})<-[:hasNationality]-(p:Person)-[:isMemberOf]->(a:Artist)-[:partecipateIn]->(t:Track)-[:isPositionedIn]->(ch:Chart)-[:isReferredTo]->(c2:Country{id:\"IT\"})\n",
    "    WITH ch,ch.date.month AS month, COUNT(DISTINCT t) as numTracks\n",
    "    RETURN month,avg(numTracks)\n",
    "    ORDER BY month\n",
    "\"\"\")\n",
    "\n",
    "# Define lists to contain the results\n",
    "months = []\n",
    "avgNumItalianTracksByMonth = []\n",
    "for r in result:\n",
    "    returnedData = r.values()\n",
    "    months.append(calendar.month_abbr[returnedData[0]])\n",
    "    avgNumItalianTracksByMonth.append(int(returnedData[1]))\n",
    "\n",
    "# Print the results\n",
    "for i in range(0,len(months)):\n",
    "    print(\"Year: {}\".format(months[i]))\n",
    "    print(\"avgNumItalianTracksByMonth: {:d}\".format(avgNumItalianTracksByMonth[i]))\n",
    "    print(\"\")\n",
    "\n",
    "\n",
    "plotResults(\n",
    "    x=np.arange(len(months)),\n",
    "    yArr=[avgNumItalianTracksByMonth],\n",
    "    yLabel=\"avgNumItalianTracksByMonth\",\n",
    "    xLabel=\"Months\",\n",
    "    xTicks=months,\n",
    "    showGrid=True,\n",
    "    gridAxis=\"y\",\n",
    "    bar=False,\n",
    "    saveTitle=\"query6\"\n",
    ")\n",
    "\n",
    "session.close()\n",
    "driver.close()\n"
   ]
  },
  {
   "cell_type": "markdown",
   "metadata": {},
   "source": [
    "#### Q7: How many albums from Italian artists are released through the different months of the year ? (Grafico a linea)"
   ]
  },
  {
   "cell_type": "code",
   "execution_count": 26,
   "metadata": {},
   "outputs": [
    {
     "ename": "CypherSyntaxError",
     "evalue": "{code: Neo.ClientError.Statement.SyntaxError} {message: Invalid input 'T': expected 'l/L' (line 2, column 2 (offset: 6))\r\n\"    ATCH (c1:Country{id:\"IT\"})<-[:hasNationality]-(p:Person)-[:isMemberOf]->(a:Artist)-[:partecipateIn]->(alb:Album)\"\r\n      ^}",
     "output_type": "error",
     "traceback": [
      "\u001b[1;31m---------------------------------------------------------------------------\u001b[0m",
      "\u001b[1;31mCypherSyntaxError\u001b[0m                         Traceback (most recent call last)",
      "\u001b[1;32m~\\AppData\\Local\\Temp/ipykernel_4064/4270579586.py\u001b[0m in \u001b[0;36m<module>\u001b[1;34m\u001b[0m\n\u001b[0;32m      6\u001b[0m \u001b[0msession\u001b[0m \u001b[1;33m=\u001b[0m \u001b[0mdriver\u001b[0m\u001b[1;33m.\u001b[0m\u001b[0msession\u001b[0m\u001b[1;33m(\u001b[0m\u001b[1;33m)\u001b[0m\u001b[1;33m\u001b[0m\u001b[1;33m\u001b[0m\u001b[0m\n\u001b[0;32m      7\u001b[0m \u001b[1;33m\u001b[0m\u001b[0m\n\u001b[1;32m----> 8\u001b[1;33m result = session.run(\"\"\"\n\u001b[0m\u001b[0;32m      9\u001b[0m     \u001b[0mATCH\u001b[0m \u001b[1;33m(\u001b[0m\u001b[0mc1\u001b[0m\u001b[1;33m:\u001b[0m\u001b[0mCountry\u001b[0m\u001b[1;33m{\u001b[0m\u001b[0mid\u001b[0m\u001b[1;33m:\u001b[0m\u001b[1;34m\"IT\"\u001b[0m\u001b[1;33m}\u001b[0m\u001b[1;33m)\u001b[0m\u001b[1;33m<\u001b[0m\u001b[1;33m-\u001b[0m\u001b[1;33m[\u001b[0m\u001b[1;33m:\u001b[0m\u001b[0mhasNationality\u001b[0m\u001b[1;33m]\u001b[0m\u001b[1;33m-\u001b[0m\u001b[1;33m(\u001b[0m\u001b[0mp\u001b[0m\u001b[1;33m:\u001b[0m\u001b[0mPerson\u001b[0m\u001b[1;33m)\u001b[0m\u001b[1;33m-\u001b[0m\u001b[1;33m[\u001b[0m\u001b[1;33m:\u001b[0m\u001b[0misMemberOf\u001b[0m\u001b[1;33m]\u001b[0m\u001b[1;33m->\u001b[0m\u001b[1;33m(\u001b[0m\u001b[0ma\u001b[0m\u001b[1;33m:\u001b[0m\u001b[0mArtist\u001b[0m\u001b[1;33m)\u001b[0m\u001b[1;33m-\u001b[0m\u001b[1;33m[\u001b[0m\u001b[1;33m:\u001b[0m\u001b[0mpartecipateIn\u001b[0m\u001b[1;33m]\u001b[0m\u001b[1;33m->\u001b[0m\u001b[1;33m(\u001b[0m\u001b[0malb\u001b[0m\u001b[1;33m:\u001b[0m\u001b[0mAlbum\u001b[0m\u001b[1;33m)\u001b[0m\u001b[1;33m\u001b[0m\u001b[1;33m\u001b[0m\u001b[0m\n\u001b[0;32m     10\u001b[0m     \u001b[0mWITH\u001b[0m \u001b[0malb\u001b[0m\u001b[1;33m.\u001b[0m\u001b[0mreleaseDate\u001b[0m\u001b[1;33m.\u001b[0m\u001b[0mmonth\u001b[0m \u001b[0mAS\u001b[0m \u001b[0mmonth\u001b[0m\u001b[1;33m,\u001b[0m \u001b[0mCOUNT\u001b[0m\u001b[1;33m(\u001b[0m\u001b[0mDISTINCT\u001b[0m \u001b[0malb\u001b[0m\u001b[1;33m)\u001b[0m \u001b[1;32mas\u001b[0m \u001b[0mnumAlbums\u001b[0m\u001b[1;33m\u001b[0m\u001b[1;33m\u001b[0m\u001b[0m\n",
      "\u001b[1;32m~\\AppData\\Local\\Programs\\Python\\Python39\\lib\\site-packages\\neo4j\\work\\simple.py\u001b[0m in \u001b[0;36mrun\u001b[1;34m(self, query, parameters, **kwparameters)\u001b[0m\n\u001b[0;32m    213\u001b[0m             \u001b[0mself\u001b[0m\u001b[1;33m.\u001b[0m\u001b[0m_result_error\u001b[0m\u001b[1;33m\u001b[0m\u001b[1;33m\u001b[0m\u001b[0m\n\u001b[0;32m    214\u001b[0m         )\n\u001b[1;32m--> 215\u001b[1;33m         self._autoResult._run(\n\u001b[0m\u001b[0;32m    216\u001b[0m             \u001b[0mquery\u001b[0m\u001b[1;33m,\u001b[0m \u001b[0mparameters\u001b[0m\u001b[1;33m,\u001b[0m \u001b[0mself\u001b[0m\u001b[1;33m.\u001b[0m\u001b[0m_config\u001b[0m\u001b[1;33m.\u001b[0m\u001b[0mdatabase\u001b[0m\u001b[1;33m,\u001b[0m\u001b[1;33m\u001b[0m\u001b[1;33m\u001b[0m\u001b[0m\n\u001b[0;32m    217\u001b[0m             \u001b[0mself\u001b[0m\u001b[1;33m.\u001b[0m\u001b[0m_config\u001b[0m\u001b[1;33m.\u001b[0m\u001b[0mimpersonated_user\u001b[0m\u001b[1;33m,\u001b[0m \u001b[0mself\u001b[0m\u001b[1;33m.\u001b[0m\u001b[0m_config\u001b[0m\u001b[1;33m.\u001b[0m\u001b[0mdefault_access_mode\u001b[0m\u001b[1;33m,\u001b[0m\u001b[1;33m\u001b[0m\u001b[1;33m\u001b[0m\u001b[0m\n",
      "\u001b[1;32m~\\AppData\\Local\\Programs\\Python\\Python39\\lib\\site-packages\\neo4j\\work\\result.py\u001b[0m in \u001b[0;36m_run\u001b[1;34m(self, query, parameters, db, imp_user, access_mode, bookmarks, **kwparameters)\u001b[0m\n\u001b[0;32m    112\u001b[0m         \u001b[0mself\u001b[0m\u001b[1;33m.\u001b[0m\u001b[0m_pull\u001b[0m\u001b[1;33m(\u001b[0m\u001b[1;33m)\u001b[0m\u001b[1;33m\u001b[0m\u001b[1;33m\u001b[0m\u001b[0m\n\u001b[0;32m    113\u001b[0m         \u001b[0mself\u001b[0m\u001b[1;33m.\u001b[0m\u001b[0m_connection\u001b[0m\u001b[1;33m.\u001b[0m\u001b[0msend_all\u001b[0m\u001b[1;33m(\u001b[0m\u001b[1;33m)\u001b[0m\u001b[1;33m\u001b[0m\u001b[1;33m\u001b[0m\u001b[0m\n\u001b[1;32m--> 114\u001b[1;33m         \u001b[0mself\u001b[0m\u001b[1;33m.\u001b[0m\u001b[0m_attach\u001b[0m\u001b[1;33m(\u001b[0m\u001b[1;33m)\u001b[0m\u001b[1;33m\u001b[0m\u001b[1;33m\u001b[0m\u001b[0m\n\u001b[0m\u001b[0;32m    115\u001b[0m \u001b[1;33m\u001b[0m\u001b[0m\n\u001b[0;32m    116\u001b[0m     \u001b[1;32mdef\u001b[0m \u001b[0m_pull\u001b[0m\u001b[1;33m(\u001b[0m\u001b[0mself\u001b[0m\u001b[1;33m)\u001b[0m\u001b[1;33m:\u001b[0m\u001b[1;33m\u001b[0m\u001b[1;33m\u001b[0m\u001b[0m\n",
      "\u001b[1;32m~\\AppData\\Local\\Programs\\Python\\Python39\\lib\\site-packages\\neo4j\\work\\result.py\u001b[0m in \u001b[0;36m_attach\u001b[1;34m(self)\u001b[0m\n\u001b[0;32m    201\u001b[0m         \u001b[1;32mif\u001b[0m \u001b[0mself\u001b[0m\u001b[1;33m.\u001b[0m\u001b[0m_closed\u001b[0m \u001b[1;32mis\u001b[0m \u001b[1;32mFalse\u001b[0m\u001b[1;33m:\u001b[0m\u001b[1;33m\u001b[0m\u001b[1;33m\u001b[0m\u001b[0m\n\u001b[0;32m    202\u001b[0m             \u001b[1;32mwhile\u001b[0m \u001b[0mself\u001b[0m\u001b[1;33m.\u001b[0m\u001b[0m_attached\u001b[0m \u001b[1;32mis\u001b[0m \u001b[1;32mFalse\u001b[0m\u001b[1;33m:\u001b[0m\u001b[1;33m\u001b[0m\u001b[1;33m\u001b[0m\u001b[0m\n\u001b[1;32m--> 203\u001b[1;33m                 \u001b[0mself\u001b[0m\u001b[1;33m.\u001b[0m\u001b[0m_connection\u001b[0m\u001b[1;33m.\u001b[0m\u001b[0mfetch_message\u001b[0m\u001b[1;33m(\u001b[0m\u001b[1;33m)\u001b[0m\u001b[1;33m\u001b[0m\u001b[1;33m\u001b[0m\u001b[0m\n\u001b[0m\u001b[0;32m    204\u001b[0m \u001b[1;33m\u001b[0m\u001b[0m\n\u001b[0;32m    205\u001b[0m     \u001b[1;32mdef\u001b[0m \u001b[0m_buffer\u001b[0m\u001b[1;33m(\u001b[0m\u001b[0mself\u001b[0m\u001b[1;33m,\u001b[0m \u001b[0mn\u001b[0m\u001b[1;33m=\u001b[0m\u001b[1;32mNone\u001b[0m\u001b[1;33m)\u001b[0m\u001b[1;33m:\u001b[0m\u001b[1;33m\u001b[0m\u001b[1;33m\u001b[0m\u001b[0m\n",
      "\u001b[1;32m~\\AppData\\Local\\Programs\\Python\\Python39\\lib\\site-packages\\neo4j\\io\\_common.py\u001b[0m in \u001b[0;36minner\u001b[1;34m(*args, **kwargs)\u001b[0m\n\u001b[0;32m    165\u001b[0m             \u001b[1;32mdef\u001b[0m \u001b[0minner\u001b[0m\u001b[1;33m(\u001b[0m\u001b[1;33m*\u001b[0m\u001b[0margs\u001b[0m\u001b[1;33m,\u001b[0m \u001b[1;33m**\u001b[0m\u001b[0mkwargs\u001b[0m\u001b[1;33m)\u001b[0m\u001b[1;33m:\u001b[0m\u001b[1;33m\u001b[0m\u001b[1;33m\u001b[0m\u001b[0m\n\u001b[0;32m    166\u001b[0m                 \u001b[1;32mtry\u001b[0m\u001b[1;33m:\u001b[0m\u001b[1;33m\u001b[0m\u001b[1;33m\u001b[0m\u001b[0m\n\u001b[1;32m--> 167\u001b[1;33m                     \u001b[0mfunc\u001b[0m\u001b[1;33m(\u001b[0m\u001b[1;33m*\u001b[0m\u001b[0margs\u001b[0m\u001b[1;33m,\u001b[0m \u001b[1;33m**\u001b[0m\u001b[0mkwargs\u001b[0m\u001b[1;33m)\u001b[0m\u001b[1;33m\u001b[0m\u001b[1;33m\u001b[0m\u001b[0m\n\u001b[0m\u001b[0;32m    168\u001b[0m                 \u001b[1;32mexcept\u001b[0m \u001b[1;33m(\u001b[0m\u001b[0mNeo4jError\u001b[0m\u001b[1;33m,\u001b[0m \u001b[0mServiceUnavailable\u001b[0m\u001b[1;33m,\u001b[0m \u001b[0mSessionExpired\u001b[0m\u001b[1;33m)\u001b[0m \u001b[1;32mas\u001b[0m \u001b[0mexc\u001b[0m\u001b[1;33m:\u001b[0m\u001b[1;33m\u001b[0m\u001b[1;33m\u001b[0m\u001b[0m\n\u001b[0;32m    169\u001b[0m                     \u001b[0mself\u001b[0m\u001b[1;33m.\u001b[0m\u001b[0m__on_error\u001b[0m\u001b[1;33m(\u001b[0m\u001b[0mexc\u001b[0m\u001b[1;33m)\u001b[0m\u001b[1;33m\u001b[0m\u001b[1;33m\u001b[0m\u001b[0m\n",
      "\u001b[1;32m~\\AppData\\Local\\Programs\\Python\\Python39\\lib\\site-packages\\neo4j\\io\\_bolt4.py\u001b[0m in \u001b[0;36mfetch_message\u001b[1;34m(self)\u001b[0m\n\u001b[0;32m    307\u001b[0m             \u001b[0mself\u001b[0m\u001b[1;33m.\u001b[0m\u001b[0m_server_state_manager\u001b[0m\u001b[1;33m.\u001b[0m\u001b[0mstate\u001b[0m \u001b[1;33m=\u001b[0m \u001b[0mServerStates\u001b[0m\u001b[1;33m.\u001b[0m\u001b[0mFAILED\u001b[0m\u001b[1;33m\u001b[0m\u001b[1;33m\u001b[0m\u001b[0m\n\u001b[0;32m    308\u001b[0m             \u001b[1;32mtry\u001b[0m\u001b[1;33m:\u001b[0m\u001b[1;33m\u001b[0m\u001b[1;33m\u001b[0m\u001b[0m\n\u001b[1;32m--> 309\u001b[1;33m                 \u001b[0mresponse\u001b[0m\u001b[1;33m.\u001b[0m\u001b[0mon_failure\u001b[0m\u001b[1;33m(\u001b[0m\u001b[0msummary_metadata\u001b[0m \u001b[1;32mor\u001b[0m \u001b[1;33m{\u001b[0m\u001b[1;33m}\u001b[0m\u001b[1;33m)\u001b[0m\u001b[1;33m\u001b[0m\u001b[1;33m\u001b[0m\u001b[0m\n\u001b[0m\u001b[0;32m    310\u001b[0m             \u001b[1;32mexcept\u001b[0m \u001b[1;33m(\u001b[0m\u001b[0mServiceUnavailable\u001b[0m\u001b[1;33m,\u001b[0m \u001b[0mDatabaseUnavailable\u001b[0m\u001b[1;33m)\u001b[0m\u001b[1;33m:\u001b[0m\u001b[1;33m\u001b[0m\u001b[1;33m\u001b[0m\u001b[0m\n\u001b[0;32m    311\u001b[0m                 \u001b[1;32mif\u001b[0m \u001b[0mself\u001b[0m\u001b[1;33m.\u001b[0m\u001b[0mpool\u001b[0m\u001b[1;33m:\u001b[0m\u001b[1;33m\u001b[0m\u001b[1;33m\u001b[0m\u001b[0m\n",
      "\u001b[1;32m~\\AppData\\Local\\Programs\\Python\\Python39\\lib\\site-packages\\neo4j\\io\\_common.py\u001b[0m in \u001b[0;36mon_failure\u001b[1;34m(self, metadata)\u001b[0m\n\u001b[0;32m    223\u001b[0m         \u001b[1;32mif\u001b[0m \u001b[0mcallable\u001b[0m\u001b[1;33m(\u001b[0m\u001b[0mhandler\u001b[0m\u001b[1;33m)\u001b[0m\u001b[1;33m:\u001b[0m\u001b[1;33m\u001b[0m\u001b[1;33m\u001b[0m\u001b[0m\n\u001b[0;32m    224\u001b[0m             \u001b[0mhandler\u001b[0m\u001b[1;33m(\u001b[0m\u001b[1;33m)\u001b[0m\u001b[1;33m\u001b[0m\u001b[1;33m\u001b[0m\u001b[0m\n\u001b[1;32m--> 225\u001b[1;33m         \u001b[1;32mraise\u001b[0m \u001b[0mNeo4jError\u001b[0m\u001b[1;33m.\u001b[0m\u001b[0mhydrate\u001b[0m\u001b[1;33m(\u001b[0m\u001b[1;33m**\u001b[0m\u001b[0mmetadata\u001b[0m\u001b[1;33m)\u001b[0m\u001b[1;33m\u001b[0m\u001b[1;33m\u001b[0m\u001b[0m\n\u001b[0m\u001b[0;32m    226\u001b[0m \u001b[1;33m\u001b[0m\u001b[0m\n\u001b[0;32m    227\u001b[0m     \u001b[1;32mdef\u001b[0m \u001b[0mon_ignored\u001b[0m\u001b[1;33m(\u001b[0m\u001b[0mself\u001b[0m\u001b[1;33m,\u001b[0m \u001b[0mmetadata\u001b[0m\u001b[1;33m=\u001b[0m\u001b[1;32mNone\u001b[0m\u001b[1;33m)\u001b[0m\u001b[1;33m:\u001b[0m\u001b[1;33m\u001b[0m\u001b[1;33m\u001b[0m\u001b[0m\n",
      "\u001b[1;31mCypherSyntaxError\u001b[0m: {code: Neo.ClientError.Statement.SyntaxError} {message: Invalid input 'T': expected 'l/L' (line 2, column 2 (offset: 6))\r\n\"    ATCH (c1:Country{id:\"IT\"})<-[:hasNationality]-(p:Person)-[:isMemberOf]->(a:Artist)-[:partecipateIn]->(alb:Album)\"\r\n      ^}"
     ]
    }
   ],
   "source": [
    "#Q7: How many albums from Italian artists are released through the different months of the year ? \n",
    "\n",
    "# connect to the DB\n",
    "driver = GraphDatabase.driver(params.uri, auth=(params.user, params.dbpsw))\n",
    "# create a session\n",
    "session = driver.session()\n",
    "\n",
    "result = session.run(\"\"\"\n",
    "    ATCH (c1:Country{id:\"IT\"})<-[:hasNationality]-(p:Person)-[:isMemberOf]->(a:Artist)-[:partecipateIn]->(alb:Album)\n",
    "    WITH alb.releaseDate.month AS month, COUNT(DISTINCT alb) as numAlbums\n",
    "    RETURN month,numAlbums\n",
    "    ORDER BY month\n",
    "\"\"\")\n",
    "\n",
    "# Define lists to contain the results\n",
    "months = []\n",
    "numItalianAlbumsReleasedByMonth = []\n",
    "for r in result:\n",
    "    returnedData = r.values()\n",
    "    months.append(calendar.month_abbr[returnedData[0]])\n",
    "    numItalianAlbumsReleasedByMonth.append(int(returnedData[1]))\n",
    "\n",
    "# Print the results\n",
    "for i in range(0,len(months)):\n",
    "    print(\"Year: {}\".format(months[i]))\n",
    "    print(\"numItalianAlbumsReleasedByMonth: {:d}\".format(numItalianAlbumsReleasedByMonth[i]))\n",
    "    print(\"\")\n",
    "\n",
    "\n",
    "plotResults(\n",
    "    x=np.arange(len(months)),\n",
    "    yArr=[numItalianAlbumsReleasedByMonth],\n",
    "    yLabel=\"numItalianAlbumsReleasedByMonth\",\n",
    "    xLabel=\"Months\",\n",
    "    xTicks=months,\n",
    "    showGrid=True,\n",
    "    gridAxis=\"y\",\n",
    "    bar=False,\n",
    "    saveTitle=\"query7\"\n",
    ")\n",
    "\n",
    "session.close()\n",
    "driver.close()"
   ]
  },
  {
   "cell_type": "markdown",
   "metadata": {},
   "source": [
    "#### Q7: Who is the Italian artist with the highest number of tracks present in Top 100 Italy for each year? (Nomi degli artisti)"
   ]
  },
  {
   "cell_type": "code",
   "execution_count": 12,
   "metadata": {},
   "outputs": [
    {
     "name": "stdout",
     "output_type": "stream",
     "text": [
      "Year: 2017\n",
      "Artist: Guè\n",
      "numTracks: 20\n",
      "\n",
      "Year: 2018\n",
      "Artist: Gemitaiz\n",
      "numTracks: 28\n",
      "\n",
      "Year: 2019\n",
      "Artist: MadMan\n",
      "numTracks: 30\n",
      "\n",
      "Year: 2020\n",
      "Artist: tha Supreme\n",
      "numTracks: 35\n",
      "\n"
     ]
    }
   ],
   "source": [
    "# Q7: Who is the Italian artist with the highest number of tracks present in Top 100 Italy for each year?\n",
    "\n",
    "# connect to the DB\n",
    "driver = GraphDatabase.driver(params.uri, auth=(params.user, params.dbpsw))\n",
    "# create a session\n",
    "session = driver.session()\n",
    "\n",
    "result = session.run(\"\"\"\n",
    "    MATCH (c1:Country{id:\"IT\"})<-[:hasNationality]-(p:Person)-[:isMemberOf]->(a:Artist)-[:partecipateIn]->(t:Track)-[:isPositionedIn]->(ch:Chart)-[:isReferredTo]->(c2:Country{id:\"IT\"})\n",
    "    WITH a,ch.date.year AS year, COUNT(DISTINCT t) as numTracks\n",
    "    ORDER BY numTracks DESC\n",
    "    WITH year,COLLECT(a) AS artists, COLLECT(numTracks) as orderedNumTracks\n",
    "    RETURN DISTINCT year,artists[0],orderedNumTracks[0]\n",
    "    ORDER BY year\n",
    "\"\"\")\n",
    "\n",
    "# Define lists to contain the results\n",
    "years = []\n",
    "topArtistsByYear = []\n",
    "numTracks = []\n",
    "for r in result:\n",
    "    returnedData = r.values()\n",
    "    years.append(returnedData[0])\n",
    "    topArtistsByYear.append(returnedData[1][\"name\"])\n",
    "    numTracks.append(returnedData[2])\n",
    "\n",
    "# Print the results\n",
    "for i in range(0,len(years)):\n",
    "    print(\"Year: {}\".format(years[i]))\n",
    "    print(\"Artist: {}\".format(topArtistsByYear[i]))\n",
    "    print(\"numTracks: {}\".format(numTracks[i]))\n",
    "    print(\"\")\n",
    "\n",
    "session.close()\n",
    "driver.close()\n"
   ]
  },
  {
   "cell_type": "markdown",
   "metadata": {},
   "source": [
    "#### Q8: Show the most common position in the TOP 100 Italy obtained by the just retrieved artist."
   ]
  },
  {
   "cell_type": "code",
   "execution_count": 13,
   "metadata": {},
   "outputs": [
    {
     "name": "stdout",
     "output_type": "stream",
     "text": [
      "Artist: Guè\n",
      "positions: [73, 9, 42, 84, 54, 37, 69, 81, 11, 83, 64, 53, 32, 90, 60, 93, 48, 60, 30, 89, 5, 56, 43, 88, 55, 76, 99, 76, 74, 65, 25, 48, 41, 21, 2, 70, 44, 40, 86, 98, 79, 51, 11, 34, 59, 81, 50, 41, 85, 73, 16, 8, 93, 58, 26, 70, 91, 64, 27, 89, 30, 88, 64, 5, 76, 32, 57, 87, 53, 90, 100, 80, 27, 84, 53, 45, 58, 82, 36, 71, 9, 76, 90, 93, 62, 32, 12, 72, 38, 78, 92, 49, 11, 32, 8, 86, 72, 63, 39, 93, 36, 11, 87, 69, 95, 86, 85, 8, 50, 52, 75, 71, 40, 73, 96, 42, 29, 97, 53, 29, 84, 13, 35, 19, 15, 14, 48, 4, 32, 44, 1, 50, 36, 6, 79, 70, 47, 17, 95, 83, 93, 78, 24, 53, 12, 64, 6, 84, 93, 39, 79, 35, 99, 69, 7, 70, 21, 78, 48, 43, 53, 83]\n",
      "\n",
      "Artist: Gemitaiz\n",
      "positions: [71, 12, 86, 6, 84, 27, 76, 56, 48, 26, 95, 8, 29, 39, 37, 14, 12, 21, 26, 16, 10, 2, 33, 21, 72, 37, 66, 80, 50, 18, 88, 70, 38, 55, 62, 91, 4, 72, 80, 29, 100, 93, 88, 76, 12, 60, 46, 37, 99, 88, 56, 73, 6, 19, 76, 7, 77, 72, 17, 65, 86, 75, 74, 13, 69, 4, 71, 29, 72, 68, 78, 14, 65, 70, 84, 54, 73, 71, 53, 5, 98, 39, 88, 100, 82, 51, 16, 24, 16, 81, 38, 99, 8, 93, 41, 40, 26, 79, 74, 5, 75, 84, 13, 50, 73, 89, 47, 96, 17, 68, 5, 49, 32, 45, 31, 44, 65, 18, 89, 68, 4, 50, 95, 60, 48, 49, 33, 53, 72, 32, 19, 80, 72, 58, 93, 67, 43, 40, 98, 58, 60, 27, 70, 4, 80, 48, 96, 69, 82, 78, 88, 81, 38, 4, 83, 97, 41, 57, 8, 70, 94, 74, 31, 61, 81, 4, 85, 25, 49, 90, 88, 55, 63, 90, 52, 34, 41, 94, 56, 12, 63, 81, 7, 30, 2, 42, 59, 47, 11, 39, 37, 89, 43, 22, 28, 19, 9, 31, 4, 11, 81, 33, 18, 15, 48, 85, 22, 24, 73, 64, 60, 74, 13, 13, 74, 62, 72, 59, 12]\n",
      "\n",
      "Artist: MadMan\n",
      "positions: [54, 62, 34, 15, 43, 42, 38, 81, 95, 80, 12, 52, 48, 39, 17, 53, 81, 87, 54, 31, 43, 1, 29, 89, 43, 64, 69, 85, 78, 39, 42, 51, 30, 31, 55, 43, 48, 65, 47, 70, 16, 49, 75, 46, 27, 89, 30, 6, 47, 24, 12, 7, 11, 48, 13, 34, 15, 20, 31, 33, 40, 99, 51, 66, 8, 17, 15, 7, 1, 18, 11, 3, 9, 23, 6, 16, 30, 96, 4, 62, 36, 42, 21, 34, 40, 24, 59, 75, 4, 55, 43, 42, 30, 63, 28, 47, 15, 78, 80, 56, 73, 83, 90, 89, 97, 57, 55, 77, 11, 58, 56, 65, 7, 79, 58, 70, 17, 78, 32, 93, 94, 8, 39, 31]\n",
      "\n",
      "Artist: tha Supreme\n",
      "positions: [26, 66, 17, 75, 18, 90, 20, 99, 2, 87, 8, 26, 19, 75, 16, 41, 27, 1, 63, 50, 26, 65, 48, 53, 3, 35, 86, 60, 6, 91, 58, 17, 88, 45, 16, 72, 43, 42, 76, 13, 58, 62, 28, 29, 5, 28, 36, 6, 90, 20, 1, 22, 3, 45, 12, 17, 61, 16, 82, 29, 12, 81, 22, 64, 77, 15, 52, 43, 31, 18, 35, 31, 89, 12, 29, 6, 92, 8, 4, 86, 20, 41, 12, 22, 99, 10, 29, 2, 3, 8, 91, 85, 94, 18, 19, 7, 24, 40, 18, 95, 9, 36, 86, 32, 60, 21, 56, 69, 26, 96, 27, 28, 88, 49, 9, 24, 85, 32, 57, 14, 16, 59, 28, 86, 32, 9, 3, 83, 40, 31, 48, 18, 16, 88, 91, 57, 95, 11, 88, 8, 27, 29, 28, 1, 32, 35, 39, 10, 17, 26, 29, 97, 5, 81, 2, 6, 62, 63, 99, 75, 1, 36, 57, 86, 80, 10, 74, 37, 37, 11, 74, 42, 65, 78, 45, 5, 31, 23, 3, 22, 86, 58, 37, 47, 50, 1, 48, 63, 51, 72, 6, 16, 100, 35, 88, 11, 21, 45, 82, 6, 15, 53, 24, 38, 82, 80, 17, 44, 25, 1, 50, 20, 38, 61, 92, 42, 8, 32, 85, 14, 29, 64, 55, 4, 27, 24, 28, 82, 37, 76, 14, 15, 6, 96, 12, 1, 24, 17, 48, 40, 82, 7, 34, 52, 70, 66, 55, 5, 59, 72, 44, 2, 8, 49, 31, 81, 32, 36, 22, 61, 12, 49, 75, 97, 59, 94, 13, 9, 78, 2, 86, 64, 70, 69, 1, 18, 44, 20, 3, 84, 99, 14, 62, 90, 18, 92, 14, 98, 52, 63, 51, 88, 59, 16, 92, 20, 32, 6, 76, 92, 39, 16, 27, 73, 62, 14, 22, 17, 99, 89, 10, 32, 95]\n",
      "\n"
     ]
    },
    {
     "data": {
      "image/png": "[encoded data removed]",
      "text/plain": [
       "<Figure size 432x288 with 1 Axes>"
      ]
     },
     "metadata": {
      "needs_background": "light"
     },
     "output_type": "display_data"
    }
   ],
   "source": [
    "# Q9: Show the top 3 Italian artists with the highest number of tracks present in Top 100 Italy at the same time.\n",
    "\n",
    "# connect to the DB\n",
    "driver = GraphDatabase.driver(params.uri, auth=(params.user, params.dbpsw))\n",
    "# create a session\n",
    "session = driver.session()\n",
    "\n",
    "# Define lists to contain the results\n",
    "positions = []\n",
    "\n",
    "for i in range(0,len(topArtistsByYear)):\n",
    "    result = session.run(\"\"\"\n",
    "        MATCH (a:Artist {name:$name})-[:partecipateIn]->(t:Track)-[r:isPositionedIn]->(ch:Chart)-[:isReferredTo]->(c2:Country{id:\"IT\"})\n",
    "        WHERE ch.date >= date({year: $year, month: 1, day: 1}) AND ch.date <= date({year: $year, month: 12, day: 31})\n",
    "        RETURN a,COLLECT(r.position) AS positions\n",
    "    \"\"\",name=topArtistsByYear[i],year=years[i])\n",
    "\n",
    "    for r in result:\n",
    "        returnedData = r.values()\n",
    "        positions.append(returnedData[1])\n",
    "\n",
    "# Print the results\n",
    "for i in range(0,len(topArtistsByYear)):\n",
    "    print(\"Artist: {}\".format(topArtistsByYear[i]))\n",
    "    print(\"positions: {}\".format(positions[i]))\n",
    "    print(\"\")\n",
    "\n",
    "plt.boxplot(positions)\n",
    "\n",
    "session.close()\n",
    "driver.close()\n",
    "\n"
   ]
  },
  {
   "cell_type": "markdown",
   "metadata": {},
   "source": [
    "####  Q9: Show the top 3 Italian artists with the highest number of tracks present in Top 100 Italy at the same time."
   ]
  },
  {
   "cell_type": "code",
   "execution_count": 14,
   "metadata": {},
   "outputs": [
    {
     "name": "stdout",
     "output_type": "stream",
     "text": [
      "Artist: tha Supreme\n",
      "Chart: top-100-IT-2019-11-17\n",
      "numTracks: 24\n",
      "\n",
      "Artist: Marracash\n",
      "Chart: top-100-IT-2019-11-17\n",
      "numTracks: 19\n",
      "\n",
      "Artist: Ultimo\n",
      "Chart: top-100-IT-2019-04-07\n",
      "numTracks: 18\n",
      "\n"
     ]
    }
   ],
   "source": [
    "# Q9: Show the top 3 Italian artists with the highest number of tracks present in Top 100 Italy at the same time.\n",
    "\n",
    "# connect to the DB\n",
    "driver = GraphDatabase.driver(params.uri, auth=(params.user, params.dbpsw))\n",
    "# create a session\n",
    "session = driver.session()\n",
    "\n",
    "result = session.run(\"\"\"\n",
    "    MATCH (c1:Country{id:\"IT\"})<-[:hasNationality]-(p:Person)-[:isMemberOf]->(a:Artist)-[:partecipateIn]->(t:Track)-[:isPositionedIn]->(ch:Chart)-[:isReferredTo]->(c2:Country{id:\"IT\"})\n",
    "    WITH a,ch, COUNT(DISTINCT t) as numTracks\n",
    "    ORDER BY numTracks DESC\n",
    "    WITH a,COLLECT(ch) AS charts, COLLECT(numTracks) as orderedNumTracks\n",
    "    RETURN DISTINCT a,charts[0],orderedNumTracks[0]\n",
    "    LIMIT 3\n",
    "\"\"\")\n",
    "\n",
    "for r in result:\n",
    "    returnedData = r.values()\n",
    "    print(\"Artist: {}\".format(returnedData[0][\"name\"]))\n",
    "    print(\"Chart: {}\".format(returnedData[1][\"id\"]))\n",
    "    print(\"numTracks: {}\".format(returnedData[2]))\n",
    "    print(\"\")\n",
    "session.close()\n",
    "driver.close()\n"
   ]
  },
  {
   "cell_type": "markdown",
   "metadata": {},
   "source": [
    "The numbers of tracks present simultaneously in the TOP 100 Italy are quite high (24,19 and 18). \n",
    "\n",
    "We want to check if these three artists released an album on the same month of the chart or in the previous one."
   ]
  },
  {
   "cell_type": "code",
   "execution_count": 15,
   "metadata": {},
   "outputs": [
    {
     "name": "stdout",
     "output_type": "stream",
     "text": [
      "SEARCHING FOR AN ALBUM PUBLISHED BY tha Supreme\n",
      "Alb: tha Supreme\n",
      "Album: 23 6451\n",
      "Album relaseDate: 2019-11-15\n",
      "\n",
      "SEARCHING FOR AN ALBUM PUBLISHED BY Marracash\n",
      "Alb: Marracash\n",
      "Album: Persona\n",
      "Album relaseDate: 2019-10-31\n",
      "\n",
      "SEARCHING FOR AN ALBUM PUBLISHED BY Ultimo\n",
      "Alb: Ultimo\n",
      "Album: Colpa Delle Favole\n",
      "Album relaseDate: 2019-04-05\n",
      "\n"
     ]
    }
   ],
   "source": [
    "topThreeArtists = [\"tha Supreme\",\"Marracash\",\"Ultimo\"]\n",
    "years = [2019,2019,2019]\n",
    "months = [11,11,4]\n",
    "\n",
    "# connect to the DB\n",
    "driver = GraphDatabase.driver(params.uri, auth=(params.user, params.dbpsw))\n",
    "# create a session\n",
    "session = driver.session()\n",
    "\n",
    "for i in range(0,len(topThreeArtists)):\n",
    "\n",
    "    print(\"SEARCHING FOR AN ALBUM PUBLISHED BY \"+topThreeArtists[i])\n",
    "\n",
    "    result = session.run(\"\"\"\n",
    "        MATCH (a:Artist {name:$artist})-[:partecipateIn]->(alb:Album {albumType:\"album\"})\n",
    "        WHERE alb.releaseDate >= date({year: $year, month: $month-1, day: 1}) AND alb.releaseDate <= date({year: $year, month: $month, day: 30})\n",
    "        RETURN a.name, alb.name, alb.releaseDate\n",
    "        \"\"\",artist=topThreeArtists[i],year=years[i],month=months[i])\n",
    "\n",
    "    for r in result:\n",
    "        returnedData = r.values()\n",
    "        print(\"Alb: {}\".format(returnedData[0]))\n",
    "        print(\"Album: {}\".format(returnedData[1]))\n",
    "        print(\"Album relaseDate: {}\".format(str(returnedData[2])))\n",
    "        print(\"\")\n",
    "\n",
    "session.close()\n",
    "driver.close()"
   ]
  },
  {
   "cell_type": "markdown",
   "metadata": {},
   "source": [
    "So, these Italian artists managed to have a lot of tracks in the TOP 100 Italy at the same time, because they released albums whose tracks probably entered all in TOP 100 Italy."
   ]
  },
  {
   "cell_type": "markdown",
   "metadata": {},
   "source": [
    "#### Q10: Show the youngest artist who entered in the first 10 positions of Top 100 Italy for each year."
   ]
  },
  {
   "cell_type": "code",
   "execution_count": 16,
   "metadata": {},
   "outputs": [
    {
     "name": "stdout",
     "output_type": "stream",
     "text": [
      "Year: 2020\n",
      "Artist: Rondodasosa\n",
      "BirthDate: 2002-04-29\n",
      "\n",
      "Year: 2018\n",
      "Artist: Martina Attili\n",
      "BirthDate: 2001-07-11\n",
      "\n",
      "Year: 2019\n",
      "Artist: tha Supreme\n",
      "BirthDate: 2001-03-17\n",
      "\n",
      "Year: 2017\n",
      "Artist: Måneskin\n",
      "BirthDate: 2001-01-18\n",
      "\n"
     ]
    }
   ],
   "source": [
    "# Q10: Show the youngest artist who entered in the first 10 positions of Top 100 Italy for each year.\n",
    "\n",
    "# connect to the DB\n",
    "driver = GraphDatabase.driver(params.uri, auth=(params.user, params.dbpsw))\n",
    "# create a session\n",
    "session = driver.session()\n",
    "\n",
    "result = session.run(\"\"\"\n",
    "    MATCH (c1:Country{id:\"IT\"})<-[:hasNationality]-(p:Person)-[:isMemberOf]->(a:Artist)-[:partecipateIn]->(t:Track)-[r:isPositionedIn]->(ch:Chart)-[:isReferredTo]->(c2:Country{id:\"IT\"})\n",
    "    WHERE r.position <=10 AND p.birthDate IS NOT NULL\n",
    "    WITH ch,a,p\n",
    "    ORDER BY p.birthDate DESC\n",
    "    WITH ch.date.year AS year, COLLECT(a.name) AS artistsNames, COLLECT(p.birthDate) AS artistsBirthDates\n",
    "    RETURN year,artistsNames[0],artistsBirthDates[0]\n",
    "\"\"\")\n",
    "\n",
    "for r in result:\n",
    "    returnedData = r.values()\n",
    "    print(\"Year: {}\".format(returnedData[0]))\n",
    "    print(\"Artist: {}\".format(returnedData[1]))\n",
    "    print(\"BirthDate: {}\".format(str(returnedData[2])))\n",
    "    print(\"\")\n",
    "session.close()\n",
    "driver.close()"
   ]
  },
  {
   "cell_type": "markdown",
   "metadata": {},
   "source": [
    "Of course in the case of ***Maneskin*** the birthDate is referred to the youngest member of the group."
   ]
  },
  {
   "cell_type": "markdown",
   "metadata": {},
   "source": [
    "### Italian tracks abroad\n",
    "\n",
    "#### Q11: How many tracks from Italian artist are present in a Top 100 of a different country for each year (grafico barre)"
   ]
  },
  {
   "cell_type": "code",
   "execution_count": 17,
   "metadata": {},
   "outputs": [
    {
     "name": "stdout",
     "output_type": "stream",
     "text": [
      "Year: 2017\n",
      "numItalianTracksAbroad: 15\n",
      "\n",
      "Year: 2018\n",
      "numItalianTracksAbroad: 19\n",
      "\n",
      "Year: 2019\n",
      "numItalianTracksAbroad: 19\n",
      "\n",
      "Year: 2020\n",
      "numItalianTracksAbroad: 27\n",
      "\n"
     ]
    },
    {
     "data": {
      "image/png": "[encoded data removed]",
      "text/plain": [
       "<Figure size 1296x576 with 1 Axes>"
      ]
     },
     "metadata": {
      "needs_background": "light"
     },
     "output_type": "display_data"
    }
   ],
   "source": [
    "# Q11: How many tracks from Italian artist are present in a Top 100 of a different country for each year\n",
    "\n",
    "# connect to the DB\n",
    "driver = GraphDatabase.driver(params.uri, auth=(params.user, params.dbpsw))\n",
    "# create a session\n",
    "session = driver.session()\n",
    "\n",
    "result = session.run(\"\"\"\n",
    "    MATCH (c1:Country{id:\"IT\"})<-[:hasNationality]-(p:Person)-[:isMemberOf]->(a:Artist)-[:partecipateIn]->(t:Track)-[:isPositionedIn]->(ch:Chart)-[:isReferredTo]->(c2:Country)\n",
    "    WHERE c2.id<>\"IT\"\n",
    "    WITH ch.date.year AS year, COUNT(DISTINCT t) AS numItalianTracks\n",
    "    RETURN year,numItalianTracks\n",
    "    ORDER BY year\n",
    "\"\"\")\n",
    "\n",
    "# Define lists to contain the results\n",
    "years = []\n",
    "numItalianTracksAbroad = []\n",
    "for r in result:\n",
    "    returnedData = r.values()\n",
    "    years.append(returnedData[0])\n",
    "    numItalianTracksAbroad.append(int(returnedData[1]))\n",
    "\n",
    "# Print the results\n",
    "for i in range(0,len(years)):\n",
    "    print(\"Year: {}\".format(years[i]))\n",
    "    print(\"numItalianTracksAbroad: {:d}\".format(numItalianTracksAbroad[i]))\n",
    "    print(\"\")\n",
    "\n",
    "\n",
    "plotResults(\n",
    "    x=np.arange(len(years)),\n",
    "    yArr=[numItalianTracksAbroad],\n",
    "    yLabel=\"number of Italian Tracks Abroad\",\n",
    "    xLabel=\"Year\",\n",
    "    xTicks=years,\n",
    "    showGrid=True,\n",
    "    gridAxis=\"y\",\n",
    "    bar=True,\n",
    "    saveTitle=\"query11\"\n",
    ")\n",
    "session.close()\n",
    "driver.close()"
   ]
  },
  {
   "cell_type": "markdown",
   "metadata": {},
   "source": [
    "#### Q12: Show the countries that listen the most to Italian tracks. (show Names and numbers)"
   ]
  },
  {
   "cell_type": "code",
   "execution_count": 25,
   "metadata": {},
   "outputs": [
    {
     "name": "stdout",
     "output_type": "stream",
     "text": [
      "Country: Switzerland\n",
      "numItalianTracksByCountry: 26\n",
      "\n",
      "Country: Norway\n",
      "numItalianTracksByCountry: 17\n",
      "\n",
      "Country: France\n",
      "numItalianTracksByCountry: 10\n",
      "\n",
      "Country: Austria\n",
      "numItalianTracksByCountry: 10\n",
      "\n",
      "Country: Germany\n",
      "numItalianTracksByCountry: 10\n",
      "\n",
      "Country: Belgium\n",
      "numItalianTracksByCountry: 8\n",
      "\n",
      "Country: Sweden\n",
      "numItalianTracksByCountry: 8\n",
      "\n",
      "Country: Poland\n",
      "numItalianTracksByCountry: 7\n",
      "\n",
      "Country: Netherlands\n",
      "numItalianTracksByCountry: 6\n",
      "\n",
      "Country: Finland\n",
      "numItalianTracksByCountry: 6\n",
      "\n",
      "Country: Spain\n",
      "numItalianTracksByCountry: 6\n",
      "\n",
      "Country: Denmark\n",
      "numItalianTracksByCountry: 5\n",
      "\n",
      "Country: Virgin Islands, British\n",
      "numItalianTracksByCountry: 4\n",
      "\n",
      "Country: United Kingdom of Great Britain and Northern Ireland\n",
      "numItalianTracksByCountry: 4\n",
      "\n",
      "Country: Turkey\n",
      "numItalianTracksByCountry: 4\n",
      "\n",
      "Country: Canada\n",
      "numItalianTracksByCountry: 3\n",
      "\n",
      "Country: Portugal\n",
      "numItalianTracksByCountry: 3\n",
      "\n",
      "Country: New Zealand\n",
      "numItalianTracksByCountry: 2\n",
      "\n",
      "Country: Malaysia\n",
      "numItalianTracksByCountry: 2\n",
      "\n",
      "Country: Australia\n",
      "numItalianTracksByCountry: 2\n",
      "\n",
      "Country: Singapore\n",
      "numItalianTracksByCountry: 2\n",
      "\n",
      "Country: Philippines\n",
      "numItalianTracksByCountry: 2\n",
      "\n",
      "Country: Argentina\n",
      "numItalianTracksByCountry: 1\n",
      "\n",
      "Country: Chile\n",
      "numItalianTracksByCountry: 1\n",
      "\n",
      "Country: Brazil\n",
      "numItalianTracksByCountry: 1\n",
      "\n",
      "Country: Taiwan, Province of China\n",
      "numItalianTracksByCountry: 1\n",
      "\n",
      "Country: Mexico\n",
      "numItalianTracksByCountry: 1\n",
      "\n",
      "Country: United States of America\n",
      "numItalianTracksByCountry: 1\n",
      "\n",
      "Country: Indonesia\n",
      "numItalianTracksByCountry: 1\n",
      "\n",
      "Country: Costa Rica\n",
      "numItalianTracksByCountry: 1\n",
      "\n",
      "Country: Ecuador\n",
      "numItalianTracksByCountry: 1\n",
      "\n",
      "Country: Colombia\n",
      "numItalianTracksByCountry: 1\n",
      "\n"
     ]
    }
   ],
   "source": [
    "# Q12: Show the top 5 countries that listen the most to Italian tracks.\n",
    "\n",
    "# connect to the DB\n",
    "driver = GraphDatabase.driver(params.uri, auth=(params.user, params.dbpsw))\n",
    "# create a session\n",
    "session = driver.session()\n",
    "\n",
    "result = session.run(\"\"\"\n",
    "    MATCH (c1:Country{id:\"IT\"})<-[:hasNationality]-(p:Person)-[:isMemberOf]->(a:Artist)-[:partecipateIn]->(t:Track)-[:isPositionedIn]->(ch:Chart)-[:isReferredTo]->(c2:Country)\n",
    "    WHERE c2.id<>\"IT\"\n",
    "    RETURN c2.name, COUNT(DISTINCT t) AS numItalianTracks\n",
    "    ORDER BY numItalianTracks DESC\n",
    "\"\"\")\n",
    "\n",
    "# Define lists to contain the results\n",
    "countries = []\n",
    "numItalianTracksByCountry = []\n",
    "for r in result:\n",
    "    returnedData = r.values()\n",
    "    countries.append(returnedData[0])\n",
    "    numItalianTracksByCountry.append(returnedData[1])\n",
    "\n",
    "# Print the results\n",
    "for i in range(0,len(countries)):\n",
    "    print(\"Country: {}\".format(countries[i]))\n",
    "    print(\"numItalianTracksByCountry: {:d}\".format(numItalianTracksByCountry[i]))\n",
    "    print(\"\")\n",
    "\n",
    "session.close()\n",
    "driver.close()"
   ]
  },
  {
   "cell_type": "code",
   "execution_count": 24,
   "metadata": {},
   "outputs": [
    {
     "data": {
      "application/vnd.plotly.v1+json": {
       "config": {
        "plotlyServerURL": "https://plot.ly"
       },
       "data": [
        {
         "coloraxis": "coloraxis",
         "geo": "geo",
         "hovertemplate": "<b>%{hovertext}</b><br><br>countries=%{location}<br>numItalianTracksByCountry=%{z}<extra></extra>",
         "hovertext": [
          "Switzerland",
          "Norway",
          "France",
          "Austria",
          "Germany",
          "Belgium",
          "Sweden",
          "Poland",
          "Netherlands",
          "Finland",
          "Spain",
          "Denmark",
          "Virgin Islands, British",
          "United Kingdom of Great Britain and Northern Ireland",
          "Turkey",
          "Canada",
          "Portugal",
          "New Zealand",
          "Malaysia",
          "Australia",
          "Singapore",
          "Philippines",
          "Argentina",
          "Chile",
          "Brazil",
          "Taiwan, Province of China",
          "Mexico",
          "United States of America",
          "Indonesia",
          "Costa Rica",
          "Ecuador",
          "Colombia"
         ],
         "locationmode": "country names",
         "locations": [
          "Switzerland",
          "Norway",
          "France",
          "Austria",
          "Germany",
          "Belgium",
          "Sweden",
          "Poland",
          "Netherlands",
          "Finland",
          "Spain",
          "Denmark",
          "Virgin Islands, British",
          "United Kingdom of Great Britain and Northern Ireland",
          "Turkey",
          "Canada",
          "Portugal",
          "New Zealand",
          "Malaysia",
          "Australia",
          "Singapore",
          "Philippines",
          "Argentina",
          "Chile",
          "Brazil",
          "Taiwan, Province of China",
          "Mexico",
          "United States of America",
          "Indonesia",
          "Costa Rica",
          "Ecuador",
          "Colombia"
         ],
         "name": "",
         "type": "choropleth",
         "z": [
          26,
          17,
          10,
          10,
          10,
          8,
          8,
          7,
          6,
          6,
          6,
          5,
          4,
          4,
          4,
          3,
          3,
          2,
          2,
          2,
          2,
          2,
          1,
          1,
          1,
          1,
          1,
          1,
          1,
          1,
          1,
          1
         ]
        }
       ],
       "layout": {
        "coloraxis": {
         "colorbar": {
          "title": {
           "text": "numItalianTracksByCountry"
          }
         },
         "colorscale": [
          [
           0,
           "rgb(176, 242, 188)"
          ],
          [
           0.16666666666666666,
           "rgb(137, 232, 172)"
          ],
          [
           0.3333333333333333,
           "rgb(103, 219, 165)"
          ],
          [
           0.5,
           "rgb(76, 200, 163)"
          ],
          [
           0.6666666666666666,
           "rgb(56, 178, 163)"
          ],
          [
           0.8333333333333334,
           "rgb(44, 152, 160)"
          ],
          [
           1,
           "rgb(37, 125, 152)"
          ]
         ]
        },
        "geo": {
         "center": {},
         "domain": {
          "x": [
           0,
           1
          ],
          "y": [
           0,
           1
          ]
         }
        },
        "legend": {
         "tracegroupgap": 0
        },
        "margin": {
         "t": 60
        },
        "template": {
         "data": {
          "bar": [
           {
            "error_x": {
             "color": "#2a3f5f"
            },
            "error_y": {
             "color": "#2a3f5f"
            },
            "marker": {
             "line": {
              "color": "#E5ECF6",
              "width": 0.5
             },
             "pattern": {
              "fillmode": "overlay",
              "size": 10,
              "solidity": 0.2
             }
            },
            "type": "bar"
           }
          ],
          "barpolar": [
           {
            "marker": {
             "line": {
              "color": "#E5ECF6",
              "width": 0.5
             },
             "pattern": {
              "fillmode": "overlay",
              "size": 10,
              "solidity": 0.2
             }
            },
            "type": "barpolar"
           }
          ],
          "carpet": [
           {
            "aaxis": {
             "endlinecolor": "#2a3f5f",
             "gridcolor": "white",
             "linecolor": "white",
             "minorgridcolor": "white",
             "startlinecolor": "#2a3f5f"
            },
            "baxis": {
             "endlinecolor": "#2a3f5f",
             "gridcolor": "white",
             "linecolor": "white",
             "minorgridcolor": "white",
             "startlinecolor": "#2a3f5f"
            },
            "type": "carpet"
           }
          ],
          "choropleth": [
           {
            "colorbar": {
             "outlinewidth": 0,
             "ticks": ""
            },
            "type": "choropleth"
           }
          ],
          "contour": [
           {
            "colorbar": {
             "outlinewidth": 0,
             "ticks": ""
            },
            "colorscale": [
             [
              0,
              "#0d0887"
             ],
             [
              0.1111111111111111,
              "#46039f"
             ],
             [
              0.2222222222222222,
              "#7201a8"
             ],
             [
              0.3333333333333333,
              "#9c179e"
             ],
             [
              0.4444444444444444,
              "#bd3786"
             ],
             [
              0.5555555555555556,
              "#d8576b"
             ],
             [
              0.6666666666666666,
              "#ed7953"
             ],
             [
              0.7777777777777778,
              "#fb9f3a"
             ],
             [
              0.8888888888888888,
              "#fdca26"
             ],
             [
              1,
              "#f0f921"
             ]
            ],
            "type": "contour"
           }
          ],
          "contourcarpet": [
           {
            "colorbar": {
             "outlinewidth": 0,
             "ticks": ""
            },
            "type": "contourcarpet"
           }
          ],
          "heatmap": [
           {
            "colorbar": {
             "outlinewidth": 0,
             "ticks": ""
            },
            "colorscale": [
             [
              0,
              "#0d0887"
             ],
             [
              0.1111111111111111,
              "#46039f"
             ],
             [
              0.2222222222222222,
              "#7201a8"
             ],
             [
              0.3333333333333333,
              "#9c179e"
             ],
             [
              0.4444444444444444,
              "#bd3786"
             ],
             [
              0.5555555555555556,
              "#d8576b"
             ],
             [
              0.6666666666666666,
              "#ed7953"
             ],
             [
              0.7777777777777778,
              "#fb9f3a"
             ],
             [
              0.8888888888888888,
              "#fdca26"
             ],
             [
              1,
              "#f0f921"
             ]
            ],
            "type": "heatmap"
           }
          ],
          "heatmapgl": [
           {
            "colorbar": {
             "outlinewidth": 0,
             "ticks": ""
            },
            "colorscale": [
             [
              0,
              "#0d0887"
             ],
             [
              0.1111111111111111,
              "#46039f"
             ],
             [
              0.2222222222222222,
              "#7201a8"
             ],
             [
              0.3333333333333333,
              "#9c179e"
             ],
             [
              0.4444444444444444,
              "#bd3786"
             ],
             [
              0.5555555555555556,
              "#d8576b"
             ],
             [
              0.6666666666666666,
              "#ed7953"
             ],
             [
              0.7777777777777778,
              "#fb9f3a"
             ],
             [
              0.8888888888888888,
              "#fdca26"
             ],
             [
              1,
              "#f0f921"
             ]
            ],
            "type": "heatmapgl"
           }
          ],
          "histogram": [
           {
            "marker": {
             "pattern": {
              "fillmode": "overlay",
              "size": 10,
              "solidity": 0.2
             }
            },
            "type": "histogram"
           }
          ],
          "histogram2d": [
           {
            "colorbar": {
             "outlinewidth": 0,
             "ticks": ""
            },
            "colorscale": [
             [
              0,
              "#0d0887"
             ],
             [
              0.1111111111111111,
              "#46039f"
             ],
             [
              0.2222222222222222,
              "#7201a8"
             ],
             [
              0.3333333333333333,
              "#9c179e"
             ],
             [
              0.4444444444444444,
              "#bd3786"
             ],
             [
              0.5555555555555556,
              "#d8576b"
             ],
             [
              0.6666666666666666,
              "#ed7953"
             ],
             [
              0.7777777777777778,
              "#fb9f3a"
             ],
             [
              0.8888888888888888,
              "#fdca26"
             ],
             [
              1,
              "#f0f921"
             ]
            ],
            "type": "histogram2d"
           }
          ],
          "histogram2dcontour": [
           {
            "colorbar": {
             "outlinewidth": 0,
             "ticks": ""
            },
            "colorscale": [
             [
              0,
              "#0d0887"
             ],
             [
              0.1111111111111111,
              "#46039f"
             ],
             [
              0.2222222222222222,
              "#7201a8"
             ],
             [
              0.3333333333333333,
              "#9c179e"
             ],
             [
              0.4444444444444444,
              "#bd3786"
             ],
             [
              0.5555555555555556,
              "#d8576b"
             ],
             [
              0.6666666666666666,
              "#ed7953"
             ],
             [
              0.7777777777777778,
              "#fb9f3a"
             ],
             [
              0.8888888888888888,
              "#fdca26"
             ],
             [
              1,
              "#f0f921"
             ]
            ],
            "type": "histogram2dcontour"
           }
          ],
          "mesh3d": [
           {
            "colorbar": {
             "outlinewidth": 0,
             "ticks": ""
            },
            "type": "mesh3d"
           }
          ],
          "parcoords": [
           {
            "line": {
             "colorbar": {
              "outlinewidth": 0,
              "ticks": ""
             }
            },
            "type": "parcoords"
           }
          ],
          "pie": [
           {
            "automargin": true,
            "type": "pie"
           }
          ],
          "scatter": [
           {
            "marker": {
             "colorbar": {
              "outlinewidth": 0,
              "ticks": ""
             }
            },
            "type": "scatter"
           }
          ],
          "scatter3d": [
           {
            "line": {
             "colorbar": {
              "outlinewidth": 0,
              "ticks": ""
             }
            },
            "marker": {
             "colorbar": {
              "outlinewidth": 0,
              "ticks": ""
             }
            },
            "type": "scatter3d"
           }
          ],
          "scattercarpet": [
           {
            "marker": {
             "colorbar": {
              "outlinewidth": 0,
              "ticks": ""
             }
            },
            "type": "scattercarpet"
           }
          ],
          "scattergeo": [
           {
            "marker": {
             "colorbar": {
              "outlinewidth": 0,
              "ticks": ""
             }
            },
            "type": "scattergeo"
           }
          ],
          "scattergl": [
           {
            "marker": {
             "colorbar": {
              "outlinewidth": 0,
              "ticks": ""
             }
            },
            "type": "scattergl"
           }
          ],
          "scattermapbox": [
           {
            "marker": {
             "colorbar": {
              "outlinewidth": 0,
              "ticks": ""
             }
            },
            "type": "scattermapbox"
           }
          ],
          "scatterpolar": [
           {
            "marker": {
             "colorbar": {
              "outlinewidth": 0,
              "ticks": ""
             }
            },
            "type": "scatterpolar"
           }
          ],
          "scatterpolargl": [
           {
            "marker": {
             "colorbar": {
              "outlinewidth": 0,
              "ticks": ""
             }
            },
            "type": "scatterpolargl"
           }
          ],
          "scatterternary": [
           {
            "marker": {
             "colorbar": {
              "outlinewidth": 0,
              "ticks": ""
             }
            },
            "type": "scatterternary"
           }
          ],
          "surface": [
           {
            "colorbar": {
             "outlinewidth": 0,
             "ticks": ""
            },
            "colorscale": [
             [
              0,
              "#0d0887"
             ],
             [
              0.1111111111111111,
              "#46039f"
             ],
             [
              0.2222222222222222,
              "#7201a8"
             ],
             [
              0.3333333333333333,
              "#9c179e"
             ],
             [
              0.4444444444444444,
              "#bd3786"
             ],
             [
              0.5555555555555556,
              "#d8576b"
             ],
             [
              0.6666666666666666,
              "#ed7953"
             ],
             [
              0.7777777777777778,
              "#fb9f3a"
             ],
             [
              0.8888888888888888,
              "#fdca26"
             ],
             [
              1,
              "#f0f921"
             ]
            ],
            "type": "surface"
           }
          ],
          "table": [
           {
            "cells": {
             "fill": {
              "color": "#EBF0F8"
             },
             "line": {
              "color": "white"
             }
            },
            "header": {
             "fill": {
              "color": "#C8D4E3"
             },
             "line": {
              "color": "white"
             }
            },
            "type": "table"
           }
          ]
         },
         "layout": {
          "annotationdefaults": {
           "arrowcolor": "#2a3f5f",
           "arrowhead": 0,
           "arrowwidth": 1
          },
          "autotypenumbers": "strict",
          "coloraxis": {
           "colorbar": {
            "outlinewidth": 0,
            "ticks": ""
           }
          },
          "colorscale": {
           "diverging": [
            [
             0,
             "#8e0152"
            ],
            [
             0.1,
             "#c51b7d"
            ],
            [
             0.2,
             "#de77ae"
            ],
            [
             0.3,
             "#f1b6da"
            ],
            [
             0.4,
             "#fde0ef"
            ],
            [
             0.5,
             "#f7f7f7"
            ],
            [
             0.6,
             "#e6f5d0"
            ],
            [
             0.7,
             "#b8e186"
            ],
            [
             0.8,
             "#7fbc41"
            ],
            [
             0.9,
             "#4d9221"
            ],
            [
             1,
             "#276419"
            ]
           ],
           "sequential": [
            [
             0,
             "#0d0887"
            ],
            [
             0.1111111111111111,
             "#46039f"
            ],
            [
             0.2222222222222222,
             "#7201a8"
            ],
            [
             0.3333333333333333,
             "#9c179e"
            ],
            [
             0.4444444444444444,
             "#bd3786"
            ],
            [
             0.5555555555555556,
             "#d8576b"
            ],
            [
             0.6666666666666666,
             "#ed7953"
            ],
            [
             0.7777777777777778,
             "#fb9f3a"
            ],
            [
             0.8888888888888888,
             "#fdca26"
            ],
            [
             1,
             "#f0f921"
            ]
           ],
           "sequentialminus": [
            [
             0,
             "#0d0887"
            ],
            [
             0.1111111111111111,
             "#46039f"
            ],
            [
             0.2222222222222222,
             "#7201a8"
            ],
            [
             0.3333333333333333,
             "#9c179e"
            ],
            [
             0.4444444444444444,
             "#bd3786"
            ],
            [
             0.5555555555555556,
             "#d8576b"
            ],
            [
             0.6666666666666666,
             "#ed7953"
            ],
            [
             0.7777777777777778,
             "#fb9f3a"
            ],
            [
             0.8888888888888888,
             "#fdca26"
            ],
            [
             1,
             "#f0f921"
            ]
           ]
          },
          "colorway": [
           "#636efa",
           "#EF553B",
           "#00cc96",
           "#ab63fa",
           "#FFA15A",
           "#19d3f3",
           "#FF6692",
           "#B6E880",
           "#FF97FF",
           "#FECB52"
          ],
          "font": {
           "color": "#2a3f5f"
          },
          "geo": {
           "bgcolor": "white",
           "lakecolor": "white",
           "landcolor": "#E5ECF6",
           "showlakes": true,
           "showland": true,
           "subunitcolor": "white"
          },
          "hoverlabel": {
           "align": "left"
          },
          "hovermode": "closest",
          "mapbox": {
           "style": "light"
          },
          "paper_bgcolor": "white",
          "plot_bgcolor": "#E5ECF6",
          "polar": {
           "angularaxis": {
            "gridcolor": "white",
            "linecolor": "white",
            "ticks": ""
           },
           "bgcolor": "#E5ECF6",
           "radialaxis": {
            "gridcolor": "white",
            "linecolor": "white",
            "ticks": ""
           }
          },
          "scene": {
           "xaxis": {
            "backgroundcolor": "#E5ECF6",
            "gridcolor": "white",
            "gridwidth": 2,
            "linecolor": "white",
            "showbackground": true,
            "ticks": "",
            "zerolinecolor": "white"
           },
           "yaxis": {
            "backgroundcolor": "#E5ECF6",
            "gridcolor": "white",
            "gridwidth": 2,
            "linecolor": "white",
            "showbackground": true,
            "ticks": "",
            "zerolinecolor": "white"
           },
           "zaxis": {
            "backgroundcolor": "#E5ECF6",
            "gridcolor": "white",
            "gridwidth": 2,
            "linecolor": "white",
            "showbackground": true,
            "ticks": "",
            "zerolinecolor": "white"
           }
          },
          "shapedefaults": {
           "line": {
            "color": "#2a3f5f"
           }
          },
          "ternary": {
           "aaxis": {
            "gridcolor": "white",
            "linecolor": "white",
            "ticks": ""
           },
           "baxis": {
            "gridcolor": "white",
            "linecolor": "white",
            "ticks": ""
           },
           "bgcolor": "#E5ECF6",
           "caxis": {
            "gridcolor": "white",
            "linecolor": "white",
            "ticks": ""
           }
          },
          "title": {
           "x": 0.05
          },
          "xaxis": {
           "automargin": true,
           "gridcolor": "white",
           "linecolor": "white",
           "ticks": "",
           "title": {
            "standoff": 15
           },
           "zerolinecolor": "white",
           "zerolinewidth": 2
          },
          "yaxis": {
           "automargin": true,
           "gridcolor": "white",
           "linecolor": "white",
           "ticks": "",
           "title": {
            "standoff": 15
           },
           "zerolinecolor": "white",
           "zerolinewidth": 2
          }
         }
        }
       }
      }
     },
     "metadata": {},
     "output_type": "display_data"
    }
   ],
   "source": [
    "import plotly.express as px\n",
    "\n",
    "d = {'countries':countries,'numItalianTracksByCountry':numItalianTracksByCountry}\n",
    "data = pd.DataFrame(d, columns=['countries','numItalianTracksByCountry'])\n",
    "\n",
    "fig = px.choropleth(data, \n",
    "                    locations=\"countries\",\n",
    "                    locationmode='country names',\n",
    "                    color=\"numItalianTracksByCountry\", \n",
    "                    hover_name=\"countries\",\n",
    "                    color_continuous_scale='tealgrn')\n",
    "\n",
    "fig.show()"
   ]
  },
  {
   "cell_type": "markdown",
   "metadata": {},
   "source": [
    "#### Q13: Who is the artist present in the highest number of TOP 100 of different countries? Show also the countries in which he/she is present."
   ]
  },
  {
   "cell_type": "code",
   "execution_count": 20,
   "metadata": {},
   "outputs": [
    {
     "name": "stdout",
     "output_type": "stream",
     "text": [
      "Artist: Gigi D'Agostino\n",
      "numCountries: 30\n",
      "Countries: ['TOP 100 Brazil', 'TOP 100 Poland', 'TOP 100 Switzerland', 'TOP 100 Belgium', 'TOP 100 Norway', 'TOP 100 Australia', 'TOP 100 Taiwan', 'TOP 100 Mexico', 'TOP 100 Germany', 'TOP 100 Ireland', 'TOP 100 Singapore', 'TOP 100 Sweden', 'TOP 100 Finland', 'TOP 100 USA', 'TOP 100 Portugal', 'TOP 100 France', 'TOP 100 Austria', 'TOP 100 New Zealand', 'TOP 100 UK', 'TOP 100 Malaysia', 'TOP 100 Netherlands', 'TOP 100 Spain', 'TOP 100 Turkey', 'TOP 100 Canada', 'TOP 100 Philippines', 'TOP 100 Denmark', 'TOP 100 Indonesia', 'TOP 100 Costa Rica', 'TOP 100 Ecuador', 'TOP 100 Colombia']\n",
      "\n"
     ]
    }
   ],
   "source": [
    "# Q13: Who is the artist present in the highest number of different countries? Show also the countries in which he/she is present.\n",
    "\n",
    "# connect to the DB\n",
    "driver = GraphDatabase.driver(params.uri, auth=(params.user, params.dbpsw))\n",
    "# create a session\n",
    "session = driver.session()\n",
    "\n",
    "result = session.run(\"\"\"\n",
    "    MATCH (c1:Country{id:\"IT\"})<-[:hasNationality]-(p:Person)-[:isMemberOf]->(a:Artist)-[:partecipateIn]->(t:Track)-[:isPositionedIn]->(ch:Chart)-[:isReferredTo]->(c2:Country)\n",
    "    WHERE c2.id<>\"IT\"\n",
    "    RETURN a, COUNT(DISTINCT c2) AS numCountries, COLLECT(DISTINCT ch.name) AS charts\n",
    "    ORDER BY numCountries DESC\n",
    "    LIMIT 1\n",
    "\"\"\")\n",
    "\n",
    "for r in result:\n",
    "    returnedData = r.values()\n",
    "    print(\"Artist: {}\".format(returnedData[0][\"name\"]))\n",
    "    print(\"numCountries: {}\".format(returnedData[1]))\n",
    "    print(\"Countries: {}\".format(returnedData[2]))\n",
    "    print(\"\")\n",
    "session.close()\n",
    "driver.close()"
   ]
  },
  {
   "cell_type": "markdown",
   "metadata": {},
   "source": [
    "#### Q14: Who is the artist with the highest number of tracks present oustide Italy ? Show also the names of the tracks. "
   ]
  },
  {
   "cell_type": "code",
   "execution_count": 21,
   "metadata": {},
   "outputs": [
    {
     "name": "stdout",
     "output_type": "stream",
     "text": [
      "Artist: Sfera Ebbasta\n",
      "numItalianTracks: 11\n",
      "Tracks: ['Happy Birthday', 'Uber', 'Rockstar', 'McQueen', 'Serpenti A Sonagli', 'Pablo', 'Bottiglie Privè', 'Cupido (feat. Quavo)', 'Sciroppo (feat. DrefGold)', 'Peace & Love', 'Ricchi x Sempre']\n",
      "\n"
     ]
    }
   ],
   "source": [
    "# Q14: Who is the artist with the highest number of tracks present oustide Italy ? Show also the names of the tracks. \n",
    "\n",
    "# connect to the DB\n",
    "driver = GraphDatabase.driver(params.uri, auth=(params.user, params.dbpsw))\n",
    "# create a session\n",
    "session = driver.session()\n",
    "\n",
    "result = session.run(\"\"\"\n",
    "MATCH (c1:Country{id:\"IT\"})<-[:hasNationality]-(p:Person)-[:isMemberOf]->(a:Artist)-[:partecipateIn]->(t:Track)-[:isPositionedIn]->(ch:Chart)-[:isReferredTo]->(c2:Country)\n",
    "WHERE c2.id<>\"IT\"\n",
    "RETURN a, COUNT(DISTINCT t) AS numTracks, COLLECT(DISTINCT t.name) as trackNames\n",
    "ORDER BY numTracks DESC\n",
    "LIMIT 1\n",
    "\"\"\")\n",
    "\n",
    "for r in result:\n",
    "    returnedData = r.values()\n",
    "    print(\"Artist: {}\".format(returnedData[0][\"name\"]))\n",
    "    print(\"numItalianTracks: {}\".format(returnedData[1]))\n",
    "    print(\"Tracks: {}\".format(returnedData[2]))\n",
    "    print(\"\")\n",
    "session.close()\n",
    "driver.close()"
   ]
  },
  {
   "cell_type": "markdown",
   "metadata": {},
   "source": [
    "We have shown that actually there are two different criteria to determine the most \"widespread\" Italian artist abroad:\n",
    "\n",
    "**1)** Count how many different countries the artist has reached excluding Italy. In this case, the best is ***Gigi D'Agostino***\n",
    "\n",
    "\n",
    "**2)** Count the total number of tracks present in countries outside Italy. In this case, the best is ***Sfera Ebbasta***"
   ]
  }
 ],
 "metadata": {
  "kernelspec": {
   "display_name": "Python 3",
   "language": "python",
   "name": "python3"
  },
  "language_info": {
   "codemirror_mode": {
    "name": "ipython",
    "version": 3
   },
   "file_extension": ".py",
   "mimetype": "text/x-python",
   "name": "python",
   "nbconvert_exporter": "python",
   "pygments_lexer": "ipython3",
   "version": "3.9.8"
  }
 },
 "nbformat": 4,
 "nbformat_minor": 2
}
