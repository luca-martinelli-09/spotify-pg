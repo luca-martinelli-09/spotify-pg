{
 "cells": [
  {
   "cell_type": "markdown",
   "metadata": {},
   "source": [
    "## Spotify Query\n",
    "\n",
    "In this notebook we perform some query on our property graph about Spotify. In particular the queries will be divided into three parts:\n",
    "1. ***Example queries***: we perform two example queries where we show how it is possibile to use the new added information such as *record label* and *instruments*.\n",
    "1. ***Italian tracks and Italian artists from 2017 to 2020:*** we perfom some queries about italian tracks and artists present in the TOP 100 Italy.\n",
    "1. ***Italian tracks abroad:*** we want to discover if italian tracks are listened also outside Italy."
   ]
  },
  {
   "cell_type": "code",
   "execution_count": null,
   "metadata": {},
   "outputs": [],
   "source": [
    "# Import required libraries\n",
    "from neo4j import GraphDatabase\n",
    "import pandas as pd\n",
    "import calendar\n",
    "import numpy as np\n",
    "import matplotlib.pyplot as plt\n",
    "import os"
   ]
  },
  {
   "cell_type": "markdown",
   "metadata": {},
   "source": [
    "### Connection to Neo4j"
   ]
  },
  {
   "cell_type": "code",
   "execution_count": null,
   "metadata": {},
   "outputs": [],
   "source": [
    "# Neo4J params class\n",
    "class Neo4jParams:\n",
    "  def __init__(self, user, psw, dbname, dbpsw, uri):\n",
    "    self.user = user\n",
    "    self.psw = psw\n",
    "    self.dbname = dbname\n",
    "    self.dbpsw = dbpsw\n",
    "    self.uri = uri"
   ]
  },
  {
   "cell_type": "code",
   "execution_count": null,
   "metadata": {},
   "outputs": [],
   "source": [
    "#DB parameters\n",
    "user = \"neo4j\"\n",
    "psw = \"neo4j\"\n",
    "dbname = \"SpotifyDB\"\n",
    "dbpsw = \"SpotifyDB\"\n",
    "uri = \"bolt://localhost:7687\"\n",
    "\n",
    "params = Neo4jParams(user, psw, dbname, dbpsw, uri)"
   ]
  },
  {
   "cell_type": "code",
   "execution_count": null,
   "metadata": {},
   "outputs": [],
   "source": [
    "def getDriver():\n",
    "    return GraphDatabase.driver(params.uri, auth=(params.user, params.dbpsw))"
   ]
  },
  {
   "cell_type": "code",
   "execution_count": null,
   "metadata": {},
   "outputs": [],
   "source": [
    "def executeQuery(query, **kwargs):\n",
    "    # Connect to the DB and create a session\n",
    "    driver = getDriver()\n",
    "    session = driver.session()\n",
    "\n",
    "    result = session.run(query, kwargs)\n",
    "\n",
    "    resultDF = pd.DataFrame(result.values(), columns=result.keys())\n",
    "\n",
    "    session.close()\n",
    "    driver.close()\n",
    "\n",
    "    return resultDF"
   ]
  },
  {
   "cell_type": "markdown",
   "metadata": {},
   "source": [
    "## Plot utilities"
   ]
  },
  {
   "cell_type": "code",
   "execution_count": null,
   "metadata": {},
   "outputs": [],
   "source": [
    "TITLE_PAD = 30\n",
    "TITLE_DIM = 30\n",
    "XY_LABEL_PAD = 23\n",
    "XY_LABEL_DIM = 21\n",
    "XY_TICKS_DIM = 18\n",
    "GRID_ALPHA = 0.2\n",
    "FILL_ALPHA = 0.05\n",
    "BAR_WIDTH = 0.95\n",
    "LEGEND_LOC = \"upper left\"\n",
    "LEGEND_LABEL_DIM = 15\n",
    "COLOR_SCHEME = [\"#1DB954\", \"#22577A\", \"#A03C78\", \"#C67ACE\"]\n",
    "\n",
    "FIG_SIZE = (18, 8)\n",
    "FIG_BG_COLOR = None # \"w\"\n",
    "FIG_DPI = 500\n",
    "FIG_BBOX = \"tight\"\n",
    "FIG_PAD = .3\n",
    "FIG_FORMATS = [\"png\", \"pdf\"]"
   ]
  },
  {
   "cell_type": "code",
   "execution_count": null,
   "metadata": {},
   "outputs": [],
   "source": [
    "def plotResults(title=None, x=[], yArr=[],\n",
    "                xLabel=None, xTicks=None, xTicksPosition=None, xTicksRotation=0,\n",
    "                yLim=None, yLabel=None, yTicks=None, yTicksPosition=None, yTicksRotation=0,\n",
    "                legend=None, legendLocation=LEGEND_LOC,\n",
    "                style=\"line\", showGrid=False, gridAxis=\"both\", fillPlot=False,\n",
    "                figSize=FIG_SIZE, saveTitle=None):\n",
    "\n",
    "    plt.figure(figsize=figSize, facecolor=FIG_BG_COLOR)\n",
    "\n",
    "    maxY = None\n",
    "    minY = None\n",
    "\n",
    "    numPlots = len(yArr)\n",
    "    for i, y in zip(range(numPlots), yArr):\n",
    "        label = None\n",
    "        try:\n",
    "            label = legend[i]\n",
    "        except:\n",
    "            pass\n",
    "\n",
    "        yNum = [float(yVal) for yVal in y]\n",
    "        maxY = np.max(\n",
    "            [np.max(yNum), maxY]\n",
    "        ) if not maxY is None else np.max(yNum)\n",
    "        minY = np.min(\n",
    "            [np.min(yNum), minY]\n",
    "        ) if not minY is None else np.min(yNum)\n",
    "\n",
    "        if style == \"line\":\n",
    "            plt.plot(x, yNum, label=label, color=COLOR_SCHEME[i])\n",
    "\n",
    "            if fillPlot:\n",
    "                plt.fill_between(x, yNum, alpha=FILL_ALPHA,\n",
    "                                 facecolor=COLOR_SCHEME[i])\n",
    "\n",
    "        elif style == \"bar\":\n",
    "            barWidth = BAR_WIDTH / numPlots\n",
    "            xOffset = -BAR_WIDTH / 2 + barWidth / 2 + barWidth * i\n",
    "            plt.bar(x + xOffset, yNum, width=barWidth,\n",
    "                    label=label, align=\"center\", color=COLOR_SCHEME[i])\n",
    "\n",
    "        elif style == \"polar\":\n",
    "            x = np.linspace(0, 2 * np.pi, len(yNum) + 1, endpoint=True)\n",
    "            yNum.append(yNum[0])\n",
    "            plt.polar(x, yNum, label=label, color=COLOR_SCHEME[i])\n",
    "\n",
    "            if fillPlot:\n",
    "                plt.fill(x, yNum, alpha=FILL_ALPHA,\n",
    "                         facecolor=COLOR_SCHEME[i])\n",
    "\n",
    "        elif style == \"boxplot\":\n",
    "            lineWidth = 1.5\n",
    "\n",
    "            if fillPlot:\n",
    "                plt.boxplot(yNum,\n",
    "                            positions=[i],\n",
    "                            notch=True,\n",
    "                            widths=[1 / numPlots],\n",
    "                            patch_artist=True,\n",
    "                            showcaps=False,\n",
    "                            showfliers=False,\n",
    "                            showmeans=False,\n",
    "                            boxprops=dict(\n",
    "                                facecolor=COLOR_SCHEME[i],\n",
    "                                alpha=FILL_ALPHA,\n",
    "                            ),\n",
    "                            )\n",
    "\n",
    "            plt.boxplot(yNum,\n",
    "                        positions=[i],\n",
    "                        notch=True,\n",
    "                        widths=[1 / numPlots],\n",
    "                        boxprops=dict(\n",
    "                            color=COLOR_SCHEME[i],\n",
    "                            linewidth=lineWidth,\n",
    "                        ),\n",
    "                        capprops=dict(\n",
    "                            color=COLOR_SCHEME[i],\n",
    "                            linewidth=lineWidth,\n",
    "                        ),\n",
    "                        whiskerprops=dict(\n",
    "                            color=COLOR_SCHEME[i],\n",
    "                            linewidth=lineWidth,\n",
    "                        ),\n",
    "                        flierprops=dict(\n",
    "                            color=COLOR_SCHEME[i],\n",
    "                            markeredgecolor=COLOR_SCHEME[i],\n",
    "                            markerfacecolor=COLOR_SCHEME[i],\n",
    "                        ),\n",
    "                        medianprops=dict(\n",
    "                            color=COLOR_SCHEME[i],\n",
    "                            linewidth=lineWidth,\n",
    "                        ),\n",
    "                        )\n",
    "\n",
    "    if not xLabel is None:\n",
    "        plt.xlabel(xLabel, labelpad=XY_LABEL_PAD, fontsize=XY_LABEL_DIM)\n",
    "\n",
    "    if not yLabel is None:\n",
    "        plt.ylabel(yLabel, labelpad=XY_LABEL_PAD, fontsize=XY_LABEL_DIM)\n",
    "\n",
    "    if not xTicks is None:\n",
    "        if not xTicksPosition:\n",
    "            xTicksPosition = x if style != \"boxplot\" else np.arange(\n",
    "                0, numPlots)\n",
    "\n",
    "            if style == \"polar\":\n",
    "                xTicks.append(xTicks[0])\n",
    "\n",
    "        plt.xticks(xTicksPosition, xTicks, fontsize=XY_TICKS_DIM,\n",
    "                   rotation=xTicksRotation)\n",
    "    else:\n",
    "        plt.xticks(fontsize=XY_TICKS_DIM, rotation=xTicksRotation)\n",
    "\n",
    "    if not yTicks is None and not yTicksPosition is None:\n",
    "        plt.yticks(yTicksPosition, yTicks, fontsize=XY_TICKS_DIM,\n",
    "                   rotation=yTicksRotation)\n",
    "    elif not yTicksPosition is None:\n",
    "        plt.yticks(yTicksPosition, fontsize=XY_TICKS_DIM,\n",
    "                   rotation=yTicksRotation)\n",
    "    else:\n",
    "        plt.yticks(fontsize=XY_TICKS_DIM, rotation=yTicksRotation)\n",
    "\n",
    "    if yLim is None:\n",
    "        yPad = (maxY - minY) * 0.1\n",
    "        topLim = maxY + yPad * 2\n",
    "        infLim = minY - yPad if style == \"bar\" else minY - yPad\n",
    "        infLim = 0 if style == \"bar\" and minY >= 0 and minY <= yPad else infLim\n",
    "        infLim = minY if style == \"polar\" else infLim\n",
    "        plt.ylim(top=topLim, bottom=infLim)\n",
    "    else:\n",
    "        plt.ylim(top=yLim[1], bottom=yLim[0])\n",
    "\n",
    "    if showGrid:\n",
    "        plt.grid(alpha=GRID_ALPHA, axis=gridAxis)\n",
    "\n",
    "    if not legend is None:\n",
    "        plt.legend(loc=legendLocation, fontsize=LEGEND_LABEL_DIM)\n",
    "\n",
    "    if not saveTitle is None:\n",
    "        baseDir = \"plots\"\n",
    "        if not os.path.exists(baseDir):\n",
    "            os.mkdir(\"plots\")\n",
    "\n",
    "        for figFormat in FIG_FORMATS:\n",
    "            saveDir = baseDir + \"/\" + figFormat\n",
    "            if not os.path.exists(saveDir):\n",
    "                os.mkdir(saveDir)\n",
    "\n",
    "            plt.savefig(saveDir + \"/\" + saveTitle + \".\" + figFormat,\n",
    "                        facecolor=FIG_BG_COLOR,\n",
    "                        dpi=FIG_DPI,\n",
    "                        bbox_inches=FIG_BBOX,\n",
    "                        pad_inches=FIG_PAD)\n",
    "\n",
    "    if not title is None:\n",
    "        plt.title(title, fontsize=TITLE_DIM, pad=TITLE_PAD)\n",
    "\n",
    "    plt.show()"
   ]
  },
  {
   "cell_type": "markdown",
   "metadata": {},
   "source": [
    "### Example Queries\n",
    "\n",
    "##### Q1: Considering only records labels with more than 20 artists, show the top 10 record labels according to the averare position of the tracks released by artists of that specifc record label."
   ]
  },
  {
   "cell_type": "code",
   "execution_count": null,
   "metadata": {},
   "outputs": [],
   "source": [
    "# Q1: Considering only records labels with more than 20 artists, show the top 10 record labels according to the averare position of the tracks released by artists of that specifc record label\n",
    "\n",
    "executeQuery(\"\"\"\n",
    "    MATCH (r:RecordLabel)<-[:hasContractWith]-(a:Artist)\n",
    "    WITH r,COUNT(DISTINCT a) AS numArtists\n",
    "    WHERE numArtists > 20\n",
    "    MATCH (r:RecordLabel)<-[:hasContractWith]-(a:Artist)-[:partecipateIn]->(t:Track)-[pos:isPositionedIn]->(ch:Chart)\n",
    "    RETURN r.name as RecordLabel, AVG(pos.position) AS AvgPosition\n",
    "    ORDER BY AvgPosition\n",
    "    LIMIT 10\n",
    "\"\"\")"
   ]
  },
  {
   "cell_type": "markdown",
   "metadata": {},
   "source": [
    "###### Q1.2"
   ]
  },
  {
   "cell_type": "code",
   "execution_count": null,
   "metadata": {},
   "outputs": [],
   "source": [
    "executeQuery(\"\"\"\n",
    "    MATCH (l:RecordLabel)<-[:hasContractWith]-(a:Artist)-[:partecipateIn]->(t:Track)-[p:isPositionedIn]->(c:Chart)\n",
    "    WITH l, avg(p.position) AS averagePosition\n",
    "    MATCH (l)<-[:hasContractWith]-(a:Artist)-[:partecipateIn]->(t:Track)\n",
    "    WITH l, averagePosition, count(distinct t) AS numTracks\n",
    "    WITH l.name AS RecordLabel, averagePosition / numTracks AS QualityValue\n",
    "    RETURN RecordLabel, QualityValue\n",
    "    ORDER BY QualityValue asc\n",
    "    LIMIT 10\n",
    "\"\"\")"
   ]
  },
  {
   "cell_type": "markdown",
   "metadata": {},
   "source": [
    "##### Q2: Show the most common played instrument in rock groups"
   ]
  },
  {
   "cell_type": "code",
   "execution_count": null,
   "metadata": {},
   "outputs": [],
   "source": [
    "# Q2: Show the most common played instrument in rock groups\n",
    "\n",
    "executeQuery(\"\"\"\n",
    "    MATCH (g:Genre{id:\"rock\"})<-[:hasGenre]-(a:Artist)<-[:isMemberOf]-(p:Person)-[:plays]->(i:Instrument)\n",
    "    RETURN i.name as Instrument, COUNT(DISTINCT p) AS NumPlayers\n",
    "    ORDER BY NumPlayers DESC\n",
    "    LIMIT 3\n",
    "\"\"\")"
   ]
  },
  {
   "cell_type": "markdown",
   "metadata": {},
   "source": [
    "### Italian Tracks and Italian Artists\n",
    "\n",
    "#### Q3: Show technical features of Italian Tracks in the TOP 100 Italy through the years 2017-2020"
   ]
  },
  {
   "cell_type": "code",
   "execution_count": null,
   "metadata": {},
   "outputs": [],
   "source": [
    "#Q3: Show technical features of Italian Tracks in the TOP 100 Italy through the years 2017-2020\n",
    "\n",
    "resultDF = executeQuery(\"\"\"\n",
    "    MATCH (c1:Country { id:\"IT\" })<-[:hasNationality]-(p:Person)-[:isMemberOf]->(a:Artist)-[:partecipateIn]->(t:Track)-[:isPositionedIn]->(ch:Chart)-[:isReferredTo]->(c2:Country { id:\"IT\" })\n",
    "    RETURN\n",
    "        ch.date.year as year,\n",
    "        AVG(toInteger(t.explicit)) as explicit,\n",
    "        AVG(t.danceability) as danceability,\n",
    "        AVG(t.energy) as energy,\n",
    "        AVG(t.mode) as mode,\n",
    "        AVG(t.speechiness) as speechiness,\n",
    "        AVG(t.acousticness) as acousticness,\n",
    "        AVG(t.liveness) as liveness,\n",
    "        AVG(t.valence) as valence \n",
    "\"\"\")"
   ]
  },
  {
   "cell_type": "code",
   "execution_count": null,
   "metadata": {},
   "outputs": [],
   "source": [
    "resultDF"
   ]
  },
  {
   "cell_type": "code",
   "execution_count": null,
   "metadata": {},
   "outputs": [],
   "source": [
    "featuresToExtract = [\"explicit\", \"danceability\", \"energy\",\n",
    "                     \"mode\", \"speechiness\", \"acousticness\", \"liveness\", \"valence\"]\n",
    "\n",
    "plotResults(\n",
    "    title=\"Techincal features\",\n",
    "    yArr=resultDF[featuresToExtract].to_numpy().tolist(),\n",
    "    xTicks=featuresToExtract,\n",
    "    legend=list(resultDF[\"year\"]),\n",
    "    yLim=[0, 0.75],\n",
    "    style=\"polar\",\n",
    "    showGrid=True,\n",
    "    fillPlot=True,\n",
    "    legendLocation=[-0.1, 0.2],\n",
    "    figSize=(10, 10),\n",
    ")\n"
   ]
  },
  {
   "cell_type": "markdown",
   "metadata": {},
   "source": [
    "#### Q4: Show technical features of tracks in the first 5 positions and in the last 5 positions of the TOP 100 Italy."
   ]
  },
  {
   "cell_type": "code",
   "execution_count": null,
   "metadata": {},
   "outputs": [],
   "source": [
    "# Q4: Show technical features of tracks in the first 5 positions and in the last 5 positions of the TOP 100 Italy.\n",
    "\n",
    "resultDF = executeQuery(\"\"\"\n",
    "    MATCH (t:Track)-[r:isPositionedIn]->(ch:Chart)-[:isReferredTo]->(c2:Country { id:\"IT\" })\n",
    "    WHERE r.position <= 5\n",
    "    RETURN\n",
    "        \"Top 5\" AS type,\n",
    "        AVG(toInteger(t.explicit)) as explicit,\n",
    "        AVG(t.danceability) as danceability,\n",
    "        AVG(t.energy) as energy,\n",
    "        AVG(t.mode) as mode,\n",
    "        AVG(t.speechiness) as speechiness,\n",
    "        AVG(t.acousticness) as acousticness,\n",
    "        AVG(t.liveness) as liveness,\n",
    "        AVG(t.valence) as valence\n",
    "\n",
    "    UNION\n",
    "\n",
    "    MATCH (t:Track)-[r:isPositionedIn]->(ch:Chart)-[:isReferredTo]->(c2:Country { id:\"IT\" })\n",
    "    WHERE r.position >= 95\n",
    "    RETURN\n",
    "        \"Last 5\" AS type,\n",
    "        AVG(toInteger(t.explicit)) as explicit,\n",
    "        AVG(t.danceability) as danceability,\n",
    "        AVG(t.energy) as energy,\n",
    "        AVG(t.mode) as mode,\n",
    "        AVG(t.speechiness) as speechiness,\n",
    "        AVG(t.acousticness) as acousticness,\n",
    "        AVG(t.liveness) as liveness,\n",
    "        AVG(t.valence) as valence \n",
    "\"\"\")"
   ]
  },
  {
   "cell_type": "code",
   "execution_count": null,
   "metadata": {},
   "outputs": [],
   "source": [
    "resultDF"
   ]
  },
  {
   "cell_type": "code",
   "execution_count": null,
   "metadata": {},
   "outputs": [],
   "source": [
    "featuresToExtract = [\"explicit\", \"danceability\", \"energy\",\n",
    "                     \"mode\", \"speechiness\", \"acousticness\", \"liveness\", \"valence\"]\n",
    "                     \n",
    "plotResults(\n",
    "    title=\"Techincal features\",\n",
    "    yArr=resultDF[featuresToExtract].to_numpy().tolist(),\n",
    "    xTicks=featuresToExtract,\n",
    "    legend=list(resultDF[\"type\"]),\n",
    "    yLim=[0, 0.75],\n",
    "    style=\"polar\",\n",
    "    showGrid=True,\n",
    "    fillPlot=True,\n",
    "    legendLocation=[-0.1, 0.2],\n",
    "    figSize=(10, 10),\n",
    ")"
   ]
  },
  {
   "cell_type": "markdown",
   "metadata": {},
   "source": [
    "#### Q5: On average how many tracks from Italian artists are present in Top 100 Italy for each year? (Grafico a barre)"
   ]
  },
  {
   "cell_type": "code",
   "execution_count": null,
   "metadata": {},
   "outputs": [],
   "source": [
    "# Q5: On average how many tracks from italian artists are present in Top 100 Italy for each year?\n",
    "\n",
    "avgItalianTracksDF = executeQuery(\"\"\"\n",
    "    MATCH (c1:Country { id:\"IT\" })<-[:hasNationality]-(p:Person)-[:isMemberOf]->(a:Artist)-[:partecipateIn]->(t:Track)-[:isPositionedIn]->(ch:Chart)-[:isReferredTo]->(c2:Country { id:\"IT\" })\n",
    "    WITH ch, ch.date.year AS year, COUNT(DISTINCT t) as numTracks\n",
    "    RETURN year, avg(numTracks) as avgNumTracks\n",
    "    ORDER BY year\n",
    "\"\"\")"
   ]
  },
  {
   "cell_type": "code",
   "execution_count": null,
   "metadata": {},
   "outputs": [],
   "source": [
    "avgItalianTracksDF\n"
   ]
  },
  {
   "cell_type": "code",
   "execution_count": null,
   "metadata": {},
   "outputs": [],
   "source": [
    "plotResults(\n",
    "    x=np.arange(len(avgItalianTracksDF)),\n",
    "    yArr=[list(avgItalianTracksDF[\"avgNumTracks\"])],\n",
    "    yLabel=\"Average number of tracks\",\n",
    "    xLabel=\"Year\",\n",
    "    xTicks=list(avgItalianTracksDF[\"year\"]),\n",
    "    showGrid=True,\n",
    "    gridAxis=\"y\",\n",
    "    style=\"bar\",\n",
    "    saveTitle=\"query3\"\n",
    ")\n"
   ]
  },
  {
   "cell_type": "markdown",
   "metadata": {},
   "source": [
    "As we can notice, in 2017 there were only 31 tracks on average in the TOP 100 Italy. We want to discovery if this is just a case of is there any reason behind this result.\n",
    "\n",
    "So, in the next query we will check how many tracks were released by italian artist for each year."
   ]
  },
  {
   "cell_type": "markdown",
   "metadata": {},
   "source": [
    "#### Q6: How many tracks were released from Italian artist every year from 2017 to 2020 ?"
   ]
  },
  {
   "cell_type": "code",
   "execution_count": null,
   "metadata": {},
   "outputs": [],
   "source": [
    "# Q6: How many tracks were released from Italian artist every year from 2017 to 2020 ?\n",
    "\n",
    "tracksReleasedDF = executeQuery(\"\"\"\n",
    "    MATCH (c1:Country{id:\"IT\"})<-[:hasNationality]-(p:Person)-[:isMemberOf]->(a:Artist)-[:partecipateIn]->(t:Track)-[:isPartOf]->(alb:Album)\n",
    "    WHERE alb.releaseDate.year >= 2017\n",
    "    WITH alb.releaseDate.year AS year, COUNT(DISTINCT t) as numTracks\n",
    "    RETURN year, numTracks\n",
    "    ORDER BY year\n",
    "\"\"\")"
   ]
  },
  {
   "cell_type": "code",
   "execution_count": null,
   "metadata": {},
   "outputs": [],
   "source": [
    "tracksReleasedDF\n"
   ]
  },
  {
   "cell_type": "code",
   "execution_count": null,
   "metadata": {},
   "outputs": [],
   "source": [
    "plotResults(\n",
    "    x=np.arange(len(tracksReleasedDF)),\n",
    "    yArr=[list(tracksReleasedDF[\"numTracks\"])],\n",
    "    yLabel=\"Number of tracks\",\n",
    "    xLabel=\"Year\",\n",
    "    xTicks=list(tracksReleasedDF[\"year\"]),\n",
    "    showGrid=True,\n",
    "    gridAxis=\"y\",\n",
    "    style=\"bar\",\n",
    "    saveTitle=\"query4\"\n",
    ")\n",
    "\n",
    "\n",
    "width = 0.1\n",
    "x = np.arange(len(tracksReleasedDF))\n",
    "plt.bar(x, list(tracksReleasedDF[\"numTracks\"]), color='Blue', width=width)\n",
    "plt.twinx()\n",
    "plt.bar(x+width*2,\n",
    "        list(avgItalianTracksDF[\"avgNumTracks\"]), color='Green', width=width)\n",
    "#show plot\n",
    "plt.show()\n"
   ]
  },
  {
   "cell_type": "markdown",
   "metadata": {},
   "source": [
    "Since in 2017 Italian artists relased only 163 tracks (almost half of 2018,2019 and 2020), it is understandable why in 2017 there were only 31 tracks on average in the TOP 100 Italy."
   ]
  },
  {
   "cell_type": "markdown",
   "metadata": {},
   "source": [
    "#### Q7: How many different Italian artist entered at least once in Top 100 Italy for each Year ? (Grafico a barre)"
   ]
  },
  {
   "cell_type": "code",
   "execution_count": null,
   "metadata": {},
   "outputs": [],
   "source": [
    "# Q7: How many different Italian artist entered at least once in Top 100 Italy for each Year ?\n",
    "\n",
    "resultDF = executeQuery(\"\"\"\n",
    "    MATCH (c1:Country { id:\"IT\" })<-[:hasNationality]-(p:Person)-[:isMemberOf]->(a:Artist)-[:partecipateIn]->(t:Track)-[:isPositionedIn]->(ch:Chart)-[:isReferredTo]->(c2:Country{ id:\"IT\" })\n",
    "    RETURN ch.date.year AS year, COUNT(DISTINCT a) as numArtists\n",
    "    ORDER BY year\n",
    "\"\"\")"
   ]
  },
  {
   "cell_type": "code",
   "execution_count": null,
   "metadata": {},
   "outputs": [],
   "source": [
    "resultDF"
   ]
  },
  {
   "cell_type": "code",
   "execution_count": null,
   "metadata": {},
   "outputs": [],
   "source": [
    "plotResults(\n",
    "    x=np.arange(len(resultDF)),\n",
    "    yArr=[list(resultDF[\"numArtists\"])],\n",
    "    yLabel=\"Number of artists\",\n",
    "    xLabel=\"Year\",\n",
    "    xTicks=list(resultDF[\"year\"]),\n",
    "    showGrid=True,\n",
    "    gridAxis=\"y\",\n",
    "    style=\"bar\",\n",
    "    saveTitle=\"query5\"\n",
    ")"
   ]
  },
  {
   "cell_type": "markdown",
   "metadata": {},
   "source": [
    "#### Q8: On average how many tracks from Italian artists are present in Top 100 Italy through the different months of the year ? (Grafico a linea)"
   ]
  },
  {
   "cell_type": "code",
   "execution_count": null,
   "metadata": {},
   "outputs": [],
   "source": [
    "# Q8: On average how many tracks from Italian artists are present in Top 100 Italy through the different months of the year ? \n",
    "\n",
    "resultDF = executeQuery(\"\"\"\n",
    "    MATCH (c1:Country { id:\"IT\" })<-[:hasNationality]-(p:Person)-[:isMemberOf]->(a:Artist)-[:partecipateIn]->(t:Track)-[:isPositionedIn]->(ch:Chart)-[:isReferredTo]->(c2:Country { id:\"IT\" })\n",
    "    WITH ch,ch.date.month AS month, COUNT(DISTINCT t) as numTracks\n",
    "    RETURN month, avg(numTracks) as avgNumTracks\n",
    "    ORDER BY month\n",
    "\"\"\")"
   ]
  },
  {
   "cell_type": "code",
   "execution_count": null,
   "metadata": {},
   "outputs": [],
   "source": [
    "resultDF"
   ]
  },
  {
   "cell_type": "code",
   "execution_count": null,
   "metadata": {},
   "outputs": [],
   "source": [
    "plotResults(\n",
    "    x=np.arange(len(resultDF)),\n",
    "    yArr=[list(resultDF[\"avgNumTracks\"])],\n",
    "    yLabel=\"Average number of tracks\",\n",
    "    xLabel=\"Months\",\n",
    "    xTicks=list(resultDF[\"month\"]),\n",
    "    showGrid=True,\n",
    "    gridAxis=\"y\",\n",
    "    style=\"line\",\n",
    "    fillPlot=True,\n",
    "    saveTitle=\"query6\"\n",
    ")"
   ]
  },
  {
   "cell_type": "markdown",
   "metadata": {},
   "source": [
    "#### Q9: How many albums from Italian artists are released through the different months of the year ? (Grafico a linea)"
   ]
  },
  {
   "cell_type": "code",
   "execution_count": null,
   "metadata": {},
   "outputs": [],
   "source": [
    "#Q9: How many albums from Italian artists are released through the different months of the year ? \n",
    "\n",
    "resultDF = executeQuery(\"\"\"\n",
    "    MATCH (c1:Country { id:\"IT\" })<-[:hasNationality]-(p:Person)-[:isMemberOf]->(a:Artist)-[:partecipateIn]->(alb:Album)\n",
    "    WITH alb.releaseDate.month AS month, COUNT(DISTINCT alb) as numAlbums\n",
    "    RETURN month, numAlbums\n",
    "    ORDER BY month\n",
    "\"\"\")"
   ]
  },
  {
   "cell_type": "code",
   "execution_count": null,
   "metadata": {},
   "outputs": [],
   "source": [
    "resultDF"
   ]
  },
  {
   "cell_type": "code",
   "execution_count": null,
   "metadata": {},
   "outputs": [],
   "source": [
    "plotResults(\n",
    "    x=np.arange(len(resultDF)),\n",
    "    yArr=[list(resultDF[\"numAlbums\"])],\n",
    "    yLabel=\"Number of albums\",\n",
    "    xLabel=\"Months\",\n",
    "    xTicks=list(resultDF[\"month\"]),\n",
    "    showGrid=True,\n",
    "    gridAxis=\"y\",\n",
    "    style=\"line\",\n",
    "    fillPlot=True,\n",
    "    saveTitle=\"query7\"\n",
    ")"
   ]
  },
  {
   "cell_type": "markdown",
   "metadata": {},
   "source": [
    "#### Q9: Who is the Italian artist with the highest number of tracks present in Top 100 Italy for each year? (Nomi degli artisti)"
   ]
  },
  {
   "cell_type": "code",
   "execution_count": null,
   "metadata": {},
   "outputs": [],
   "source": [
    "# Q9: Who is the Italian artist with the highest number of tracks present in Top 100 Italy for each year?\n",
    "\n",
    "topArtistsDF = executeQuery(\"\"\"\n",
    "    MATCH (c1:Country { id:\"IT\" })<-[:hasNationality]-(p:Person)-[:isMemberOf]->(a:Artist)-[:partecipateIn]->(t:Track)-[:isPositionedIn]->(ch:Chart)-[:isReferredTo]->(c2:Country { id:\"IT\" })\n",
    "    WITH a, ch.date.year AS year, COUNT(DISTINCT t) as numTracks\n",
    "    ORDER BY numTracks DESC\n",
    "    WITH year, COLLECT(a) AS artists, COLLECT(numTracks) as orderedNumTracks\n",
    "    RETURN DISTINCT year, artists[0].id as artist, artists[0].name as artistName , orderedNumTracks[0] as numTracks\n",
    "    ORDER BY year\n",
    "\"\"\")"
   ]
  },
  {
   "cell_type": "code",
   "execution_count": null,
   "metadata": {},
   "outputs": [],
   "source": [
    "topArtistsDF"
   ]
  },
  {
   "cell_type": "markdown",
   "metadata": {},
   "source": [
    "#### Q10: Show the distribution of the positions in the TOP 100 Italy reached by the just retrieved artist"
   ]
  },
  {
   "cell_type": "code",
   "execution_count": null,
   "metadata": {},
   "outputs": [],
   "source": [
    "# Q10: Show the distribution of the positions in the TOP 100 Italy reached by the just retrieved artist\n",
    "\n",
    "positionsDF = executeQuery(\"\"\"\n",
    "    UNWIND $datas as data\n",
    "    MATCH (a:Artist { id: data.artist })-[:partecipateIn]->(t:Track)-[r:isPositionedIn]->(ch:Chart)-[:isReferredTo]->(c2:Country { id:\"IT\" })\n",
    "    WHERE ch.date >= date({year: data.year, month: 1, day: 1}) AND ch.date <= date({year: data.year, month: 12, day: 31})\n",
    "    RETURN a.name as artist, COLLECT(r.position) AS positions\n",
    "\"\"\", datas=[{\"artist\": x[\"artist\"], \"year\": x[\"year\"]} for _, x in topArtistsDF.iterrows()])"
   ]
  },
  {
   "cell_type": "code",
   "execution_count": null,
   "metadata": {},
   "outputs": [],
   "source": [
    "positionsDF"
   ]
  },
  {
   "cell_type": "code",
   "execution_count": null,
   "metadata": {},
   "outputs": [],
   "source": [
    "plotResults(\n",
    "    yArr=list(positionsDF[\"positions\"]),\n",
    "    style=\"boxplot\",\n",
    "    fillPlot=True,\n",
    "    figSize=(15, 8),\n",
    "    yLabel=\"Position\",\n",
    "    showGrid=True,\n",
    "    xTicks=list(positionsDF[\"artist\"])\n",
    ")"
   ]
  },
  {
   "cell_type": "markdown",
   "metadata": {},
   "source": [
    "####  Q11: Show the top 3 Italian artists with the highest number of tracks present in Top 100 Italy at the same time."
   ]
  },
  {
   "cell_type": "code",
   "execution_count": null,
   "metadata": {},
   "outputs": [],
   "source": [
    "# Q11: Show the top 3 Italian artists with the highest number of tracks present in Top 100 Italy at the same time.\n",
    "\n",
    "topArtitstDF = executeQuery(\"\"\"\n",
    "    MATCH (c1:Country{id:\"IT\"})<-[:hasNationality]-(p:Person)-[:isMemberOf]->(a:Artist)-[:partecipateIn]->(t:Track)-[:isPositionedIn]->(ch:Chart)-[:isReferredTo]->(c2:Country{id:\"IT\"})\n",
    "    WITH a,ch, COUNT(DISTINCT t) as numTracks\n",
    "    ORDER BY numTracks DESC\n",
    "    WITH a,COLLECT(ch) AS charts, COLLECT(numTracks) as orderedNumTracks\n",
    "    RETURN DISTINCT a.id as artist, a.name as artistName, charts[0].date as date, charts[0].name as chart, orderedNumTracks[0] as numTracks\n",
    "    LIMIT 3\n",
    "\"\"\")\n",
    "\n",
    "topArtitstDF"
   ]
  },
  {
   "cell_type": "markdown",
   "metadata": {},
   "source": [
    "The numbers of tracks present simultaneously in the TOP 100 Italy are quite high (24,19 and 18). \n",
    "\n",
    "We want to check if these artists released an album on the same month (or previous one) of the chart in which they have the highest number of tracks."
   ]
  },
  {
   "cell_type": "code",
   "execution_count": null,
   "metadata": {},
   "outputs": [],
   "source": [
    "executeQuery(\"\"\"\n",
    "    UNWIND $artistsAndAlbums as data\n",
    "    MATCH (a:Artist { id: data.artist })-[:partecipateIn]->(alb:Album { albumType:\"album\" })\n",
    "    WHERE alb.releaseDate >= date({ year: data.date.year, month: data.date.month - 1, day: 1 })\n",
    "        AND alb.releaseDate <= date({ year: data.date.year, month: data.date.month, day: 30 })\n",
    "    RETURN a.name as artist, alb.name as albumName, alb.releaseDate as releaseDate\n",
    "\"\"\", artistsAndAlbums=[{\"artist\": x[\"artist\"], \"date\": x[\"date\"]} for _, x in topArtitstDF.iterrows()])\n"
   ]
  },
  {
   "cell_type": "markdown",
   "metadata": {},
   "source": [
    "So, these Italian artists managed to have a lot of tracks in the TOP 100 Italy at the same time, because they released albums whose tracks probably entered all in TOP 100 Italy."
   ]
  },
  {
   "cell_type": "markdown",
   "metadata": {},
   "source": [
    "#### Q12: Show the youngest artist who entered in the first 10 positions of Top 100 Italy for each year."
   ]
  },
  {
   "cell_type": "code",
   "execution_count": null,
   "metadata": {},
   "outputs": [],
   "source": [
    "# Q12: Show the youngest artist who entered in the first 10 positions of Top 100 Italy for each year.\n",
    "\n",
    "executeQuery(\"\"\"\n",
    "    MATCH (c1:Country { id:\"IT\" })<-[:hasNationality]-(p:Person)-[:isMemberOf]->(a:Artist)-[:partecipateIn]->(t:Track)-[r:isPositionedIn]->(ch:Chart)-[:isReferredTo]->(c2:Country { id:\"IT\" })\n",
    "    WHERE r.position <=10 AND p.birthDate IS NOT NULL\n",
    "    WITH ch,a,p\n",
    "    ORDER BY p.birthDate DESC\n",
    "    WITH ch.date.year AS year, COLLECT(a.name) AS artistsNames, COLLECT(p.birthDate) AS artistsBirthDates\n",
    "    RETURN year, artistsNames[0] as artist, artistsBirthDates[0] as birthDate\n",
    "\"\"\")"
   ]
  },
  {
   "cell_type": "markdown",
   "metadata": {},
   "source": [
    "Of course in the case of ***Maneskin*** the birthDate is referred to the youngest member of the group."
   ]
  },
  {
   "cell_type": "markdown",
   "metadata": {},
   "source": [
    "### Italian tracks abroad\n",
    "\n",
    "#### Q13: How many tracks from Italian artist are present in a Top 100 of a different country for each year (grafico barre)"
   ]
  },
  {
   "cell_type": "code",
   "execution_count": null,
   "metadata": {},
   "outputs": [],
   "source": [
    "# Q13: How many tracks from Italian artist are present in a Top 100 of a different country for each year\n",
    "\n",
    "resultDF = executeQuery(\"\"\"\n",
    "    MATCH (c1:Country { id:\"IT\" })<-[:hasNationality]-(p:Person)-[:isMemberOf]->(a:Artist)-[:partecipateIn]->(t:Track)-[:isPositionedIn]->(ch:Chart)-[:isReferredTo]->(c2:Country)\n",
    "    WHERE c2.id <> \"IT\"\n",
    "    WITH ch.date.year AS year, COUNT(DISTINCT t) AS numItalianTracks\n",
    "    RETURN year,numItalianTracks\n",
    "    ORDER BY year\n",
    "\"\"\")"
   ]
  },
  {
   "cell_type": "code",
   "execution_count": null,
   "metadata": {},
   "outputs": [],
   "source": [
    "resultDF"
   ]
  },
  {
   "cell_type": "code",
   "execution_count": null,
   "metadata": {},
   "outputs": [],
   "source": [
    "plotResults(\n",
    "    x=np.arange(len(resultDF)),\n",
    "    yArr=[list(resultDF[\"numItalianTracks\"])],\n",
    "    yLabel=\"Number of Tracks abroad\",\n",
    "    xLabel=\"Year\",\n",
    "    xTicks=list(resultDF[\"year\"]),\n",
    "    showGrid=True,\n",
    "    gridAxis=\"y\",\n",
    "    style=\"bar\",\n",
    "    saveTitle=\"query11\"\n",
    ")"
   ]
  },
  {
   "cell_type": "markdown",
   "metadata": {},
   "source": [
    "#### Q14: Show the countries that listen the most to Italian tracks. (show Names and numbers)"
   ]
  },
  {
   "cell_type": "code",
   "execution_count": null,
   "metadata": {},
   "outputs": [],
   "source": [
    "# Q14: Show the top 5 countries that listen the most to Italian tracks.\n",
    "\n",
    "resultDF = executeQuery(\"\"\"\n",
    "    MATCH (c1:Country { id:\"IT\" })<-[:hasNationality]-(p:Person)-[:isMemberOf]->(a:Artist)-[:partecipateIn]->(t:Track)-[:isPositionedIn]->(ch:Chart)-[:isReferredTo]->(c2:Country)\n",
    "    WHERE c2.id <> \"IT\"\n",
    "    RETURN c2.id as countryCode, c2.name as countryName, COUNT(DISTINCT t) AS numItalianTracks\n",
    "    ORDER BY numItalianTracks DESC\n",
    "\"\"\")\n",
    "\n",
    "resultDF"
   ]
  },
  {
   "cell_type": "code",
   "execution_count": null,
   "metadata": {},
   "outputs": [],
   "source": [
    "import plotly.express as px\n",
    "\n",
    "fig = px.choropleth(resultDF,\n",
    "                    locations=\"countryName\",\n",
    "                    locationmode='country names',\n",
    "                    color=\"numItalianTracks\",\n",
    "                    hover_name=\"countryName\",\n",
    "                    color_continuous_scale='tealgrn')\n",
    "\n",
    "fig.show()"
   ]
  },
  {
   "cell_type": "markdown",
   "metadata": {},
   "source": [
    "#### Q15: Who is the artist present in the highest number of TOP 100 of different countries? Show also the countries in which he/she is present."
   ]
  },
  {
   "cell_type": "code",
   "execution_count": null,
   "metadata": {},
   "outputs": [],
   "source": [
    "# Q13: Who is the artist present in the highest number of different countries? Show also the countries in which he/she is present.\n",
    "\n",
    "executeQuery(\"\"\"\n",
    "    MATCH (c1:Country { id:\"IT\" })<-[:hasNationality]-(p:Person)-[:isMemberOf]->(a:Artist)-[:partecipateIn]->(t:Track)-[:isPositionedIn]->(ch:Chart)-[:isReferredTo]->(c2:Country)\n",
    "    WHERE c2.id <> \"IT\"\n",
    "    RETURN a.name as artist, COUNT(DISTINCT c2) AS numCountries, COLLECT(DISTINCT ch.name) AS charts\n",
    "    ORDER BY numCountries DESC\n",
    "    LIMIT 1\n",
    "\"\"\")"
   ]
  },
  {
   "cell_type": "markdown",
   "metadata": {},
   "source": [
    "#### Q15: Who is the artist with the highest number of tracks present oustide Italy ? Show also the names of the tracks. "
   ]
  },
  {
   "cell_type": "code",
   "execution_count": null,
   "metadata": {},
   "outputs": [],
   "source": [
    "# Q15: Who is the artist with the highest number of tracks present oustide Italy ? Show also the names of the tracks. \n",
    "\n",
    "executeQuery(\"\"\"\n",
    "    MATCH (c1:Country { id:\"IT\" })<-[:hasNationality]-(p:Person)-[:isMemberOf]->(a:Artist)-[:partecipateIn]->(t:Track)-[:isPositionedIn]->(ch:Chart)-[:isReferredTo]->(c2:Country)\n",
    "    WHERE c2.id <> \"IT\"\n",
    "    RETURN a.name as artist, COUNT(DISTINCT t) AS numTracks, COLLECT(DISTINCT t.name) as trackNames\n",
    "    ORDER BY numTracks DESC\n",
    "    LIMIT 1\n",
    "\"\"\")"
   ]
  },
  {
   "cell_type": "markdown",
   "metadata": {},
   "source": [
    "We have shown that actually there are two different criteria to determine the most \"widespread\" Italian artist abroad:\n",
    "\n",
    "**1)** Count how many different countries the artist has reached excluding Italy. In this case, the best is ***Gigi D'Agostino***\n",
    "\n",
    "\n",
    "**2)** Count the total number of tracks present in countries outside Italy. In this case, the best is ***Sfera Ebbasta***"
   ]
  }
 ],
 "metadata": {
  "kernelspec": {
   "display_name": "Python 3",
   "language": "python",
   "name": "python3"
  },
  "language_info": {
   "codemirror_mode": {
    "name": "ipython",
    "version": 3
   },
   "file_extension": ".py",
   "mimetype": "text/x-python",
   "name": "python",
   "nbconvert_exporter": "python",
   "pygments_lexer": "ipython3",
   "version": "3.9.7"
  }
 },
 "nbformat": 4,
 "nbformat_minor": 2
}
