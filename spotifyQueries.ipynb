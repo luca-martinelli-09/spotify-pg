{
 "cells": [
  {
   "cell_type": "markdown",
   "metadata": {},
   "source": [
    "## Spotify Query\n",
    "\n",
    "In this notebook we perform some query on our property graph about Spotify. In particular the queries will be divided into three parts:\n",
    "1. ***Example queries***: we perform two example queries where we show how it is possibile to use the new added information such as *record label* and *instruments*.\n",
    "1. ***Italian tracks and Italian artists from 2017 to 2020:*** we perfom some queries about italian tracks and artists present in the TOP 100 Italy.\n",
    "1. ***Italian tracks abroad:*** we want to discover if italian tracks are listened also outside Italy."
   ]
  },
  {
   "cell_type": "code",
   "execution_count": 115,
   "metadata": {},
   "outputs": [
    {
     "name": "stdout",
     "output_type": "stream",
     "text": [
      "The autoreload extension is already loaded. To reload it, use:\n",
      "  %reload_ext autoreload\n"
     ]
    }
   ],
   "source": [
    "# Autoreload imports\n",
    "%load_ext autoreload\n",
    "%autoreload 2\n",
    "\n",
    "# Import required libraries\n",
    "from neo4j import GraphDatabase\n",
    "import pandas as pd\n",
    "from plotUtils import PlotUtils\n",
    "import numpy as np"
   ]
  },
  {
   "cell_type": "markdown",
   "metadata": {},
   "source": [
    "### Connection to Neo4j"
   ]
  },
  {
   "cell_type": "code",
   "execution_count": 116,
   "metadata": {},
   "outputs": [],
   "source": [
    "# Neo4J params class\n",
    "class Neo4jParams:\n",
    "  def __init__(self, user, psw, dbname, dbpsw, uri):\n",
    "    self.user = user\n",
    "    self.psw = psw\n",
    "    self.dbname = dbname\n",
    "    self.dbpsw = dbpsw\n",
    "    self.uri = uri"
   ]
  },
  {
   "cell_type": "code",
   "execution_count": 117,
   "metadata": {},
   "outputs": [],
   "source": [
    "#DB parameters\n",
    "user = \"neo4j\"\n",
    "psw = \"neo4j\"\n",
    "dbname = \"SpotifyDB\"\n",
    "dbpsw = \"SpotifyDB\"\n",
    "uri = \"bolt://localhost:7687\"\n",
    "\n",
    "params = Neo4jParams(user, psw, dbname, dbpsw, uri)"
   ]
  },
  {
   "cell_type": "code",
   "execution_count": 118,
   "metadata": {},
   "outputs": [],
   "source": [
    "def getDriver():\n",
    "    return GraphDatabase.driver(params.uri, auth=(params.user, params.dbpsw))"
   ]
  },
  {
   "cell_type": "code",
   "execution_count": 119,
   "metadata": {},
   "outputs": [],
   "source": [
    "def executeQuery(query, **kwargs):\n",
    "    # Connect to the DB and create a session\n",
    "    driver = getDriver()\n",
    "    session = driver.session()\n",
    "\n",
    "    result = session.run(query, kwargs)\n",
    "\n",
    "    resultDF = pd.DataFrame(result.values(), columns=result.keys())\n",
    "\n",
    "    session.close()\n",
    "    driver.close()\n",
    "\n",
    "    return resultDF"
   ]
  },
  {
   "cell_type": "markdown",
   "metadata": {},
   "source": [
    "## Plot utilities"
   ]
  },
  {
   "cell_type": "code",
   "execution_count": 120,
   "metadata": {},
   "outputs": [],
   "source": [
    "TITLE_PAD = 30\n",
    "TITLE_DIM = 30\n",
    "XY_LABEL_PAD = 23\n",
    "XY_LABEL_DIM = 21\n",
    "XY_TICKS_DIM = 18\n",
    "GRID_ALPHA = 0.2\n",
    "FILL_ALPHA = 0.05\n",
    "BAR_WIDTH = 0.95\n",
    "LEGEND_LOC = \"upper left\"\n",
    "LEGEND_LABEL_DIM = 15\n",
    "COLOR_SCHEME = [\"#1DB954\", \"#22577A\", \"#A03C78\", \"#C67ACE\"]\n",
    "\n",
    "FIG_SIZE = (18, 8)\n",
    "FIG_BG_COLOR = None # \"w\"\n",
    "FIG_DPI = 500\n",
    "FIG_BBOX = \"tight\"\n",
    "FIG_PAD = .3\n",
    "FIG_FORMATS = [\"png\", \"pdf\"]"
   ]
  },
  {
   "cell_type": "code",
   "execution_count": 121,
   "metadata": {},
   "outputs": [],
   "source": [
    "plotter = PlotUtils(\n",
    "    options={\n",
    "        \"titlePad\": TITLE_PAD,\n",
    "        \"titleDim\": TITLE_DIM,\n",
    "        \"xyLabelPad\": XY_LABEL_PAD,\n",
    "        \"xyLabelDim\": XY_LABEL_DIM,\n",
    "        \"xyTicksDim\": XY_TICKS_DIM,\n",
    "        \"gridAlpha\": GRID_ALPHA,\n",
    "        \"fillAlpha\": FILL_ALPHA,\n",
    "        \"barWidth\": BAR_WIDTH,\n",
    "        \"legendLoc\": LEGEND_LOC,\n",
    "        \"legendLabelDim\": LEGEND_LABEL_DIM,\n",
    "        \"colorScheme\": COLOR_SCHEME,\n",
    "        \"figSize\": FIG_SIZE,\n",
    "        \"figBGColor\": FIG_BG_COLOR,\n",
    "        \"figDPI\": FIG_DPI,\n",
    "        \"figBBox\": FIG_BBOX,\n",
    "        \"figPad\": FIG_PAD,\n",
    "        \"figFormats\": FIG_FORMATS,\n",
    "    }\n",
    ")"
   ]
  },
  {
   "cell_type": "markdown",
   "metadata": {},
   "source": [
    "### Example Queries\n",
    "\n",
    "##### Q1: Considering only records labels with more than 20 artists, show the top 10 record labels according to the averare position of the tracks released by artists of that specifc record label."
   ]
  },
  {
   "cell_type": "code",
   "execution_count": 122,
   "metadata": {},
   "outputs": [
    {
     "data": {
      "text/html": [
       "<div>\n",
       "<style scoped>\n",
       "    .dataframe tbody tr th:only-of-type {\n",
       "        vertical-align: middle;\n",
       "    }\n",
       "\n",
       "    .dataframe tbody tr th {\n",
       "        vertical-align: top;\n",
       "    }\n",
       "\n",
       "    .dataframe thead th {\n",
       "        text-align: right;\n",
       "    }\n",
       "</style>\n",
       "<table border=\"1\" class=\"dataframe\">\n",
       "  <thead>\n",
       "    <tr style=\"text-align: right;\">\n",
       "      <th></th>\n",
       "      <th>RecordLabel</th>\n",
       "      <th>AvgPosition</th>\n",
       "    </tr>\n",
       "  </thead>\n",
       "  <tbody>\n",
       "    <tr>\n",
       "      <th>0</th>\n",
       "      <td>Virgin Records</td>\n",
       "      <td>45.520898</td>\n",
       "    </tr>\n",
       "    <tr>\n",
       "      <th>1</th>\n",
       "      <td>Def Jam Recordings</td>\n",
       "      <td>46.695923</td>\n",
       "    </tr>\n",
       "    <tr>\n",
       "      <th>2</th>\n",
       "      <td>Mercury Records</td>\n",
       "      <td>46.736621</td>\n",
       "    </tr>\n",
       "    <tr>\n",
       "      <th>3</th>\n",
       "      <td>Geffen Records</td>\n",
       "      <td>46.941477</td>\n",
       "    </tr>\n",
       "    <tr>\n",
       "      <th>4</th>\n",
       "      <td>Sony Music</td>\n",
       "      <td>47.250278</td>\n",
       "    </tr>\n",
       "    <tr>\n",
       "      <th>5</th>\n",
       "      <td>Spinnin' Records</td>\n",
       "      <td>47.605493</td>\n",
       "    </tr>\n",
       "    <tr>\n",
       "      <th>6</th>\n",
       "      <td>Republic Records</td>\n",
       "      <td>48.001249</td>\n",
       "    </tr>\n",
       "    <tr>\n",
       "      <th>7</th>\n",
       "      <td>Arista</td>\n",
       "      <td>48.099854</td>\n",
       "    </tr>\n",
       "    <tr>\n",
       "      <th>8</th>\n",
       "      <td>Island Records</td>\n",
       "      <td>48.476870</td>\n",
       "    </tr>\n",
       "    <tr>\n",
       "      <th>9</th>\n",
       "      <td>Warner Music Group</td>\n",
       "      <td>48.762100</td>\n",
       "    </tr>\n",
       "  </tbody>\n",
       "</table>\n",
       "</div>"
      ],
      "text/plain": [
       "          RecordLabel  AvgPosition\n",
       "0      Virgin Records    45.520898\n",
       "1  Def Jam Recordings    46.695923\n",
       "2     Mercury Records    46.736621\n",
       "3      Geffen Records    46.941477\n",
       "4          Sony Music    47.250278\n",
       "5    Spinnin' Records    47.605493\n",
       "6    Republic Records    48.001249\n",
       "7              Arista    48.099854\n",
       "8      Island Records    48.476870\n",
       "9  Warner Music Group    48.762100"
      ]
     },
     "execution_count": 122,
     "metadata": {},
     "output_type": "execute_result"
    }
   ],
   "source": [
    "# Q1: Considering only records labels with more than 20 artists, show the top 10 record labels according to the averare position of the tracks released by artists of that specifc record label\n",
    "\n",
    "executeQuery(\"\"\"\n",
    "    MATCH (r:RecordLabel)<-[:hasContractWith]-(a:Artist)\n",
    "    WITH r,COUNT(DISTINCT a) AS numArtists\n",
    "    WHERE numArtists > 20\n",
    "    MATCH (r:RecordLabel)<-[:hasContractWith]-(a:Artist)-[:partecipateIn]->(t:Track)-[pos:isPositionedIn]->(ch:Chart)\n",
    "    RETURN r.name as RecordLabel, AVG(pos.position) AS AvgPosition\n",
    "    ORDER BY AvgPosition\n",
    "    LIMIT 10\n",
    "\"\"\")"
   ]
  },
  {
   "cell_type": "markdown",
   "metadata": {},
   "source": [
    "###### Q1.2"
   ]
  },
  {
   "cell_type": "code",
   "execution_count": 123,
   "metadata": {},
   "outputs": [
    {
     "data": {
      "text/html": [
       "<div>\n",
       "<style scoped>\n",
       "    .dataframe tbody tr th:only-of-type {\n",
       "        vertical-align: middle;\n",
       "    }\n",
       "\n",
       "    .dataframe tbody tr th {\n",
       "        vertical-align: top;\n",
       "    }\n",
       "\n",
       "    .dataframe thead th {\n",
       "        text-align: right;\n",
       "    }\n",
       "</style>\n",
       "<table border=\"1\" class=\"dataframe\">\n",
       "  <thead>\n",
       "    <tr style=\"text-align: right;\">\n",
       "      <th></th>\n",
       "      <th>RecordLabel</th>\n",
       "      <th>QualityValue</th>\n",
       "    </tr>\n",
       "  </thead>\n",
       "  <tbody>\n",
       "    <tr>\n",
       "      <th>0</th>\n",
       "      <td>Universal Music Group</td>\n",
       "      <td>0.022028</td>\n",
       "    </tr>\n",
       "    <tr>\n",
       "      <th>1</th>\n",
       "      <td>Sony Music</td>\n",
       "      <td>0.039009</td>\n",
       "    </tr>\n",
       "    <tr>\n",
       "      <th>2</th>\n",
       "      <td>Columbia Records</td>\n",
       "      <td>0.042851</td>\n",
       "    </tr>\n",
       "    <tr>\n",
       "      <th>3</th>\n",
       "      <td>Atlantic Records</td>\n",
       "      <td>0.045361</td>\n",
       "    </tr>\n",
       "    <tr>\n",
       "      <th>4</th>\n",
       "      <td>Interscope Records</td>\n",
       "      <td>0.051307</td>\n",
       "    </tr>\n",
       "    <tr>\n",
       "      <th>5</th>\n",
       "      <td>Republic Records</td>\n",
       "      <td>0.055237</td>\n",
       "    </tr>\n",
       "    <tr>\n",
       "      <th>6</th>\n",
       "      <td>Def Jam Recordings</td>\n",
       "      <td>0.061442</td>\n",
       "    </tr>\n",
       "    <tr>\n",
       "      <th>7</th>\n",
       "      <td>Warner Music Group</td>\n",
       "      <td>0.071604</td>\n",
       "    </tr>\n",
       "    <tr>\n",
       "      <th>8</th>\n",
       "      <td>Capitol Records</td>\n",
       "      <td>0.078628</td>\n",
       "    </tr>\n",
       "    <tr>\n",
       "      <th>9</th>\n",
       "      <td>Epic Records</td>\n",
       "      <td>0.081389</td>\n",
       "    </tr>\n",
       "  </tbody>\n",
       "</table>\n",
       "</div>"
      ],
      "text/plain": [
       "             RecordLabel  QualityValue\n",
       "0  Universal Music Group      0.022028\n",
       "1             Sony Music      0.039009\n",
       "2       Columbia Records      0.042851\n",
       "3       Atlantic Records      0.045361\n",
       "4     Interscope Records      0.051307\n",
       "5       Republic Records      0.055237\n",
       "6     Def Jam Recordings      0.061442\n",
       "7     Warner Music Group      0.071604\n",
       "8        Capitol Records      0.078628\n",
       "9           Epic Records      0.081389"
      ]
     },
     "execution_count": 123,
     "metadata": {},
     "output_type": "execute_result"
    }
   ],
   "source": [
    "executeQuery(\"\"\"\n",
    "    MATCH (l:RecordLabel)<-[:hasContractWith]-(a:Artist)-[:partecipateIn]->(t:Track)-[p:isPositionedIn]->(c:Chart)\n",
    "    WITH l, avg(p.position) AS averagePosition\n",
    "    MATCH (l)<-[:hasContractWith]-(a:Artist)-[:partecipateIn]->(t:Track)\n",
    "    WITH l, averagePosition, count(distinct t) AS numTracks\n",
    "    WITH l.name AS RecordLabel, averagePosition / numTracks AS QualityValue\n",
    "    RETURN RecordLabel, QualityValue\n",
    "    ORDER BY QualityValue asc\n",
    "    LIMIT 10\n",
    "\"\"\")"
   ]
  },
  {
   "cell_type": "markdown",
   "metadata": {},
   "source": [
    "##### Q2: Show the most common played instrument in rock groups"
   ]
  },
  {
   "cell_type": "code",
   "execution_count": 124,
   "metadata": {},
   "outputs": [
    {
     "data": {
      "text/html": [
       "<div>\n",
       "<style scoped>\n",
       "    .dataframe tbody tr th:only-of-type {\n",
       "        vertical-align: middle;\n",
       "    }\n",
       "\n",
       "    .dataframe tbody tr th {\n",
       "        vertical-align: top;\n",
       "    }\n",
       "\n",
       "    .dataframe thead th {\n",
       "        text-align: right;\n",
       "    }\n",
       "</style>\n",
       "<table border=\"1\" class=\"dataframe\">\n",
       "  <thead>\n",
       "    <tr style=\"text-align: right;\">\n",
       "      <th></th>\n",
       "      <th>Instrument</th>\n",
       "      <th>NumPlayers</th>\n",
       "    </tr>\n",
       "  </thead>\n",
       "  <tbody>\n",
       "    <tr>\n",
       "      <th>0</th>\n",
       "      <td>guitar</td>\n",
       "      <td>159</td>\n",
       "    </tr>\n",
       "    <tr>\n",
       "      <th>1</th>\n",
       "      <td>voice</td>\n",
       "      <td>127</td>\n",
       "    </tr>\n",
       "    <tr>\n",
       "      <th>2</th>\n",
       "      <td>drum kit</td>\n",
       "      <td>67</td>\n",
       "    </tr>\n",
       "  </tbody>\n",
       "</table>\n",
       "</div>"
      ],
      "text/plain": [
       "  Instrument  NumPlayers\n",
       "0     guitar         159\n",
       "1      voice         127\n",
       "2   drum kit          67"
      ]
     },
     "execution_count": 124,
     "metadata": {},
     "output_type": "execute_result"
    }
   ],
   "source": [
    "# Q2: Show the most common played instrument in rock groups\n",
    "\n",
    "executeQuery(\"\"\"\n",
    "    MATCH (g:Genre{id:\"rock\"})<-[:hasGenre]-(a:Artist)<-[:isMemberOf]-(p:Person)-[:plays]->(i:Instrument)\n",
    "    RETURN i.name as Instrument, COUNT(DISTINCT p) AS NumPlayers\n",
    "    ORDER BY NumPlayers DESC\n",
    "    LIMIT 3\n",
    "\"\"\")"
   ]
  },
  {
   "cell_type": "markdown",
   "metadata": {},
   "source": [
    "### Italian Tracks and Italian Artists\n",
    "\n",
    "#### Q3: Show technical features of Italian Tracks in the TOP 100 Italy through the years 2017-2020"
   ]
  },
  {
   "cell_type": "code",
   "execution_count": 125,
   "metadata": {},
   "outputs": [],
   "source": [
    "#Q3: Show technical features of Italian Tracks in the TOP 100 Italy through the years 2017-2020\n",
    "\n",
    "resultDF = executeQuery(\"\"\"\n",
    "    MATCH (c1:Country { id:\"IT\" })<-[:hasNationality]-(p:Person)-[:isMemberOf]->(a:Artist)-[:partecipateIn]->(t:Track)-[:isPositionedIn]->(ch:Chart)-[:isReferredTo]->(c2:Country { id:\"IT\" })\n",
    "    RETURN\n",
    "        ch.date.year as year,\n",
    "        AVG(toInteger(t.explicit)) as explicit,\n",
    "        AVG(t.danceability) as danceability,\n",
    "        AVG(t.energy) as energy,\n",
    "        AVG(t.mode) as mode,\n",
    "        AVG(t.speechiness) as speechiness,\n",
    "        AVG(t.acousticness) as acousticness,\n",
    "        AVG(t.liveness) as liveness,\n",
    "        AVG(t.valence) as valence \n",
    "\"\"\")"
   ]
  },
  {
   "cell_type": "code",
   "execution_count": 126,
   "metadata": {},
   "outputs": [
    {
     "data": {
      "text/html": [
       "<div>\n",
       "<style scoped>\n",
       "    .dataframe tbody tr th:only-of-type {\n",
       "        vertical-align: middle;\n",
       "    }\n",
       "\n",
       "    .dataframe tbody tr th {\n",
       "        vertical-align: top;\n",
       "    }\n",
       "\n",
       "    .dataframe thead th {\n",
       "        text-align: right;\n",
       "    }\n",
       "</style>\n",
       "<table border=\"1\" class=\"dataframe\">\n",
       "  <thead>\n",
       "    <tr style=\"text-align: right;\">\n",
       "      <th></th>\n",
       "      <th>year</th>\n",
       "      <th>explicit</th>\n",
       "      <th>danceability</th>\n",
       "      <th>energy</th>\n",
       "      <th>mode</th>\n",
       "      <th>speechiness</th>\n",
       "      <th>acousticness</th>\n",
       "      <th>liveness</th>\n",
       "      <th>valence</th>\n",
       "    </tr>\n",
       "  </thead>\n",
       "  <tbody>\n",
       "    <tr>\n",
       "      <th>0</th>\n",
       "      <td>2017</td>\n",
       "      <td>0.287141</td>\n",
       "      <td>0.693802</td>\n",
       "      <td>0.700226</td>\n",
       "      <td>0.565507</td>\n",
       "      <td>0.133392</td>\n",
       "      <td>0.166120</td>\n",
       "      <td>0.155275</td>\n",
       "      <td>0.499322</td>\n",
       "    </tr>\n",
       "    <tr>\n",
       "      <th>1</th>\n",
       "      <td>2020</td>\n",
       "      <td>0.547060</td>\n",
       "      <td>0.699990</td>\n",
       "      <td>0.703402</td>\n",
       "      <td>0.512141</td>\n",
       "      <td>0.142456</td>\n",
       "      <td>0.156802</td>\n",
       "      <td>0.156590</td>\n",
       "      <td>0.499865</td>\n",
       "    </tr>\n",
       "    <tr>\n",
       "      <th>2</th>\n",
       "      <td>2019</td>\n",
       "      <td>0.496583</td>\n",
       "      <td>0.706223</td>\n",
       "      <td>0.674506</td>\n",
       "      <td>0.532216</td>\n",
       "      <td>0.153713</td>\n",
       "      <td>0.179213</td>\n",
       "      <td>0.176859</td>\n",
       "      <td>0.501939</td>\n",
       "    </tr>\n",
       "    <tr>\n",
       "      <th>3</th>\n",
       "      <td>2018</td>\n",
       "      <td>0.311488</td>\n",
       "      <td>0.697944</td>\n",
       "      <td>0.695820</td>\n",
       "      <td>0.561147</td>\n",
       "      <td>0.133803</td>\n",
       "      <td>0.177364</td>\n",
       "      <td>0.161768</td>\n",
       "      <td>0.497092</td>\n",
       "    </tr>\n",
       "  </tbody>\n",
       "</table>\n",
       "</div>"
      ],
      "text/plain": [
       "   year  explicit  danceability    energy      mode  speechiness  \\\n",
       "0  2017  0.287141      0.693802  0.700226  0.565507     0.133392   \n",
       "1  2020  0.547060      0.699990  0.703402  0.512141     0.142456   \n",
       "2  2019  0.496583      0.706223  0.674506  0.532216     0.153713   \n",
       "3  2018  0.311488      0.697944  0.695820  0.561147     0.133803   \n",
       "\n",
       "   acousticness  liveness   valence  \n",
       "0      0.166120  0.155275  0.499322  \n",
       "1      0.156802  0.156590  0.499865  \n",
       "2      0.179213  0.176859  0.501939  \n",
       "3      0.177364  0.161768  0.497092  "
      ]
     },
     "execution_count": 126,
     "metadata": {},
     "output_type": "execute_result"
    }
   ],
   "source": [
    "resultDF"
   ]
  },
  {
   "cell_type": "code",
   "execution_count": 127,
   "metadata": {},
   "outputs": [
    {
     "data": {
      "image/png": "[encoded data removed]",
      "text/plain": [
       "<Figure size 720x720 with 1 Axes>"
      ]
     },
     "metadata": {
      "needs_background": "light"
     },
     "output_type": "display_data"
    }
   ],
   "source": [
    "featuresToExtract = [\"explicit\", \"danceability\", \"energy\",\n",
    "                     \"mode\", \"speechiness\", \"acousticness\", \"liveness\", \"valence\"]\n",
    "\n",
    "plotter.plotResults(\n",
    "    title=\"Techincal features\",\n",
    "    yArr=resultDF[featuresToExtract].to_numpy().tolist(),\n",
    "    xTicks=featuresToExtract,\n",
    "    legend=list(resultDF[\"year\"]),\n",
    "    yLim=[0, 0.75],\n",
    "    style=\"polar\",\n",
    "    showGrid=True,\n",
    "    fillPlot=True,\n",
    "    legendLocation=[-0.1, 0.2],\n",
    "    figSize=(10, 10),\n",
    ")\n"
   ]
  },
  {
   "cell_type": "markdown",
   "metadata": {},
   "source": [
    "#### Q4: Show technical features of tracks in the first 5 positions and in the last 5 positions of the TOP 100 Italy."
   ]
  },
  {
   "cell_type": "code",
   "execution_count": 128,
   "metadata": {},
   "outputs": [],
   "source": [
    "# Q4: Show technical features of tracks in the first 5 positions and in the last 5 positions of the TOP 100 Italy.\n",
    "\n",
    "resultDF = executeQuery(\"\"\"\n",
    "    MATCH (t:Track)-[r:isPositionedIn]->(ch:Chart)-[:isReferredTo]->(c2:Country { id:\"IT\" })\n",
    "    WHERE r.position <= 5\n",
    "    RETURN\n",
    "        \"Top 5\" AS type,\n",
    "        AVG(toInteger(t.explicit)) as explicit,\n",
    "        AVG(t.danceability) as danceability,\n",
    "        AVG(t.energy) as energy,\n",
    "        AVG(t.mode) as mode,\n",
    "        AVG(t.speechiness) as speechiness,\n",
    "        AVG(t.acousticness) as acousticness,\n",
    "        AVG(t.liveness) as liveness,\n",
    "        AVG(t.valence) as valence\n",
    "\n",
    "    UNION\n",
    "\n",
    "    MATCH (t:Track)-[r:isPositionedIn]->(ch:Chart)-[:isReferredTo]->(c2:Country { id:\"IT\" })\n",
    "    WHERE r.position >= 95\n",
    "    RETURN\n",
    "        \"Last 5\" AS type,\n",
    "        AVG(toInteger(t.explicit)) as explicit,\n",
    "        AVG(t.danceability) as danceability,\n",
    "        AVG(t.energy) as energy,\n",
    "        AVG(t.mode) as mode,\n",
    "        AVG(t.speechiness) as speechiness,\n",
    "        AVG(t.acousticness) as acousticness,\n",
    "        AVG(t.liveness) as liveness,\n",
    "        AVG(t.valence) as valence \n",
    "\"\"\")"
   ]
  },
  {
   "cell_type": "code",
   "execution_count": 129,
   "metadata": {},
   "outputs": [
    {
     "data": {
      "text/html": [
       "<div>\n",
       "<style scoped>\n",
       "    .dataframe tbody tr th:only-of-type {\n",
       "        vertical-align: middle;\n",
       "    }\n",
       "\n",
       "    .dataframe tbody tr th {\n",
       "        vertical-align: top;\n",
       "    }\n",
       "\n",
       "    .dataframe thead th {\n",
       "        text-align: right;\n",
       "    }\n",
       "</style>\n",
       "<table border=\"1\" class=\"dataframe\">\n",
       "  <thead>\n",
       "    <tr style=\"text-align: right;\">\n",
       "      <th></th>\n",
       "      <th>type</th>\n",
       "      <th>explicit</th>\n",
       "      <th>danceability</th>\n",
       "      <th>energy</th>\n",
       "      <th>mode</th>\n",
       "      <th>speechiness</th>\n",
       "      <th>acousticness</th>\n",
       "      <th>liveness</th>\n",
       "      <th>valence</th>\n",
       "    </tr>\n",
       "  </thead>\n",
       "  <tbody>\n",
       "    <tr>\n",
       "      <th>0</th>\n",
       "      <td>Top 5</td>\n",
       "      <td>0.327363</td>\n",
       "      <td>0.715490</td>\n",
       "      <td>0.691974</td>\n",
       "      <td>0.534328</td>\n",
       "      <td>0.11331</td>\n",
       "      <td>0.166386</td>\n",
       "      <td>0.165313</td>\n",
       "      <td>0.562271</td>\n",
       "    </tr>\n",
       "    <tr>\n",
       "      <th>1</th>\n",
       "      <td>Last 5</td>\n",
       "      <td>0.365672</td>\n",
       "      <td>0.689251</td>\n",
       "      <td>0.678459</td>\n",
       "      <td>0.535655</td>\n",
       "      <td>0.13107</td>\n",
       "      <td>0.206534</td>\n",
       "      <td>0.166331</td>\n",
       "      <td>0.499405</td>\n",
       "    </tr>\n",
       "  </tbody>\n",
       "</table>\n",
       "</div>"
      ],
      "text/plain": [
       "     type  explicit  danceability    energy      mode  speechiness  \\\n",
       "0   Top 5  0.327363      0.715490  0.691974  0.534328      0.11331   \n",
       "1  Last 5  0.365672      0.689251  0.678459  0.535655      0.13107   \n",
       "\n",
       "   acousticness  liveness   valence  \n",
       "0      0.166386  0.165313  0.562271  \n",
       "1      0.206534  0.166331  0.499405  "
      ]
     },
     "execution_count": 129,
     "metadata": {},
     "output_type": "execute_result"
    }
   ],
   "source": [
    "resultDF"
   ]
  },
  {
   "cell_type": "code",
   "execution_count": 130,
   "metadata": {},
   "outputs": [
    {
     "data": {
      "image/png": "[encoded data removed]",
      "text/plain": [
       "<Figure size 720x720 with 1 Axes>"
      ]
     },
     "metadata": {
      "needs_background": "light"
     },
     "output_type": "display_data"
    }
   ],
   "source": [
    "featuresToExtract = [\"explicit\", \"danceability\", \"energy\",\n",
    "                     \"mode\", \"speechiness\", \"acousticness\", \"liveness\", \"valence\"]\n",
    "                     \n",
    "plotter.plotResults(\n",
    "    title=\"Techincal features\",\n",
    "    yArr=resultDF[featuresToExtract].to_numpy().tolist(),\n",
    "    xTicks=featuresToExtract,\n",
    "    legend=list(resultDF[\"type\"]),\n",
    "    yLim=[0, 0.75],\n",
    "    style=\"polar\",\n",
    "    showGrid=True,\n",
    "    fillPlot=True,\n",
    "    legendLocation=[-0.1, 0.2],\n",
    "    figSize=(10, 10),\n",
    ")"
   ]
  },
  {
   "cell_type": "markdown",
   "metadata": {},
   "source": [
    "#### Q5: On average how many tracks from Italian artists are present in Top 100 Italy for each year? (Grafico a barre)"
   ]
  },
  {
   "cell_type": "code",
   "execution_count": 131,
   "metadata": {},
   "outputs": [],
   "source": [
    "# Q5: On average how many tracks from italian artists are present in Top 100 Italy for each year?\n",
    "\n",
    "avgItalianTracksDF = executeQuery(\"\"\"\n",
    "    MATCH (c1:Country { id:\"IT\" })<-[:hasNationality]-(p:Person)-[:isMemberOf]->(a:Artist)-[:partecipateIn]->(t:Track)-[:isPositionedIn]->(ch:Chart)-[:isReferredTo]->(c2:Country { id:\"IT\" })\n",
    "    WITH ch, ch.date.year AS year, COUNT(DISTINCT t) as numTracks\n",
    "    RETURN year, avg(numTracks) as avgNumTracks\n",
    "    ORDER BY year\n",
    "\"\"\")"
   ]
  },
  {
   "cell_type": "code",
   "execution_count": 132,
   "metadata": {},
   "outputs": [
    {
     "data": {
      "text/html": [
       "<div>\n",
       "<style scoped>\n",
       "    .dataframe tbody tr th:only-of-type {\n",
       "        vertical-align: middle;\n",
       "    }\n",
       "\n",
       "    .dataframe tbody tr th {\n",
       "        vertical-align: top;\n",
       "    }\n",
       "\n",
       "    .dataframe thead th {\n",
       "        text-align: right;\n",
       "    }\n",
       "</style>\n",
       "<table border=\"1\" class=\"dataframe\">\n",
       "  <thead>\n",
       "    <tr style=\"text-align: right;\">\n",
       "      <th></th>\n",
       "      <th>year</th>\n",
       "      <th>avgNumTracks</th>\n",
       "    </tr>\n",
       "  </thead>\n",
       "  <tbody>\n",
       "    <tr>\n",
       "      <th>0</th>\n",
       "      <td>2017</td>\n",
       "      <td>40.339623</td>\n",
       "    </tr>\n",
       "    <tr>\n",
       "      <th>1</th>\n",
       "      <td>2018</td>\n",
       "      <td>63.673077</td>\n",
       "    </tr>\n",
       "    <tr>\n",
       "      <th>2</th>\n",
       "      <td>2019</td>\n",
       "      <td>72.134615</td>\n",
       "    </tr>\n",
       "    <tr>\n",
       "      <th>3</th>\n",
       "      <td>2020</td>\n",
       "      <td>66.772727</td>\n",
       "    </tr>\n",
       "  </tbody>\n",
       "</table>\n",
       "</div>"
      ],
      "text/plain": [
       "   year  avgNumTracks\n",
       "0  2017     40.339623\n",
       "1  2018     63.673077\n",
       "2  2019     72.134615\n",
       "3  2020     66.772727"
      ]
     },
     "execution_count": 132,
     "metadata": {},
     "output_type": "execute_result"
    }
   ],
   "source": [
    "avgItalianTracksDF\n"
   ]
  },
  {
   "cell_type": "code",
   "execution_count": 133,
   "metadata": {},
   "outputs": [
    {
     "data": {
      "image/png": "[encoded data removed]",
      "text/plain": [
       "<Figure size 1296x576 with 1 Axes>"
      ]
     },
     "metadata": {
      "needs_background": "light"
     },
     "output_type": "display_data"
    }
   ],
   "source": [
    "plotter.plotResults(\n",
    "    x=np.arange(len(avgItalianTracksDF)),\n",
    "    yArr=[list(avgItalianTracksDF[\"avgNumTracks\"])],\n",
    "    yLabel=\"Average number of tracks\",\n",
    "    xLabel=\"Year\",\n",
    "    xTicks=list(avgItalianTracksDF[\"year\"]),\n",
    "    showGrid=True,\n",
    "    gridAxis=\"y\",\n",
    "    style=\"bar\",\n",
    "    saveTitle=\"query3\"\n",
    ")\n"
   ]
  },
  {
   "cell_type": "markdown",
   "metadata": {},
   "source": [
    "As we can notice, in 2017 there were only 31 tracks on average in the TOP 100 Italy. We want to discovery if this is just a case of is there any reason behind this result.\n",
    "\n",
    "So, in the next query we will check how many tracks were released by italian artist for each year."
   ]
  },
  {
   "cell_type": "markdown",
   "metadata": {},
   "source": [
    "#### Q6: How many tracks were released from Italian artist every year from 2017 to 2020 ?"
   ]
  },
  {
   "cell_type": "code",
   "execution_count": 134,
   "metadata": {},
   "outputs": [],
   "source": [
    "# Q6: How many tracks were released from Italian artist every year from 2017 to 2020 ?\n",
    "\n",
    "tracksReleasedDF = executeQuery(\"\"\"\n",
    "    MATCH (c1:Country{id:\"IT\"})<-[:hasNationality]-(p:Person)-[:isMemberOf]->(a:Artist)-[:partecipateIn]->(t:Track)-[:isPartOf]->(alb:Album)\n",
    "    WHERE alb.releaseDate.year >= 2017\n",
    "    WITH alb.releaseDate.year AS year, COUNT(DISTINCT t) as numTracks\n",
    "    RETURN year, numTracks\n",
    "    ORDER BY year\n",
    "\"\"\")"
   ]
  },
  {
   "cell_type": "code",
   "execution_count": 135,
   "metadata": {},
   "outputs": [
    {
     "data": {
      "text/html": [
       "<div>\n",
       "<style scoped>\n",
       "    .dataframe tbody tr th:only-of-type {\n",
       "        vertical-align: middle;\n",
       "    }\n",
       "\n",
       "    .dataframe tbody tr th {\n",
       "        vertical-align: top;\n",
       "    }\n",
       "\n",
       "    .dataframe thead th {\n",
       "        text-align: right;\n",
       "    }\n",
       "</style>\n",
       "<table border=\"1\" class=\"dataframe\">\n",
       "  <thead>\n",
       "    <tr style=\"text-align: right;\">\n",
       "      <th></th>\n",
       "      <th>year</th>\n",
       "      <th>numTracks</th>\n",
       "    </tr>\n",
       "  </thead>\n",
       "  <tbody>\n",
       "    <tr>\n",
       "      <th>0</th>\n",
       "      <td>2017</td>\n",
       "      <td>305</td>\n",
       "    </tr>\n",
       "    <tr>\n",
       "      <th>1</th>\n",
       "      <td>2018</td>\n",
       "      <td>431</td>\n",
       "    </tr>\n",
       "    <tr>\n",
       "      <th>2</th>\n",
       "      <td>2019</td>\n",
       "      <td>467</td>\n",
       "    </tr>\n",
       "    <tr>\n",
       "      <th>3</th>\n",
       "      <td>2020</td>\n",
       "      <td>425</td>\n",
       "    </tr>\n",
       "  </tbody>\n",
       "</table>\n",
       "</div>"
      ],
      "text/plain": [
       "   year  numTracks\n",
       "0  2017        305\n",
       "1  2018        431\n",
       "2  2019        467\n",
       "3  2020        425"
      ]
     },
     "execution_count": 135,
     "metadata": {},
     "output_type": "execute_result"
    }
   ],
   "source": [
    "tracksReleasedDF\n"
   ]
  },
  {
   "cell_type": "code",
   "execution_count": 136,
   "metadata": {},
   "outputs": [
    {
     "data": {
      "image/png": "[encoded data removed]",
      "text/plain": [
       "<Figure size 1296x576 with 1 Axes>"
      ]
     },
     "metadata": {
      "needs_background": "light"
     },
     "output_type": "display_data"
    }
   ],
   "source": [
    "plotter.plotResults(\n",
    "    x=np.arange(len(tracksReleasedDF)),\n",
    "    yArr=[list(tracksReleasedDF[\"numTracks\"])],\n",
    "    yLabel=\"Number of tracks\",\n",
    "    xLabel=\"Year\",\n",
    "    xTicks=list(tracksReleasedDF[\"year\"]),\n",
    "    showGrid=True,\n",
    "    gridAxis=\"y\",\n",
    "    style=\"bar\",\n",
    "    saveTitle=\"query4\"\n",
    ")"
   ]
  },
  {
   "cell_type": "code",
   "execution_count": 137,
   "metadata": {},
   "outputs": [
    {
     "data": {
      "image/png": "[encoded data removed]",
      "text/plain": [
       "<Figure size 1296x576 with 2 Axes>"
      ]
     },
     "metadata": {
      "needs_background": "light"
     },
     "output_type": "display_data"
    }
   ],
   "source": [
    "plotter.plotResults(\n",
    "      x=np.arange(len(tracksReleasedDF)),\n",
    "      yArr=[list(avgItalianTracksDF[\"avgNumTracks\"]),\n",
    "            list(tracksReleasedDF[\"numTracks\"])],\n",
    "      yLabel=[\"Average number of tracks\", \"Number of tracks\"],\n",
    "      xLabel=\"Year\",\n",
    "      yLim=[[0, np.max(list(avgItalianTracksDF[\"avgNumTracks\"])) * 1.1],\n",
    "            [0, np.max(list(tracksReleasedDF[\"numTracks\"])) * 1.1]],\n",
    "      legend=[\"Average number of tracks\", \"Number of tracks\"],\n",
    "      xTicks=list(tracksReleasedDF[\"year\"]),\n",
    "      showGrid=True,\n",
    "      gridAxis=\"y\",\n",
    "      style=\"bar\",\n",
    "      twinIndexCut=0,\n",
    "      saveTitle=\"query4.1\"\n",
    ")\n"
   ]
  },
  {
   "cell_type": "markdown",
   "metadata": {},
   "source": [
    "Since in 2017 Italian artists relased only 163 tracks (almost half of 2018,2019 and 2020), it is understandable why in 2017 there were only 31 tracks on average in the TOP 100 Italy."
   ]
  },
  {
   "cell_type": "markdown",
   "metadata": {},
   "source": [
    "#### Q7: How many different Italian artist entered at least once in Top 100 Italy for each Year ? (Grafico a barre)"
   ]
  },
  {
   "cell_type": "code",
   "execution_count": 138,
   "metadata": {},
   "outputs": [],
   "source": [
    "# Q7: How many different Italian artist entered at least once in Top 100 Italy for each Year ?\n",
    "\n",
    "resultDF = executeQuery(\"\"\"\n",
    "    MATCH (c1:Country { id:\"IT\" })<-[:hasNationality]-(p:Person)-[:isMemberOf]->(a:Artist)-[:partecipateIn]->(t:Track)-[:isPositionedIn]->(ch:Chart)-[:isReferredTo]->(c2:Country{ id:\"IT\" })\n",
    "    RETURN ch.date.year AS year, COUNT(DISTINCT a) as numArtists\n",
    "    ORDER BY year\n",
    "\"\"\")"
   ]
  },
  {
   "cell_type": "code",
   "execution_count": 139,
   "metadata": {},
   "outputs": [
    {
     "data": {
      "text/html": [
       "<div>\n",
       "<style scoped>\n",
       "    .dataframe tbody tr th:only-of-type {\n",
       "        vertical-align: middle;\n",
       "    }\n",
       "\n",
       "    .dataframe tbody tr th {\n",
       "        vertical-align: top;\n",
       "    }\n",
       "\n",
       "    .dataframe thead th {\n",
       "        text-align: right;\n",
       "    }\n",
       "</style>\n",
       "<table border=\"1\" class=\"dataframe\">\n",
       "  <thead>\n",
       "    <tr style=\"text-align: right;\">\n",
       "      <th></th>\n",
       "      <th>year</th>\n",
       "      <th>numArtists</th>\n",
       "    </tr>\n",
       "  </thead>\n",
       "  <tbody>\n",
       "    <tr>\n",
       "      <th>0</th>\n",
       "      <td>2017</td>\n",
       "      <td>113</td>\n",
       "    </tr>\n",
       "    <tr>\n",
       "      <th>1</th>\n",
       "      <td>2018</td>\n",
       "      <td>113</td>\n",
       "    </tr>\n",
       "    <tr>\n",
       "      <th>2</th>\n",
       "      <td>2019</td>\n",
       "      <td>134</td>\n",
       "    </tr>\n",
       "    <tr>\n",
       "      <th>3</th>\n",
       "      <td>2020</td>\n",
       "      <td>150</td>\n",
       "    </tr>\n",
       "  </tbody>\n",
       "</table>\n",
       "</div>"
      ],
      "text/plain": [
       "   year  numArtists\n",
       "0  2017         113\n",
       "1  2018         113\n",
       "2  2019         134\n",
       "3  2020         150"
      ]
     },
     "execution_count": 139,
     "metadata": {},
     "output_type": "execute_result"
    }
   ],
   "source": [
    "resultDF"
   ]
  },
  {
   "cell_type": "code",
   "execution_count": 140,
   "metadata": {},
   "outputs": [
    {
     "data": {
      "image/png": "[encoded data removed]",
      "text/plain": [
       "<Figure size 1296x576 with 1 Axes>"
      ]
     },
     "metadata": {
      "needs_background": "light"
     },
     "output_type": "display_data"
    }
   ],
   "source": [
    "plotter.plotResults(\n",
    "    x=np.arange(len(resultDF)),\n",
    "    yArr=[list(resultDF[\"numArtists\"])],\n",
    "    yLabel=\"Number of artists\",\n",
    "    xLabel=\"Year\",\n",
    "    xTicks=list(resultDF[\"year\"]),\n",
    "    showGrid=True,\n",
    "    gridAxis=\"y\",\n",
    "    style=\"bar\",\n",
    "    saveTitle=\"query5\"\n",
    ")"
   ]
  },
  {
   "cell_type": "markdown",
   "metadata": {},
   "source": [
    "#### Q8: On average how many tracks from Italian artists are present in Top 100 Italy through the different months of the year ? (Grafico a linea)"
   ]
  },
  {
   "cell_type": "code",
   "execution_count": 141,
   "metadata": {},
   "outputs": [],
   "source": [
    "# Q8: On average how many tracks from Italian artists are present in Top 100 Italy through the different months of the year ? \n",
    "\n",
    "resultDF = executeQuery(\"\"\"\n",
    "    MATCH (c1:Country { id:\"IT\" })<-[:hasNationality]-(p:Person)-[:isMemberOf]->(a:Artist)-[:partecipateIn]->(t:Track)-[:isPositionedIn]->(ch:Chart)-[:isReferredTo]->(c2:Country { id:\"IT\" })\n",
    "    WITH ch,ch.date.month AS month, COUNT(DISTINCT t) as numTracks\n",
    "    RETURN month, avg(numTracks) as avgNumTracks\n",
    "    ORDER BY month\n",
    "\"\"\")"
   ]
  },
  {
   "cell_type": "code",
   "execution_count": 142,
   "metadata": {},
   "outputs": [
    {
     "data": {
      "text/html": [
       "<div>\n",
       "<style scoped>\n",
       "    .dataframe tbody tr th:only-of-type {\n",
       "        vertical-align: middle;\n",
       "    }\n",
       "\n",
       "    .dataframe tbody tr th {\n",
       "        vertical-align: top;\n",
       "    }\n",
       "\n",
       "    .dataframe thead th {\n",
       "        text-align: right;\n",
       "    }\n",
       "</style>\n",
       "<table border=\"1\" class=\"dataframe\">\n",
       "  <thead>\n",
       "    <tr style=\"text-align: right;\">\n",
       "      <th></th>\n",
       "      <th>month</th>\n",
       "      <th>avgNumTracks</th>\n",
       "    </tr>\n",
       "  </thead>\n",
       "  <tbody>\n",
       "    <tr>\n",
       "      <th>0</th>\n",
       "      <td>1</td>\n",
       "      <td>54.294118</td>\n",
       "    </tr>\n",
       "    <tr>\n",
       "      <th>1</th>\n",
       "      <td>2</td>\n",
       "      <td>59.562500</td>\n",
       "    </tr>\n",
       "    <tr>\n",
       "      <th>2</th>\n",
       "      <td>3</td>\n",
       "      <td>57.333333</td>\n",
       "    </tr>\n",
       "    <tr>\n",
       "      <th>3</th>\n",
       "      <td>4</td>\n",
       "      <td>54.277778</td>\n",
       "    </tr>\n",
       "    <tr>\n",
       "      <th>4</th>\n",
       "      <td>5</td>\n",
       "      <td>59.411765</td>\n",
       "    </tr>\n",
       "    <tr>\n",
       "      <th>5</th>\n",
       "      <td>6</td>\n",
       "      <td>59.411765</td>\n",
       "    </tr>\n",
       "    <tr>\n",
       "      <th>6</th>\n",
       "      <td>7</td>\n",
       "      <td>60.777778</td>\n",
       "    </tr>\n",
       "    <tr>\n",
       "      <th>7</th>\n",
       "      <td>8</td>\n",
       "      <td>59.823529</td>\n",
       "    </tr>\n",
       "    <tr>\n",
       "      <th>8</th>\n",
       "      <td>9</td>\n",
       "      <td>63.388889</td>\n",
       "    </tr>\n",
       "    <tr>\n",
       "      <th>9</th>\n",
       "      <td>10</td>\n",
       "      <td>67.117647</td>\n",
       "    </tr>\n",
       "    <tr>\n",
       "      <th>10</th>\n",
       "      <td>11</td>\n",
       "      <td>69.230769</td>\n",
       "    </tr>\n",
       "    <tr>\n",
       "      <th>11</th>\n",
       "      <td>12</td>\n",
       "      <td>62.666667</td>\n",
       "    </tr>\n",
       "  </tbody>\n",
       "</table>\n",
       "</div>"
      ],
      "text/plain": [
       "    month  avgNumTracks\n",
       "0       1     54.294118\n",
       "1       2     59.562500\n",
       "2       3     57.333333\n",
       "3       4     54.277778\n",
       "4       5     59.411765\n",
       "5       6     59.411765\n",
       "6       7     60.777778\n",
       "7       8     59.823529\n",
       "8       9     63.388889\n",
       "9      10     67.117647\n",
       "10     11     69.230769\n",
       "11     12     62.666667"
      ]
     },
     "execution_count": 142,
     "metadata": {},
     "output_type": "execute_result"
    }
   ],
   "source": [
    "resultDF"
   ]
  },
  {
   "cell_type": "code",
   "execution_count": 143,
   "metadata": {},
   "outputs": [
    {
     "data": {
      "image/png": "[encoded data removed]",
      "text/plain": [
       "<Figure size 1296x576 with 1 Axes>"
      ]
     },
     "metadata": {
      "needs_background": "light"
     },
     "output_type": "display_data"
    }
   ],
   "source": [
    "plotter.plotResults(\n",
    "    x=np.arange(len(resultDF)),\n",
    "    yArr=[list(resultDF[\"avgNumTracks\"])],\n",
    "    yLabel=\"Average number of tracks\",\n",
    "    xLabel=\"Months\",\n",
    "    xTicks=list(resultDF[\"month\"]),\n",
    "    showGrid=True,\n",
    "    gridAxis=\"y\",\n",
    "    style=\"line\",\n",
    "    fillPlot=True,\n",
    "    saveTitle=\"query6\"\n",
    ")"
   ]
  },
  {
   "cell_type": "markdown",
   "metadata": {},
   "source": [
    "#### Q9: How many albums from Italian artists are released through the different months of the year ? (Grafico a linea)"
   ]
  },
  {
   "cell_type": "code",
   "execution_count": 144,
   "metadata": {},
   "outputs": [],
   "source": [
    "#Q9: How many albums from Italian artists are released through the different months of the year ? \n",
    "\n",
    "resultDF = executeQuery(\"\"\"\n",
    "    MATCH (c1:Country { id:\"IT\" })<-[:hasNationality]-(p:Person)-[:isMemberOf]->(a:Artist)-[:partecipateIn]->(alb:Album)\n",
    "    WITH alb.releaseDate.month AS month, COUNT(DISTINCT alb) as numAlbums\n",
    "    RETURN month, numAlbums\n",
    "    ORDER BY month\n",
    "\"\"\")"
   ]
  },
  {
   "cell_type": "code",
   "execution_count": 145,
   "metadata": {},
   "outputs": [
    {
     "data": {
      "text/html": [
       "<div>\n",
       "<style scoped>\n",
       "    .dataframe tbody tr th:only-of-type {\n",
       "        vertical-align: middle;\n",
       "    }\n",
       "\n",
       "    .dataframe tbody tr th {\n",
       "        vertical-align: top;\n",
       "    }\n",
       "\n",
       "    .dataframe thead th {\n",
       "        text-align: right;\n",
       "    }\n",
       "</style>\n",
       "<table border=\"1\" class=\"dataframe\">\n",
       "  <thead>\n",
       "    <tr style=\"text-align: right;\">\n",
       "      <th></th>\n",
       "      <th>month</th>\n",
       "      <th>numAlbums</th>\n",
       "    </tr>\n",
       "  </thead>\n",
       "  <tbody>\n",
       "    <tr>\n",
       "      <th>0</th>\n",
       "      <td>1</td>\n",
       "      <td>73</td>\n",
       "    </tr>\n",
       "    <tr>\n",
       "      <th>1</th>\n",
       "      <td>2</td>\n",
       "      <td>110</td>\n",
       "    </tr>\n",
       "    <tr>\n",
       "      <th>2</th>\n",
       "      <td>3</td>\n",
       "      <td>59</td>\n",
       "    </tr>\n",
       "    <tr>\n",
       "      <th>3</th>\n",
       "      <td>4</td>\n",
       "      <td>43</td>\n",
       "    </tr>\n",
       "    <tr>\n",
       "      <th>4</th>\n",
       "      <td>5</td>\n",
       "      <td>87</td>\n",
       "    </tr>\n",
       "    <tr>\n",
       "      <th>5</th>\n",
       "      <td>6</td>\n",
       "      <td>82</td>\n",
       "    </tr>\n",
       "    <tr>\n",
       "      <th>6</th>\n",
       "      <td>7</td>\n",
       "      <td>34</td>\n",
       "    </tr>\n",
       "    <tr>\n",
       "      <th>7</th>\n",
       "      <td>8</td>\n",
       "      <td>17</td>\n",
       "    </tr>\n",
       "    <tr>\n",
       "      <th>8</th>\n",
       "      <td>9</td>\n",
       "      <td>56</td>\n",
       "    </tr>\n",
       "    <tr>\n",
       "      <th>9</th>\n",
       "      <td>10</td>\n",
       "      <td>73</td>\n",
       "    </tr>\n",
       "    <tr>\n",
       "      <th>10</th>\n",
       "      <td>11</td>\n",
       "      <td>70</td>\n",
       "    </tr>\n",
       "    <tr>\n",
       "      <th>11</th>\n",
       "      <td>12</td>\n",
       "      <td>33</td>\n",
       "    </tr>\n",
       "  </tbody>\n",
       "</table>\n",
       "</div>"
      ],
      "text/plain": [
       "    month  numAlbums\n",
       "0       1         73\n",
       "1       2        110\n",
       "2       3         59\n",
       "3       4         43\n",
       "4       5         87\n",
       "5       6         82\n",
       "6       7         34\n",
       "7       8         17\n",
       "8       9         56\n",
       "9      10         73\n",
       "10     11         70\n",
       "11     12         33"
      ]
     },
     "execution_count": 145,
     "metadata": {},
     "output_type": "execute_result"
    }
   ],
   "source": [
    "resultDF"
   ]
  },
  {
   "cell_type": "code",
   "execution_count": 146,
   "metadata": {},
   "outputs": [
    {
     "data": {
      "image/png": "[encoded data removed]",
      "text/plain": [
       "<Figure size 1296x576 with 1 Axes>"
      ]
     },
     "metadata": {
      "needs_background": "light"
     },
     "output_type": "display_data"
    }
   ],
   "source": [
    "plotter.plotResults(\n",
    "    x=np.arange(len(resultDF)),\n",
    "    yArr=[list(resultDF[\"numAlbums\"])],\n",
    "    yLabel=\"Number of albums\",\n",
    "    xLabel=\"Months\",\n",
    "    xTicks=list(resultDF[\"month\"]),\n",
    "    showGrid=True,\n",
    "    gridAxis=\"y\",\n",
    "    style=\"line\",\n",
    "    fillPlot=True,\n",
    "    saveTitle=\"query7\"\n",
    ")"
   ]
  },
  {
   "cell_type": "markdown",
   "metadata": {},
   "source": [
    "#### Q9: Who is the Italian artist with the highest number of tracks present in Top 100 Italy for each year? (Nomi degli artisti)"
   ]
  },
  {
   "cell_type": "code",
   "execution_count": 147,
   "metadata": {},
   "outputs": [],
   "source": [
    "# Q9: Who is the Italian artist with the highest number of tracks present in Top 100 Italy for each year?\n",
    "\n",
    "topArtistsDF = executeQuery(\"\"\"\n",
    "    MATCH (c1:Country { id:\"IT\" })<-[:hasNationality]-(p:Person)-[:isMemberOf]->(a:Artist)-[:partecipateIn]->(t:Track)-[:isPositionedIn]->(ch:Chart)-[:isReferredTo]->(c2:Country { id:\"IT\" })\n",
    "    WITH a, ch.date.year AS year, COUNT(DISTINCT t) as numTracks\n",
    "    ORDER BY numTracks DESC\n",
    "    WITH year, COLLECT(a) AS artists, COLLECT(numTracks) as orderedNumTracks\n",
    "    RETURN DISTINCT year, artists[0].id as artist, artists[0].name as artistName , orderedNumTracks[0] as numTracks\n",
    "    ORDER BY year\n",
    "\"\"\")"
   ]
  },
  {
   "cell_type": "code",
   "execution_count": 148,
   "metadata": {},
   "outputs": [
    {
     "data": {
      "text/html": [
       "<div>\n",
       "<style scoped>\n",
       "    .dataframe tbody tr th:only-of-type {\n",
       "        vertical-align: middle;\n",
       "    }\n",
       "\n",
       "    .dataframe tbody tr th {\n",
       "        vertical-align: top;\n",
       "    }\n",
       "\n",
       "    .dataframe thead th {\n",
       "        text-align: right;\n",
       "    }\n",
       "</style>\n",
       "<table border=\"1\" class=\"dataframe\">\n",
       "  <thead>\n",
       "    <tr style=\"text-align: right;\">\n",
       "      <th></th>\n",
       "      <th>year</th>\n",
       "      <th>artist</th>\n",
       "      <th>artistName</th>\n",
       "      <th>numTracks</th>\n",
       "    </tr>\n",
       "  </thead>\n",
       "  <tbody>\n",
       "    <tr>\n",
       "      <th>0</th>\n",
       "      <td>2017</td>\n",
       "      <td>7F2utINZ6tSokSiZTQBE27</td>\n",
       "      <td>Guè</td>\n",
       "      <td>30</td>\n",
       "    </tr>\n",
       "    <tr>\n",
       "      <th>1</th>\n",
       "      <td>2018</td>\n",
       "      <td>5SulO4l40qDuV9zUGLZx7n</td>\n",
       "      <td>Capo Plaza</td>\n",
       "      <td>31</td>\n",
       "    </tr>\n",
       "    <tr>\n",
       "      <th>2</th>\n",
       "      <td>2019</td>\n",
       "      <td>0jdNdfi4vAuVi7a6cPDFBM</td>\n",
       "      <td>Lazza</td>\n",
       "      <td>35</td>\n",
       "    </tr>\n",
       "    <tr>\n",
       "      <th>3</th>\n",
       "      <td>2020</td>\n",
       "      <td>19i93sA0D7yS9dYoVNBqAA</td>\n",
       "      <td>tha Supreme</td>\n",
       "      <td>40</td>\n",
       "    </tr>\n",
       "  </tbody>\n",
       "</table>\n",
       "</div>"
      ],
      "text/plain": [
       "   year                  artist   artistName  numTracks\n",
       "0  2017  7F2utINZ6tSokSiZTQBE27          Guè         30\n",
       "1  2018  5SulO4l40qDuV9zUGLZx7n   Capo Plaza         31\n",
       "2  2019  0jdNdfi4vAuVi7a6cPDFBM        Lazza         35\n",
       "3  2020  19i93sA0D7yS9dYoVNBqAA  tha Supreme         40"
      ]
     },
     "execution_count": 148,
     "metadata": {},
     "output_type": "execute_result"
    }
   ],
   "source": [
    "topArtistsDF"
   ]
  },
  {
   "cell_type": "markdown",
   "metadata": {},
   "source": [
    "#### Q10: Show the distribution of the positions in the TOP 100 Italy reached by the just retrieved artist"
   ]
  },
  {
   "cell_type": "code",
   "execution_count": 149,
   "metadata": {},
   "outputs": [],
   "source": [
    "# Q10: Show the distribution of the positions in the TOP 100 Italy reached by the just retrieved artist\n",
    "\n",
    "positionsDF = executeQuery(\"\"\"\n",
    "    UNWIND $datas as data\n",
    "    MATCH (a:Artist { id: data.artist })-[:partecipateIn]->(t:Track)-[r:isPositionedIn]->(ch:Chart)-[:isReferredTo]->(c2:Country { id:\"IT\" })\n",
    "    WHERE ch.date >= date({year: data.year, month: 1, day: 1}) AND ch.date <= date({year: data.year, month: 12, day: 31})\n",
    "    RETURN a.name as artist, COLLECT(r.position) AS positions\n",
    "\"\"\", datas=[{\"artist\": x[\"artist\"], \"year\": x[\"year\"]} for _, x in topArtistsDF.iterrows()])"
   ]
  },
  {
   "cell_type": "code",
   "execution_count": 150,
   "metadata": {},
   "outputs": [
    {
     "data": {
      "text/html": [
       "<div>\n",
       "<style scoped>\n",
       "    .dataframe tbody tr th:only-of-type {\n",
       "        vertical-align: middle;\n",
       "    }\n",
       "\n",
       "    .dataframe tbody tr th {\n",
       "        vertical-align: top;\n",
       "    }\n",
       "\n",
       "    .dataframe thead th {\n",
       "        text-align: right;\n",
       "    }\n",
       "</style>\n",
       "<table border=\"1\" class=\"dataframe\">\n",
       "  <thead>\n",
       "    <tr style=\"text-align: right;\">\n",
       "      <th></th>\n",
       "      <th>artist</th>\n",
       "      <th>positions</th>\n",
       "    </tr>\n",
       "  </thead>\n",
       "  <tbody>\n",
       "    <tr>\n",
       "      <th>0</th>\n",
       "      <td>Guè</td>\n",
       "      <td>[65, 99, 86, 84, 74, 79, 85, 70, 68, 81, 79, 8...</td>\n",
       "    </tr>\n",
       "    <tr>\n",
       "      <th>1</th>\n",
       "      <td>Capo Plaza</td>\n",
       "      <td>[32, 100, 77, 62, 63, 73, 69, 68, 73, 85, 71, ...</td>\n",
       "    </tr>\n",
       "    <tr>\n",
       "      <th>2</th>\n",
       "      <td>Lazza</td>\n",
       "      <td>[58, 77, 85, 85, 87, 72, 70, 69, 54, 52, 37, 3...</td>\n",
       "    </tr>\n",
       "    <tr>\n",
       "      <th>3</th>\n",
       "      <td>tha Supreme</td>\n",
       "      <td>[32, 98, 91, 91, 92, 72, 74, 62, 64, 50, 52, 4...</td>\n",
       "    </tr>\n",
       "  </tbody>\n",
       "</table>\n",
       "</div>"
      ],
      "text/plain": [
       "        artist                                          positions\n",
       "0          Guè  [65, 99, 86, 84, 74, 79, 85, 70, 68, 81, 79, 8...\n",
       "1   Capo Plaza  [32, 100, 77, 62, 63, 73, 69, 68, 73, 85, 71, ...\n",
       "2        Lazza  [58, 77, 85, 85, 87, 72, 70, 69, 54, 52, 37, 3...\n",
       "3  tha Supreme  [32, 98, 91, 91, 92, 72, 74, 62, 64, 50, 52, 4..."
      ]
     },
     "execution_count": 150,
     "metadata": {},
     "output_type": "execute_result"
    }
   ],
   "source": [
    "positionsDF"
   ]
  },
  {
   "cell_type": "code",
   "execution_count": 151,
   "metadata": {},
   "outputs": [
    {
     "data": {
      "image/png": "[encoded data removed]",
      "text/plain": [
       "<Figure size 1080x576 with 1 Axes>"
      ]
     },
     "metadata": {
      "needs_background": "light"
     },
     "output_type": "display_data"
    }
   ],
   "source": [
    "plotter.plotResults(\n",
    "    yArr=list(positionsDF[\"positions\"]),\n",
    "    style=\"boxplot\",\n",
    "    fillPlot=True,\n",
    "    figSize=(15, 8),\n",
    "    yLabel=\"Position\",\n",
    "    showGrid=True,\n",
    "    xTicks=list(positionsDF[\"artist\"])\n",
    ")"
   ]
  },
  {
   "cell_type": "markdown",
   "metadata": {},
   "source": [
    "####  Q11: Show the top 3 Italian artists with the highest number of tracks present in Top 100 Italy at the same time."
   ]
  },
  {
   "cell_type": "code",
   "execution_count": 152,
   "metadata": {},
   "outputs": [
    {
     "data": {
      "text/html": [
       "<div>\n",
       "<style scoped>\n",
       "    .dataframe tbody tr th:only-of-type {\n",
       "        vertical-align: middle;\n",
       "    }\n",
       "\n",
       "    .dataframe tbody tr th {\n",
       "        vertical-align: top;\n",
       "    }\n",
       "\n",
       "    .dataframe thead th {\n",
       "        text-align: right;\n",
       "    }\n",
       "</style>\n",
       "<table border=\"1\" class=\"dataframe\">\n",
       "  <thead>\n",
       "    <tr style=\"text-align: right;\">\n",
       "      <th></th>\n",
       "      <th>artist</th>\n",
       "      <th>artistName</th>\n",
       "      <th>date</th>\n",
       "      <th>chart</th>\n",
       "      <th>numTracks</th>\n",
       "    </tr>\n",
       "  </thead>\n",
       "  <tbody>\n",
       "    <tr>\n",
       "      <th>0</th>\n",
       "      <td>19i93sA0D7yS9dYoVNBqAA</td>\n",
       "      <td>tha Supreme</td>\n",
       "      <td>2019-11-24</td>\n",
       "      <td>TOP 100 Italy</td>\n",
       "      <td>24</td>\n",
       "    </tr>\n",
       "    <tr>\n",
       "      <th>1</th>\n",
       "      <td>1AgAVqo74e2q4FVvg0xpT7</td>\n",
       "      <td>Tedua</td>\n",
       "      <td>2020-06-14</td>\n",
       "      <td>TOP 100 Italy</td>\n",
       "      <td>21</td>\n",
       "    </tr>\n",
       "    <tr>\n",
       "      <th>2</th>\n",
       "      <td>5AZuEF0feCXMkUCwQiQlW7</td>\n",
       "      <td>Marracash</td>\n",
       "      <td>2019-11-17</td>\n",
       "      <td>TOP 100 Italy</td>\n",
       "      <td>19</td>\n",
       "    </tr>\n",
       "  </tbody>\n",
       "</table>\n",
       "</div>"
      ],
      "text/plain": [
       "                   artist   artistName        date          chart  numTracks\n",
       "0  19i93sA0D7yS9dYoVNBqAA  tha Supreme  2019-11-24  TOP 100 Italy         24\n",
       "1  1AgAVqo74e2q4FVvg0xpT7        Tedua  2020-06-14  TOP 100 Italy         21\n",
       "2  5AZuEF0feCXMkUCwQiQlW7    Marracash  2019-11-17  TOP 100 Italy         19"
      ]
     },
     "execution_count": 152,
     "metadata": {},
     "output_type": "execute_result"
    }
   ],
   "source": [
    "# Q11: Show the top 3 Italian artists with the highest number of tracks present in Top 100 Italy at the same time.\n",
    "\n",
    "topArtitstDF = executeQuery(\"\"\"\n",
    "    MATCH (c1:Country{id:\"IT\"})<-[:hasNationality]-(p:Person)-[:isMemberOf]->(a:Artist)-[:partecipateIn]->(t:Track)-[:isPositionedIn]->(ch:Chart)-[:isReferredTo]->(c2:Country{id:\"IT\"})\n",
    "    WITH a,ch, COUNT(DISTINCT t) as numTracks\n",
    "    ORDER BY numTracks DESC\n",
    "    WITH a,COLLECT(ch) AS charts, COLLECT(numTracks) as orderedNumTracks\n",
    "    RETURN DISTINCT a.id as artist, a.name as artistName, charts[0].date as date, charts[0].name as chart, orderedNumTracks[0] as numTracks\n",
    "    LIMIT 3\n",
    "\"\"\")\n",
    "\n",
    "topArtitstDF"
   ]
  },
  {
   "cell_type": "markdown",
   "metadata": {},
   "source": [
    "The numbers of tracks present simultaneously in the TOP 100 Italy are quite high (24,19 and 18). \n",
    "\n",
    "We want to check if these artists released an album on the same month (or previous one) of the chart in which they have the highest number of tracks."
   ]
  },
  {
   "cell_type": "code",
   "execution_count": 153,
   "metadata": {},
   "outputs": [
    {
     "data": {
      "text/html": [
       "<div>\n",
       "<style scoped>\n",
       "    .dataframe tbody tr th:only-of-type {\n",
       "        vertical-align: middle;\n",
       "    }\n",
       "\n",
       "    .dataframe tbody tr th {\n",
       "        vertical-align: top;\n",
       "    }\n",
       "\n",
       "    .dataframe thead th {\n",
       "        text-align: right;\n",
       "    }\n",
       "</style>\n",
       "<table border=\"1\" class=\"dataframe\">\n",
       "  <thead>\n",
       "    <tr style=\"text-align: right;\">\n",
       "      <th></th>\n",
       "      <th>artist</th>\n",
       "      <th>albumName</th>\n",
       "      <th>releaseDate</th>\n",
       "    </tr>\n",
       "  </thead>\n",
       "  <tbody>\n",
       "    <tr>\n",
       "      <th>0</th>\n",
       "      <td>tha Supreme</td>\n",
       "      <td>23 6451</td>\n",
       "      <td>2019-11-15</td>\n",
       "    </tr>\n",
       "    <tr>\n",
       "      <th>1</th>\n",
       "      <td>Tedua</td>\n",
       "      <td>Vita Vera - Mixtape, aspettando la Divina Comm...</td>\n",
       "      <td>2020-06-12</td>\n",
       "    </tr>\n",
       "    <tr>\n",
       "      <th>2</th>\n",
       "      <td>Tedua</td>\n",
       "      <td>Vita Vera Mixtape</td>\n",
       "      <td>2020-06-05</td>\n",
       "    </tr>\n",
       "    <tr>\n",
       "      <th>3</th>\n",
       "      <td>Marracash</td>\n",
       "      <td>Persona</td>\n",
       "      <td>2019-10-31</td>\n",
       "    </tr>\n",
       "  </tbody>\n",
       "</table>\n",
       "</div>"
      ],
      "text/plain": [
       "        artist                                          albumName releaseDate\n",
       "0  tha Supreme                                            23 6451  2019-11-15\n",
       "1        Tedua  Vita Vera - Mixtape, aspettando la Divina Comm...  2020-06-12\n",
       "2        Tedua                                  Vita Vera Mixtape  2020-06-05\n",
       "3    Marracash                                            Persona  2019-10-31"
      ]
     },
     "execution_count": 153,
     "metadata": {},
     "output_type": "execute_result"
    }
   ],
   "source": [
    "executeQuery(\"\"\"\n",
    "    UNWIND $artistsAndAlbums as data\n",
    "    MATCH (a:Artist { id: data.artist })-[:partecipateIn]->(alb:Album { albumType:\"album\" })\n",
    "    WHERE alb.releaseDate >= date({ year: data.date.year, month: data.date.month - 1, day: 1 })\n",
    "        AND alb.releaseDate <= date({ year: data.date.year, month: data.date.month, day: 30 })\n",
    "    RETURN a.name as artist, alb.name as albumName, alb.releaseDate as releaseDate\n",
    "\"\"\", artistsAndAlbums=[{\"artist\": x[\"artist\"], \"date\": x[\"date\"]} for _, x in topArtitstDF.iterrows()])\n"
   ]
  },
  {
   "cell_type": "markdown",
   "metadata": {},
   "source": [
    "So, these Italian artists managed to have a lot of tracks in the TOP 100 Italy at the same time, because they released albums whose tracks probably entered all in TOP 100 Italy."
   ]
  },
  {
   "cell_type": "markdown",
   "metadata": {},
   "source": [
    "#### Q12: Show the youngest artist who entered in the first 10 positions of Top 100 Italy for each year."
   ]
  },
  {
   "cell_type": "code",
   "execution_count": 154,
   "metadata": {},
   "outputs": [
    {
     "data": {
      "text/html": [
       "<div>\n",
       "<style scoped>\n",
       "    .dataframe tbody tr th:only-of-type {\n",
       "        vertical-align: middle;\n",
       "    }\n",
       "\n",
       "    .dataframe tbody tr th {\n",
       "        vertical-align: top;\n",
       "    }\n",
       "\n",
       "    .dataframe thead th {\n",
       "        text-align: right;\n",
       "    }\n",
       "</style>\n",
       "<table border=\"1\" class=\"dataframe\">\n",
       "  <thead>\n",
       "    <tr style=\"text-align: right;\">\n",
       "      <th></th>\n",
       "      <th>year</th>\n",
       "      <th>artist</th>\n",
       "      <th>birthDate</th>\n",
       "    </tr>\n",
       "  </thead>\n",
       "  <tbody>\n",
       "    <tr>\n",
       "      <th>0</th>\n",
       "      <td>2020</td>\n",
       "      <td>Rondodasosa</td>\n",
       "      <td>2002-04-29</td>\n",
       "    </tr>\n",
       "    <tr>\n",
       "      <th>1</th>\n",
       "      <td>2018</td>\n",
       "      <td>Martina Attili</td>\n",
       "      <td>2001-07-11</td>\n",
       "    </tr>\n",
       "    <tr>\n",
       "      <th>2</th>\n",
       "      <td>2019</td>\n",
       "      <td>tha Supreme</td>\n",
       "      <td>2001-03-17</td>\n",
       "    </tr>\n",
       "    <tr>\n",
       "      <th>3</th>\n",
       "      <td>2017</td>\n",
       "      <td>Måneskin</td>\n",
       "      <td>2001-01-18</td>\n",
       "    </tr>\n",
       "  </tbody>\n",
       "</table>\n",
       "</div>"
      ],
      "text/plain": [
       "   year          artist   birthDate\n",
       "0  2020     Rondodasosa  2002-04-29\n",
       "1  2018  Martina Attili  2001-07-11\n",
       "2  2019     tha Supreme  2001-03-17\n",
       "3  2017        Måneskin  2001-01-18"
      ]
     },
     "execution_count": 154,
     "metadata": {},
     "output_type": "execute_result"
    }
   ],
   "source": [
    "# Q12: Show the youngest artist who entered in the first 10 positions of Top 100 Italy for each year.\n",
    "\n",
    "executeQuery(\"\"\"\n",
    "    MATCH (c1:Country { id:\"IT\" })<-[:hasNationality]-(p:Person)-[:isMemberOf]->(a:Artist)-[:partecipateIn]->(t:Track)-[r:isPositionedIn]->(ch:Chart)-[:isReferredTo]->(c2:Country { id:\"IT\" })\n",
    "    WHERE r.position <=10 AND p.birthDate IS NOT NULL\n",
    "    WITH ch,a,p\n",
    "    ORDER BY p.birthDate DESC\n",
    "    WITH ch.date.year AS year, COLLECT(a.name) AS artistsNames, COLLECT(p.birthDate) AS artistsBirthDates\n",
    "    RETURN year, artistsNames[0] as artist, artistsBirthDates[0] as birthDate\n",
    "\"\"\")"
   ]
  },
  {
   "cell_type": "markdown",
   "metadata": {},
   "source": [
    "Of course in the case of ***Maneskin*** the birthDate is referred to the youngest member of the group."
   ]
  },
  {
   "cell_type": "markdown",
   "metadata": {},
   "source": [
    "### Italian tracks abroad\n",
    "\n",
    "#### Q13: How many tracks from Italian artist are present in a Top 100 of a different country for each year (grafico barre)"
   ]
  },
  {
   "cell_type": "code",
   "execution_count": 155,
   "metadata": {},
   "outputs": [],
   "source": [
    "# Q13: How many tracks from Italian artist are present in a Top 100 of a different country for each year\n",
    "\n",
    "resultDF = executeQuery(\"\"\"\n",
    "    MATCH (c1:Country { id:\"IT\" })<-[:hasNationality]-(p:Person)-[:isMemberOf]->(a:Artist)-[:partecipateIn]->(t:Track)-[:isPositionedIn]->(ch:Chart)-[:isReferredTo]->(c2:Country)\n",
    "    WHERE c2.id <> \"IT\"\n",
    "    WITH ch.date.year AS year, COUNT(DISTINCT t) AS numItalianTracks\n",
    "    RETURN year,numItalianTracks\n",
    "    ORDER BY year\n",
    "\"\"\")"
   ]
  },
  {
   "cell_type": "code",
   "execution_count": 156,
   "metadata": {},
   "outputs": [
    {
     "data": {
      "text/html": [
       "<div>\n",
       "<style scoped>\n",
       "    .dataframe tbody tr th:only-of-type {\n",
       "        vertical-align: middle;\n",
       "    }\n",
       "\n",
       "    .dataframe tbody tr th {\n",
       "        vertical-align: top;\n",
       "    }\n",
       "\n",
       "    .dataframe thead th {\n",
       "        text-align: right;\n",
       "    }\n",
       "</style>\n",
       "<table border=\"1\" class=\"dataframe\">\n",
       "  <thead>\n",
       "    <tr style=\"text-align: right;\">\n",
       "      <th></th>\n",
       "      <th>year</th>\n",
       "      <th>numItalianTracks</th>\n",
       "    </tr>\n",
       "  </thead>\n",
       "  <tbody>\n",
       "    <tr>\n",
       "      <th>0</th>\n",
       "      <td>2017</td>\n",
       "      <td>22</td>\n",
       "    </tr>\n",
       "    <tr>\n",
       "      <th>1</th>\n",
       "      <td>2018</td>\n",
       "      <td>26</td>\n",
       "    </tr>\n",
       "    <tr>\n",
       "      <th>2</th>\n",
       "      <td>2019</td>\n",
       "      <td>22</td>\n",
       "    </tr>\n",
       "    <tr>\n",
       "      <th>3</th>\n",
       "      <td>2020</td>\n",
       "      <td>45</td>\n",
       "    </tr>\n",
       "  </tbody>\n",
       "</table>\n",
       "</div>"
      ],
      "text/plain": [
       "   year  numItalianTracks\n",
       "0  2017                22\n",
       "1  2018                26\n",
       "2  2019                22\n",
       "3  2020                45"
      ]
     },
     "execution_count": 156,
     "metadata": {},
     "output_type": "execute_result"
    }
   ],
   "source": [
    "resultDF"
   ]
  },
  {
   "cell_type": "code",
   "execution_count": 157,
   "metadata": {},
   "outputs": [
    {
     "data": {
      "image/png": "[encoded data removed]",
      "text/plain": [
       "<Figure size 1296x576 with 1 Axes>"
      ]
     },
     "metadata": {
      "needs_background": "light"
     },
     "output_type": "display_data"
    }
   ],
   "source": [
    "plotter.plotResults(\n",
    "    x=np.arange(len(resultDF)),\n",
    "    yArr=[list(resultDF[\"numItalianTracks\"])],\n",
    "    yLabel=\"Number of Tracks abroad\",\n",
    "    xLabel=\"Year\",\n",
    "    xTicks=list(resultDF[\"year\"]),\n",
    "    showGrid=True,\n",
    "    gridAxis=\"y\",\n",
    "    style=\"bar\",\n",
    "    saveTitle=\"query11\"\n",
    ")"
   ]
  },
  {
   "cell_type": "markdown",
   "metadata": {},
   "source": [
    "#### Q14: Show the countries that listen the most to Italian tracks. (show Names and numbers)"
   ]
  },
  {
   "cell_type": "code",
   "execution_count": 158,
   "metadata": {},
   "outputs": [
    {
     "data": {
      "text/html": [
       "<div>\n",
       "<style scoped>\n",
       "    .dataframe tbody tr th:only-of-type {\n",
       "        vertical-align: middle;\n",
       "    }\n",
       "\n",
       "    .dataframe tbody tr th {\n",
       "        vertical-align: top;\n",
       "    }\n",
       "\n",
       "    .dataframe thead th {\n",
       "        text-align: right;\n",
       "    }\n",
       "</style>\n",
       "<table border=\"1\" class=\"dataframe\">\n",
       "  <thead>\n",
       "    <tr style=\"text-align: right;\">\n",
       "      <th></th>\n",
       "      <th>countryCode</th>\n",
       "      <th>countryName</th>\n",
       "      <th>numItalianTracks</th>\n",
       "    </tr>\n",
       "  </thead>\n",
       "  <tbody>\n",
       "    <tr>\n",
       "      <th>0</th>\n",
       "      <td>CH</td>\n",
       "      <td>Switzerland</td>\n",
       "      <td>37</td>\n",
       "    </tr>\n",
       "    <tr>\n",
       "      <th>1</th>\n",
       "      <td>DE</td>\n",
       "      <td>Germany</td>\n",
       "      <td>20</td>\n",
       "    </tr>\n",
       "    <tr>\n",
       "      <th>2</th>\n",
       "      <td>AT</td>\n",
       "      <td>Austria</td>\n",
       "      <td>19</td>\n",
       "    </tr>\n",
       "    <tr>\n",
       "      <th>3</th>\n",
       "      <td>NO</td>\n",
       "      <td>Norway</td>\n",
       "      <td>17</td>\n",
       "    </tr>\n",
       "    <tr>\n",
       "      <th>4</th>\n",
       "      <td>FR</td>\n",
       "      <td>France</td>\n",
       "      <td>13</td>\n",
       "    </tr>\n",
       "    <tr>\n",
       "      <th>5</th>\n",
       "      <td>SE</td>\n",
       "      <td>Sweden</td>\n",
       "      <td>13</td>\n",
       "    </tr>\n",
       "    <tr>\n",
       "      <th>6</th>\n",
       "      <td>BE</td>\n",
       "      <td>Belgium</td>\n",
       "      <td>10</td>\n",
       "    </tr>\n",
       "    <tr>\n",
       "      <th>7</th>\n",
       "      <td>NL</td>\n",
       "      <td>Netherlands</td>\n",
       "      <td>10</td>\n",
       "    </tr>\n",
       "    <tr>\n",
       "      <th>8</th>\n",
       "      <td>PL</td>\n",
       "      <td>Poland</td>\n",
       "      <td>10</td>\n",
       "    </tr>\n",
       "    <tr>\n",
       "      <th>9</th>\n",
       "      <td>ES</td>\n",
       "      <td>Spain</td>\n",
       "      <td>10</td>\n",
       "    </tr>\n",
       "    <tr>\n",
       "      <th>10</th>\n",
       "      <td>DK</td>\n",
       "      <td>Denmark</td>\n",
       "      <td>9</td>\n",
       "    </tr>\n",
       "    <tr>\n",
       "      <th>11</th>\n",
       "      <td>FI</td>\n",
       "      <td>Finland</td>\n",
       "      <td>8</td>\n",
       "    </tr>\n",
       "    <tr>\n",
       "      <th>12</th>\n",
       "      <td>GB</td>\n",
       "      <td>United Kingdom of Great Britain and Northern I...</td>\n",
       "      <td>6</td>\n",
       "    </tr>\n",
       "    <tr>\n",
       "      <th>13</th>\n",
       "      <td>VG</td>\n",
       "      <td>Virgin Islands, British</td>\n",
       "      <td>6</td>\n",
       "    </tr>\n",
       "    <tr>\n",
       "      <th>14</th>\n",
       "      <td>PT</td>\n",
       "      <td>Portugal</td>\n",
       "      <td>6</td>\n",
       "    </tr>\n",
       "    <tr>\n",
       "      <th>15</th>\n",
       "      <td>PH</td>\n",
       "      <td>Philippines</td>\n",
       "      <td>5</td>\n",
       "    </tr>\n",
       "    <tr>\n",
       "      <th>16</th>\n",
       "      <td>CA</td>\n",
       "      <td>Canada</td>\n",
       "      <td>5</td>\n",
       "    </tr>\n",
       "    <tr>\n",
       "      <th>17</th>\n",
       "      <td>AU</td>\n",
       "      <td>Australia</td>\n",
       "      <td>5</td>\n",
       "    </tr>\n",
       "    <tr>\n",
       "      <th>18</th>\n",
       "      <td>TR</td>\n",
       "      <td>Turkey</td>\n",
       "      <td>5</td>\n",
       "    </tr>\n",
       "    <tr>\n",
       "      <th>19</th>\n",
       "      <td>TW</td>\n",
       "      <td>Taiwan, Province of China</td>\n",
       "      <td>4</td>\n",
       "    </tr>\n",
       "    <tr>\n",
       "      <th>20</th>\n",
       "      <td>NZ</td>\n",
       "      <td>New Zealand</td>\n",
       "      <td>4</td>\n",
       "    </tr>\n",
       "    <tr>\n",
       "      <th>21</th>\n",
       "      <td>SG</td>\n",
       "      <td>Singapore</td>\n",
       "      <td>4</td>\n",
       "    </tr>\n",
       "    <tr>\n",
       "      <th>22</th>\n",
       "      <td>MY</td>\n",
       "      <td>Malaysia</td>\n",
       "      <td>4</td>\n",
       "    </tr>\n",
       "    <tr>\n",
       "      <th>23</th>\n",
       "      <td>CL</td>\n",
       "      <td>Chile</td>\n",
       "      <td>3</td>\n",
       "    </tr>\n",
       "    <tr>\n",
       "      <th>24</th>\n",
       "      <td>US</td>\n",
       "      <td>United States of America</td>\n",
       "      <td>3</td>\n",
       "    </tr>\n",
       "    <tr>\n",
       "      <th>25</th>\n",
       "      <td>ID</td>\n",
       "      <td>Indonesia</td>\n",
       "      <td>2</td>\n",
       "    </tr>\n",
       "    <tr>\n",
       "      <th>26</th>\n",
       "      <td>AR</td>\n",
       "      <td>Argentina</td>\n",
       "      <td>2</td>\n",
       "    </tr>\n",
       "    <tr>\n",
       "      <th>27</th>\n",
       "      <td>PE</td>\n",
       "      <td>Peru</td>\n",
       "      <td>1</td>\n",
       "    </tr>\n",
       "    <tr>\n",
       "      <th>28</th>\n",
       "      <td>MX</td>\n",
       "      <td>Mexico</td>\n",
       "      <td>1</td>\n",
       "    </tr>\n",
       "    <tr>\n",
       "      <th>29</th>\n",
       "      <td>CR</td>\n",
       "      <td>Costa Rica</td>\n",
       "      <td>1</td>\n",
       "    </tr>\n",
       "    <tr>\n",
       "      <th>30</th>\n",
       "      <td>BR</td>\n",
       "      <td>Brazil</td>\n",
       "      <td>1</td>\n",
       "    </tr>\n",
       "    <tr>\n",
       "      <th>31</th>\n",
       "      <td>EC</td>\n",
       "      <td>Ecuador</td>\n",
       "      <td>1</td>\n",
       "    </tr>\n",
       "    <tr>\n",
       "      <th>32</th>\n",
       "      <td>CO</td>\n",
       "      <td>Colombia</td>\n",
       "      <td>1</td>\n",
       "    </tr>\n",
       "  </tbody>\n",
       "</table>\n",
       "</div>"
      ],
      "text/plain": [
       "   countryCode                                        countryName  \\\n",
       "0           CH                                        Switzerland   \n",
       "1           DE                                            Germany   \n",
       "2           AT                                            Austria   \n",
       "3           NO                                             Norway   \n",
       "4           FR                                             France   \n",
       "5           SE                                             Sweden   \n",
       "6           BE                                            Belgium   \n",
       "7           NL                                        Netherlands   \n",
       "8           PL                                             Poland   \n",
       "9           ES                                              Spain   \n",
       "10          DK                                            Denmark   \n",
       "11          FI                                            Finland   \n",
       "12          GB  United Kingdom of Great Britain and Northern I...   \n",
       "13          VG                            Virgin Islands, British   \n",
       "14          PT                                           Portugal   \n",
       "15          PH                                        Philippines   \n",
       "16          CA                                             Canada   \n",
       "17          AU                                          Australia   \n",
       "18          TR                                             Turkey   \n",
       "19          TW                          Taiwan, Province of China   \n",
       "20          NZ                                        New Zealand   \n",
       "21          SG                                          Singapore   \n",
       "22          MY                                           Malaysia   \n",
       "23          CL                                              Chile   \n",
       "24          US                           United States of America   \n",
       "25          ID                                          Indonesia   \n",
       "26          AR                                          Argentina   \n",
       "27          PE                                               Peru   \n",
       "28          MX                                             Mexico   \n",
       "29          CR                                         Costa Rica   \n",
       "30          BR                                             Brazil   \n",
       "31          EC                                            Ecuador   \n",
       "32          CO                                           Colombia   \n",
       "\n",
       "    numItalianTracks  \n",
       "0                 37  \n",
       "1                 20  \n",
       "2                 19  \n",
       "3                 17  \n",
       "4                 13  \n",
       "5                 13  \n",
       "6                 10  \n",
       "7                 10  \n",
       "8                 10  \n",
       "9                 10  \n",
       "10                 9  \n",
       "11                 8  \n",
       "12                 6  \n",
       "13                 6  \n",
       "14                 6  \n",
       "15                 5  \n",
       "16                 5  \n",
       "17                 5  \n",
       "18                 5  \n",
       "19                 4  \n",
       "20                 4  \n",
       "21                 4  \n",
       "22                 4  \n",
       "23                 3  \n",
       "24                 3  \n",
       "25                 2  \n",
       "26                 2  \n",
       "27                 1  \n",
       "28                 1  \n",
       "29                 1  \n",
       "30                 1  \n",
       "31                 1  \n",
       "32                 1  "
      ]
     },
     "execution_count": 158,
     "metadata": {},
     "output_type": "execute_result"
    }
   ],
   "source": [
    "# Q14: Show the top 5 countries that listen the most to Italian tracks.\n",
    "\n",
    "resultDF = executeQuery(\"\"\"\n",
    "    MATCH (c1:Country { id:\"IT\" })<-[:hasNationality]-(p:Person)-[:isMemberOf]->(a:Artist)-[:partecipateIn]->(t:Track)-[:isPositionedIn]->(ch:Chart)-[:isReferredTo]->(c2:Country)\n",
    "    WHERE c2.id <> \"IT\"\n",
    "    RETURN c2.id as countryCode, c2.name as countryName, COUNT(DISTINCT t) AS numItalianTracks\n",
    "    ORDER BY numItalianTracks DESC\n",
    "\"\"\")\n",
    "\n",
    "resultDF"
   ]
  },
  {
   "cell_type": "code",
   "execution_count": 159,
   "metadata": {},
   "outputs": [
    {
     "data": {
      "application/vnd.plotly.v1+json": {
       "config": {
        "plotlyServerURL": "https://plot.ly"
       },
       "data": [
        {
         "coloraxis": "coloraxis",
         "geo": "geo",
         "hovertemplate": "<b>%{hovertext}</b><br><br>countryName=%{location}<br>numItalianTracks=%{z}<extra></extra>",
         "hovertext": [
          "Switzerland",
          "Germany",
          "Austria",
          "Norway",
          "France",
          "Sweden",
          "Belgium",
          "Netherlands",
          "Poland",
          "Spain",
          "Denmark",
          "Finland",
          "United Kingdom of Great Britain and Northern Ireland",
          "Virgin Islands, British",
          "Portugal",
          "Philippines",
          "Canada",
          "Australia",
          "Turkey",
          "Taiwan, Province of China",
          "New Zealand",
          "Singapore",
          "Malaysia",
          "Chile",
          "United States of America",
          "Indonesia",
          "Argentina",
          "Peru",
          "Mexico",
          "Costa Rica",
          "Brazil",
          "Ecuador",
          "Colombia"
         ],
         "locationmode": "country names",
         "locations": [
          "Switzerland",
          "Germany",
          "Austria",
          "Norway",
          "France",
          "Sweden",
          "Belgium",
          "Netherlands",
          "Poland",
          "Spain",
          "Denmark",
          "Finland",
          "United Kingdom of Great Britain and Northern Ireland",
          "Virgin Islands, British",
          "Portugal",
          "Philippines",
          "Canada",
          "Australia",
          "Turkey",
          "Taiwan, Province of China",
          "New Zealand",
          "Singapore",
          "Malaysia",
          "Chile",
          "United States of America",
          "Indonesia",
          "Argentina",
          "Peru",
          "Mexico",
          "Costa Rica",
          "Brazil",
          "Ecuador",
          "Colombia"
         ],
         "name": "",
         "type": "choropleth",
         "z": [
          37,
          20,
          19,
          17,
          13,
          13,
          10,
          10,
          10,
          10,
          9,
          8,
          6,
          6,
          6,
          5,
          5,
          5,
          5,
          4,
          4,
          4,
          4,
          3,
          3,
          2,
          2,
          1,
          1,
          1,
          1,
          1,
          1
         ]
        }
       ],
       "layout": {
        "coloraxis": {
         "colorbar": {
          "title": {
           "text": "numItalianTracks"
          }
         },
         "colorscale": [
          [
           0,
           "rgb(176, 242, 188)"
          ],
          [
           0.16666666666666666,
           "rgb(137, 232, 172)"
          ],
          [
           0.3333333333333333,
           "rgb(103, 219, 165)"
          ],
          [
           0.5,
           "rgb(76, 200, 163)"
          ],
          [
           0.6666666666666666,
           "rgb(56, 178, 163)"
          ],
          [
           0.8333333333333334,
           "rgb(44, 152, 160)"
          ],
          [
           1,
           "rgb(37, 125, 152)"
          ]
         ]
        },
        "geo": {
         "center": {},
         "domain": {
          "x": [
           0,
           1
          ],
          "y": [
           0,
           1
          ]
         }
        },
        "legend": {
         "tracegroupgap": 0
        },
        "margin": {
         "t": 60
        },
        "template": {
         "data": {
          "bar": [
           {
            "error_x": {
             "color": "#2a3f5f"
            },
            "error_y": {
             "color": "#2a3f5f"
            },
            "marker": {
             "line": {
              "color": "#E5ECF6",
              "width": 0.5
             },
             "pattern": {
              "fillmode": "overlay",
              "size": 10,
              "solidity": 0.2
             }
            },
            "type": "bar"
           }
          ],
          "barpolar": [
           {
            "marker": {
             "line": {
              "color": "#E5ECF6",
              "width": 0.5
             },
             "pattern": {
              "fillmode": "overlay",
              "size": 10,
              "solidity": 0.2
             }
            },
            "type": "barpolar"
           }
          ],
          "carpet": [
           {
            "aaxis": {
             "endlinecolor": "#2a3f5f",
             "gridcolor": "white",
             "linecolor": "white",
             "minorgridcolor": "white",
             "startlinecolor": "#2a3f5f"
            },
            "baxis": {
             "endlinecolor": "#2a3f5f",
             "gridcolor": "white",
             "linecolor": "white",
             "minorgridcolor": "white",
             "startlinecolor": "#2a3f5f"
            },
            "type": "carpet"
           }
          ],
          "choropleth": [
           {
            "colorbar": {
             "outlinewidth": 0,
             "ticks": ""
            },
            "type": "choropleth"
           }
          ],
          "contour": [
           {
            "colorbar": {
             "outlinewidth": 0,
             "ticks": ""
            },
            "colorscale": [
             [
              0,
              "#0d0887"
             ],
             [
              0.1111111111111111,
              "#46039f"
             ],
             [
              0.2222222222222222,
              "#7201a8"
             ],
             [
              0.3333333333333333,
              "#9c179e"
             ],
             [
              0.4444444444444444,
              "#bd3786"
             ],
             [
              0.5555555555555556,
              "#d8576b"
             ],
             [
              0.6666666666666666,
              "#ed7953"
             ],
             [
              0.7777777777777778,
              "#fb9f3a"
             ],
             [
              0.8888888888888888,
              "#fdca26"
             ],
             [
              1,
              "#f0f921"
             ]
            ],
            "type": "contour"
           }
          ],
          "contourcarpet": [
           {
            "colorbar": {
             "outlinewidth": 0,
             "ticks": ""
            },
            "type": "contourcarpet"
           }
          ],
          "heatmap": [
           {
            "colorbar": {
             "outlinewidth": 0,
             "ticks": ""
            },
            "colorscale": [
             [
              0,
              "#0d0887"
             ],
             [
              0.1111111111111111,
              "#46039f"
             ],
             [
              0.2222222222222222,
              "#7201a8"
             ],
             [
              0.3333333333333333,
              "#9c179e"
             ],
             [
              0.4444444444444444,
              "#bd3786"
             ],
             [
              0.5555555555555556,
              "#d8576b"
             ],
             [
              0.6666666666666666,
              "#ed7953"
             ],
             [
              0.7777777777777778,
              "#fb9f3a"
             ],
             [
              0.8888888888888888,
              "#fdca26"
             ],
             [
              1,
              "#f0f921"
             ]
            ],
            "type": "heatmap"
           }
          ],
          "heatmapgl": [
           {
            "colorbar": {
             "outlinewidth": 0,
             "ticks": ""
            },
            "colorscale": [
             [
              0,
              "#0d0887"
             ],
             [
              0.1111111111111111,
              "#46039f"
             ],
             [
              0.2222222222222222,
              "#7201a8"
             ],
             [
              0.3333333333333333,
              "#9c179e"
             ],
             [
              0.4444444444444444,
              "#bd3786"
             ],
             [
              0.5555555555555556,
              "#d8576b"
             ],
             [
              0.6666666666666666,
              "#ed7953"
             ],
             [
              0.7777777777777778,
              "#fb9f3a"
             ],
             [
              0.8888888888888888,
              "#fdca26"
             ],
             [
              1,
              "#f0f921"
             ]
            ],
            "type": "heatmapgl"
           }
          ],
          "histogram": [
           {
            "marker": {
             "pattern": {
              "fillmode": "overlay",
              "size": 10,
              "solidity": 0.2
             }
            },
            "type": "histogram"
           }
          ],
          "histogram2d": [
           {
            "colorbar": {
             "outlinewidth": 0,
             "ticks": ""
            },
            "colorscale": [
             [
              0,
              "#0d0887"
             ],
             [
              0.1111111111111111,
              "#46039f"
             ],
             [
              0.2222222222222222,
              "#7201a8"
             ],
             [
              0.3333333333333333,
              "#9c179e"
             ],
             [
              0.4444444444444444,
              "#bd3786"
             ],
             [
              0.5555555555555556,
              "#d8576b"
             ],
             [
              0.6666666666666666,
              "#ed7953"
             ],
             [
              0.7777777777777778,
              "#fb9f3a"
             ],
             [
              0.8888888888888888,
              "#fdca26"
             ],
             [
              1,
              "#f0f921"
             ]
            ],
            "type": "histogram2d"
           }
          ],
          "histogram2dcontour": [
           {
            "colorbar": {
             "outlinewidth": 0,
             "ticks": ""
            },
            "colorscale": [
             [
              0,
              "#0d0887"
             ],
             [
              0.1111111111111111,
              "#46039f"
             ],
             [
              0.2222222222222222,
              "#7201a8"
             ],
             [
              0.3333333333333333,
              "#9c179e"
             ],
             [
              0.4444444444444444,
              "#bd3786"
             ],
             [
              0.5555555555555556,
              "#d8576b"
             ],
             [
              0.6666666666666666,
              "#ed7953"
             ],
             [
              0.7777777777777778,
              "#fb9f3a"
             ],
             [
              0.8888888888888888,
              "#fdca26"
             ],
             [
              1,
              "#f0f921"
             ]
            ],
            "type": "histogram2dcontour"
           }
          ],
          "mesh3d": [
           {
            "colorbar": {
             "outlinewidth": 0,
             "ticks": ""
            },
            "type": "mesh3d"
           }
          ],
          "parcoords": [
           {
            "line": {
             "colorbar": {
              "outlinewidth": 0,
              "ticks": ""
             }
            },
            "type": "parcoords"
           }
          ],
          "pie": [
           {
            "automargin": true,
            "type": "pie"
           }
          ],
          "scatter": [
           {
            "marker": {
             "colorbar": {
              "outlinewidth": 0,
              "ticks": ""
             }
            },
            "type": "scatter"
           }
          ],
          "scatter3d": [
           {
            "line": {
             "colorbar": {
              "outlinewidth": 0,
              "ticks": ""
             }
            },
            "marker": {
             "colorbar": {
              "outlinewidth": 0,
              "ticks": ""
             }
            },
            "type": "scatter3d"
           }
          ],
          "scattercarpet": [
           {
            "marker": {
             "colorbar": {
              "outlinewidth": 0,
              "ticks": ""
             }
            },
            "type": "scattercarpet"
           }
          ],
          "scattergeo": [
           {
            "marker": {
             "colorbar": {
              "outlinewidth": 0,
              "ticks": ""
             }
            },
            "type": "scattergeo"
           }
          ],
          "scattergl": [
           {
            "marker": {
             "colorbar": {
              "outlinewidth": 0,
              "ticks": ""
             }
            },
            "type": "scattergl"
           }
          ],
          "scattermapbox": [
           {
            "marker": {
             "colorbar": {
              "outlinewidth": 0,
              "ticks": ""
             }
            },
            "type": "scattermapbox"
           }
          ],
          "scatterpolar": [
           {
            "marker": {
             "colorbar": {
              "outlinewidth": 0,
              "ticks": ""
             }
            },
            "type": "scatterpolar"
           }
          ],
          "scatterpolargl": [
           {
            "marker": {
             "colorbar": {
              "outlinewidth": 0,
              "ticks": ""
             }
            },
            "type": "scatterpolargl"
           }
          ],
          "scatterternary": [
           {
            "marker": {
             "colorbar": {
              "outlinewidth": 0,
              "ticks": ""
             }
            },
            "type": "scatterternary"
           }
          ],
          "surface": [
           {
            "colorbar": {
             "outlinewidth": 0,
             "ticks": ""
            },
            "colorscale": [
             [
              0,
              "#0d0887"
             ],
             [
              0.1111111111111111,
              "#46039f"
             ],
             [
              0.2222222222222222,
              "#7201a8"
             ],
             [
              0.3333333333333333,
              "#9c179e"
             ],
             [
              0.4444444444444444,
              "#bd3786"
             ],
             [
              0.5555555555555556,
              "#d8576b"
             ],
             [
              0.6666666666666666,
              "#ed7953"
             ],
             [
              0.7777777777777778,
              "#fb9f3a"
             ],
             [
              0.8888888888888888,
              "#fdca26"
             ],
             [
              1,
              "#f0f921"
             ]
            ],
            "type": "surface"
           }
          ],
          "table": [
           {
            "cells": {
             "fill": {
              "color": "#EBF0F8"
             },
             "line": {
              "color": "white"
             }
            },
            "header": {
             "fill": {
              "color": "#C8D4E3"
             },
             "line": {
              "color": "white"
             }
            },
            "type": "table"
           }
          ]
         },
         "layout": {
          "annotationdefaults": {
           "arrowcolor": "#2a3f5f",
           "arrowhead": 0,
           "arrowwidth": 1
          },
          "autotypenumbers": "strict",
          "coloraxis": {
           "colorbar": {
            "outlinewidth": 0,
            "ticks": ""
           }
          },
          "colorscale": {
           "diverging": [
            [
             0,
             "#8e0152"
            ],
            [
             0.1,
             "#c51b7d"
            ],
            [
             0.2,
             "#de77ae"
            ],
            [
             0.3,
             "#f1b6da"
            ],
            [
             0.4,
             "#fde0ef"
            ],
            [
             0.5,
             "#f7f7f7"
            ],
            [
             0.6,
             "#e6f5d0"
            ],
            [
             0.7,
             "#b8e186"
            ],
            [
             0.8,
             "#7fbc41"
            ],
            [
             0.9,
             "#4d9221"
            ],
            [
             1,
             "#276419"
            ]
           ],
           "sequential": [
            [
             0,
             "#0d0887"
            ],
            [
             0.1111111111111111,
             "#46039f"
            ],
            [
             0.2222222222222222,
             "#7201a8"
            ],
            [
             0.3333333333333333,
             "#9c179e"
            ],
            [
             0.4444444444444444,
             "#bd3786"
            ],
            [
             0.5555555555555556,
             "#d8576b"
            ],
            [
             0.6666666666666666,
             "#ed7953"
            ],
            [
             0.7777777777777778,
             "#fb9f3a"
            ],
            [
             0.8888888888888888,
             "#fdca26"
            ],
            [
             1,
             "#f0f921"
            ]
           ],
           "sequentialminus": [
            [
             0,
             "#0d0887"
            ],
            [
             0.1111111111111111,
             "#46039f"
            ],
            [
             0.2222222222222222,
             "#7201a8"
            ],
            [
             0.3333333333333333,
             "#9c179e"
            ],
            [
             0.4444444444444444,
             "#bd3786"
            ],
            [
             0.5555555555555556,
             "#d8576b"
            ],
            [
             0.6666666666666666,
             "#ed7953"
            ],
            [
             0.7777777777777778,
             "#fb9f3a"
            ],
            [
             0.8888888888888888,
             "#fdca26"
            ],
            [
             1,
             "#f0f921"
            ]
           ]
          },
          "colorway": [
           "#636efa",
           "#EF553B",
           "#00cc96",
           "#ab63fa",
           "#FFA15A",
           "#19d3f3",
           "#FF6692",
           "#B6E880",
           "#FF97FF",
           "#FECB52"
          ],
          "font": {
           "color": "#2a3f5f"
          },
          "geo": {
           "bgcolor": "white",
           "lakecolor": "white",
           "landcolor": "#E5ECF6",
           "showlakes": true,
           "showland": true,
           "subunitcolor": "white"
          },
          "hoverlabel": {
           "align": "left"
          },
          "hovermode": "closest",
          "mapbox": {
           "style": "light"
          },
          "paper_bgcolor": "white",
          "plot_bgcolor": "#E5ECF6",
          "polar": {
           "angularaxis": {
            "gridcolor": "white",
            "linecolor": "white",
            "ticks": ""
           },
           "bgcolor": "#E5ECF6",
           "radialaxis": {
            "gridcolor": "white",
            "linecolor": "white",
            "ticks": ""
           }
          },
          "scene": {
           "xaxis": {
            "backgroundcolor": "#E5ECF6",
            "gridcolor": "white",
            "gridwidth": 2,
            "linecolor": "white",
            "showbackground": true,
            "ticks": "",
            "zerolinecolor": "white"
           },
           "yaxis": {
            "backgroundcolor": "#E5ECF6",
            "gridcolor": "white",
            "gridwidth": 2,
            "linecolor": "white",
            "showbackground": true,
            "ticks": "",
            "zerolinecolor": "white"
           },
           "zaxis": {
            "backgroundcolor": "#E5ECF6",
            "gridcolor": "white",
            "gridwidth": 2,
            "linecolor": "white",
            "showbackground": true,
            "ticks": "",
            "zerolinecolor": "white"
           }
          },
          "shapedefaults": {
           "line": {
            "color": "#2a3f5f"
           }
          },
          "ternary": {
           "aaxis": {
            "gridcolor": "white",
            "linecolor": "white",
            "ticks": ""
           },
           "baxis": {
            "gridcolor": "white",
            "linecolor": "white",
            "ticks": ""
           },
           "bgcolor": "#E5ECF6",
           "caxis": {
            "gridcolor": "white",
            "linecolor": "white",
            "ticks": ""
           }
          },
          "title": {
           "x": 0.05
          },
          "xaxis": {
           "automargin": true,
           "gridcolor": "white",
           "linecolor": "white",
           "ticks": "",
           "title": {
            "standoff": 15
           },
           "zerolinecolor": "white",
           "zerolinewidth": 2
          },
          "yaxis": {
           "automargin": true,
           "gridcolor": "white",
           "linecolor": "white",
           "ticks": "",
           "title": {
            "standoff": 15
           },
           "zerolinecolor": "white",
           "zerolinewidth": 2
          }
         }
        }
       }
      }
     },
     "metadata": {},
     "output_type": "display_data"
    }
   ],
   "source": [
    "import plotly.express as px\n",
    "\n",
    "fig = px.choropleth(resultDF,\n",
    "                    locations=\"countryName\",\n",
    "                    locationmode='country names',\n",
    "                    color=\"numItalianTracks\",\n",
    "                    hover_name=\"countryName\",\n",
    "                    color_continuous_scale='tealgrn')\n",
    "\n",
    "fig.show()"
   ]
  },
  {
   "cell_type": "markdown",
   "metadata": {},
   "source": [
    "#### Q15: Who is the artist present in the highest number of TOP 100 of different countries? Show also the countries in which he/she is present."
   ]
  },
  {
   "cell_type": "code",
   "execution_count": 160,
   "metadata": {},
   "outputs": [
    {
     "data": {
      "text/html": [
       "<div>\n",
       "<style scoped>\n",
       "    .dataframe tbody tr th:only-of-type {\n",
       "        vertical-align: middle;\n",
       "    }\n",
       "\n",
       "    .dataframe tbody tr th {\n",
       "        vertical-align: top;\n",
       "    }\n",
       "\n",
       "    .dataframe thead th {\n",
       "        text-align: right;\n",
       "    }\n",
       "</style>\n",
       "<table border=\"1\" class=\"dataframe\">\n",
       "  <thead>\n",
       "    <tr style=\"text-align: right;\">\n",
       "      <th></th>\n",
       "      <th>artist</th>\n",
       "      <th>numCountries</th>\n",
       "      <th>charts</th>\n",
       "    </tr>\n",
       "  </thead>\n",
       "  <tbody>\n",
       "    <tr>\n",
       "      <th>0</th>\n",
       "      <td>Gigi D'Agostino</td>\n",
       "      <td>30</td>\n",
       "      <td>[TOP 100 Austria, TOP 100 Poland, TOP 100 Germ...</td>\n",
       "    </tr>\n",
       "  </tbody>\n",
       "</table>\n",
       "</div>"
      ],
      "text/plain": [
       "            artist  numCountries  \\\n",
       "0  Gigi D'Agostino            30   \n",
       "\n",
       "                                              charts  \n",
       "0  [TOP 100 Austria, TOP 100 Poland, TOP 100 Germ...  "
      ]
     },
     "execution_count": 160,
     "metadata": {},
     "output_type": "execute_result"
    }
   ],
   "source": [
    "# Q13: Who is the artist present in the highest number of different countries? Show also the countries in which he/she is present.\n",
    "\n",
    "executeQuery(\"\"\"\n",
    "    MATCH (c1:Country { id:\"IT\" })<-[:hasNationality]-(p:Person)-[:isMemberOf]->(a:Artist)-[:partecipateIn]->(t:Track)-[:isPositionedIn]->(ch:Chart)-[:isReferredTo]->(c2:Country)\n",
    "    WHERE c2.id <> \"IT\"\n",
    "    RETURN a.name as artist, COUNT(DISTINCT c2) AS numCountries, COLLECT(DISTINCT ch.name) AS charts\n",
    "    ORDER BY numCountries DESC\n",
    "    LIMIT 1\n",
    "\"\"\")"
   ]
  },
  {
   "cell_type": "markdown",
   "metadata": {},
   "source": [
    "#### Q15: Who is the artist with the highest number of tracks present oustide Italy ? Show also the names of the tracks. "
   ]
  },
  {
   "cell_type": "code",
   "execution_count": 161,
   "metadata": {},
   "outputs": [
    {
     "data": {
      "text/html": [
       "<div>\n",
       "<style scoped>\n",
       "    .dataframe tbody tr th:only-of-type {\n",
       "        vertical-align: middle;\n",
       "    }\n",
       "\n",
       "    .dataframe tbody tr th {\n",
       "        vertical-align: top;\n",
       "    }\n",
       "\n",
       "    .dataframe thead th {\n",
       "        text-align: right;\n",
       "    }\n",
       "</style>\n",
       "<table border=\"1\" class=\"dataframe\">\n",
       "  <thead>\n",
       "    <tr style=\"text-align: right;\">\n",
       "      <th></th>\n",
       "      <th>artist</th>\n",
       "      <th>numTracks</th>\n",
       "      <th>trackNames</th>\n",
       "    </tr>\n",
       "  </thead>\n",
       "  <tbody>\n",
       "    <tr>\n",
       "      <th>0</th>\n",
       "      <td>Sfera Ebbasta</td>\n",
       "      <td>12</td>\n",
       "      <td>[Dracula, Bottiglie Privè, McQueen, Happy Birt...</td>\n",
       "    </tr>\n",
       "  </tbody>\n",
       "</table>\n",
       "</div>"
      ],
      "text/plain": [
       "          artist  numTracks                                         trackNames\n",
       "0  Sfera Ebbasta         12  [Dracula, Bottiglie Privè, McQueen, Happy Birt..."
      ]
     },
     "execution_count": 161,
     "metadata": {},
     "output_type": "execute_result"
    }
   ],
   "source": [
    "# Q15: Who is the artist with the highest number of tracks present oustide Italy ? Show also the names of the tracks. \n",
    "\n",
    "executeQuery(\"\"\"\n",
    "    MATCH (c1:Country { id:\"IT\" })<-[:hasNationality]-(p:Person)-[:isMemberOf]->(a:Artist)-[:partecipateIn]->(t:Track)-[:isPositionedIn]->(ch:Chart)-[:isReferredTo]->(c2:Country)\n",
    "    WHERE c2.id <> \"IT\"\n",
    "    RETURN a.name as artist, COUNT(DISTINCT t) AS numTracks, COLLECT(DISTINCT t.name) as trackNames\n",
    "    ORDER BY numTracks DESC\n",
    "    LIMIT 1\n",
    "\"\"\")"
   ]
  },
  {
   "cell_type": "markdown",
   "metadata": {},
   "source": [
    "We have shown that actually there are two different criteria to determine the most \"widespread\" Italian artist abroad:\n",
    "\n",
    "**1)** Count how many different countries the artist has reached excluding Italy. In this case, the best is ***Gigi D'Agostino***\n",
    "\n",
    "\n",
    "**2)** Count the total number of tracks present in countries outside Italy. In this case, the best is ***Sfera Ebbasta***"
   ]
  }
 ],
 "metadata": {
  "kernelspec": {
   "display_name": "Python 3",
   "language": "python",
   "name": "python3"
  },
  "language_info": {
   "codemirror_mode": {
    "name": "ipython",
    "version": 3
   },
   "file_extension": ".py",
   "mimetype": "text/x-python",
   "name": "python",
   "nbconvert_exporter": "python",
   "pygments_lexer": "ipython3",
   "version": "3.9.7"
  }
 },
 "nbformat": 4,
 "nbformat_minor": 2
}
